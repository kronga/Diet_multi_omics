{
 "cells": [
  {
   "cell_type": "code",
   "execution_count": 41,
   "id": "initial_id",
   "metadata": {
    "collapsed": true,
    "ExecuteTime": {
     "end_time": "2025-07-10T08:21:53.861338Z",
     "start_time": "2025-07-10T08:21:53.858247Z"
    }
   },
   "outputs": [],
   "source": [
    "import pandas as pd\n",
    "import numpy as np\n",
    "import matplotlib.pyplot as plt\n",
    "import seaborn as sns\n",
    "from sklearn.preprocessing import StandardScaler, MinMaxScaler\n",
    "METABO_PATH = '/net/mraid20/export/genie/LabData/Analyses/davidkro/batch_normalizations/'\n",
    "DIET_PAPER_PATH = '/net/mraid20/export/genie/LabData/Analyses/Metabolomics_repeat/predict_MS/Optuna/Diet_paper'\n",
    "tomer_dir = '/net/mraid20/export/genie/LabData/Analyses/tomerse/david_colab/'\n",
    "output_data_dir = '/net/mraid20/export/genie/LabData/Analyses/Metabolomics_repeat/final_for_diet_paper'"
   ]
  },
  {
   "cell_type": "code",
   "outputs": [],
   "source": [
    "ms_metadata = pd.read_csv(METABO_PATH + '/metadata_with_date.csv', index_col=0)\n",
    "batch_info = pd.read_csv(METABO_PATH + '/batch_info/batches_order_info_1_36_ALL.csv', index_col=0)\n",
    "serrf_all = pd.read_csv(DIET_PAPER_PATH + '/serrf_all.csv', index_col=0)\n",
    "diet_features = pd.read_pickle(tomer_dir + 'diet_features.pkl').drop(columns=['age', 'gender'])\n",
    "diet_features_v2 = pd.read_pickle(tomer_dir + 'diet_features_02_visit.pkl').drop(columns=['age', 'gender'])\n",
    "nova_scores_baseline = pd.read_csv('/net/mraid20/export/genie/LabData/Data/10K/foods/upf_baseline.csv')\n",
    "nova_score_visit2 = pd.read_csv('/net/mraid20/export/genie/LabData/Data/10K/foods/upf_2y.csv')"
   ],
   "metadata": {
    "collapsed": false,
    "ExecuteTime": {
     "end_time": "2025-07-10T09:54:10.497792Z",
     "start_time": "2025-07-10T09:54:06.918568Z"
    }
   },
   "id": "cb355e8694f36d8d",
   "execution_count": 124
  },
  {
   "cell_type": "code",
   "outputs": [],
   "source": [
    "# Rename 1, 2, 3, 4 columns into Group 1, Group 2, Group 3, Group 4\n",
    "nova_scores_baseline.rename(columns={'1': 'Group 1', '2': 'Group 2', '3': 'Group 3', '4': 'Group 4', 'NOVA Score': 'Combined_score'}, inplace=True)\n",
    "nova_score_visit2.rename(columns={'1': 'Group 1', '2': 'Group 2', '3': 'Group 3', '4': 'Group 4', 'NOVA Score': 'Combined_score'}, inplace=True)"
   ],
   "metadata": {
    "collapsed": false,
    "ExecuteTime": {
     "end_time": "2025-07-10T09:54:10.502670Z",
     "start_time": "2025-07-10T09:54:10.499275Z"
    }
   },
   "id": "372cacd1ef70957a",
   "execution_count": 125
  },
  {
   "cell_type": "code",
   "outputs": [],
   "source": [
    "# drop columns with nans\n",
    "nova_scores_baseline.dropna(inplace=True)\n",
    "nova_score_visit2.dropna(inplace=True)"
   ],
   "metadata": {
    "collapsed": false,
    "ExecuteTime": {
     "end_time": "2025-07-10T09:54:10.523063Z",
     "start_time": "2025-07-10T09:54:10.503393Z"
    }
   },
   "id": "981236b2592a5ade",
   "execution_count": 126
  },
  {
   "cell_type": "code",
   "outputs": [],
   "source": [
    "nova_scores_baseline['research_stage'] = 'baseline'\n",
    "nova_score_visit2['research_stage'] = '02_00_visit'\n",
    "all_nova_scores = pd.concat([nova_scores_baseline, nova_score_visit2])"
   ],
   "metadata": {
    "collapsed": false,
    "ExecuteTime": {
     "end_time": "2025-07-10T09:54:10.533781Z",
     "start_time": "2025-07-10T09:54:10.524579Z"
    }
   },
   "id": "251de4656ebd326d",
   "execution_count": 127
  },
  {
   "cell_type": "code",
   "outputs": [],
   "source": [
    "# create a columns combining Group 1, and Group 2\n",
    "all_nova_scores['Group 1+2'] = all_nova_scores['Group 1'] + all_nova_scores['Group 2']"
   ],
   "metadata": {
    "collapsed": false,
    "ExecuteTime": {
     "end_time": "2025-07-10T09:54:10.549032Z",
     "start_time": "2025-07-10T09:54:10.534702Z"
    }
   },
   "id": "9913f4574130b887",
   "execution_count": 128
  },
  {
   "cell_type": "code",
   "outputs": [],
   "source": [
    "# minmax scale nova scores\n",
    "scaler = MinMaxScaler()\n",
    "all_nova_scores[['Group 1', 'Group 2', 'Group 3', 'Group 4', 'Combined_score', 'Group 1+2']] = scaler.fit_transform(all_nova_scores[['Group 1', 'Group 2', 'Group 3', 'Group 4', 'Combined_score', 'Group 1+2']])"
   ],
   "metadata": {
    "collapsed": false,
    "ExecuteTime": {
     "end_time": "2025-07-10T09:54:10.561700Z",
     "start_time": "2025-07-10T09:54:10.549840Z"
    }
   },
   "id": "b98be3aa927db366",
   "execution_count": 129
  },
  {
   "cell_type": "code",
   "outputs": [],
   "source": [
    "diet_features_ag = pd.read_pickle(tomer_dir + 'diet_features.pkl')"
   ],
   "metadata": {
    "collapsed": false,
    "ExecuteTime": {
     "end_time": "2025-07-10T09:54:10.617081Z",
     "start_time": "2025-07-10T09:54:10.562529Z"
    }
   },
   "id": "518ea6834bb37a30",
   "execution_count": 130
  },
  {
   "cell_type": "code",
   "outputs": [
    {
     "data": {
      "text/plain": "(11023, 2252)"
     },
     "execution_count": 131,
     "metadata": {},
     "output_type": "execute_result"
    }
   ],
   "source": [
    "serrf_all.shape"
   ],
   "metadata": {
    "collapsed": false,
    "ExecuteTime": {
     "end_time": "2025-07-10T09:54:10.620754Z",
     "start_time": "2025-07-10T09:54:10.618101Z"
    }
   },
   "id": "2f4bf3acdd1dbd39",
   "execution_count": 131
  },
  {
   "cell_type": "code",
   "outputs": [],
   "source": [
    "serrf_all = serrf_all.join(batch_info[['batch']], how='inner')"
   ],
   "metadata": {
    "collapsed": false,
    "ExecuteTime": {
     "end_time": "2025-07-10T09:54:10.795377Z",
     "start_time": "2025-07-10T09:54:10.621441Z"
    }
   },
   "id": "238fa36ff23c7206",
   "execution_count": 132
  },
  {
   "cell_type": "code",
   "outputs": [
    {
     "data": {
      "text/plain": "(11023, 2253)"
     },
     "execution_count": 133,
     "metadata": {},
     "output_type": "execute_result"
    }
   ],
   "source": [
    "serrf_all.shape"
   ],
   "metadata": {
    "collapsed": false,
    "ExecuteTime": {
     "end_time": "2025-07-10T09:54:13.750950Z",
     "start_time": "2025-07-10T09:54:13.747600Z"
    }
   },
   "id": "a144a16ba95b29de",
   "execution_count": 133
  },
  {
   "cell_type": "code",
   "outputs": [],
   "source": [
    "def plot_research_stage_counts(df):\n",
    "    \"\"\"\n",
    "    Plot the count of research_stage values for each batch\n",
    "    \n",
    "    Parameters:\n",
    "    df (DataFrame): DataFrame with 'batch' and 'research_stage' columns\n",
    "    \"\"\"\n",
    "    \n",
    "    # Create a cross-tabulation to count occurrences\n",
    "    count_table = pd.crosstab(df['batch'], df['research_stage'])\n",
    "    \n",
    "    # Create the plot\n",
    "    fig, ax = plt.subplots(figsize=(12, 8))\n",
    "    \n",
    "    # Create a stacked bar chart\n",
    "    count_table.plot(kind='bar', stacked=True, ax=ax)\n",
    "    \n",
    "    # Customize the plot\n",
    "    plt.title('Research Stage Counts by Batch', fontsize=16, fontweight='bold')\n",
    "    plt.xlabel('Batch', fontsize=12)\n",
    "    plt.ylabel('Count', fontsize=12)\n",
    "    plt.legend(title='Research Stage', bbox_to_anchor=(1.05, 1), loc='upper left')\n",
    "    plt.xticks(rotation=45)\n",
    "    plt.tight_layout()\n",
    "    \n",
    "    # Show the plot\n",
    "    plt.savefig(DIET_PAPER_PATH + '/research_stage_counts_by_batch.png', dpi=300, bbox_inches='tight')\n",
    "    plt.show()\n",
    "    \n",
    "    return count_table"
   ],
   "metadata": {
    "collapsed": false,
    "ExecuteTime": {
     "end_time": "2025-07-10T08:36:30.558415Z",
     "start_time": "2025-07-10T08:36:30.554101Z"
    }
   },
   "id": "abde8dbf2a2e74f9",
   "execution_count": 105
  },
  {
   "cell_type": "code",
   "outputs": [
    {
     "data": {
      "text/plain": "<Figure size 1200x800 with 1 Axes>",
      "image/png": "[encoded data removed]"
     },
     "metadata": {},
     "output_type": "display_data"
    },
    {
     "data": {
      "text/plain": "research_stage  01_01_visit  02_00_visit  03_01_visit  04_00_visit  baseline\nbatch                                                                       \n2                         4          135            3           36       139\n3                         2          123            1           54       139\n4                         2          121            4           56       135\n5                         0           79            0            0        80\n6                         1          134            2           33       141\n7                         0          143            0           26       150\n8                         0           21            0            0       138\n9                         1          109            3           42         5\n10                        2           93            0            0       144\n11                        1           74            1           30        53\n12                        1           60            0            0        99\n13                        0           80            2            0       157\n14                        2          131            4           39       143\n15                        3          141            6           20       125\n16                        7          126            4           38       143\n17                        4          128            3           37       144\n18                        2          139            2           30       138\n19                        2          134            3           39       140\n20                        3          138            2           36       140\n21                        1          138            1           35       144\n22                        3          133            2           38       143\n23                        2          140            2           28       140\n24                        1          138            4           21       147\n25                        2          129            2           27       144\n26                        2           55            0            0       253\n27                        2           53            0            0       257\n28                        0           60            1            0       252\n29                        0           51            0            4       257\n30                        1           50            0            2       260\n31                        0           64            1            2       245\n32                        0           50            0            4       258\n33                        0           36            3            2       272\n34                        1           46            0            1       266\n35                        1           49            0            8       255\n36                        4           51            3            0       255",
      "text/html": "<div>\n<style scoped>\n    .dataframe tbody tr th:only-of-type {\n        vertical-align: middle;\n    }\n\n    .dataframe tbody tr th {\n        vertical-align: top;\n    }\n\n    .dataframe thead th {\n        text-align: right;\n    }\n</style>\n<table border=\"1\" class=\"dataframe\">\n  <thead>\n    <tr style=\"text-align: right;\">\n      <th>research_stage</th>\n      <th>01_01_visit</th>\n      <th>02_00_visit</th>\n      <th>03_01_visit</th>\n      <th>04_00_visit</th>\n      <th>baseline</th>\n    </tr>\n    <tr>\n      <th>batch</th>\n      <th></th>\n      <th></th>\n      <th></th>\n      <th></th>\n      <th></th>\n    </tr>\n  </thead>\n  <tbody>\n    <tr>\n      <th>2</th>\n      <td>4</td>\n      <td>135</td>\n      <td>3</td>\n      <td>36</td>\n      <td>139</td>\n    </tr>\n    <tr>\n      <th>3</th>\n      <td>2</td>\n      <td>123</td>\n      <td>1</td>\n      <td>54</td>\n      <td>139</td>\n    </tr>\n    <tr>\n      <th>4</th>\n      <td>2</td>\n      <td>121</td>\n      <td>4</td>\n      <td>56</td>\n      <td>135</td>\n    </tr>\n    <tr>\n      <th>5</th>\n      <td>0</td>\n      <td>79</td>\n      <td>0</td>\n      <td>0</td>\n      <td>80</td>\n    </tr>\n    <tr>\n      <th>6</th>\n      <td>1</td>\n      <td>134</td>\n      <td>2</td>\n      <td>33</td>\n      <td>141</td>\n    </tr>\n    <tr>\n      <th>7</th>\n      <td>0</td>\n      <td>143</td>\n      <td>0</td>\n      <td>26</td>\n      <td>150</td>\n    </tr>\n    <tr>\n      <th>8</th>\n      <td>0</td>\n      <td>21</td>\n      <td>0</td>\n      <td>0</td>\n      <td>138</td>\n    </tr>\n    <tr>\n      <th>9</th>\n      <td>1</td>\n      <td>109</td>\n      <td>3</td>\n      <td>42</td>\n      <td>5</td>\n    </tr>\n    <tr>\n      <th>10</th>\n      <td>2</td>\n      <td>93</td>\n      <td>0</td>\n      <td>0</td>\n      <td>144</td>\n    </tr>\n    <tr>\n      <th>11</th>\n      <td>1</td>\n      <td>74</td>\n      <td>1</td>\n      <td>30</td>\n      <td>53</td>\n    </tr>\n    <tr>\n      <th>12</th>\n      <td>1</td>\n      <td>60</td>\n      <td>0</td>\n      <td>0</td>\n      <td>99</td>\n    </tr>\n    <tr>\n      <th>13</th>\n      <td>0</td>\n      <td>80</td>\n      <td>2</td>\n      <td>0</td>\n      <td>157</td>\n    </tr>\n    <tr>\n      <th>14</th>\n      <td>2</td>\n      <td>131</td>\n      <td>4</td>\n      <td>39</td>\n      <td>143</td>\n    </tr>\n    <tr>\n      <th>15</th>\n      <td>3</td>\n      <td>141</td>\n      <td>6</td>\n      <td>20</td>\n      <td>125</td>\n    </tr>\n    <tr>\n      <th>16</th>\n      <td>7</td>\n      <td>126</td>\n      <td>4</td>\n      <td>38</td>\n      <td>143</td>\n    </tr>\n    <tr>\n      <th>17</th>\n      <td>4</td>\n      <td>128</td>\n      <td>3</td>\n      <td>37</td>\n      <td>144</td>\n    </tr>\n    <tr>\n      <th>18</th>\n      <td>2</td>\n      <td>139</td>\n      <td>2</td>\n      <td>30</td>\n      <td>138</td>\n    </tr>\n    <tr>\n      <th>19</th>\n      <td>2</td>\n      <td>134</td>\n      <td>3</td>\n      <td>39</td>\n      <td>140</td>\n    </tr>\n    <tr>\n      <th>20</th>\n      <td>3</td>\n      <td>138</td>\n      <td>2</td>\n      <td>36</td>\n      <td>140</td>\n    </tr>\n    <tr>\n      <th>21</th>\n      <td>1</td>\n      <td>138</td>\n      <td>1</td>\n      <td>35</td>\n      <td>144</td>\n    </tr>\n    <tr>\n      <th>22</th>\n      <td>3</td>\n      <td>133</td>\n      <td>2</td>\n      <td>38</td>\n      <td>143</td>\n    </tr>\n    <tr>\n      <th>23</th>\n      <td>2</td>\n      <td>140</td>\n      <td>2</td>\n      <td>28</td>\n      <td>140</td>\n    </tr>\n    <tr>\n      <th>24</th>\n      <td>1</td>\n      <td>138</td>\n      <td>4</td>\n      <td>21</td>\n      <td>147</td>\n    </tr>\n    <tr>\n      <th>25</th>\n      <td>2</td>\n      <td>129</td>\n      <td>2</td>\n      <td>27</td>\n      <td>144</td>\n    </tr>\n    <tr>\n      <th>26</th>\n      <td>2</td>\n      <td>55</td>\n      <td>0</td>\n      <td>0</td>\n      <td>253</td>\n    </tr>\n    <tr>\n      <th>27</th>\n      <td>2</td>\n      <td>53</td>\n      <td>0</td>\n      <td>0</td>\n      <td>257</td>\n    </tr>\n    <tr>\n      <th>28</th>\n      <td>0</td>\n      <td>60</td>\n      <td>1</td>\n      <td>0</td>\n      <td>252</td>\n    </tr>\n    <tr>\n      <th>29</th>\n      <td>0</td>\n      <td>51</td>\n      <td>0</td>\n      <td>4</td>\n      <td>257</td>\n    </tr>\n    <tr>\n      <th>30</th>\n      <td>1</td>\n      <td>50</td>\n      <td>0</td>\n      <td>2</td>\n      <td>260</td>\n    </tr>\n    <tr>\n      <th>31</th>\n      <td>0</td>\n      <td>64</td>\n      <td>1</td>\n      <td>2</td>\n      <td>245</td>\n    </tr>\n    <tr>\n      <th>32</th>\n      <td>0</td>\n      <td>50</td>\n      <td>0</td>\n      <td>4</td>\n      <td>258</td>\n    </tr>\n    <tr>\n      <th>33</th>\n      <td>0</td>\n      <td>36</td>\n      <td>3</td>\n      <td>2</td>\n      <td>272</td>\n    </tr>\n    <tr>\n      <th>34</th>\n      <td>1</td>\n      <td>46</td>\n      <td>0</td>\n      <td>1</td>\n      <td>266</td>\n    </tr>\n    <tr>\n      <th>35</th>\n      <td>1</td>\n      <td>49</td>\n      <td>0</td>\n      <td>8</td>\n      <td>255</td>\n    </tr>\n    <tr>\n      <th>36</th>\n      <td>4</td>\n      <td>51</td>\n      <td>3</td>\n      <td>0</td>\n      <td>255</td>\n    </tr>\n  </tbody>\n</table>\n</div>"
     },
     "execution_count": 106,
     "metadata": {},
     "output_type": "execute_result"
    }
   ],
   "source": [
    "# Plot the research stage counts\n",
    "plot_research_stage_counts(serrf_all)"
   ],
   "metadata": {
    "collapsed": false,
    "ExecuteTime": {
     "end_time": "2025-07-10T08:36:32.399369Z",
     "start_time": "2025-07-10T08:36:31.187345Z"
    }
   },
   "id": "91422cd4f5733db8",
   "execution_count": 106
  },
  {
   "cell_type": "code",
   "outputs": [],
   "source": [
    "serrf_all_diet = serrf_all.reset_index().merge(diet_features, on='RegistrationCode', how='left')"
   ],
   "metadata": {
    "collapsed": false,
    "ExecuteTime": {
     "end_time": "2025-07-10T09:54:28.824768Z",
     "start_time": "2025-07-10T09:54:28.620638Z"
    }
   },
   "id": "fa36bea621efb7b4",
   "execution_count": 135
  },
  {
   "cell_type": "code",
   "outputs": [],
   "source": [
    "serrf_all_diet = serrf_all_diet.merge(all_nova_scores,on=['RegistrationCode', 'research_stage'], how='left')"
   ],
   "metadata": {
    "collapsed": false,
    "ExecuteTime": {
     "end_time": "2025-07-10T09:54:29.411586Z",
     "start_time": "2025-07-10T09:54:29.123272Z"
    }
   },
   "id": "ebcdbdc1452bf2b5",
   "execution_count": 136
  },
  {
   "cell_type": "code",
   "outputs": [
    {
     "data": {
      "text/plain": "2567"
     },
     "execution_count": 137,
     "metadata": {},
     "output_type": "execute_result"
    }
   ],
   "source": [
    "serrf_all_diet['Group 1'].isna().sum()"
   ],
   "metadata": {
    "collapsed": false,
    "ExecuteTime": {
     "end_time": "2025-07-10T09:54:29.416242Z",
     "start_time": "2025-07-10T09:54:29.412966Z"
    }
   },
   "id": "ae096f0ff8c89b31",
   "execution_count": 137
  },
  {
   "cell_type": "code",
   "outputs": [
    {
     "data": {
      "text/plain": "965"
     },
     "execution_count": 138,
     "metadata": {},
     "output_type": "execute_result"
    }
   ],
   "source": [
    "serrf_all_diet['RegistrationCode'].isna().sum()"
   ],
   "metadata": {
    "collapsed": false,
    "ExecuteTime": {
     "end_time": "2025-07-10T09:54:30.246435Z",
     "start_time": "2025-07-10T09:54:30.242003Z"
    }
   },
   "id": "69460a093c88718b",
   "execution_count": 138
  },
  {
   "cell_type": "code",
   "outputs": [],
   "source": [
    "# serrf_all_diet.to_csv(DIET_PAPER_PATH + '/serrf_all_diet.csv')"
   ],
   "metadata": {
    "collapsed": false,
    "ExecuteTime": {
     "end_time": "2025-07-10T09:54:31.252774Z",
     "start_time": "2025-07-10T09:54:31.250008Z"
    }
   },
   "id": "5948ac1185a2a54c",
   "execution_count": 139
  },
  {
   "cell_type": "code",
   "outputs": [],
   "source": [
    "# Create boolean masks for our conditions\n",
    "both_missing = serrf_all_diet[['RegistrationCode', 'med_score_per_day']].isna().all(axis=1)\n",
    "reg_present_med_missing = (~serrf_all_diet['RegistrationCode'].isna()) & (serrf_all_diet['med_score_per_day'].isna())\n",
    "\n",
    "# Keep rows where:\n",
    "# 1. Both values are missing OR\n",
    "# 2. Not in the condition where RegistrationCode exists but med_score_per_day is missing\n",
    "mask = both_missing | ~reg_present_med_missing\n",
    "\n",
    "# Apply the mask and return the filtered DataFrame\n",
    "serrf_all_diet_clean =  serrf_all_diet[mask].copy()"
   ],
   "metadata": {
    "collapsed": false,
    "ExecuteTime": {
     "end_time": "2025-07-10T09:54:31.993164Z",
     "start_time": "2025-07-10T09:54:31.627702Z"
    }
   },
   "id": "d60771918b908d2a",
   "execution_count": 140
  },
  {
   "cell_type": "code",
   "outputs": [],
   "source": [
    "serrf_all_diet_clean.drop(columns=['age', 'gender', 'bmi', 'research_stage'], inplace=True)"
   ],
   "metadata": {
    "collapsed": false,
    "ExecuteTime": {
     "end_time": "2025-07-10T09:54:32.105463Z",
     "start_time": "2025-07-10T09:54:31.994532Z"
    }
   },
   "id": "513d53b04db0eaea",
   "execution_count": 141
  },
  {
   "cell_type": "code",
   "outputs": [],
   "source": [
    "serrf_all_diet_clean.set_index('index', inplace=True)"
   ],
   "metadata": {
    "collapsed": false,
    "ExecuteTime": {
     "end_time": "2025-07-10T09:54:32.356886Z",
     "start_time": "2025-07-10T09:54:32.354523Z"
    }
   },
   "id": "2f14290ca987f97a",
   "execution_count": 142
  },
  {
   "cell_type": "code",
   "outputs": [],
   "source": [
    "\"\"\"\n",
    "atopic dermatitis batch 5\n",
    "BC batches 8-10\n",
    "PDAC batches 11-13\n",
    "\"\"\"\n",
    "# create sepretate dataframes for each group\n",
    "ad_batch = serrf_all_diet_clean[serrf_all_diet_clean['batch'] == 5]\n",
    "bc_batch = serrf_all_diet_clean[serrf_all_diet_clean['batch'].isin([8, 9, 10])]\n",
    "pdac_batch = serrf_all_diet_clean[serrf_all_diet_clean['batch'].isin([11, 12, 13])]\n",
    "healthy_batch = serrf_all_diet_clean[~serrf_all_diet_clean['batch'].isin([5, 8, 9, 10, 11, 12, 13])]"
   ],
   "metadata": {
    "collapsed": false,
    "ExecuteTime": {
     "end_time": "2025-07-10T09:54:32.661362Z",
     "start_time": "2025-07-10T09:54:32.567152Z"
    }
   },
   "id": "6bf282ca4be99b65",
   "execution_count": 143
  },
  {
   "cell_type": "code",
   "outputs": [
    {
     "data": {
      "text/plain": "(317, 2969)"
     },
     "execution_count": 144,
     "metadata": {},
     "output_type": "execute_result"
    }
   ],
   "source": [
    "ad_batch.shape"
   ],
   "metadata": {
    "collapsed": false,
    "ExecuteTime": {
     "end_time": "2025-07-10T09:54:33.571356Z",
     "start_time": "2025-07-10T09:54:33.568161Z"
    }
   },
   "id": "155d291314614d72",
   "execution_count": 144
  },
  {
   "cell_type": "code",
   "outputs": [],
   "source": [
    "# load atopic metadata\n",
    "atopic_metadata = pd.read_excel('/net/mraid20/ifs/wisdom/segal_lab/jafar/Microbiome/Analyses/saar/atopic/AD_FMT2/data_frames/metadata.xlsx')"
   ],
   "metadata": {
    "collapsed": false,
    "ExecuteTime": {
     "end_time": "2025-07-10T09:54:34.178912Z",
     "start_time": "2025-07-10T09:54:34.129171Z"
    }
   },
   "id": "81e1824aec5e1dcc",
   "execution_count": 145
  },
  {
   "cell_type": "code",
   "outputs": [],
   "source": [
    "def first_non_null(series):\n",
    "    non_null = series.dropna()\n",
    "    if len(non_null) > 0:\n",
    "        return non_null.iloc[0]\n",
    "    else:\n",
    "        return np.nan"
   ],
   "metadata": {
    "collapsed": false,
    "ExecuteTime": {
     "end_time": "2025-07-10T09:54:34.625780Z",
     "start_time": "2025-07-10T09:54:34.622928Z"
    }
   },
   "id": "8eb496a84dec3501",
   "execution_count": 146
  },
  {
   "cell_type": "code",
   "outputs": [],
   "source": [
    "atopic_metadata_baseline = atopic_metadata.groupby('RegistrationCode').agg(\n",
    "    # For metabolomics column, get first non-null value\n",
    "    metabolomics=('metabolomics', first_non_null),\n",
    ").reset_index()"
   ],
   "metadata": {
    "collapsed": false,
    "ExecuteTime": {
     "end_time": "2025-07-10T09:54:35.149021Z",
     "start_time": "2025-07-10T09:54:35.141382Z"
    }
   },
   "id": "6b47bd6d40c8358b",
   "execution_count": 147
  },
  {
   "cell_type": "code",
   "outputs": [],
   "source": [
    "atopic_metadata_baseline_indexes = atopic_metadata_baseline['metabolomics']"
   ],
   "metadata": {
    "collapsed": false,
    "ExecuteTime": {
     "end_time": "2025-07-10T09:54:35.819569Z",
     "start_time": "2025-07-10T09:54:35.816782Z"
    }
   },
   "id": "7edd2eee40fc7861",
   "execution_count": 148
  },
  {
   "cell_type": "code",
   "outputs": [],
   "source": [
    "# Assuming atopic_metadata_baseline_indexes is a Series or array-like of boolean values or indices\n",
    "ad_batch_filtered = ad_batch[\n",
    "    ~ad_batch['RegistrationCode'].isna() | \n",
    "    ad_batch.index.isin(atopic_metadata_baseline_indexes)\n",
    "].copy()"
   ],
   "metadata": {
    "collapsed": false,
    "ExecuteTime": {
     "end_time": "2025-07-10T09:54:35.979799Z",
     "start_time": "2025-07-10T09:54:35.973295Z"
    }
   },
   "id": "3e5178e93b7e4a56",
   "execution_count": 149
  },
  {
   "cell_type": "code",
   "outputs": [
    {
     "data": {
      "text/plain": "Index(['1.81_904.4772n_290.2', '1.95_1076.5247n_352.29',\n       '2.04_558.1404n_207.0', '1.88_1090.4203n_344.04',\n       '1.66_334.0144n_180.66', '2.14_630.1615n_222.67',\n       '2.13_602.0943n_294.0', '2.21_1106.4885n_353.01',\n       '2.24_863.4035n_279.77', '2.35_856.3247n_269.15',\n       ...\n       'sweetmilkproducts', 'sweets', 'NOVA Score', 'Energy / BMR', 'Group 1',\n       'Group 2', 'Group 3', 'Group 4', 'Combined_score', 'Group 1+2'],\n      dtype='object', length=2969)"
     },
     "execution_count": 150,
     "metadata": {},
     "output_type": "execute_result"
    }
   ],
   "source": [
    "ad_batch_filtered.columns"
   ],
   "metadata": {
    "collapsed": false,
    "ExecuteTime": {
     "end_time": "2025-07-10T09:54:38.253176Z",
     "start_time": "2025-07-10T09:54:38.249242Z"
    }
   },
   "id": "931d6e3ffe9ddc16",
   "execution_count": 150
  },
  {
   "cell_type": "code",
   "outputs": [],
   "source": [
    "from sklearn.metrics import mean_squared_error, r2_score\n",
    "import lightgbm as lgb\n",
    "import os\n",
    "from datetime import datetime\n",
    "import shap\n",
    "from sklearn.preprocessing import StandardScaler\n",
    "import pandas as pd\n",
    "import numpy as np\n",
    "from tqdm.notebook import tqdm\n",
    "\n",
    "def predict_diet_features(healthy_df, mixed_dfs_dict, metabolite_columns, diet_columns, \n",
    "                         output_path, scale_features=True, run_suffix=''):\n",
    "    \"\"\"\n",
    "    Train models on healthy subjects' data and predict diet features for subjects with missing data.\n",
    "    \n",
    "    Parameters:\n",
    "    -----------\n",
    "    healthy_df : pandas DataFrame\n",
    "        DataFrame containing healthy subjects with complete metabolite and diet data\n",
    "    mixed_dfs_dict : dict\n",
    "        Dictionary of DataFrames containing both healthy and sick subjects, where only healthy have diet data\n",
    "        Format: {'batch_name': dataframe}\n",
    "    metabolite_columns : list\n",
    "        List of metabolite column names to use as features\n",
    "    diet_columns : list\n",
    "        List of diet feature column names to predict\n",
    "    output_path : str\n",
    "        Path where results will be saved\n",
    "    scale_features : bool, default=True\n",
    "        Whether to scale features using StandardScaler\n",
    "    run_suffix : str, default=''\n",
    "        Optional suffix to add to the run directory name\n",
    "    \n",
    "    Returns:\n",
    "    --------\n",
    "    dict\n",
    "        Dictionary containing predictions and validation results for each batch\n",
    "    \"\"\"\n",
    "    results = {}\n",
    "    \n",
    "    # Create output directory\n",
    "    timestamp = datetime.now().strftime('%Y%m%d_%H%M%S')\n",
    "    base_output_path = os.path.join(output_path, f'diet_predictions_{timestamp}{run_suffix}')\n",
    "    os.makedirs(base_output_path, exist_ok=True)\n",
    "    \n",
    "    \n",
    "    # Initialize run metrics dictionary\n",
    "    run_metrics = {\n",
    "        'timestamp': timestamp,\n",
    "        'n_features': len(metabolite_columns),\n",
    "        'scaled_features': scale_features\n",
    "    }\n",
    "    \n",
    "    # Prepare training data from healthy subjects\n",
    "    X_train = healthy_df[metabolite_columns].copy()\n",
    "    \n",
    "    if scale_features:\n",
    "        scaler = StandardScaler()\n",
    "        X_train = pd.DataFrame(\n",
    "            scaler.fit_transform(X_train),\n",
    "            columns=metabolite_columns,\n",
    "            index=X_train.index\n",
    "        )\n",
    "    \n",
    "    # Model parameters\n",
    "    params = {\n",
    "        'metric': 'r2',\n",
    "        'num_leaves': 31,\n",
    "        'learning_rate': 0.03,\n",
    "        'feature_fraction': 0.75,\n",
    "        'bagging_fraction': 0.7,\n",
    "        'bagging_freq': 1,\n",
    "        'n_estimators': 2000,\n",
    "        'verbose': -1,\n",
    "        'num_threads': 30\n",
    "    }\n",
    "    \n",
    "    # Process each mixed dataset\n",
    "    for batch_name, mixed_df in mixed_dfs_dict.items():\n",
    "        batch_dir = os.path.join(base_output_path, batch_name)\n",
    "        os.makedirs(batch_dir, exist_ok=True)\n",
    "        \n",
    "        # Identify healthy subjects in the mixed dataset for validation\n",
    "        healthy_mask = ~mixed_df[diet_columns].isna().all(axis=1)\n",
    "        validation_df = mixed_df[healthy_mask]\n",
    "        \n",
    "        # Prepare features for prediction\n",
    "        X_pred = mixed_df[metabolite_columns].copy()\n",
    "        if scale_features:\n",
    "            X_pred = pd.DataFrame(\n",
    "                scaler.transform(X_pred),\n",
    "                columns=metabolite_columns,\n",
    "                index=X_pred.index\n",
    "            )\n",
    "        \n",
    "        batch_results = {\n",
    "            'predictions': pd.DataFrame(index=mixed_df.index),\n",
    "            'validation_metrics': {}\n",
    "        }\n",
    "        \n",
    "        # Train model and predict for each diet feature\n",
    "        for target in tqdm(diet_columns, desc=f\"Processing {batch_name}\"):\n",
    "            target_dir = os.path.join(batch_dir, target)\n",
    "            os.makedirs(target_dir, exist_ok=True)\n",
    "            \n",
    "            # Train on healthy subjects\n",
    "            y_train = healthy_df[target].values\n",
    "            train_data = lgb.Dataset(X_train, label=y_train)\n",
    "            \n",
    "            # drop rows with missing values in target column\n",
    "            train_data = train_data.subset(np.where(~np.isnan(y_train))[0])\n",
    "            \n",
    "            # Train model\n",
    "            model = lgb.train(\n",
    "                params,\n",
    "                train_data,\n",
    "                num_boost_round=params['n_estimators']\n",
    "            )\n",
    "            \n",
    "            # Make predictions for all subjects\n",
    "            predictions = model.predict(X_pred)\n",
    "            batch_results['predictions'][target] = predictions\n",
    "            \n",
    "            # Skip saving per-target predictions as we'll save them all together at the batch level\n",
    "            \n",
    "            # Validate on healthy subjects in the mixed dataset\n",
    "            if len(validation_df) > 0:\n",
    "                y_val = validation_df[target].values\n",
    "                y_val_pred = predictions[healthy_mask]\n",
    "                \n",
    "                val_rmse = np.sqrt(mean_squared_error(y_val, y_val_pred))\n",
    "                val_r2 = r2_score(y_val, y_val_pred)\n",
    "                \n",
    "                batch_results['validation_metrics'][target] = {\n",
    "                    'rmse': val_rmse,\n",
    "                    'r2': val_r2\n",
    "                }\n",
    "                \n",
    "                # Save validation results\n",
    "                val_results_df = pd.DataFrame({\n",
    "                    'true_values': y_val,\n",
    "                    'predictions': y_val_pred\n",
    "                }, index=validation_df.index)\n",
    "                val_results_df.to_csv(os.path.join(target_dir, 'validation_results.csv'))\n",
    "                \n",
    "                # SHAP Analysis for validation set\n",
    "                X_val = X_pred.loc[validation_df.index]\n",
    "                explainer = shap.TreeExplainer(model)\n",
    "                shap_values = explainer.shap_values(X_val)\n",
    "                \n",
    "                # Save SHAP plot\n",
    "                plt.figure(figsize=(12, 8))\n",
    "                shap.summary_plot(shap_values, X_val, show=False)\n",
    "                plt.title(f'SHAP Summary Plot for {target} - {batch_name}')\n",
    "                plt.tight_layout()\n",
    "                plt.savefig(os.path.join(target_dir, 'shap_summary.png'), dpi=300, bbox_inches='tight')\n",
    "                plt.close()\n",
    "            \n",
    "            # Save model\n",
    "            model.save_model(os.path.join(target_dir, 'model.txt'))\n",
    "        \n",
    "        # Save all predictions for this specific mixed DataFrame\n",
    "        predictions_df = batch_results['predictions'].copy()\n",
    "        \n",
    "        # Add true values where available\n",
    "        for col in diet_columns:\n",
    "            if col in mixed_df.columns:\n",
    "                predictions_df[f'{col}_true'] = mixed_df[col]\n",
    "        \n",
    "        # Save full prediction results for this batch\n",
    "        predictions_df.to_csv(os.path.join(batch_dir, 'full_predictions.csv'))\n",
    "        \n",
    "        # Original batch predictions (keeping for compatibility)\n",
    "        batch_results['predictions'].to_csv(os.path.join(batch_dir, 'predictions.csv'))\n",
    "        \n",
    "        # Save validation metrics\n",
    "        if batch_results['validation_metrics']:\n",
    "            metrics_df = pd.DataFrame.from_dict(batch_results['validation_metrics'], orient='index')\n",
    "            metrics_df.to_csv(os.path.join(batch_dir, 'validation_metrics.csv'))\n",
    "        \n",
    "        results[batch_name] = batch_results\n",
    "        \n",
    "        # Update run metrics\n",
    "        for target, metrics in batch_results['validation_metrics'].items():\n",
    "            run_metrics[f'{batch_name}_{target}_rmse'] = metrics['rmse']\n",
    "            run_metrics[f'{batch_name}_{target}_r2'] = metrics['r2']\n",
    "    \n",
    "    # Save overall run metrics\n",
    "    pd.DataFrame([run_metrics]).to_csv(os.path.join(base_output_path, 'run_metrics.csv'), index=False)\n",
    "    \n",
    "    return results"
   ],
   "metadata": {
    "collapsed": false,
    "ExecuteTime": {
     "end_time": "2025-07-10T09:54:39.547407Z",
     "start_time": "2025-07-10T09:54:39.534620Z"
    }
   },
   "id": "861224ce3c2b07d9",
   "execution_count": 151
  },
  {
   "cell_type": "code",
   "outputs": [],
   "source": [
    "# Define columns for metabolites and diet features\n",
    "\n",
    "# Metabolite columns all contain 'm/z'\n",
    "metabolite_columns = [col for col in serrf_all_diet_clean.columns if '.' in col]\n",
    "diet_scores = ['med_score_per_day', 'paleo_score_per_day', 'vegetarian_score_per_day', 'wfpb_score_per_day', 'vegan_score_per_day', 'carnivore_score_per_day']\n",
    "pct_macros = ['pct_protein_calories', 'pct_fat_calories', 'pct_carb_calories', 'pct_saturated_fat_calories', 'Fiber, total dietary']\n",
    "lipids_ratios = ['sat_to_total_lipids_ratio', 'trans_to_total_lipids_ratio', 'mono_to_total_lipids_ratio', 'poly_to_total_lipids_ratio', 'omega3_to_total_lipids_ratio', 'omega6_to_total_lipids_ratio']\n",
    "plant_ratios = ['plant_energy_pct', 'plant_protein_pct', 'plant_fat_pct']\n",
    "food_categories = [ 'AlcoholicDrinks',\n",
    " 'Beefveallambandothermeatproducts',\n",
    " 'Bread_cat',\n",
    " 'Bread_wholewheat',\n",
    " 'Cannedvegandfruits',\n",
    " 'Cereals_cat',\n",
    " 'Deepfriedfoods',\n",
    " 'Drinks',\n",
    " 'Eggsandtheirproducts',\n",
    " 'FastFoods',\n",
    " 'Fishandseafood',\n",
    " 'Fruits',\n",
    " 'Hardcheese',\n",
    " 'Industrializedvegetarianfoodreadytoeat',\n",
    " 'MedOilandfats',\n",
    " 'Nutsseedsandproducts',\n",
    " 'Oilsandfats',\n",
    " 'Others',\n",
    " 'PastaGrainsandSidedishes',\n",
    " 'PastaGrainsandSidedishes_wholewheat',\n",
    " 'Poultryanditsproducts',\n",
    " 'Proccessedmeatproducts',\n",
    " 'Pulsesandproducts',\n",
    " 'Snacks',\n",
    " 'Soupsandsauces',\n",
    " 'Spicesandherbs',\n",
    " 'Vegetables',\n",
    " 'bakedgoods',\n",
    " 'fruitjuicesandsoftdrinks',\n",
    " 'milkcreamcheeseandyogurts',\n",
    " 'sweetmilkproducts',\n",
    " 'sweets']\n",
    "nutrients = ['Fiber, total dietary',\n",
    " 'Calcium, Ca',\n",
    " 'Iron, Fe',\n",
    " 'Magnesium, Mg',\n",
    " 'Phosphorus, P',\n",
    " 'Potassium, K',\n",
    " 'Sodium, Na',\n",
    " 'Zinc, Zn',\n",
    " 'Copper, Cu',\n",
    " 'Vitamin C, total ascorbic acid',\n",
    " 'Thiamin',\n",
    " 'Riboflavin',\n",
    " 'Niacin',\n",
    " 'Vitamin B-6',\n",
    " 'Folate, total',\n",
    " 'Vitamin B-12',\n",
    " 'Cholesterol',\n",
    " 'Fatty acids, total saturated',\n",
    " 'Fatty acids, total monounsaturated',\n",
    " 'Fatty acids, total polyunsaturated',\n",
    " 'Vitamin D (D2 + D3)',\n",
    " 'Sugars, Total',\n",
    " 'Fatty acids, total trans',\n",
    " 'Vitamin A, RAE',\n",
    " 'Isoleucine',\n",
    " 'Leucine',\n",
    " 'Valine',\n",
    " 'Lysine',\n",
    " 'Threonine',\n",
    " 'Methionine',\n",
    " 'Phenylalanine',\n",
    " 'Tryptophan',\n",
    " 'Histidine',\n",
    " 'Tyrosine',\n",
    " 'Arginine',\n",
    " 'Cystine',\n",
    " 'Serine',\n",
    " 'Pantothenic acid',\n",
    " 'Selenium, Se',\n",
    " 'Choline, total',\n",
    " 'Manganese, Mn',\n",
    " 'Fructose',\n",
    " 'Vitamin K',\n",
    " 'Iodine',\n",
    " 'Sugar alcohols',\n",
    " 'Biotin',\n",
    " 'Alanine',\n",
    " 'Ash',\n",
    " 'Aspartic acid',\n",
    " 'Betaine',\n",
    " 'Caffeine',\n",
    " 'Campesterol',\n",
    " 'Fluoride, F',\n",
    " 'Glucose',\n",
    " 'Glutamic acid',\n",
    " 'Glycine',\n",
    " 'Hydroxyproline',\n",
    " 'Lutein + zeaxanthin',\n",
    " 'Lycopene',\n",
    " 'Phytosterols',\n",
    " 'Proline',\n",
    " 'Starch',\n",
    " 'omega_6',\n",
    " 'omega_3',\n",
    " 'vitamin_E',\n",
    " # 'Protein',\n",
    " # 'Total lipid (fat)',\n",
    " # 'Carbohydrate, by difference',\n",
    " 'Energy',\n",
    " # 'Alcohol, ethyl',\n",
    " 'Water']\n",
    "nova_scores_cols = ['Group 1', 'Group 3', 'Group 4']"
   ],
   "metadata": {
    "collapsed": false,
    "ExecuteTime": {
     "end_time": "2025-07-10T09:54:40.934849Z",
     "start_time": "2025-07-10T09:54:40.928262Z"
    }
   },
   "id": "6e4683dfb2dfaf46",
   "execution_count": 152
  },
  {
   "cell_type": "code",
   "outputs": [
    {
     "data": {
      "text/plain": "25"
     },
     "execution_count": 153,
     "metadata": {},
     "output_type": "execute_result"
    }
   ],
   "source": [
    "ad_batch_filtered.sweets.isna().sum()"
   ],
   "metadata": {
    "collapsed": false,
    "ExecuteTime": {
     "end_time": "2025-07-10T09:54:42.357052Z",
     "start_time": "2025-07-10T09:54:42.353020Z"
    }
   },
   "id": "a22a5980cfac7571",
   "execution_count": 153
  },
  {
   "cell_type": "markdown",
   "source": [],
   "metadata": {
    "collapsed": false
   },
   "id": "cccae326981aed61"
  },
  {
   "cell_type": "code",
   "outputs": [],
   "source": [
    "# Run prediction for each batch\n",
    "cols_type = nova_scores_cols\n",
    "output_path = DIET_PAPER_PATH + '/External_use_case/NOVA_final_for_paper'\n",
    "# Example usage\n",
    "mixed_dfs = {\n",
    "    'breast_cancer_cohort': bc_batch,\n",
    "    'atopic_cohort': ad_batch_filtered,\n",
    "    'pdac_cohort': pdac_batch\n",
    "}"
   ],
   "metadata": {
    "collapsed": false,
    "ExecuteTime": {
     "end_time": "2025-07-10T09:54:46.737557Z",
     "start_time": "2025-07-10T09:54:46.734032Z"
    }
   },
   "id": "ae061b04577ae6c5",
   "execution_count": 154
  },
  {
   "cell_type": "code",
   "outputs": [
    {
     "data": {
      "text/plain": "Processing breast_cancer_cohort:   0%|          | 0/3 [00:00<?, ?it/s]",
      "application/vnd.jupyter.widget-view+json": {
       "version_major": 2,
       "version_minor": 0,
       "model_id": "44ba064c30844d3484c89c8e366ca9d1"
      }
     },
     "metadata": {},
     "output_type": "display_data"
    },
    {
     "name": "stderr",
     "output_type": "stream",
     "text": [
      "/net/mraid20/export/jasmine/david/anaconda3/envs/freshEnv/lib/python3.11/site-packages/lightgbm/engine.py:204: UserWarning: Found `n_estimators` in params. Will use it instead of argument\n",
      "  _log_warning(f\"Found `{alias}` in params. Will use it instead of argument\")\n",
      "/net/mraid20/export/jasmine/david/anaconda3/envs/freshEnv/lib/python3.11/site-packages/lightgbm/engine.py:204: UserWarning: Found `n_estimators` in params. Will use it instead of argument\n",
      "  _log_warning(f\"Found `{alias}` in params. Will use it instead of argument\")\n",
      "/net/mraid20/export/jasmine/david/anaconda3/envs/freshEnv/lib/python3.11/site-packages/lightgbm/engine.py:204: UserWarning: Found `n_estimators` in params. Will use it instead of argument\n",
      "  _log_warning(f\"Found `{alias}` in params. Will use it instead of argument\")\n"
     ]
    },
    {
     "data": {
      "text/plain": "Processing atopic_cohort:   0%|          | 0/3 [00:00<?, ?it/s]",
      "application/vnd.jupyter.widget-view+json": {
       "version_major": 2,
       "version_minor": 0,
       "model_id": "56a6b1d84df14647b75d9c50fe66c997"
      }
     },
     "metadata": {},
     "output_type": "display_data"
    },
    {
     "name": "stderr",
     "output_type": "stream",
     "text": [
      "/net/mraid20/export/jasmine/david/anaconda3/envs/freshEnv/lib/python3.11/site-packages/lightgbm/engine.py:204: UserWarning: Found `n_estimators` in params. Will use it instead of argument\n",
      "  _log_warning(f\"Found `{alias}` in params. Will use it instead of argument\")\n",
      "/net/mraid20/export/jasmine/david/anaconda3/envs/freshEnv/lib/python3.11/site-packages/lightgbm/engine.py:204: UserWarning: Found `n_estimators` in params. Will use it instead of argument\n",
      "  _log_warning(f\"Found `{alias}` in params. Will use it instead of argument\")\n",
      "/net/mraid20/export/jasmine/david/anaconda3/envs/freshEnv/lib/python3.11/site-packages/lightgbm/engine.py:204: UserWarning: Found `n_estimators` in params. Will use it instead of argument\n",
      "  _log_warning(f\"Found `{alias}` in params. Will use it instead of argument\")\n"
     ]
    },
    {
     "data": {
      "text/plain": "Processing pdac_cohort:   0%|          | 0/3 [00:00<?, ?it/s]",
      "application/vnd.jupyter.widget-view+json": {
       "version_major": 2,
       "version_minor": 0,
       "model_id": "f644f9908f974c38819d9c54be488e6f"
      }
     },
     "metadata": {},
     "output_type": "display_data"
    },
    {
     "name": "stderr",
     "output_type": "stream",
     "text": [
      "/net/mraid20/export/jasmine/david/anaconda3/envs/freshEnv/lib/python3.11/site-packages/lightgbm/engine.py:204: UserWarning: Found `n_estimators` in params. Will use it instead of argument\n",
      "  _log_warning(f\"Found `{alias}` in params. Will use it instead of argument\")\n",
      "/net/mraid20/export/jasmine/david/anaconda3/envs/freshEnv/lib/python3.11/site-packages/lightgbm/engine.py:204: UserWarning: Found `n_estimators` in params. Will use it instead of argument\n",
      "  _log_warning(f\"Found `{alias}` in params. Will use it instead of argument\")\n",
      "/net/mraid20/export/jasmine/david/anaconda3/envs/freshEnv/lib/python3.11/site-packages/lightgbm/engine.py:204: UserWarning: Found `n_estimators` in params. Will use it instead of argument\n",
      "  _log_warning(f\"Found `{alias}` in params. Will use it instead of argument\")\n"
     ]
    }
   ],
   "source": [
    "results = predict_diet_features(healthy_batch, mixed_dfs, metabolite_columns, cols_type, output_path)"
   ],
   "metadata": {
    "collapsed": false,
    "ExecuteTime": {
     "end_time": "2025-07-10T09:58:03.263783Z",
     "start_time": "2025-07-10T09:54:48.321865Z"
    }
   },
   "id": "7f772421e55321bc",
   "execution_count": 155
  },
  {
   "cell_type": "code",
   "outputs": [],
   "source": [
    "# Run prediction for each batch\n",
    "cols_type = plant_ratios\n",
    "output_path = DIET_PAPER_PATH + '/External_use_case/Plant_ratios'\n",
    "results = predict_diet_features(healthy_batch, mixed_dfs, metabolite_columns, cols_type, output_path)"
   ],
   "metadata": {
    "collapsed": false
   },
   "id": "cd2f1a7e536da3b6",
   "execution_count": null
  },
  {
   "cell_type": "code",
   "outputs": [],
   "source": [
    "# Run prediction for each batch\n",
    "cols_type = food_categories\n",
    "output_path = DIET_PAPER_PATH + '/External_use_case/Food_categories'\n",
    "results = predict_diet_features(healthy_batch, mixed_dfs, metabolite_columns, cols_type, output_path)"
   ],
   "metadata": {
    "collapsed": false
   },
   "id": "fed195b3a7cde313",
   "execution_count": null
  },
  {
   "cell_type": "code",
   "outputs": [],
   "source": [
    "# Run prediction for each batch\n",
    "cols_type = nutrients\n",
    "output_path = DIET_PAPER_PATH + '/External_use_case/Nutrients'\n",
    "results = predict_diet_features(healthy_batch, mixed_dfs, metabolite_columns, cols_type, output_path)"
   ],
   "metadata": {
    "collapsed": false
   },
   "id": "63e839b68a6dcc85",
   "execution_count": null
  },
  {
   "cell_type": "code",
   "outputs": [],
   "source": [
    "import pandas as pd\n",
    "import numpy as np\n",
    "import seaborn as sns\n",
    "import matplotlib.pyplot as plt\n",
    "from scipy import stats\n",
    "from statsmodels.stats.multitest import multipletests\n",
    "import os\n",
    "from tqdm.notebook import tqdm\n",
    "\n",
    "def compare_predicted_features(predictions_dir, cohort_dfs_dict, diet_columns, output_dir, figsize=(15, 8), plot_types=['box', 'violin']):\n",
    "    \"\"\"\n",
    "    Create combined plots for predicted features and perform statistical comparison.\n",
    "    \n",
    "    Parameters:\n",
    "    -----------\n",
    "    predictions_dir : str\n",
    "        Directory containing prediction results for different cohorts\n",
    "    cohort_dfs_dict : dict\n",
    "        Dictionary with cohort names as keys and original DataFrames as values.\n",
    "        Non-NaN diet features indicate healthy subjects\n",
    "    diet_columns : list\n",
    "        List of diet feature columns used to identify healthy subjects\n",
    "    output_dir : str\n",
    "        Directory to save the plots and statistical results\n",
    "    figsize : tuple, default=(15, 8)\n",
    "        Figure size for the plots\n",
    "    plot_types : list, default=['box', 'violin']\n",
    "        Types of plots to generate ('box' and/or 'violin')\n",
    "    \n",
    "    Returns:\n",
    "    --------\n",
    "    dict\n",
    "        Dictionary containing statistical results for each cohort\n",
    "    \"\"\"\n",
    "    os.makedirs(output_dir, exist_ok=True)\n",
    "    results = {}\n",
    "    \n",
    "    # Process each cohort\n",
    "    for cohort_name, cohort_df in cohort_dfs_dict.items():\n",
    "        print(f\"\\nProcessing {cohort_name}...\")\n",
    "        cohort_dir = os.path.join(output_dir, cohort_name)\n",
    "        os.makedirs(cohort_dir, exist_ok=True)\n",
    "        \n",
    "        # Load predictions\n",
    "        pred_file = os.path.join(predictions_dir, cohort_name, 'predictions.csv')\n",
    "        if not os.path.exists(pred_file):\n",
    "            print(f\"No predictions found for {cohort_name}, skipping...\")\n",
    "            continue\n",
    "            \n",
    "        predictions = pd.read_csv(pred_file, index_col=0)\n",
    "        \n",
    "        # Identify healthy subjects (those with non-NaN diet features)\n",
    "        healthy_mask = ~cohort_df[diet_columns].isna().all(axis=1)\n",
    "        \n",
    "        # Prepare data for plotting\n",
    "        plot_data = []\n",
    "        for feature in predictions.columns:\n",
    "            healthy_values = predictions[healthy_mask][feature]\n",
    "            disease_values = predictions[~healthy_mask][feature]\n",
    "            \n",
    "            plot_data.extend([\n",
    "                pd.DataFrame({\n",
    "                    'Feature': feature,\n",
    "                    'Group': 'Healthy',\n",
    "                    'Value': healthy_values\n",
    "                }),\n",
    "                pd.DataFrame({\n",
    "                    'Feature': feature,\n",
    "                    'Group': 'Disease',\n",
    "                    'Value': disease_values\n",
    "                })\n",
    "            ])\n",
    "        \n",
    "        plot_df = pd.concat(plot_data, ignore_index=True)\n",
    "        \n",
    "        stat_results = []\n",
    "        features = predictions.columns\n",
    "\n",
    "        for feature in features:\n",
    "            control_data  = predictions[healthy_mask][feature]\n",
    "            disease_data  = predictions[~healthy_mask][feature]\n",
    "        \n",
    "            # Mann-Whitney U (same as before)\n",
    "            statistic, pvalue = stats.mannwhitneyu(control_data, disease_data,\n",
    "                                                   alternative='two-sided')\n",
    "        \n",
    "            # t-test (same as before)\n",
    "            statistic_t_test, pvalue_t_test = stats.ttest_ind(control_data,\n",
    "                                                              disease_data,\n",
    "                                                              equal_var=True)\n",
    "        \n",
    "            # >>> NEW <<< median-based percent change\n",
    "            control_median  = control_data.median()\n",
    "            disease_median  = disease_data.median()\n",
    "            percent_change  = (disease_median - control_median) / control_median * 100\n",
    "        \n",
    "            # rank-biserial correlation (same as before)\n",
    "            effect_size = 2 * statistic / (len(control_data) * len(disease_data)) - 1\n",
    "        \n",
    "            stat_results.append({\n",
    "                'Feature'          : feature,\n",
    "                'Statistic'        : statistic,\n",
    "                'P_value'          : pvalue,\n",
    "                'Effect_size'      : effect_size,\n",
    "                'Statistic_t_test' : statistic_t_test,\n",
    "                'P_value_t_test'   : pvalue_t_test,\n",
    "                'Control_mean'     : control_data.mean(),\n",
    "                'Disease_mean'     : disease_data.mean(),\n",
    "                'Control_median'   : control_median,         # keep for reference\n",
    "                'Disease_median'   : disease_median,         #  \"\n",
    "                'Percent_change'   : percent_change,\n",
    "                'Control_size'     : len(control_data),\n",
    "                'Disease_size'     : len(disease_data)\n",
    "            })\n",
    "        \n",
    "        # Create DataFrame and apply FDR correction\n",
    "        stat_df = pd.DataFrame(stat_results)\n",
    "        _, adjusted_pvals, _, _ = multipletests(\n",
    "            stat_df['P_value'], \n",
    "            method='fdr_bh'\n",
    "        )\n",
    "        stat_df['FDR_adjusted_P'] = adjusted_pvals\n",
    "        \n",
    "        # Save statistical results\n",
    "        stat_df.to_csv(os.path.join(cohort_dir, 'statistical_comparison.csv'), index=False)\n",
    "        results[cohort_name] = stat_df\n",
    "        \n",
    "        # Generate plots based on plot_types parameter\n",
    "        if 'box' in plot_types:\n",
    "            create_boxplot(plot_df, stat_df, features, cohort_name, cohort_dir, figsize)\n",
    "        \n",
    "        if 'violin' in plot_types:\n",
    "            create_violinplot(plot_df, stat_df, features, cohort_name, cohort_dir, figsize)\n",
    "        \n",
    "        # Create summary of significant findings\n",
    "        summary_df = stat_df[stat_df['FDR_adjusted_P'] < 0.1].copy()\n",
    "        summary_df['Significance'] = summary_df['FDR_adjusted_P'].apply(\n",
    "            lambda x: '***' if x < 0.001 else ('**' if x < 0.01 else '*')\n",
    "        )\n",
    "        summary_df = summary_df.sort_values('FDR_adjusted_P')\n",
    "        \n",
    "        with open(os.path.join(cohort_dir, 'significant_findings.txt'), 'w') as f:\n",
    "            f.write(f\"Significant differences in {cohort_name}:\\n\")\n",
    "            f.write(f\"Total subjects: {len(predictions)}\\n\")\n",
    "            f.write(f\"Healthy subjects: {sum(healthy_mask)}\\n\")\n",
    "            f.write(f\"Disease subjects: {sum(~healthy_mask)}\\n\\n\")\n",
    "            \n",
    "            if len(summary_df) == 0:\n",
    "                f.write(\"No significant differences found after FDR correction.\\n\")\n",
    "            else:\n",
    "                for _, row in summary_df.iterrows():\n",
    "                    f.write(f\"{row['Feature']}:\\n\")\n",
    "                    f.write(f\"  Percent change: {row['Percent_change']:.1f}%\\n\")\n",
    "                    f.write(f\"  FDR-adjusted p-value: {row['FDR_adjusted_P']:.3e} {row['Significance']}\\n\")\n",
    "                    f.write(f\"  Effect size: {row['Effect_size']:.3f}\\n\")\n",
    "                    f.write(f\"  Means: Healthy={row['Control_mean']:.3f}, Disease={row['Disease_mean']:.3f}\\n\\n\")\n",
    "    \n",
    "    return results\n",
    "\n",
    "def create_boxplot(plot_df, stat_df, features, cohort_name, cohort_dir, figsize=(3, 2)):\n",
    "    \"\"\"\n",
    "    Create box and swarm plots and save to file.\n",
    "    \"\"\"\n",
    "    # First, rename \"Disease\" to \"Atypic\" in the dataframe\n",
    "    plot_df = plot_df.copy()\n",
    "    plot_df['Group'] = plot_df['Group'].replace('Disease', 'AD')\n",
    "    plot_df['Group'] = plot_df['Group'].replace('Healthy', 'HC')\n",
    "    \n",
    "    plt.figure(figsize=figsize)\n",
    "    \n",
    "    sns.set_style('whitegrid')\n",
    "    \n",
    "    # Define colors explicitly to ensure consistency\n",
    "    palette = {'HC': '#1f77b4', 'AD': '#ff7f0e'}  # Blue for Healthy, Orange for Atypic\n",
    "    \n",
    "    # Create box plot with a narrower width but hide from legend\n",
    "    ax = sns.boxplot(data=plot_df, x='Feature', y='Value', hue='Group',\n",
    "               showfliers=False, width=0.4, fill=False, legend=False, \n",
    "               palette=palette)\n",
    "    \n",
    "    # Make the box plot more transparent\n",
    "    import matplotlib as mpl\n",
    "    for patch in ax.artists:\n",
    "        fc = patch.get_facecolor()\n",
    "        patch.set_facecolor(mpl.colors.to_rgba(fc, 0.3))\n",
    "    \n",
    "    # Add stripplot with fixed jitter but also hide from legend\n",
    "    sns.stripplot(data=plot_df, x='Feature', y='Value', hue='Group',\n",
    "                 size=3, alpha=0.6, dodge=0.5, jitter=0.1, legend=False,\n",
    "                 palette=palette)  # Use same palette here\n",
    "    \n",
    "    # Add statistical annotations\n",
    "    add_stat_annotations(ax, plot_df, stat_df, features)\n",
    "    \n",
    "    plt.xlabel('')\n",
    "    plt.ylabel('Predicted Value (%)')\n",
    "    plt.xticks(rotation=45, ha='right')\n",
    "    \n",
    "    # Create a custom legend with colors matching the plot\n",
    "    from matplotlib.lines import Line2D\n",
    "    \n",
    "    # Create custom legend elements with explicit colors\n",
    "    custom_lines = [\n",
    "        Line2D([0], [0], color=palette['HC'], marker='o', linestyle='None', \n",
    "               markersize=6, label='HC'),\n",
    "        Line2D([0], [0], color=palette['AD'], marker='o', linestyle='None', \n",
    "               markersize=6, label='AD')\n",
    "    ]\n",
    "    \n",
    "    # Add the custom legend\n",
    "    ax.legend(handles=custom_lines, loc='best')\n",
    "    \n",
    "    # change the x axis ticks to be MPF, PF, UPF\n",
    "    ax.set_xticklabels(['MPF', 'PF', 'UPF'], rotation=45, ha='right')\n",
    "    \n",
    "    # Remove the grid\n",
    "    ax.grid(False)\n",
    "    \n",
    "    # Remove borders\n",
    "    sns.despine()\n",
    "    \n",
    "    # Adjust layout and save\n",
    "    plt.tight_layout()\n",
    "    plt.savefig(os.path.join(cohort_dir, 'feature_comparisons_boxplot.png'), \n",
    "                dpi=300, bbox_inches='tight')\n",
    "    # also save pdf\n",
    "    plt.savefig(os.path.join(cohort_dir, 'feature_comparisons_boxplot.pdf'), \n",
    "                dpi=300, bbox_inches='tight')\n",
    "    plt.close()\n",
    "    \n",
    "    \n",
    "def create_violinplot(plot_df, stat_df, features, cohort_name, cohort_dir, figsize=(15, 8)):\n",
    "    \"\"\"\n",
    "    Create violin and swarm plots and save to file.\n",
    "    \"\"\"\n",
    "    plt.figure(figsize=figsize)\n",
    "    \n",
    "    sns.set_style('whitegrid')\n",
    "    \n",
    "    # Create split violin plot with updated parameter\n",
    "    ax = sns.violinplot(data=plot_df, x='Feature', y='Value', hue='Group',\n",
    "                  density_norm='width', width=0.7, inner=\"quart\", cut=0,\n",
    "                  palette='pastel', alpha=1, split=True, gap=0.07)\n",
    "    \n",
    "    \n",
    "    # Add statistical annotations\n",
    "    add_stat_annotations(ax, plot_df, stat_df, features)\n",
    "    \n",
    "    plt.title(f'Predicted Feature Comparison (Violinplot) - {cohort_name}')\n",
    "    plt.xlabel('')\n",
    "    plt.ylabel('Predicted Value')\n",
    "    plt.xticks(rotation=45, ha='right')\n",
    "    \n",
    "    # add a constant to y limit to avoid cutting off the violin plot\n",
    "    y_min, y_max = plt.ylim()\n",
    "    plt.ylim(y_min, y_max + 0.1 * (y_max - y_min))\n",
    "    \n",
    "    # Fix the legend (avoid duplicate entries)\n",
    "    handles, labels = plt.gca().get_legend_handles_labels()\n",
    "    plt.legend(handles[:2], labels[:2], title='Group')\n",
    "    \n",
    "    # Adjust layout and save\n",
    "    plt.tight_layout()\n",
    "    plt.savefig(os.path.join(cohort_dir, 'feature_comparisons_violinplot.png'), \n",
    "                dpi=300, bbox_inches='tight')\n",
    "    plt.close()\n",
    "\n",
    "def add_stat_annotations(ax, plot_df, stat_df, features):\n",
    "    \"\"\"\n",
    "    Add significance stars and median-based percent change annotations.\n",
    "    Positive changes are prefixed with ?+?.\n",
    "    \"\"\"\n",
    "    for idx, feature in enumerate(features):\n",
    "        row = stat_df.loc[stat_df['Feature'] == feature].iloc[0]\n",
    "\n",
    "        # Significance stars\n",
    "        if   row['FDR_adjusted_P'] < 0.001: p_text = '***'\n",
    "        elif row['FDR_adjusted_P'] < 0.01:  p_text = '**'\n",
    "        elif row['FDR_adjusted_P'] < 0.1:   p_text = '*'\n",
    "        else:                               p_text = 'ns'\n",
    "\n",
    "        # Median % change with explicit sign\n",
    "        pct = row['Percent_change']\n",
    "        # pct_text = f'{pct:+.1f}%'\n",
    "\n",
    "        # annotation = f'{p_text}\\n{pct_text}'\n",
    "        annotation = f'{p_text}'\n",
    "\n",
    "        # Position annotation just above the current feature?s max\n",
    "        y_vals = plot_df.loc[plot_df['Feature'] == feature, 'Value']\n",
    "        y_pos  = y_vals.max() + (y_vals.max() - y_vals.min()) * 0.05\n",
    "\n",
    "        ax.text(idx, y_pos, annotation,\n",
    "                ha='center', va='bottom',\n",
    "                fontsize=11, fontweight='bold')  # emphasise the difference"
   ],
   "metadata": {
    "collapsed": false,
    "ExecuteTime": {
     "end_time": "2025-07-18T10:41:46.652405Z",
     "start_time": "2025-07-18T10:41:46.631089Z"
    }
   },
   "id": "3ae2ef0db0543861",
   "execution_count": 221
  },
  {
   "cell_type": "code",
   "outputs": [
    {
     "name": "stdout",
     "output_type": "stream",
     "text": [
      "\n",
      "Processing breast_cancer_cohort...\n"
     ]
    },
    {
     "name": "stderr",
     "output_type": "stream",
     "text": [
      "/tmp/ipykernel_44827/703172370.py:214: UserWarning: set_ticklabels() should only be used with a fixed number of ticks, i.e. after set_ticks() or using a FixedLocator.\n",
      "  ax.set_xticklabels(['MPF', 'PF', 'UPF'], rotation=45, ha='right')\n"
     ]
    },
    {
     "name": "stdout",
     "output_type": "stream",
     "text": [
      "\n",
      "Processing atopic_cohort...\n"
     ]
    },
    {
     "name": "stderr",
     "output_type": "stream",
     "text": [
      "/tmp/ipykernel_44827/703172370.py:214: UserWarning: set_ticklabels() should only be used with a fixed number of ticks, i.e. after set_ticks() or using a FixedLocator.\n",
      "  ax.set_xticklabels(['MPF', 'PF', 'UPF'], rotation=45, ha='right')\n"
     ]
    },
    {
     "name": "stdout",
     "output_type": "stream",
     "text": [
      "\n",
      "Processing pdac_cohort...\n"
     ]
    },
    {
     "name": "stderr",
     "output_type": "stream",
     "text": [
      "/tmp/ipykernel_44827/703172370.py:214: UserWarning: set_ticklabels() should only be used with a fixed number of ticks, i.e. after set_ticks() or using a FixedLocator.\n",
      "  ax.set_xticklabels(['MPF', 'PF', 'UPF'], rotation=45, ha='right')\n"
     ]
    }
   ],
   "source": [
    "output_path = DIET_PAPER_PATH + '/External_use_case/NOVA_final_for_paper'\n",
    "results = compare_predicted_features(\n",
    "    predictions_dir=os.path.join(output_path, 'diet_predictions_20250710_125448'),\n",
    "    cohort_dfs_dict=mixed_dfs,\n",
    "    diet_columns=nova_scores_cols,\n",
    "    output_dir=output_path,\n",
    "    figsize=(5, 5),\n",
    "    plot_types=['box', 'violin'])"
   ],
   "metadata": {
    "collapsed": false,
    "ExecuteTime": {
     "end_time": "2025-07-18T10:41:52.818767Z",
     "start_time": "2025-07-18T10:41:49.332826Z"
    }
   },
   "id": "45095484be74d3c8",
   "execution_count": 222
  },
  {
   "cell_type": "markdown",
   "source": [
    "### Metaboloc Age Analysis"
   ],
   "metadata": {
    "collapsed": false
   },
   "id": "e5258e06575478d8"
  },
  {
   "cell_type": "code",
   "outputs": [],
   "source": [
    "def analyze_age_predictions(csv_path):\n",
    "    \"\"\"\n",
    "    Analyze age predictions data:\n",
    "    1. Group participants into 2-year age bins based on true age values\n",
    "    2. Identify indices for top 10% and bottom 10% of predicted ages within each bin\n",
    "    3. Aggregate all top 10% and bottom 10% across all bins\n",
    "    \n",
    "    Args:\n",
    "        csv_path (str): Path to the CSV file\n",
    "        \n",
    "    Returns:\n",
    "        tuple: (age_bins_dict, top_10_percent_by_bin, bottom_10_percent_by_bin, \n",
    "                aggregated_top_10_percent, aggregated_bottom_10_percent)\n",
    "    \"\"\"\n",
    "    # Read the CSV file\n",
    "    df = pd.read_csv(csv_path)\n",
    "    \n",
    "    # 1. Create 2-year age bins based on true_values\n",
    "    # Create bins starting from 40 (known min) to 70 (known max) with 2-year intervals\n",
    "    min_age = 40\n",
    "    max_age = 70\n",
    "    \n",
    "    # Initialize dictionaries to store results\n",
    "    age_bins_dict = {}  # Store all indices in each bin\n",
    "    top_10_percent_by_bin = {}  # Store top 10% indices in each bin\n",
    "    bottom_10_percent_by_bin = {}  # Store bottom 10% indices in each bin\n",
    "    aggregated_top_10_percent = []  # Store all top 10% indices\n",
    "    aggregated_bottom_10_percent = []  # Store all bottom 10% indices\n",
    "    \n",
    "    # Create bin labels\n",
    "    bin_labels = []\n",
    "    for bin_start in range(min_age, max_age, 2):\n",
    "        bin_name = f\"{bin_start}-{bin_start+1}\"\n",
    "        bin_labels.append(bin_name)\n",
    "        age_bins_dict[bin_name] = []\n",
    "        top_10_percent_by_bin[bin_name] = []\n",
    "        bottom_10_percent_by_bin[bin_name] = []\n",
    "    \n",
    "    # Manually assign each row to its appropriate bin\n",
    "    for index, row in df.iterrows():\n",
    "        age = row['true_values']\n",
    "        bin_start = int(np.floor(age / 2) * 2)\n",
    "        bin_name = f\"{bin_start}-{bin_start+1}\"\n",
    "        \n",
    "        if bin_name in age_bins_dict:\n",
    "            age_bins_dict[bin_name].append(row['index'])\n",
    "    \n",
    "    # Process each bin to find top and bottom 10%\n",
    "    for bin_name in bin_labels:\n",
    "        # Get indices for this bin\n",
    "        bin_indices = age_bins_dict[bin_name]\n",
    "        \n",
    "        if len(bin_indices) == 0:\n",
    "            continue\n",
    "            \n",
    "        # Get predictions for these indices\n",
    "        bin_df = df[df['index'].isin(bin_indices)]\n",
    "        \n",
    "        # If fewer than 10 entries in the bin, just take the top 1 and bottom 1\n",
    "        if len(bin_df) < 10:\n",
    "            min_index = bin_df['predictions'].idxmin()\n",
    "            max_index = bin_df['predictions'].idxmax()\n",
    "            bottom_10_percent_by_bin[bin_name] = [bin_df.loc[min_index, 'index']]\n",
    "            top_10_percent_by_bin[bin_name] = [bin_df.loc[max_index, 'index']]\n",
    "        else:\n",
    "            # Calculate percentiles for this bin\n",
    "            bin_bottom_threshold = bin_df['predictions'].quantile(0.1)\n",
    "            bin_top_threshold = bin_df['predictions'].quantile(0.9)\n",
    "            \n",
    "            # Get indices for top and bottom 10% in this bin\n",
    "            bin_bottom_indices = bin_df[bin_df['predictions'] <= bin_bottom_threshold]['index'].tolist()\n",
    "            bin_top_indices = bin_df[bin_df['predictions'] >= bin_top_threshold]['index'].tolist()\n",
    "            \n",
    "            bottom_10_percent_by_bin[bin_name] = bin_bottom_indices\n",
    "            top_10_percent_by_bin[bin_name] = bin_top_indices\n",
    "        \n",
    "        # Add to aggregated lists\n",
    "        aggregated_top_10_percent.extend(top_10_percent_by_bin[bin_name])\n",
    "        aggregated_bottom_10_percent.extend(bottom_10_percent_by_bin[bin_name])\n",
    "    \n",
    "    # Print summary information\n",
    "    print(f\"Total participants: {len(df)}\")\n",
    "    print(f\"Number of age bins: {len([b for b in age_bins_dict.keys() if age_bins_dict[b]])}\")\n",
    "    \n",
    "    # Print distribution of participants in age bins\n",
    "    print(\"\\nDistribution across age bins:\")\n",
    "    for bin_name in bin_labels:\n",
    "        if bin_name in age_bins_dict:\n",
    "            total_in_bin = len(age_bins_dict[bin_name])\n",
    "            top_in_bin = len(top_10_percent_by_bin[bin_name])\n",
    "            bottom_in_bin = len(bottom_10_percent_by_bin[bin_name])\n",
    "            \n",
    "            print(f\"  {bin_name}: {total_in_bin} participants, \"\n",
    "                  f\"Top 10%: {top_in_bin}, Bottom 10%: {bottom_in_bin}\")\n",
    "    \n",
    "    print(f\"\\nTotal in aggregated top 10%: {len(aggregated_top_10_percent)}\")\n",
    "    print(f\"Total in aggregated bottom 10%: {len(aggregated_bottom_10_percent)}\")\n",
    "    \n",
    "    return (age_bins_dict, \n",
    "            top_10_percent_by_bin, \n",
    "            bottom_10_percent_by_bin, \n",
    "            aggregated_top_10_percent, \n",
    "            aggregated_bottom_10_percent)"
   ],
   "metadata": {
    "collapsed": false,
    "ExecuteTime": {
     "end_time": "2025-05-19T09:50:09.482804Z",
     "start_time": "2025-05-19T09:50:09.474016Z"
    }
   },
   "id": "494c6a73c2113a13",
   "execution_count": 442
  },
  {
   "cell_type": "code",
   "outputs": [
    {
     "name": "stdout",
     "output_type": "stream",
     "text": [
      "Total participants: 5149\n",
      "Number of age bins: 15\n",
      "\n",
      "Distribution across age bins:\n",
      "  40-41: 363 participants, Top 10%: 37, Bottom 10%: 37\n",
      "  42-43: 392 participants, Top 10%: 40, Bottom 10%: 40\n",
      "  44-45: 473 participants, Top 10%: 48, Bottom 10%: 48\n",
      "  46-47: 485 participants, Top 10%: 49, Bottom 10%: 49\n",
      "  48-49: 484 participants, Top 10%: 49, Bottom 10%: 49\n",
      "  50-51: 490 participants, Top 10%: 49, Bottom 10%: 49\n",
      "  52-53: 464 participants, Top 10%: 47, Bottom 10%: 47\n",
      "  54-55: 396 participants, Top 10%: 40, Bottom 10%: 40\n",
      "  56-57: 347 participants, Top 10%: 35, Bottom 10%: 35\n",
      "  58-59: 287 participants, Top 10%: 29, Bottom 10%: 29\n",
      "  60-61: 259 participants, Top 10%: 26, Bottom 10%: 26\n",
      "  62-63: 204 participants, Top 10%: 21, Bottom 10%: 21\n",
      "  64-65: 186 participants, Top 10%: 19, Bottom 10%: 19\n",
      "  66-67: 144 participants, Top 10%: 15, Bottom 10%: 15\n",
      "  68-69: 126 participants, Top 10%: 13, Bottom 10%: 13\n",
      "\n",
      "Total in aggregated top 10%: 517\n",
      "Total in aggregated bottom 10%: 517\n"
     ]
    }
   ],
   "source": [
    "# age_predictions_path = DIET_PAPER_PATH + '/HR_analysis/x_hr_clean_ranked_rerun/y_hr_clean_ranked/results/age/predictions_age.csv'\n",
    "age_predictions_path = DIET_PAPER_PATH + '/MS_only/x_hr_clean_ranked_filtered_wfpb/y_hr_clean_ranked/results/age/predictions_age.csv'\n",
    "res_age_bins = analyze_age_predictions(age_predictions_path)"
   ],
   "metadata": {
    "collapsed": false,
    "ExecuteTime": {
     "end_time": "2025-05-19T09:50:10.482234Z",
     "start_time": "2025-05-19T09:50:10.079883Z"
    }
   },
   "id": "953817ff7e0fb89d",
   "execution_count": 443
  },
  {
   "cell_type": "code",
   "outputs": [],
   "source": [
    "test_table = pd.read_csv(age_predictions_path)"
   ],
   "metadata": {
    "collapsed": false,
    "ExecuteTime": {
     "end_time": "2025-05-19T09:50:12.260628Z",
     "start_time": "2025-05-19T09:50:12.254223Z"
    }
   },
   "id": "fe7b11f6814dd75a",
   "execution_count": 444
  },
  {
   "cell_type": "code",
   "outputs": [
    {
     "name": "stdout",
     "output_type": "stream",
     "text": [
      "\n",
      "Sample of top 10% indices from 40-41 age bin (first 5):\n",
      "['10K_4974655358', '10K_4875180854', '10K_1140716451', '10K_6539266103', '10K_1989976779']\n",
      "\n",
      "Sample of aggregated top 10% indices (first 5):\n",
      "['10K_4974655358', '10K_4875180854', '10K_1140716451', '10K_6539266103', '10K_1989976779']\n"
     ]
    }
   ],
   "source": [
    "age_bins_dict, top_by_bin, bottom_by_bin, agg_top, agg_bottom = res_age_bins\n",
    "\n",
    "# Print sample results\n",
    "print(\"\\nSample of top 10% indices from 40-41 age bin (first 5):\")\n",
    "if \"40-41\" in top_by_bin and top_by_bin[\"40-41\"]:\n",
    "    print(top_by_bin[\"40-41\"][:5])\n",
    "\n",
    "print(\"\\nSample of aggregated top 10% indices (first 5):\")\n",
    "print(agg_top[:5])"
   ],
   "metadata": {
    "collapsed": false,
    "ExecuteTime": {
     "end_time": "2025-03-18T15:31:11.248985Z",
     "start_time": "2025-03-18T15:31:11.243660Z"
    }
   },
   "id": "22aa0ca26a9f0570",
   "execution_count": 382
  },
  {
   "cell_type": "code",
   "outputs": [],
   "source": [
    "def compare_age_prediction_quantiles(\n",
    "    csv_path, \n",
    "    diet_features_path, \n",
    "    top_indices, \n",
    "    bottom_indices,\n",
    "    feature_columns=None,\n",
    "    output_dir=\"quantile_comparison_results\",\n",
    "    figsize=(15, 10)\n",
    "):\n",
    "    \"\"\"\n",
    "    Compare diet features between top and bottom quantiles of age predictions.\n",
    "    \n",
    "    Args:\n",
    "        csv_path (str): Path to the original CSV with index, true_values, and predictions\n",
    "        diet_features_path (str): Path to the diet features pickle file with matching indices\n",
    "        top_indices (list): List of indices in the top quantile\n",
    "        bottom_indices (list): List of indices in the bottom quantile\n",
    "        feature_columns (list, optional): Specific diet feature columns to analyze\n",
    "                                         If None, all columns except index are used\n",
    "        output_dir (str): Directory to save results\n",
    "        figsize (tuple): Figure size for plots\n",
    "        \n",
    "    Returns:\n",
    "        dict: Dictionary containing the statistical comparison results\n",
    "    \"\"\"\n",
    "    # Create output directory if it doesn't exist\n",
    "    os.makedirs(output_dir, exist_ok=True)\n",
    "    \n",
    "    # Read the data files\n",
    "    predictions_df = pd.read_csv(csv_path)\n",
    "    \n",
    "    # Load diet features from pickle file using pandas\n",
    "    diet_df = pd.read_pickle(diet_features_path)\n",
    "    \n",
    "    # Ensure 'index' is used as the index for predictions\n",
    "    predictions_df.set_index('index', inplace=True)\n",
    "    \n",
    "    # Make sure diet_df has an index\n",
    "    if not isinstance(diet_df.index, pd.Index):\n",
    "        raise ValueError(\"Diet features DataFrame must have an index\")\n",
    "    \n",
    "    # Get the features to analyze\n",
    "    if feature_columns is None:\n",
    "        feature_columns = diet_df.columns.tolist()\n",
    "    \n",
    "    # Create masks for top and bottom quantiles\n",
    "    # Filter for indices that exist in both datasets\n",
    "    valid_top_indices = [idx for idx in top_indices if idx in diet_df.index]\n",
    "    valid_bottom_indices = [idx for idx in bottom_indices if idx in diet_df.index]\n",
    "    \n",
    "    # Report on indices that were dropped\n",
    "    dropped_top = set(top_indices) - set(valid_top_indices)\n",
    "    dropped_bottom = set(bottom_indices) - set(valid_bottom_indices)\n",
    "    \n",
    "    if dropped_top:\n",
    "        print(f\"Warning: {len(dropped_top)} indices from top quantile not found in diet features\")\n",
    "        print(f\"First few missing: {list(dropped_top)[:5]}\")\n",
    "    \n",
    "    if dropped_bottom:\n",
    "        print(f\"Warning: {len(dropped_bottom)} indices from bottom quantile not found in diet features\")\n",
    "        print(f\"First few missing: {list(dropped_bottom)[:5]}\")\n",
    "    \n",
    "    # Get the associated diet features for each group\n",
    "    top_features = diet_df.loc[valid_top_indices]\n",
    "    bottom_features = diet_df.loc[valid_bottom_indices]\n",
    "    \n",
    "    # Check that we have data\n",
    "    print(f\"Top quantile size: {len(top_features)}\")\n",
    "    print(f\"Bottom quantile size: {len(bottom_features)}\")\n",
    "    \n",
    "    # Prepare data for plotting\n",
    "    plot_data = []\n",
    "    for feature in feature_columns:\n",
    "        top_values = top_features[feature]\n",
    "        bottom_values = bottom_features[feature]\n",
    "        \n",
    "        plot_data.extend([\n",
    "            pd.DataFrame({\n",
    "                'Feature': feature,\n",
    "                'Group': 'Top Quantile',\n",
    "                'Value': top_values\n",
    "            }),\n",
    "            pd.DataFrame({\n",
    "                'Feature': feature,\n",
    "                'Group': 'Bottom Quantile',\n",
    "                'Value': bottom_values\n",
    "            })\n",
    "        ])\n",
    "    \n",
    "    plot_df = pd.concat(plot_data, ignore_index=True)\n",
    "    \n",
    "    # Statistical comparison\n",
    "    stat_results = []\n",
    "    \n",
    "    for feature in feature_columns:\n",
    "        top_data = top_features[feature]\n",
    "        bottom_data = bottom_features[feature]\n",
    "        \n",
    "        # Skip features with insufficient data\n",
    "        if len(top_data) < 2 or len(bottom_data) < 2:\n",
    "            continue\n",
    "            \n",
    "        # Handle non-numeric data\n",
    "        if not pd.api.types.is_numeric_dtype(top_data):\n",
    "            continue\n",
    "            \n",
    "        # Remove NaN values\n",
    "        top_data = top_data.dropna()\n",
    "        bottom_data = bottom_data.dropna()\n",
    "        \n",
    "        # Skip if not enough data after NaN removal\n",
    "        if len(top_data) < 2 or len(bottom_data) < 2:\n",
    "            continue\n",
    "        \n",
    "        # Mann-Whitney U test (non-parametric)\n",
    "        try:\n",
    "            statistic, pvalue = stats.mannwhitneyu(\n",
    "                top_data, \n",
    "                bottom_data,\n",
    "                alternative='two-sided'\n",
    "            )\n",
    "            \n",
    "            # Calculate effect size (rank-biserial correlation)\n",
    "            effect_size = 2 * statistic / (len(top_data) * len(bottom_data)) - 1\n",
    "            \n",
    "            # Calculate percent change\n",
    "            top_mean = top_data.mean()\n",
    "            bottom_mean = bottom_data.mean()\n",
    "            \n",
    "            if bottom_mean != 0:\n",
    "                percent_change = ((top_mean - bottom_mean) / bottom_mean * 100)\n",
    "            else:\n",
    "                percent_change = np.nan\n",
    "                \n",
    "            stat_results.append({\n",
    "                'Feature': feature,\n",
    "                'Statistic': statistic,\n",
    "                'P_value': pvalue,\n",
    "                'Effect_size': effect_size,\n",
    "                'Top_mean': top_mean,\n",
    "                'Bottom_mean': bottom_mean,\n",
    "                'Top_size': len(top_data),\n",
    "                'Bottom_size': len(bottom_data),\n",
    "                'Percent_change': percent_change\n",
    "            })\n",
    "        except Exception as e:\n",
    "            print(f\"Error analyzing feature {feature}: {str(e)}\")\n",
    "    \n",
    "    # Create DataFrame and apply FDR correction\n",
    "    if not stat_results:\n",
    "        print(\"No valid statistical comparisons could be performed.\")\n",
    "        return None\n",
    "        \n",
    "    stat_df = pd.DataFrame(stat_results)\n",
    "    \n",
    "    # Apply FDR correction if we have multiple tests\n",
    "    if len(stat_df) > 1:\n",
    "        _, adjusted_pvals, _, _ = multipletests(\n",
    "            stat_df['P_value'], \n",
    "            method='fdr_bh'\n",
    "        )\n",
    "        stat_df['FDR_adjusted_P'] = adjusted_pvals\n",
    "    else:\n",
    "        stat_df['FDR_adjusted_P'] = stat_df['P_value']\n",
    "    \n",
    "    # Save statistical results\n",
    "    stat_df.to_csv(os.path.join(output_dir, 'statistical_comparison.csv'), index=False)\n",
    "    \n",
    "    # Create single plot with all features (only plotting features that had valid statistics)\n",
    "    valid_features = stat_df['Feature'].tolist()\n",
    "    valid_plot_df = plot_df[plot_df['Feature'].isin(valid_features)]\n",
    "    \n",
    "    # Split into multiple plots if there are too many features\n",
    "    max_features_per_plot = 8\n",
    "    for i in range(0, len(valid_features), max_features_per_plot):\n",
    "        batch_features = valid_features[i:i+max_features_per_plot]\n",
    "        batch_plot_df = valid_plot_df[valid_plot_df['Feature'].isin(batch_features)]\n",
    "        \n",
    "        plt.figure(figsize=figsize)\n",
    "        \n",
    "        # Create box plot with jittered points\n",
    "        sns.boxplot(data=batch_plot_df, x='Feature', y='Value', hue='Group',\n",
    "                   showfliers=False, width=0.7)\n",
    "        \n",
    "        sns.stripplot(data=batch_plot_df, x='Feature', y='Value', hue='Group',\n",
    "                     size=4, alpha=0.3, dodge=True, jitter=0.2)\n",
    "        \n",
    "        # Add statistical annotations\n",
    "        for idx, feature in enumerate(batch_features):\n",
    "            test_result = stat_df[stat_df['Feature'] == feature].iloc[0]\n",
    "            \n",
    "            # Format p-value annotation\n",
    "            if test_result['FDR_adjusted_P'] < 0.001:\n",
    "                p_text = '***'\n",
    "            elif test_result['FDR_adjusted_P'] < 0.01:\n",
    "                p_text = '**'\n",
    "            elif test_result['FDR_adjusted_P'] < 0.05:\n",
    "                p_text = '*'\n",
    "            else:\n",
    "                p_text = 'ns'\n",
    "            \n",
    "            # Add sample sizes\n",
    "            n_text = f'n={test_result[\"Top_size\"]}/{test_result[\"Bottom_size\"]}'\n",
    "            \n",
    "            # Add percent change\n",
    "            pct_change = test_result['Percent_change']\n",
    "            annotation = f'{p_text}\\n{pct_change:.1f}%\\n{n_text}'\n",
    "            \n",
    "            # Position annotation\n",
    "            y_max = batch_plot_df[batch_plot_df['Feature'] == feature]['Value'].max()\n",
    "            y_min = batch_plot_df[batch_plot_df['Feature'] == feature]['Value'].min()\n",
    "            y_range = y_max - y_min\n",
    "            y_pos = y_max + y_range * 0.05\n",
    "            \n",
    "            plt.text(idx, y_pos, annotation, ha='center', va='bottom')\n",
    "        \n",
    "        plt.title(f'Feature Comparison Between Age Prediction Quantiles (Batch {i//max_features_per_plot + 1})')\n",
    "        plt.xlabel('Features')\n",
    "        plt.ylabel('Value')\n",
    "        plt.xticks(rotation=45, ha='right')\n",
    "        plt.legend(title='Group')\n",
    "        \n",
    "        # Adjust layout and save\n",
    "        plt.tight_layout()\n",
    "        plt.savefig(os.path.join(output_dir, f'feature_comparisons_batch_{i//max_features_per_plot + 1}.png'), \n",
    "                    dpi=300, bbox_inches='tight')\n",
    "        plt.close()\n",
    "    \n",
    "    # Create summary of significant findings\n",
    "    summary_df = stat_df[stat_df['FDR_adjusted_P'] < 0.05].copy()\n",
    "    summary_df['Significance'] = summary_df['FDR_adjusted_P'].apply(\n",
    "        lambda x: '***' if x < 0.001 else ('**' if x < 0.01 else '*')\n",
    "    )\n",
    "    summary_df = summary_df.sort_values('FDR_adjusted_P')\n",
    "    \n",
    "    with open(os.path.join(output_dir, 'significant_findings.txt'), 'w') as f:\n",
    "        f.write(f\"Significant differences between age prediction quantiles:\\n\")\n",
    "        f.write(f\"Top quantile subjects: {len(top_features)} (from {len(top_indices)} original indices)\\n\")\n",
    "        f.write(f\"Bottom quantile subjects: {len(bottom_features)} (from {len(bottom_indices)} original indices)\\n\\n\")\n",
    "        \n",
    "        if len(summary_df) == 0:\n",
    "            f.write(\"No significant differences found after FDR correction.\\n\")\n",
    "        else:\n",
    "            for _, row in summary_df.iterrows():\n",
    "                f.write(f\"{row['Feature']}:\\n\")\n",
    "                f.write(f\"  Percent change: {row['Percent_change']:.1f}%\\n\")\n",
    "                f.write(f\"  FDR-adjusted p-value: {row['FDR_adjusted_P']:.3e} {row['Significance']}\\n\")\n",
    "                f.write(f\"  Effect size: {row['Effect_size']:.3f}\\n\")\n",
    "                f.write(f\"  Means: Top={row['Top_mean']:.3f}, Bottom={row['Bottom_mean']:.3f}\\n\\n\")\n",
    "    \n",
    "    return {\n",
    "        'statistics': stat_df,\n",
    "        'significant_findings': summary_df\n",
    "    }\n"
   ],
   "metadata": {
    "collapsed": false,
    "ExecuteTime": {
     "end_time": "2025-03-18T15:31:17.011244Z",
     "start_time": "2025-03-18T15:31:16.987429Z"
    }
   },
   "id": "6908fcb049250d41",
   "execution_count": 383
  },
  {
   "cell_type": "code",
   "outputs": [
    {
     "name": "stdout",
     "output_type": "stream",
     "text": [
      "Warning: 79 indices from top quantile not found in diet features\n",
      "First few missing: ['10K_2174818250', '10K_5126481658', '10K_9040790933', '10K_2632144040', '10K_5044072221']\n",
      "Warning: 62 indices from bottom quantile not found in diet features\n",
      "First few missing: ['10K_2684386240', '10K_6846819079', '10K_3577172629', '10K_3396023280', '10K_6189850047']\n",
      "Top quantile size: 438\n",
      "Bottom quantile size: 455\n"
     ]
    },
    {
     "data": {
      "text/plain": "{'statistics':                     Feature  Statistic   P_value  Effect_size  Top_mean  \\\n 0         med_score_per_day   116048.0  0.000021     0.164614  0.489348   \n 1       paleo_score_per_day   107713.0  0.036221     0.080967  0.110033   \n 2  vegetarian_score_per_day   113550.0  0.000308     0.139545  0.829414   \n 3        wfpb_score_per_day   115245.0  0.000052     0.156556  0.260262   \n 4       vegan_score_per_day   111124.0  0.002892     0.115199  0.578475   \n 5   carnivore_score_per_day   105562.0  0.124665     0.059381  0.237793   \n \n    Bottom_mean  Top_size  Bottom_size  Percent_change  FDR_adjusted_P  \n 0     0.438606       438          455       11.568996        0.000124  \n 1     0.099496       438          455       10.590405        0.043465  \n 2     0.807144       438          455        2.759037        0.000616  \n 3     0.217333       438          455       19.752658        0.000155  \n 4     0.554128       438          455        4.393779        0.004338  \n 5     0.231122       438          455        2.886541        0.124665  ,\n 'significant_findings':                     Feature  Statistic   P_value  Effect_size  Top_mean  \\\n 0         med_score_per_day   116048.0  0.000021     0.164614  0.489348   \n 3        wfpb_score_per_day   115245.0  0.000052     0.156556  0.260262   \n 2  vegetarian_score_per_day   113550.0  0.000308     0.139545  0.829414   \n 4       vegan_score_per_day   111124.0  0.002892     0.115199  0.578475   \n 1       paleo_score_per_day   107713.0  0.036221     0.080967  0.110033   \n \n    Bottom_mean  Top_size  Bottom_size  Percent_change  FDR_adjusted_P  \\\n 0     0.438606       438          455       11.568996        0.000124   \n 3     0.217333       438          455       19.752658        0.000155   \n 2     0.807144       438          455        2.759037        0.000616   \n 4     0.554128       438          455        4.393779        0.004338   \n 1     0.099496       438          455       10.590405        0.043465   \n \n   Significance  \n 0          ***  \n 3          ***  \n 2          ***  \n 4           **  \n 1            *  }"
     },
     "execution_count": 385,
     "metadata": {},
     "output_type": "execute_result"
    }
   ],
   "source": [
    "compare_age_prediction_quantiles(\n",
    "    csv_path=age_predictions_path,\n",
    "    diet_features_path= tomer_dir + '/diet_features.pkl',\n",
    "    top_indices=agg_top,\n",
    "    bottom_indices=agg_bottom,\n",
    "    feature_columns=diet_scores,\n",
    "    output_dir=DIET_PAPER_PATH + '/External_use_case/Age_quantile_comparison_wfpb'\n",
    ")"
   ],
   "metadata": {
    "collapsed": false,
    "ExecuteTime": {
     "end_time": "2025-03-18T15:31:44.600503Z",
     "start_time": "2025-03-18T15:31:43.024055Z"
    }
   },
   "id": "33dcbcfbce13e316",
   "execution_count": 385
  },
  {
   "cell_type": "markdown",
   "source": [
    "## Breast Cancer BreakPoint Analysis"
   ],
   "metadata": {
    "collapsed": false
   },
   "id": "c2b7c75e9daf425b"
  },
  {
   "cell_type": "code",
   "outputs": [],
   "source": [
    "# load metadata\n",
    "bc_metadata = pd.read_excel('./breast_cancer_break_point/breacpntdata/ITT&PerProtocol.xlsx')"
   ],
   "metadata": {
    "collapsed": false,
    "ExecuteTime": {
     "end_time": "2025-07-10T10:23:36.534014Z",
     "start_time": "2025-07-10T10:23:36.483558Z"
    }
   },
   "id": "4e6662d64a0bca6",
   "execution_count": 163
  },
  {
   "cell_type": "code",
   "outputs": [],
   "source": [
    "plate1_bc_metadata = pd.read_excel('./breast_cancer_break_point/breacpntdata/BC_Serum samples_FinalVersionPlateLayouts.xlsx', sheet_name='BCS_Plate1')\n",
    "plate2_bc_metadata = pd.read_excel('./breast_cancer_break_point/breacpntdata/BC_Serum samples_FinalVersionPlateLayouts.xlsx', sheet_name='BCS_Plate2')\n",
    "plate3_bc_metadata = pd.read_excel('./breast_cancer_break_point/breacpntdata/BC_Serum samples_FinalVersionPlateLayouts.xlsx', sheet_name='BCS_Plate3_79_Samples')"
   ],
   "metadata": {
    "collapsed": false,
    "ExecuteTime": {
     "end_time": "2025-07-10T10:23:36.887387Z",
     "start_time": "2025-07-10T10:23:36.730873Z"
    }
   },
   "id": "37fd0b0d8d3ef881",
   "execution_count": 164
  },
  {
   "cell_type": "code",
   "outputs": [],
   "source": [
    "# concat all plates\n",
    "bc_plastes_metadata = pd.concat([plate1_bc_metadata, plate2_bc_metadata, plate3_bc_metadata])"
   ],
   "metadata": {
    "collapsed": false,
    "ExecuteTime": {
     "end_time": "2025-07-10T10:23:36.902632Z",
     "start_time": "2025-07-10T10:23:36.898745Z"
    }
   },
   "id": "7a0311441ab3ceff",
   "execution_count": 165
  },
  {
   "cell_type": "code",
   "outputs": [],
   "source": [
    "bc_plastes_metadata.dropna(subset=['Sample ID', 'Registration Number '], inplace=True)"
   ],
   "metadata": {
    "collapsed": false,
    "ExecuteTime": {
     "end_time": "2025-07-10T10:23:37.082131Z",
     "start_time": "2025-07-10T10:23:37.078988Z"
    }
   },
   "id": "c65a68595fc362a5",
   "execution_count": 166
  },
  {
   "cell_type": "code",
   "outputs": [],
   "source": [
    "# transform Registration Number to int\n",
    "bc_plastes_metadata['Registration Number '] = bc_plastes_metadata['Registration Number '].astype(int)"
   ],
   "metadata": {
    "collapsed": false,
    "ExecuteTime": {
     "end_time": "2025-07-10T10:23:37.255490Z",
     "start_time": "2025-07-10T10:23:37.253268Z"
    }
   },
   "id": "d9239be2cbcce9f4",
   "execution_count": 167
  },
  {
   "cell_type": "code",
   "outputs": [
    {
     "data": {
      "text/plain": "dtype('O')"
     },
     "execution_count": 168,
     "metadata": {},
     "output_type": "execute_result"
    }
   ],
   "source": [
    "bc_plastes_metadata['Sample ID'].dtype"
   ],
   "metadata": {
    "collapsed": false,
    "ExecuteTime": {
     "end_time": "2025-07-10T10:23:37.415026Z",
     "start_time": "2025-07-10T10:23:37.412137Z"
    }
   },
   "id": "67858fe4a07ac6c2",
   "execution_count": 168
  },
  {
   "cell_type": "code",
   "outputs": [],
   "source": [
    "# take all rows with Sample ID that contains '.1'\n",
    "bc_plastes_metadata_baseline = bc_plastes_metadata[bc_plastes_metadata['Sample ID'].astype(str).str.endswith('.1')]\n",
    "bc_plastes_metadata_followup = bc_plastes_metadata[bc_plastes_metadata['Sample ID'].astype(str).str.endswith('.2')]"
   ],
   "metadata": {
    "collapsed": false,
    "ExecuteTime": {
     "end_time": "2025-07-10T10:23:38.440865Z",
     "start_time": "2025-07-10T10:23:38.436403Z"
    }
   },
   "id": "61a9d814d607cb51",
   "execution_count": 169
  },
  {
   "cell_type": "code",
   "outputs": [],
   "source": [
    "# keep only rows with Registration Number that are present both in baseline and followup\n",
    "bc_plastes_metadata_baseline = bc_plastes_metadata_baseline[bc_plastes_metadata_baseline['Registration Number '].isin(bc_plastes_metadata_followup['Registration Number '])]\n",
    "bc_plastes_metadata_followup = bc_plastes_metadata_followup[bc_plastes_metadata_followup['Registration Number '].isin(bc_plastes_metadata_baseline['Registration Number '])]"
   ],
   "metadata": {
    "collapsed": false,
    "ExecuteTime": {
     "end_time": "2025-07-10T10:23:38.962816Z",
     "start_time": "2025-07-10T10:23:38.958843Z"
    }
   },
   "id": "4463df4cf6a1f69d",
   "execution_count": 170
  },
  {
   "cell_type": "code",
   "outputs": [],
   "source": [
    "bc_metadata_merged_followup = bc_metadata.merge(bc_plastes_metadata_followup[['Registration Number ', 'Updated Tube Barcode']], left_on='RegistrationCode', right_on='Registration Number ', how='inner')\n",
    "bc_metadata_merged_baseline = bc_metadata.merge(bc_plastes_metadata_baseline[['Registration Number ', 'Updated Tube Barcode']], left_on='RegistrationCode', right_on='Registration Number ', how='inner')"
   ],
   "metadata": {
    "collapsed": false,
    "ExecuteTime": {
     "end_time": "2025-07-10T10:23:39.406846Z",
     "start_time": "2025-07-10T10:23:39.402074Z"
    }
   },
   "id": "bf19bc6f12a2d919",
   "execution_count": 171
  },
  {
   "cell_type": "code",
   "outputs": [
    {
     "data": {
      "text/plain": "    Unnamed: 0  RegistrationCode  Record  T staging   ProcessProfiling  Round  \\\n0            0           3556376       1         1.0               1.0      1   \n1            1           3663375       2         1.0               1.0      2   \n2            2           3289031       3         1.0               1.0      2   \n3            4           3494211       5         1.0               1.0      2   \n4            5           3592069       6         2.0               1.0      2   \n..         ...               ...     ...         ...               ...    ...   \n94         131           3459719     133         2.0               NaN     29   \n95         132           3594946     134         1.0               NaN     30   \n96         135           3014360     137         1.0               NaN     30   \n97         136           3141162     138         3.0               NaN     30   \n98         138           3825879     140         1.0               NaN     30   \n\n    Endocrine treatment  Menapausal status  chemotherapy    Predictor  ...  \\\n0                     0                  0               1        NaN  ...   \n1                     1                  0               1        NaN  ...   \n2                     0                  1               0        NaN  ...   \n3                     0                  1               0        NaN  ...   \n4                     0                  0               1        NaN  ...   \n..                  ...                ...             ...        ...  ...   \n94                    0                  1               0        NaN  ...   \n95                    0                  1               0        NaN  ...   \n96                    0                  1               0        NaN  ...   \n97                    0                  0               1        NaN  ...   \n98                    0                  1               0        NaN  ...   \n\n    Cholesterol, total   mg/dl Triglycerides  mg/dl  \\\n0                        146.0                 47.0   \n1                        169.0                142.0   \n2                        200.0                100.0   \n3                        192.0                108.0   \n4                        161.0                122.0   \n..                         ...                  ...   \n94                         NaN                  NaN   \n95                         NaN                  NaN   \n96                         NaN                  NaN   \n97                         NaN                  NaN   \n98                         NaN                  NaN   \n\n    HDL - Cholesterol, direct  mg/dl  LDL - Cholesterol, direct  mg/dl  \\\n0                               56.0                              83.0   \n1                               50.0                             104.0   \n2                               57.0                             137.0   \n3                               70.0                             112.0   \n4                               54.0                              98.0   \n..                               ...                               ...   \n94                               NaN                               NaN   \n95                               NaN                               NaN   \n96                               NaN                               NaN   \n97                               NaN                               NaN   \n98                               NaN                               NaN   \n\n    Glucose - Blood  mg/dl HGB  g/dl  HbA1C % ln_involvment  \\\n0                     65.0     11.84      4.3           1.0   \n1                     83.0     14.24      4.8           0.0   \n2                    120.0     14.01      5.5           0.0   \n3                     93.0     11.97      5.9           0.0   \n4                     92.0     13.43      5.0           1.0   \n..                     ...       ...      ...           ...   \n94                     NaN       NaN      NaN           0.0   \n95                     NaN       NaN      NaN           NaN   \n96                     NaN       NaN      NaN           NaN   \n97                     NaN       NaN      NaN           NaN   \n98                     NaN       NaN      NaN           NaN   \n\n    Registration Number   Updated Tube Barcode  \n0                3556376          LV1054454103  \n1                3663375          LV1031617420  \n2                3289031          LV1054454127  \n3                3494211          LV1054454151  \n4                3592069          LV1054454163  \n..                   ...                   ...  \n94               3459719          LV1055623194  \n95               3594946          LV1055623218  \n96               3014360          LV1055623147  \n97               3141162          LV1055623171  \n98               3825879          LV1055623197  \n\n[99 rows x 54 columns]",
      "text/html": "<div>\n<style scoped>\n    .dataframe tbody tr th:only-of-type {\n        vertical-align: middle;\n    }\n\n    .dataframe tbody tr th {\n        vertical-align: top;\n    }\n\n    .dataframe thead th {\n        text-align: right;\n    }\n</style>\n<table border=\"1\" class=\"dataframe\">\n  <thead>\n    <tr style=\"text-align: right;\">\n      <th></th>\n      <th>Unnamed: 0</th>\n      <th>RegistrationCode</th>\n      <th>Record</th>\n      <th>T staging</th>\n      <th>ProcessProfiling</th>\n      <th>Round</th>\n      <th>Endocrine treatment</th>\n      <th>Menapausal status</th>\n      <th>chemotherapy</th>\n      <th>Predictor</th>\n      <th>...</th>\n      <th>Cholesterol, total   mg/dl</th>\n      <th>Triglycerides  mg/dl</th>\n      <th>HDL - Cholesterol, direct  mg/dl</th>\n      <th>LDL - Cholesterol, direct  mg/dl</th>\n      <th>Glucose - Blood  mg/dl</th>\n      <th>HGB  g/dl</th>\n      <th>HbA1C %</th>\n      <th>ln_involvment</th>\n      <th>Registration Number</th>\n      <th>Updated Tube Barcode</th>\n    </tr>\n  </thead>\n  <tbody>\n    <tr>\n      <th>0</th>\n      <td>0</td>\n      <td>3556376</td>\n      <td>1</td>\n      <td>1.0</td>\n      <td>1.0</td>\n      <td>1</td>\n      <td>0</td>\n      <td>0</td>\n      <td>1</td>\n      <td>NaN</td>\n      <td>...</td>\n      <td>146.0</td>\n      <td>47.0</td>\n      <td>56.0</td>\n      <td>83.0</td>\n      <td>65.0</td>\n      <td>11.84</td>\n      <td>4.3</td>\n      <td>1.0</td>\n      <td>3556376</td>\n      <td>LV1054454103</td>\n    </tr>\n    <tr>\n      <th>1</th>\n      <td>1</td>\n      <td>3663375</td>\n      <td>2</td>\n      <td>1.0</td>\n      <td>1.0</td>\n      <td>2</td>\n      <td>1</td>\n      <td>0</td>\n      <td>1</td>\n      <td>NaN</td>\n      <td>...</td>\n      <td>169.0</td>\n      <td>142.0</td>\n      <td>50.0</td>\n      <td>104.0</td>\n      <td>83.0</td>\n      <td>14.24</td>\n      <td>4.8</td>\n      <td>0.0</td>\n      <td>3663375</td>\n      <td>LV1031617420</td>\n    </tr>\n    <tr>\n      <th>2</th>\n      <td>2</td>\n      <td>3289031</td>\n      <td>3</td>\n      <td>1.0</td>\n      <td>1.0</td>\n      <td>2</td>\n      <td>0</td>\n      <td>1</td>\n      <td>0</td>\n      <td>NaN</td>\n      <td>...</td>\n      <td>200.0</td>\n      <td>100.0</td>\n      <td>57.0</td>\n      <td>137.0</td>\n      <td>120.0</td>\n      <td>14.01</td>\n      <td>5.5</td>\n      <td>0.0</td>\n      <td>3289031</td>\n      <td>LV1054454127</td>\n    </tr>\n    <tr>\n      <th>3</th>\n      <td>4</td>\n      <td>3494211</td>\n      <td>5</td>\n      <td>1.0</td>\n      <td>1.0</td>\n      <td>2</td>\n      <td>0</td>\n      <td>1</td>\n      <td>0</td>\n      <td>NaN</td>\n      <td>...</td>\n      <td>192.0</td>\n      <td>108.0</td>\n      <td>70.0</td>\n      <td>112.0</td>\n      <td>93.0</td>\n      <td>11.97</td>\n      <td>5.9</td>\n      <td>0.0</td>\n      <td>3494211</td>\n      <td>LV1054454151</td>\n    </tr>\n    <tr>\n      <th>4</th>\n      <td>5</td>\n      <td>3592069</td>\n      <td>6</td>\n      <td>2.0</td>\n      <td>1.0</td>\n      <td>2</td>\n      <td>0</td>\n      <td>0</td>\n      <td>1</td>\n      <td>NaN</td>\n      <td>...</td>\n      <td>161.0</td>\n      <td>122.0</td>\n      <td>54.0</td>\n      <td>98.0</td>\n      <td>92.0</td>\n      <td>13.43</td>\n      <td>5.0</td>\n      <td>1.0</td>\n      <td>3592069</td>\n      <td>LV1054454163</td>\n    </tr>\n    <tr>\n      <th>...</th>\n      <td>...</td>\n      <td>...</td>\n      <td>...</td>\n      <td>...</td>\n      <td>...</td>\n      <td>...</td>\n      <td>...</td>\n      <td>...</td>\n      <td>...</td>\n      <td>...</td>\n      <td>...</td>\n      <td>...</td>\n      <td>...</td>\n      <td>...</td>\n      <td>...</td>\n      <td>...</td>\n      <td>...</td>\n      <td>...</td>\n      <td>...</td>\n      <td>...</td>\n      <td>...</td>\n    </tr>\n    <tr>\n      <th>94</th>\n      <td>131</td>\n      <td>3459719</td>\n      <td>133</td>\n      <td>2.0</td>\n      <td>NaN</td>\n      <td>29</td>\n      <td>0</td>\n      <td>1</td>\n      <td>0</td>\n      <td>NaN</td>\n      <td>...</td>\n      <td>NaN</td>\n      <td>NaN</td>\n      <td>NaN</td>\n      <td>NaN</td>\n      <td>NaN</td>\n      <td>NaN</td>\n      <td>NaN</td>\n      <td>0.0</td>\n      <td>3459719</td>\n      <td>LV1055623194</td>\n    </tr>\n    <tr>\n      <th>95</th>\n      <td>132</td>\n      <td>3594946</td>\n      <td>134</td>\n      <td>1.0</td>\n      <td>NaN</td>\n      <td>30</td>\n      <td>0</td>\n      <td>1</td>\n      <td>0</td>\n      <td>NaN</td>\n      <td>...</td>\n      <td>NaN</td>\n      <td>NaN</td>\n      <td>NaN</td>\n      <td>NaN</td>\n      <td>NaN</td>\n      <td>NaN</td>\n      <td>NaN</td>\n      <td>NaN</td>\n      <td>3594946</td>\n      <td>LV1055623218</td>\n    </tr>\n    <tr>\n      <th>96</th>\n      <td>135</td>\n      <td>3014360</td>\n      <td>137</td>\n      <td>1.0</td>\n      <td>NaN</td>\n      <td>30</td>\n      <td>0</td>\n      <td>1</td>\n      <td>0</td>\n      <td>NaN</td>\n      <td>...</td>\n      <td>NaN</td>\n      <td>NaN</td>\n      <td>NaN</td>\n      <td>NaN</td>\n      <td>NaN</td>\n      <td>NaN</td>\n      <td>NaN</td>\n      <td>NaN</td>\n      <td>3014360</td>\n      <td>LV1055623147</td>\n    </tr>\n    <tr>\n      <th>97</th>\n      <td>136</td>\n      <td>3141162</td>\n      <td>138</td>\n      <td>3.0</td>\n      <td>NaN</td>\n      <td>30</td>\n      <td>0</td>\n      <td>0</td>\n      <td>1</td>\n      <td>NaN</td>\n      <td>...</td>\n      <td>NaN</td>\n      <td>NaN</td>\n      <td>NaN</td>\n      <td>NaN</td>\n      <td>NaN</td>\n      <td>NaN</td>\n      <td>NaN</td>\n      <td>NaN</td>\n      <td>3141162</td>\n      <td>LV1055623171</td>\n    </tr>\n    <tr>\n      <th>98</th>\n      <td>138</td>\n      <td>3825879</td>\n      <td>140</td>\n      <td>1.0</td>\n      <td>NaN</td>\n      <td>30</td>\n      <td>0</td>\n      <td>1</td>\n      <td>0</td>\n      <td>NaN</td>\n      <td>...</td>\n      <td>NaN</td>\n      <td>NaN</td>\n      <td>NaN</td>\n      <td>NaN</td>\n      <td>NaN</td>\n      <td>NaN</td>\n      <td>NaN</td>\n      <td>NaN</td>\n      <td>3825879</td>\n      <td>LV1055623197</td>\n    </tr>\n  </tbody>\n</table>\n<p>99 rows × 54 columns</p>\n</div>"
     },
     "execution_count": 172,
     "metadata": {},
     "output_type": "execute_result"
    }
   ],
   "source": [
    "bc_metadata_merged_followup"
   ],
   "metadata": {
    "collapsed": false,
    "ExecuteTime": {
     "end_time": "2025-07-10T10:23:40.294984Z",
     "start_time": "2025-07-10T10:23:40.281405Z"
    }
   },
   "id": "2fa7afcb01fd5fec",
   "execution_count": 172
  },
  {
   "cell_type": "code",
   "outputs": [],
   "source": [
    "bc_metadata_merged_baseline[['RegistrationCode', 'Updated Tube Barcode', 'alloc']].to_csv('./breast_cancer_break_point/breacpntdata/bc_baseline_tube_barcodes.csv', index=False)\n",
    "bc_metadata_merged_followup[['RegistrationCode', 'Updated Tube Barcode', 'alloc']].to_csv('./breast_cancer_break_point/breacpntdata/bc_followup_tube_barcodes.csv', index=False)"
   ],
   "metadata": {
    "collapsed": false,
    "ExecuteTime": {
     "end_time": "2025-07-10T10:23:40.765660Z",
     "start_time": "2025-07-10T10:23:40.755935Z"
    }
   },
   "id": "7ca8a121a098b496",
   "execution_count": 173
  },
  {
   "cell_type": "markdown",
   "source": [
    "### Predict Intervention Type"
   ],
   "metadata": {
    "collapsed": false
   },
   "id": "9a05b40c7b7b18f3"
  },
  {
   "cell_type": "code",
   "outputs": [],
   "source": [
    "rel_metadata = pd.concat([bc_metadata_merged_baseline[['Updated Tube Barcode', 'alloc', 'RegistrationCode', 'Age', 'BMI']], bc_metadata_merged_followup[['Updated Tube Barcode', 'alloc', 'RegistrationCode', 'Age', 'BMI']]])"
   ],
   "metadata": {
    "collapsed": false,
    "ExecuteTime": {
     "end_time": "2025-07-10T10:23:41.575037Z",
     "start_time": "2025-07-10T10:23:41.570853Z"
    }
   },
   "id": "3d6225ba048958b2",
   "execution_count": 174
  },
  {
   "cell_type": "code",
   "outputs": [],
   "source": [
    "predicted_macros = pd.read_csv(DIET_PAPER_PATH + '/External_use_case/Macros_fiber/diet_predictions_20250427_102844/breast_cancer_cohort/predictions.csv', index_col=0)"
   ],
   "metadata": {
    "collapsed": false,
    "ExecuteTime": {
     "end_time": "2025-07-10T10:23:41.839557Z",
     "start_time": "2025-07-10T10:23:41.746144Z"
    }
   },
   "id": "cccc868029cdd3be",
   "execution_count": 175
  },
  {
   "cell_type": "code",
   "outputs": [],
   "source": [
    "predicted_macros_alloc = predicted_macros.merge(rel_metadata, how='inner', left_on='index', right_on='Updated Tube Barcode')"
   ],
   "metadata": {
    "collapsed": false,
    "ExecuteTime": {
     "end_time": "2025-07-10T10:23:42.998380Z",
     "start_time": "2025-07-10T10:23:42.989084Z"
    }
   },
   "id": "31a33b127c1e9d51",
   "execution_count": 176
  },
  {
   "cell_type": "code",
   "outputs": [],
   "source": [
    "predicted_macros_alloc.set_index('Updated Tube Barcode', inplace=True)"
   ],
   "metadata": {
    "collapsed": false,
    "ExecuteTime": {
     "end_time": "2025-07-10T10:23:43.203881Z",
     "start_time": "2025-07-10T10:23:43.201405Z"
    }
   },
   "id": "787fa202b5c5ca60",
   "execution_count": 177
  },
  {
   "cell_type": "code",
   "outputs": [],
   "source": [
    "predicted_macros_alloc.drop(columns=['alloc']).to_csv(output_data_dir + '/BC/predicted_macros_alloc_x.csv')\n",
    "predicted_macros_alloc['alloc'].to_csv(output_data_dir + '/BC/predicted_macros_alloc_y.csv')"
   ],
   "metadata": {
    "collapsed": false,
    "ExecuteTime": {
     "end_time": "2025-07-10T10:23:44.112954Z",
     "start_time": "2025-07-10T10:23:44.097453Z"
    }
   },
   "id": "c68d910385d6726c",
   "execution_count": 178
  },
  {
   "cell_type": "code",
   "outputs": [],
   "source": [
    "ms_breast_cancer = serrf_all.drop(columns=['RegistrationCode', 'age', 'gender', 'bmi', 'batch', 'research_stage']).merge(rel_metadata, left_index=True, right_on='Updated Tube Barcode', how='inner')\n",
    "ms_breast_cancer_followup = serrf_all.drop(columns=['RegistrationCode', 'age', 'gender', 'bmi', 'batch', 'research_stage']).merge(bc_metadata_merged_followup[['Updated Tube Barcode', 'alloc', 'RegistrationCode', 'Age', 'BMI']], left_index=True, right_on='Updated Tube Barcode', how='inner')\n",
    "ms_breast_cancer_baseline = serrf_all.drop(columns=['RegistrationCode', 'age', 'gender', 'bmi', 'batch', 'research_stage']).merge(bc_metadata_merged_baseline[['Updated Tube Barcode', 'alloc', 'RegistrationCode', 'Age', 'BMI']], left_index=True, right_on='Updated Tube Barcode', how='inner')\n",
    "predicted_macros_alloc_followup = predicted_macros_alloc[predicted_macros_alloc.index.isin(ms_breast_cancer_followup['Updated Tube Barcode'])]"
   ],
   "metadata": {
    "collapsed": false,
    "ExecuteTime": {
     "end_time": "2025-07-10T10:23:45.643490Z",
     "start_time": "2025-07-10T10:23:45.360522Z"
    }
   },
   "id": "3a52bbd5e85e5f4e",
   "execution_count": 179
  },
  {
   "cell_type": "code",
   "outputs": [],
   "source": [
    "predicted_macros_alloc_followup_x = predicted_macros_alloc_followup.drop(columns=['alloc'])\n",
    "predicted_macros_alloc_followup_x.to_csv(output_data_dir + '/BC/predicted_macros_alloc_followup_x.csv')\n",
    "predicted_macros_alloc_followup_y = predicted_macros_alloc_followup['alloc']\n",
    "predicted_macros_alloc_followup_y.to_csv(output_data_dir + '/BC/predicted_macros_alloc_followup_y.csv')"
   ],
   "metadata": {
    "collapsed": false,
    "ExecuteTime": {
     "end_time": "2025-07-10T10:23:45.810862Z",
     "start_time": "2025-07-10T10:23:45.797795Z"
    }
   },
   "id": "5dc4ce978e18c2fc",
   "execution_count": 180
  },
  {
   "cell_type": "code",
   "outputs": [
    {
     "data": {
      "text/plain": "                      pct_protein_calories  pct_fat_calories  \\\nUpdated Tube Barcode                                           \nLV1054454103                     12.727134         33.678060   \nLV1054454163                     17.678047         45.842113   \nLV1031617398                     14.043275         39.621369   \nLV1031617399                     17.023284         40.946109   \nLV1031617400                     14.590472         37.264277   \n...                                    ...               ...   \nLV1031617158                     18.032762         35.695130   \nLV1055623146                     16.487872         35.353436   \nLV1055623144                     20.437110         38.894936   \nLV1055623145                     16.937384         40.232918   \nLV1055623147                     19.620309         44.683878   \n\n                      pct_carb_calories  pct_saturated_fat_calories  \\\nUpdated Tube Barcode                                                  \nLV1054454103                  55.097413                    0.005737   \nLV1054454163                  37.976614                    0.009891   \nLV1031617398                  46.181164                    0.008644   \nLV1031617399                  40.688341                    0.009166   \nLV1031617400                  48.055608                    0.009142   \n...                                 ...                         ...   \nLV1031617158                  46.826683                    0.009733   \nLV1055623146                  51.502078                    0.006842   \nLV1055623144                  40.200216                    0.008227   \nLV1055623145                  44.688992                    0.009644   \nLV1055623147                  34.948565                    0.008682   \n\n                      Fiber, total dietary  alloc  RegistrationCode  Age  \\\nUpdated Tube Barcode                                                       \nLV1054454103                      0.021171      0           3556376   48   \nLV1054454163                      0.011750      0           3592069   41   \nLV1031617398                      0.014280      1           3119139   40   \nLV1031617399                      0.013442      1           3035641   51   \nLV1031617400                      0.009791      1           3245495   61   \n...                                    ...    ...               ...  ...   \nLV1031617158                      0.011532      0           3479662   37   \nLV1055623146                      0.014576      0           3510629   62   \nLV1055623144                      0.011615      1           3335216   47   \nLV1055623145                      0.012428      0           3943640   31   \nLV1055623147                      0.012460      1           3014360   57   \n\n                            BMI  \nUpdated Tube Barcode             \nLV1054454103          22.578125  \nLV1054454163          29.049805  \nLV1031617398          28.242554  \nLV1031617399          27.588543  \nLV1031617400          33.142847  \n...                         ...  \nLV1031617158          36.418348  \nLV1055623146          46.171361  \nLV1055623144          34.048443  \nLV1055623145          28.515625  \nLV1055623147          29.868197  \n\n[98 rows x 9 columns]",
      "text/html": "<div>\n<style scoped>\n    .dataframe tbody tr th:only-of-type {\n        vertical-align: middle;\n    }\n\n    .dataframe tbody tr th {\n        vertical-align: top;\n    }\n\n    .dataframe thead th {\n        text-align: right;\n    }\n</style>\n<table border=\"1\" class=\"dataframe\">\n  <thead>\n    <tr style=\"text-align: right;\">\n      <th></th>\n      <th>pct_protein_calories</th>\n      <th>pct_fat_calories</th>\n      <th>pct_carb_calories</th>\n      <th>pct_saturated_fat_calories</th>\n      <th>Fiber, total dietary</th>\n      <th>alloc</th>\n      <th>RegistrationCode</th>\n      <th>Age</th>\n      <th>BMI</th>\n    </tr>\n    <tr>\n      <th>Updated Tube Barcode</th>\n      <th></th>\n      <th></th>\n      <th></th>\n      <th></th>\n      <th></th>\n      <th></th>\n      <th></th>\n      <th></th>\n      <th></th>\n    </tr>\n  </thead>\n  <tbody>\n    <tr>\n      <th>LV1054454103</th>\n      <td>12.727134</td>\n      <td>33.678060</td>\n      <td>55.097413</td>\n      <td>0.005737</td>\n      <td>0.021171</td>\n      <td>0</td>\n      <td>3556376</td>\n      <td>48</td>\n      <td>22.578125</td>\n    </tr>\n    <tr>\n      <th>LV1054454163</th>\n      <td>17.678047</td>\n      <td>45.842113</td>\n      <td>37.976614</td>\n      <td>0.009891</td>\n      <td>0.011750</td>\n      <td>0</td>\n      <td>3592069</td>\n      <td>41</td>\n      <td>29.049805</td>\n    </tr>\n    <tr>\n      <th>LV1031617398</th>\n      <td>14.043275</td>\n      <td>39.621369</td>\n      <td>46.181164</td>\n      <td>0.008644</td>\n      <td>0.014280</td>\n      <td>1</td>\n      <td>3119139</td>\n      <td>40</td>\n      <td>28.242554</td>\n    </tr>\n    <tr>\n      <th>LV1031617399</th>\n      <td>17.023284</td>\n      <td>40.946109</td>\n      <td>40.688341</td>\n      <td>0.009166</td>\n      <td>0.013442</td>\n      <td>1</td>\n      <td>3035641</td>\n      <td>51</td>\n      <td>27.588543</td>\n    </tr>\n    <tr>\n      <th>LV1031617400</th>\n      <td>14.590472</td>\n      <td>37.264277</td>\n      <td>48.055608</td>\n      <td>0.009142</td>\n      <td>0.009791</td>\n      <td>1</td>\n      <td>3245495</td>\n      <td>61</td>\n      <td>33.142847</td>\n    </tr>\n    <tr>\n      <th>...</th>\n      <td>...</td>\n      <td>...</td>\n      <td>...</td>\n      <td>...</td>\n      <td>...</td>\n      <td>...</td>\n      <td>...</td>\n      <td>...</td>\n      <td>...</td>\n    </tr>\n    <tr>\n      <th>LV1031617158</th>\n      <td>18.032762</td>\n      <td>35.695130</td>\n      <td>46.826683</td>\n      <td>0.009733</td>\n      <td>0.011532</td>\n      <td>0</td>\n      <td>3479662</td>\n      <td>37</td>\n      <td>36.418348</td>\n    </tr>\n    <tr>\n      <th>LV1055623146</th>\n      <td>16.487872</td>\n      <td>35.353436</td>\n      <td>51.502078</td>\n      <td>0.006842</td>\n      <td>0.014576</td>\n      <td>0</td>\n      <td>3510629</td>\n      <td>62</td>\n      <td>46.171361</td>\n    </tr>\n    <tr>\n      <th>LV1055623144</th>\n      <td>20.437110</td>\n      <td>38.894936</td>\n      <td>40.200216</td>\n      <td>0.008227</td>\n      <td>0.011615</td>\n      <td>1</td>\n      <td>3335216</td>\n      <td>47</td>\n      <td>34.048443</td>\n    </tr>\n    <tr>\n      <th>LV1055623145</th>\n      <td>16.937384</td>\n      <td>40.232918</td>\n      <td>44.688992</td>\n      <td>0.009644</td>\n      <td>0.012428</td>\n      <td>0</td>\n      <td>3943640</td>\n      <td>31</td>\n      <td>28.515625</td>\n    </tr>\n    <tr>\n      <th>LV1055623147</th>\n      <td>19.620309</td>\n      <td>44.683878</td>\n      <td>34.948565</td>\n      <td>0.008682</td>\n      <td>0.012460</td>\n      <td>1</td>\n      <td>3014360</td>\n      <td>57</td>\n      <td>29.868197</td>\n    </tr>\n  </tbody>\n</table>\n<p>98 rows × 9 columns</p>\n</div>"
     },
     "execution_count": 181,
     "metadata": {},
     "output_type": "execute_result"
    }
   ],
   "source": [
    "predicted_macros_alloc_followup"
   ],
   "metadata": {
    "collapsed": false,
    "ExecuteTime": {
     "end_time": "2025-07-10T10:23:46.595485Z",
     "start_time": "2025-07-10T10:23:46.587622Z"
    }
   },
   "id": "38b39530b8a5fff7",
   "execution_count": 181
  },
  {
   "cell_type": "code",
   "outputs": [],
   "source": [
    "ms_breast_cancer.set_index('Updated Tube Barcode', inplace=True)\n",
    "ms_breast_cancer_followup.drop(columns='Updated Tube Barcode', inplace=True)\n",
    "ms_breast_cancer_baseline.drop(columns='Updated Tube Barcode', inplace=True)"
   ],
   "metadata": {
    "collapsed": false,
    "ExecuteTime": {
     "end_time": "2025-07-10T10:23:47.429223Z",
     "start_time": "2025-07-10T10:23:47.424787Z"
    }
   },
   "id": "b9d443134b086c5e",
   "execution_count": 182
  },
  {
   "cell_type": "code",
   "outputs": [],
   "source": [
    "ms_breast_cancer_baseline.set_index('RegistrationCode', inplace=True)\n",
    "ms_breast_cancer_followup.set_index('RegistrationCode', inplace=True)"
   ],
   "metadata": {
    "collapsed": false,
    "ExecuteTime": {
     "end_time": "2025-07-10T10:23:48.116440Z",
     "start_time": "2025-07-10T10:23:48.113398Z"
    }
   },
   "id": "375888f73f5a9a85",
   "execution_count": 183
  },
  {
   "cell_type": "code",
   "outputs": [],
   "source": [
    "# calculate the difference between followup and baseline (all columns excpet last 4)\n",
    "columns_to_use = ms_breast_cancer_followup.columns[:-3]\n",
    "ms_breast_cancer_delta = ms_breast_cancer_followup[columns_to_use].subtract(ms_breast_cancer_baseline[columns_to_use], axis=1)"
   ],
   "metadata": {
    "collapsed": false,
    "ExecuteTime": {
     "end_time": "2025-07-10T10:23:48.332459Z",
     "start_time": "2025-07-10T10:23:48.326909Z"
    }
   },
   "id": "30102ec18d77921d",
   "execution_count": 184
  },
  {
   "cell_type": "code",
   "outputs": [],
   "source": [
    "ms_BC_followup_delta = ms_breast_cancer_followup.merge(ms_breast_cancer_delta, how='inner', left_on='RegistrationCode', right_index=True, suffixes=('', '_delta'))"
   ],
   "metadata": {
    "collapsed": false,
    "ExecuteTime": {
     "end_time": "2025-07-10T10:23:48.542477Z",
     "start_time": "2025-07-10T10:23:48.533625Z"
    }
   },
   "id": "39b8cf950bb1b10f",
   "execution_count": 185
  },
  {
   "cell_type": "code",
   "outputs": [],
   "source": [
    "ms_breast_cancer_delta_alloc = ms_breast_cancer_delta.join(ms_breast_cancer_followup[['alloc']], how='inner')"
   ],
   "metadata": {
    "collapsed": false,
    "ExecuteTime": {
     "end_time": "2025-07-10T10:23:48.627410Z",
     "start_time": "2025-07-10T10:23:48.623979Z"
    }
   },
   "id": "6fe1c165f9f3fe3",
   "execution_count": 186
  },
  {
   "cell_type": "code",
   "outputs": [],
   "source": [
    "# drop rows with nans\n",
    "ms_BC_followup_delta.dropna(inplace=True)"
   ],
   "metadata": {
    "collapsed": false,
    "ExecuteTime": {
     "end_time": "2025-07-10T10:23:49.312344Z",
     "start_time": "2025-07-10T10:23:49.308539Z"
    }
   },
   "id": "1193bbab703595b4",
   "execution_count": 187
  },
  {
   "cell_type": "code",
   "outputs": [],
   "source": [
    "ms_breast_cancer_x = ms_breast_cancer.drop(columns=['alloc'])\n",
    "ms_breast_cancer_y = ms_breast_cancer['alloc']\n",
    "ms_breast_cancer_followup_x = ms_breast_cancer_followup.drop(columns=['alloc'])\n",
    "ms_breast_cancer_followup_y = ms_breast_cancer_followup['alloc']\n",
    "ms_BC_followup_delta_x = ms_BC_followup_delta.drop(columns=['alloc'])\n",
    "ms_BC_followup_delta_y = ms_BC_followup_delta['alloc']\n",
    "ms_breast_cancer_delta_x = ms_breast_cancer_delta_alloc.drop(columns=['alloc'])\n",
    "ms_breast_cancer_delta_y = ms_breast_cancer_delta_alloc['alloc']"
   ],
   "metadata": {
    "collapsed": false,
    "ExecuteTime": {
     "end_time": "2025-07-10T10:23:50.620825Z",
     "start_time": "2025-07-10T10:23:50.611469Z"
    }
   },
   "id": "2be78bc4a0caea77",
   "execution_count": 188
  },
  {
   "cell_type": "code",
   "outputs": [],
   "source": [
    "# save the data\n",
    "ms_breast_cancer_x.to_csv(os.path.join(output_data_dir, 'BC/ms_breast_cancer_x.csv'))\n",
    "ms_breast_cancer_y.to_csv(os.path.join(output_data_dir, 'BC/ms_breast_cancer_y.csv'))\n",
    "ms_breast_cancer_followup_x.to_csv(os.path.join(output_data_dir, 'BC/ms_breast_cancer_followup_x.csv'))\n",
    "ms_breast_cancer_followup_y.to_csv(os.path.join(output_data_dir, 'BC/ms_breast_cancer_followup_y.csv'))\n",
    "ms_BC_followup_delta_x.to_csv(os.path.join(output_data_dir, 'BC/ms_BC_followup_delta_x.csv'))\n",
    "ms_BC_followup_delta_y.to_csv(os.path.join(output_data_dir, 'BC/ms_BC_followup_delta_y.csv'))\n",
    "ms_breast_cancer_delta_x.to_csv(os.path.join(output_data_dir, 'BC/ms_breast_cancer_delta_x.csv'))\n",
    "ms_breast_cancer_delta_y.to_csv(os.path.join(output_data_dir, 'BC/ms_breast_cancer_delta_y.csv'))"
   ],
   "metadata": {
    "collapsed": false,
    "ExecuteTime": {
     "end_time": "2025-07-10T10:23:52.956428Z",
     "start_time": "2025-07-10T10:23:51.335395Z"
    }
   },
   "id": "7ac6a368c5d301c4",
   "execution_count": 189
  },
  {
   "cell_type": "code",
   "outputs": [],
   "source": [
    "prediction_alloc = pd.read_csv(DIET_PAPER_PATH + '/Matched_Oral_wCCS/ms_breast_cancer_x/ms_breast_cancer_y/results/alloc/predictions_alloc.csv', index_col=0)"
   ],
   "metadata": {
    "collapsed": false,
    "ExecuteTime": {
     "end_time": "2025-07-10T10:23:53.492685Z",
     "start_time": "2025-07-10T10:23:53.483074Z"
    }
   },
   "id": "8585e438240a8396",
   "execution_count": 190
  },
  {
   "cell_type": "code",
   "outputs": [],
   "source": [
    "# keep only indexes that are in Updated Tube Barcode column in bc_metadata_merged_followup\n",
    "prediction_alloc_followup = prediction_alloc[prediction_alloc.index.isin(bc_metadata_merged_followup['Updated Tube Barcode'])]"
   ],
   "metadata": {
    "collapsed": false,
    "ExecuteTime": {
     "end_time": "2025-07-10T10:23:57.054852Z",
     "start_time": "2025-07-10T10:23:57.052026Z"
    }
   },
   "id": "20578eb14ab343fe",
   "execution_count": 191
  },
  {
   "cell_type": "code",
   "outputs": [],
   "source": [
    "# calculate roc auc\n",
    "from sklearn.metrics import roc_auc_score\n",
    "from sklearn.metrics import roc_curve\n",
    "auc_score = roc_auc_score(prediction_alloc_followup['true_values'], prediction_alloc_followup['predictions'])"
   ],
   "metadata": {
    "collapsed": false,
    "ExecuteTime": {
     "end_time": "2025-07-10T10:23:58.624542Z",
     "start_time": "2025-07-10T10:23:58.579967Z"
    }
   },
   "id": "f1a86eb8515a1ff2",
   "execution_count": 192
  },
  {
   "cell_type": "code",
   "outputs": [
    {
     "data": {
      "text/plain": "0.7549999999999999"
     },
     "execution_count": 193,
     "metadata": {},
     "output_type": "execute_result"
    }
   ],
   "source": [
    "auc_score"
   ],
   "metadata": {
    "collapsed": false,
    "ExecuteTime": {
     "end_time": "2025-07-10T10:23:59.971497Z",
     "start_time": "2025-07-10T10:23:59.968397Z"
    }
   },
   "id": "989477b68756bdfb",
   "execution_count": 193
  },
  {
   "cell_type": "code",
   "outputs": [
    {
     "data": {
      "text/plain": "<Figure size 400x400 with 1 Axes>",
      "image/png": "[encoded data removed]"
     },
     "metadata": {},
     "output_type": "display_data"
    }
   ],
   "source": [
    "import matplotlib.pyplot as plt\n",
    "import seaborn as sns\n",
    "from sklearn.metrics import roc_curve, auc\n",
    "\n",
    "# Set the seaborn style for better aesthetics\n",
    "sns.set_theme(style=\"white\")\n",
    "\n",
    "# Get ROC curve data\n",
    "y_true = prediction_alloc_followup['true_values']\n",
    "y_scores = prediction_alloc_followup['predictions']\n",
    "fpr, tpr, thresholds = roc_curve(y_true, y_scores)\n",
    "\n",
    "# Calculate AUC (assuming auc_score was previously calculated, otherwise uncomment this)\n",
    "# auc_score = auc(fpr, tpr)\n",
    "\n",
    "# Create a figure with improved styling\n",
    "plt.figure(figsize=(4, 4))\n",
    "\n",
    "# Create a custom color palette\n",
    "palette = sns.color_palette(\"mako\", 2)\n",
    "\n",
    "# Plot the ROC curve with a thicker line and better color\n",
    "plt.plot(fpr, tpr, linewidth=1.5, color=palette[0], \n",
    "         label='ROC curve (area = {:.2f})'.format(auc_score))\n",
    "\n",
    "# Plot the diagonal reference line\n",
    "plt.plot([0, 1], [0, 1], linestyle='--', color='gray', linewidth=1, \n",
    "         label='Random classifier')\n",
    "\n",
    "# Set the limits and labels with improved fonts\n",
    "plt.xlim([0.0, 1.0])\n",
    "plt.ylim([0.0, 1.05])\n",
    "plt.xlabel('False Positive Rate', fontsize=10)\n",
    "plt.ylabel('True Positive Rate', fontsize=10)\n",
    "\n",
    "# # Add a descriptive title\n",
    "# plt.title('Intervention Type Prediction', \n",
    "#           fontsize=7, fontweight='bold', pad=5)\n",
    "\n",
    "# Improve the legend\n",
    "plt.legend(loc='lower right', frameon=True, fontsize=10)\n",
    "\n",
    "# Add grid for better readability\n",
    "# plt.grid(True, linestyle='--', alpha=0.7)\n",
    "\n",
    "# Tight layout for better spacing\n",
    "plt.tight_layout()\n",
    "# Set smaller tick font sizes\n",
    "plt.xticks(fontsize=7)\n",
    "plt.yticks(fontsize=7)\n",
    "\n",
    "# Remove upper and right spines\n",
    "ax = plt.gca()\n",
    "ax.spines['top'].set_visible(False)\n",
    "ax.spines['right'].set_visible(False)\n",
    "\n",
    "# Modern corner badge\n",
    "plt.text(0.02, 0.98, 'Mediterranean vs\\nPersonalized', transform=ax.transAxes, \n",
    "         fontsize=10, verticalalignment='top', horizontalalignment='left',\n",
    "         bbox=dict(boxstyle='round,pad=0.3', facecolor='#4472C4', alpha=0.8), \n",
    "         color='white', weight='bold')\n",
    "# Uncomment to save the figure\n",
    "plt.savefig(os.path.join(DIET_PAPER_PATH, 'Figs_paper/BreakPoint_alloc_roc_curve.png'), dpi=300, bbox_inches='tight')\n",
    "# save as pdf as well\n",
    "plt.savefig(os.path.join(DIET_PAPER_PATH, 'Figs_paper/BreakPoint_alloc_roc_curve.pdf'), bbox_inches='tight')\n",
    "\n",
    "# Show the plot\n",
    "plt.show()"
   ],
   "metadata": {
    "collapsed": false,
    "ExecuteTime": {
     "end_time": "2025-07-14T14:13:44.932506Z",
     "start_time": "2025-07-14T14:13:44.363225Z"
    }
   },
   "id": "f914eead884be6c4",
   "execution_count": 213
  },
  {
   "cell_type": "code",
   "outputs": [],
   "source": [
    "import numpy as np\n",
    "import pandas as pd\n",
    "from sklearn.ensemble import RandomForestRegressor, RandomForestClassifier\n",
    "from sklearn.model_selection import cross_val_score, KFold\n",
    "from sklearn.metrics import mean_squared_error, mean_absolute_error, r2_score\n",
    "from sklearn.metrics import accuracy_score, precision_score, recall_score, f1_score, roc_auc_score\n",
    "import matplotlib.pyplot as plt\n",
    "import seaborn as sns\n",
    "\n",
    "def train_random_forest_with_cv(X_df, y_df, task='regression', n_folds=5, n_estimators=100, \n",
    "                               max_depth=None, random_state=42, verbose=True):\n",
    "    \"\"\"\n",
    "    Train a Random Forest model with cross-validation given X and y dataframes.\n",
    "    \n",
    "    Parameters:\n",
    "    -----------\n",
    "    X_df : pandas DataFrame\n",
    "        DataFrame containing the features/predictors\n",
    "    y_df : pandas DataFrame\n",
    "        DataFrame containing a single column with the target variable\n",
    "    task : str, default='regression'\n",
    "        Type of task, either 'regression' or 'classification'\n",
    "    n_folds : int, default=5\n",
    "        Number of folds for cross-validation\n",
    "    n_estimators : int, default=100\n",
    "        Number of trees in the random forest\n",
    "    max_depth : int or None, default=None\n",
    "        Maximum depth of the trees. If None, nodes are expanded until all leaves are pure\n",
    "    random_state : int, default=42\n",
    "        Random state for reproducibility\n",
    "    verbose : bool, default=True\n",
    "        Whether to print detailed results and plot feature importance\n",
    "        \n",
    "    Returns:\n",
    "    --------\n",
    "    dict : Dictionary containing model, scores, and average metrics\n",
    "    \"\"\"\n",
    "    # Convert DataFrames to numpy arrays\n",
    "    X = X_df.values\n",
    "    y = y_df.values.ravel()  # Flatten y to 1D array\n",
    "    \n",
    "    # Initialize k-fold cross validation\n",
    "    kf = KFold(n_splits=n_folds, shuffle=True, random_state=random_state)\n",
    "    \n",
    "    # Initialize model based on task\n",
    "    if task == 'regression':\n",
    "        model = RandomForestRegressor(\n",
    "            n_estimators=n_estimators,\n",
    "            max_depth=max_depth,\n",
    "            random_state=random_state\n",
    "        )\n",
    "        scoring = 'neg_mean_squared_error'\n",
    "        \n",
    "    elif task == 'classification':\n",
    "        model = RandomForestClassifier(\n",
    "            n_estimators=n_estimators,\n",
    "            max_depth=max_depth,\n",
    "            random_state=random_state\n",
    "        )\n",
    "        scoring = 'roc_auc'\n",
    "    else:\n",
    "        raise ValueError(\"Task must be either 'regression' or 'classification'\")\n",
    "    \n",
    "    # Perform cross-validation\n",
    "    cv_scores = cross_val_score(model, X, y, cv=kf, scoring=scoring)\n",
    "    \n",
    "    # Train the final model on the entire dataset\n",
    "    model.fit(X, y)\n",
    "    \n",
    "    # Store results in a dictionary\n",
    "    results = {\n",
    "        'model': model,\n",
    "        'cv_scores': cv_scores,\n",
    "        'feature_importance': model.feature_importances_,\n",
    "        'feature_names': X_df.columns,\n",
    "    }\n",
    "    \n",
    "    # Calculate and store metrics based on task type\n",
    "    if task == 'regression':\n",
    "        # For regression, convert neg_mean_squared_error back to MSE\n",
    "        mse_scores = -cv_scores\n",
    "        rmse_scores = np.sqrt(mse_scores)\n",
    "        \n",
    "        results['mse'] = mse_scores\n",
    "        results['rmse'] = rmse_scores\n",
    "        results['avg_mse'] = np.mean(mse_scores)\n",
    "        results['avg_rmse'] = np.mean(rmse_scores)\n",
    "        \n",
    "        # Make predictions on the entire dataset for R² and MAE\n",
    "        y_pred = model.predict(X)\n",
    "        results['r2'] = r2_score(y, y_pred)\n",
    "        results['mae'] = mean_absolute_error(y, y_pred)\n",
    "        \n",
    "        # Print results if verbose\n",
    "        if verbose:\n",
    "            print(f\"Random Forest Regression Results ({n_folds}-fold CV):\")\n",
    "            print(f\"MSE scores: {', '.join([f'{score:.4f}' for score in mse_scores])}\")\n",
    "            print(f\"RMSE scores: {', '.join([f'{score:.4f}' for score in rmse_scores])}\")\n",
    "            print(f\"Average MSE: {results['avg_mse']:.4f}\")\n",
    "            print(f\"Average RMSE: {results['avg_rmse']:.4f}\")\n",
    "            print(f\"R² score: {results['r2']:.4f}\")\n",
    "            print(f\"Mean Absolute Error: {results['mae']:.4f}\")\n",
    "            \n",
    "    else:  # Classification\n",
    "        results['auc_scores'] = cv_scores\n",
    "        results['avg_auc'] = np.mean(cv_scores)\n",
    "        \n",
    "        # Make predictions on the entire dataset for accuracy, precision, recall, and F1\n",
    "        y_pred = model.predict(X)\n",
    "        \n",
    "        # For AUC, we need probability predictions\n",
    "        y_pred_proba = model.predict_proba(X)\n",
    "        \n",
    "        # Calculate accuracy separately since we changed the CV scoring\n",
    "        accuracy = accuracy_score(y, y_pred)\n",
    "        results['accuracy'] = accuracy\n",
    "        \n",
    "        # Check if binary or multiclass\n",
    "        if len(np.unique(y)) == 2:  # Binary classification\n",
    "            results['precision'] = precision_score(y, y_pred)\n",
    "            results['recall'] = recall_score(y, y_pred)\n",
    "            results['f1'] = f1_score(y, y_pred)\n",
    "            \n",
    "            # Calculate AUC on the entire dataset\n",
    "            results['auc'] = roc_auc_score(y, y_pred_proba[:, 1])  # Use proba of positive class\n",
    "            \n",
    "            if verbose:\n",
    "                print(f\"Random Forest Binary Classification Results ({n_folds}-fold CV):\")\n",
    "                print(f\"AUC scores: {', '.join([f'{score:.4f}' for score in cv_scores])}\")\n",
    "                print(f\"Average AUC: {results['avg_auc']:.4f}\")\n",
    "                print(f\"AUC (entire dataset): {results['auc']:.4f}\")\n",
    "                print(f\"Accuracy: {accuracy:.4f}\")\n",
    "                print(f\"Precision: {results['precision']:.4f}\")\n",
    "                print(f\"Recall: {results['recall']:.4f}\")\n",
    "                print(f\"F1 Score: {results['f1']:.4f}\")\n",
    "                \n",
    "        else:  # Multiclass classification\n",
    "            results['precision'] = precision_score(y, y_pred, average='weighted')\n",
    "            results['recall'] = recall_score(y, y_pred, average='weighted')\n",
    "            results['f1'] = f1_score(y, y_pred, average='weighted')\n",
    "            \n",
    "            # Calculate AUC for multiclass - one-vs-rest approach\n",
    "            results['auc'] = roc_auc_score(y, y_pred_proba, multi_class='ovr', average='weighted')\n",
    "            \n",
    "            if verbose:\n",
    "                print(f\"Random Forest Multiclass Classification Results ({n_folds}-fold CV):\")\n",
    "                print(f\"AUC scores: {', '.join([f'{score:.4f}' for score in cv_scores])}\")\n",
    "                print(f\"Average AUC: {results['avg_auc']:.4f}\")\n",
    "                print(f\"AUC (entire dataset): {results['auc']:.4f}\")\n",
    "                print(f\"Accuracy: {accuracy:.4f}\")\n",
    "                print(f\"Weighted Precision: {results['precision']:.4f}\")\n",
    "                print(f\"Weighted Recall: {results['recall']:.4f}\")\n",
    "                print(f\"Weighted F1 Score: {results['f1']:.4f}\")\n",
    "    \n",
    "    # Plot feature importance if verbose\n",
    "    if verbose:\n",
    "        plt.figure(figsize=(10, 6))\n",
    "        \n",
    "        # Sort features by importance\n",
    "        indices = np.argsort(results['feature_importance'])\n",
    "        \n",
    "        plt.title('Feature Importance')\n",
    "        plt.barh(range(len(indices)), results['feature_importance'][indices], align='center')\n",
    "        plt.yticks(range(len(indices)), [results['feature_names'][i] for i in indices])\n",
    "        plt.xlabel('Relative Importance')\n",
    "        plt.tight_layout()\n",
    "        plt.show()\n",
    "    \n",
    "    return results"
   ],
   "metadata": {
    "collapsed": false,
    "ExecuteTime": {
     "end_time": "2025-04-30T13:53:52.606527Z",
     "start_time": "2025-04-30T13:53:52.592904Z"
    }
   },
   "id": "1e2c5e9a3ccafefa",
   "execution_count": 395
  },
  {
   "cell_type": "code",
   "outputs": [
    {
     "name": "stdout",
     "output_type": "stream",
     "text": [
      "Random Forest Binary Classification Results (5-fold CV):\n",
      "AUC scores: 0.6510, 0.6300, 0.5758, 0.4545, 0.5778\n",
      "Average AUC: 0.5778\n",
      "AUC (entire dataset): 1.0000\n",
      "Accuracy: 1.0000\n",
      "Precision: 1.0000\n",
      "Recall: 1.0000\n",
      "F1 Score: 1.0000\n"
     ]
    },
    {
     "data": {
      "text/plain": "<Figure size 1000x600 with 1 Axes>",
      "image/png": "[encoded data removed]"
     },
     "metadata": {},
     "output_type": "display_data"
    }
   ],
   "source": [
    "# Train Random Forest model with cross-validation\n",
    "rf_results = train_random_forest_with_cv(\n",
    "    X_df=predicted_macros_alloc_followup_x,\n",
    "    y_df=predicted_macros_alloc_followup_y,\n",
    "    task='classification',\n",
    "    n_folds=5,\n",
    "    n_estimators=1000,\n",
    "    max_depth=None,\n",
    "    random_state=42,\n",
    "    verbose=True\n",
    ")"
   ],
   "metadata": {
    "collapsed": false,
    "ExecuteTime": {
     "end_time": "2025-04-27T14:19:30.147091Z",
     "start_time": "2025-04-27T14:19:24.848909Z"
    }
   },
   "id": "9cd88004df1ee47d",
   "execution_count": 366
  },
  {
   "cell_type": "code",
   "outputs": [],
   "source": [],
   "metadata": {
    "collapsed": false
   },
   "id": "97f79f7f92d09765"
  }
 ],
 "metadata": {
  "kernelspec": {
   "display_name": "Python 3",
   "language": "python",
   "name": "python3"
  },
  "language_info": {
   "codemirror_mode": {
    "name": "ipython",
    "version": 2
   },
   "file_extension": ".py",
   "mimetype": "text/x-python",
   "name": "python",
   "nbconvert_exporter": "python",
   "pygments_lexer": "ipython2",
   "version": "2.7.6"
  }
 },
 "nbformat": 4,
 "nbformat_minor": 5
}
