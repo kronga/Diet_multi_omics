{
 "cells": [
  {
   "cell_type": "code",
   "execution_count": 68,
   "id": "initial_id",
   "metadata": {
    "collapsed": true,
    "ExecuteTime": {
     "end_time": "2025-07-12T12:47:01.961650Z",
     "start_time": "2025-07-12T12:47:01.957225Z"
    }
   },
   "outputs": [],
   "source": [
    "import pandas as pd\n",
    "import numpy as np\n",
    "import matplotlib.pyplot as plt\n",
    "import seaborn as sns\n",
    "import joblib\n",
    "import os\n",
    "from scipy.stats import pearsonr\n",
    "from pingouin import partial_corr\n",
    "from scipy import stats\n",
    "from sklearn.preprocessing import StandardScaler\n",
    "from statsmodels.stats.multitest import fdrcorrection, multipletests\n",
    "from datetime import datetime, timedelta\n",
    "from tqdm import tqdm\n",
    "\n",
    "METABO_DIR_ROOT = '/net/mraid20/ifs/wisdom/segal_lab/genie/LabData/Analyses/davidkro/batch_normalizations'\n",
    "DIET_PAPER_DIR = '/net/mraid20/export/genie/LabData/Analyses/Metabolomics_repeat/predict_MS/Optuna/Diet_paper'\n",
    "tomer_dir = '/net/mraid20/export/genie/LabData/Analyses/tomerse/david_colab/'\n",
    "DVIDKRO_DIR = '/net/mraid20/export/genie/LabData/Analyses/davidkro/'\n",
    "output_data_dir = '/net/mraid20/export/genie/LabData/Analyses/Metabolomics_repeat/final_for_diet_paper/'\n",
    "FIGS_DIR = os.path.join(DIET_PAPER_DIR, 'Figs_paper')\n",
    "from LabData.DataLoaders import BodyMeasuresLoader, GutMBLoader, LifeStyleLoader, BloodTestsLoader"
   ]
  },
  {
   "cell_type": "code",
   "outputs": [],
   "source": [
    "bml = BodyMeasuresLoader.BodyMeasuresLoader()\n",
    "bm = bml.get_data()\n",
    "lfs = LifeStyleLoader.LifeStyleLoader()\n",
    "lifestyle = lfs.get_data()\n",
    "blood_loader = BloodTestsLoader.BloodTestsLoader()"
   ],
   "metadata": {
    "collapsed": false,
    "ExecuteTime": {
     "end_time": "2025-07-12T12:47:08.169416Z",
     "start_time": "2025-07-12T12:47:04.635199Z"
    }
   },
   "id": "9bd50cc246247a54",
   "execution_count": 69
  },
  {
   "cell_type": "code",
   "outputs": [],
   "source": [
    "blood_data = blood_loader.get_data()"
   ],
   "metadata": {
    "collapsed": false,
    "ExecuteTime": {
     "end_time": "2025-07-12T12:47:20.394687Z",
     "start_time": "2025-07-12T12:47:09.402136Z"
    }
   },
   "id": "c9c268393bb5ad52",
   "execution_count": 70
  },
  {
   "cell_type": "code",
   "outputs": [],
   "source": [
    "blood_data_df = blood_data.df.join(blood_data.df_metadata[['research_stage']], how='inner')"
   ],
   "metadata": {
    "collapsed": false,
    "ExecuteTime": {
     "end_time": "2025-07-12T12:47:21.929221Z",
     "start_time": "2025-07-12T12:47:20.396517Z"
    }
   },
   "id": "ee4ff9232d23d912",
   "execution_count": 71
  },
  {
   "cell_type": "code",
   "outputs": [],
   "source": [
    "blood_data_df_baseline = blood_data_df[blood_data_df['research_stage'] == 'baseline'].drop(columns=['research_stage'])"
   ],
   "metadata": {
    "collapsed": false,
    "ExecuteTime": {
     "end_time": "2025-07-12T12:47:22.012996Z",
     "start_time": "2025-07-12T12:47:21.930419Z"
    }
   },
   "id": "ef0f42fee5cbd978",
   "execution_count": 72
  },
  {
   "cell_type": "code",
   "outputs": [],
   "source": [
    "blood_data_df_baseline = blood_data_df_baseline.groupby('RegistrationCode').last()"
   ],
   "metadata": {
    "collapsed": false,
    "ExecuteTime": {
     "end_time": "2025-07-12T12:47:22.072027Z",
     "start_time": "2025-07-12T12:47:22.014416Z"
    }
   },
   "id": "2705b802ccb4496",
   "execution_count": 73
  },
  {
   "cell_type": "code",
   "outputs": [],
   "source": [
    "# drop rows with high percentage of nans\n",
    "blood_data_df_baseline_filtered = blood_data_df_baseline.loc[:, blood_data_df_baseline.isnull().sum()/len(blood_data_df_baseline) < 0.9].copy()"
   ],
   "metadata": {
    "collapsed": false,
    "ExecuteTime": {
     "end_time": "2025-07-12T12:47:22.087395Z",
     "start_time": "2025-07-12T12:47:22.073139Z"
    }
   },
   "id": "863f2bd6307fd7bc",
   "execution_count": 74
  },
  {
   "cell_type": "code",
   "outputs": [
    {
     "data": {
      "text/plain": "<Axes: ylabel='Count'>"
     },
     "execution_count": 75,
     "metadata": {},
     "output_type": "execute_result"
    },
    {
     "data": {
      "text/plain": "<Figure size 1000x500 with 1 Axes>",
      "image/png": "[encoded data removed]"
     },
     "metadata": {},
     "output_type": "display_data"
    }
   ],
   "source": [
    "blood_data_df_baseline.isnull().sum()/len(blood_data_df_baseline)\n",
    "# plot the distribution of missing values\n",
    "plt.figure(figsize=(10, 5))\n",
    "sns.histplot(blood_data_df_baseline.isnull().sum()/len(blood_data_df_baseline), bins=20)"
   ],
   "metadata": {
    "collapsed": false,
    "ExecuteTime": {
     "end_time": "2025-07-12T12:47:22.254164Z",
     "start_time": "2025-07-12T12:47:22.088728Z"
    }
   },
   "id": "f66f675811746932",
   "execution_count": 75
  },
  {
   "cell_type": "code",
   "outputs": [],
   "source": [
    "lifestyle_data = lifestyle.df.join(lifestyle.df_metadata[['research_stage']], how='inner')"
   ],
   "metadata": {
    "collapsed": false,
    "ExecuteTime": {
     "end_time": "2025-07-12T12:47:24.831222Z",
     "start_time": "2025-07-12T12:47:24.807106Z"
    }
   },
   "id": "9caf6b970b888583",
   "execution_count": 76
  },
  {
   "cell_type": "code",
   "outputs": [],
   "source": [
    "lifestyle_data_baseline = lifestyle_data[lifestyle_data['research_stage'] == 'baseline'].drop(columns=['research_stage'])"
   ],
   "metadata": {
    "collapsed": false,
    "ExecuteTime": {
     "end_time": "2025-07-12T12:47:26.205695Z",
     "start_time": "2025-07-12T12:47:26.191540Z"
    }
   },
   "id": "34c0e6137e355c1e",
   "execution_count": 77
  },
  {
   "cell_type": "code",
   "outputs": [],
   "source": [
    "# lifestyle_data_baseline.head(20).to_excel('/net/mraid20/export/genie/LabData/Analyses/Metabolomics_repeat/lifestyle_data_baseline_head.xlsx')"
   ],
   "metadata": {
    "collapsed": false,
    "ExecuteTime": {
     "end_time": "2025-07-12T12:47:27.192753Z",
     "start_time": "2025-07-12T12:47:27.190204Z"
    }
   },
   "id": "cdeb4945a03b4be",
   "execution_count": 78
  },
  {
   "cell_type": "code",
   "outputs": [
    {
     "data": {
      "text/plain": "(11411, 261)"
     },
     "execution_count": 79,
     "metadata": {},
     "output_type": "execute_result"
    }
   ],
   "source": [
    "lifestyle_data_baseline.shape"
   ],
   "metadata": {
    "collapsed": false,
    "ExecuteTime": {
     "end_time": "2025-07-12T12:47:28.257173Z",
     "start_time": "2025-07-12T12:47:28.253584Z"
    }
   },
   "id": "bd1e6e3483460491",
   "execution_count": 79
  },
  {
   "cell_type": "code",
   "outputs": [
    {
     "data": {
      "text/plain": "True     237\nFalse     24\nName: count, dtype: int64"
     },
     "execution_count": 80,
     "metadata": {},
     "output_type": "execute_result"
    }
   ],
   "source": [
    "(lifestyle_data_baseline.isnull().sum()/len(lifestyle_data_baseline) < 0.93).value_counts()"
   ],
   "metadata": {
    "collapsed": false,
    "ExecuteTime": {
     "end_time": "2025-07-12T12:47:33.026249Z",
     "start_time": "2025-07-12T12:47:33.018938Z"
    }
   },
   "id": "251afdcb99007d51",
   "execution_count": 80
  },
  {
   "cell_type": "code",
   "outputs": [
    {
     "data": {
      "text/plain": "accommodation_type                             0.083165\naccommodation_years                            0.084743\nadd_salt_to_food                               0.573306\nage_last_smoking_regularly1                    0.997108\nage_last_smoking_regularly_age                 0.886425\n                                                 ...   \ntransportaion_to_work__Walk                    0.000526\ntransportaion_to_work__Walking                 0.000526\ntransportaion_to_work__no                      0.000526\ntransportaion_to_work__prefer not to answer    0.000526\ntransportaion_to_work__אף אחד מהנ\"ל            0.000526\nLength: 261, dtype: float64"
     },
     "execution_count": 81,
     "metadata": {},
     "output_type": "execute_result"
    }
   ],
   "source": [
    "lifestyle_data_baseline.isnull().sum()/len(lifestyle_data_baseline)"
   ],
   "metadata": {
    "collapsed": false,
    "ExecuteTime": {
     "end_time": "2025-07-12T12:47:37.223574Z",
     "start_time": "2025-07-12T12:47:37.215836Z"
    }
   },
   "id": "3eddf8780ff2cac9",
   "execution_count": 81
  },
  {
   "cell_type": "code",
   "outputs": [],
   "source": [
    "# filter columns with less than 10% missing values\n",
    "lifestyle_data_baseline_filtered = lifestyle_data_baseline.loc[:, lifestyle_data_baseline.isnull().sum()/len(lifestyle_data_baseline) < 0.93].copy()"
   ],
   "metadata": {
    "collapsed": false,
    "ExecuteTime": {
     "end_time": "2025-07-12T12:47:38.752354Z",
     "start_time": "2025-07-12T12:47:38.742289Z"
    }
   },
   "id": "2a909ce5584c9686",
   "execution_count": 82
  },
  {
   "cell_type": "code",
   "outputs": [],
   "source": [
    "lifestyle_data_baseline_filtered.reset_index(inplace=True)\n",
    "lifestyle_data_baseline_filtered.set_index('RegistrationCode', inplace=True)\n",
    "lifestyle_data_baseline_filtered.drop(columns=['Date'], inplace=True)"
   ],
   "metadata": {
    "collapsed": false,
    "ExecuteTime": {
     "end_time": "2025-07-12T12:47:39.591951Z",
     "start_time": "2025-07-12T12:47:39.584948Z"
    }
   },
   "id": "430511e6bee766ad",
   "execution_count": 83
  },
  {
   "cell_type": "code",
   "outputs": [
    {
     "name": "stderr",
     "output_type": "stream",
     "text": [
      "/home/davidkro/PycharmProjects/LabData/LabData/DataLoaders/Loader.py:215: FutureWarning: Downcasting object dtype arrays on .fillna, .ffill, .bfill is deprecated and will change in a future version. Call result.infer_objects(copy=False) instead. To opt-in to the future behavior, set `pd.set_option('future.no_silent_downcasting', True)`\n",
      "  metadata = metadata[~metadata[self.metadata_filter_column].fillna(False)]\n",
      "/home/davidkro/PycharmProjects/LabData/LabData/DataLoaders/Loader.py:215: FutureWarning: Downcasting object dtype arrays on .fillna, .ffill, .bfill is deprecated and will change in a future version. Call result.infer_objects(copy=False) instead. To opt-in to the future behavior, set `pd.set_option('future.no_silent_downcasting', True)`\n",
      "  metadata = metadata[~metadata[self.metadata_filter_column].fillna(False)]\n"
     ]
    }
   ],
   "source": [
    "gut_loader = GutMBLoader.GutMBLoader()\n",
    "gut_mb = gut_loader.get_data(df='mpa_species', study_ids=[10], groupby_reg='first')"
   ],
   "metadata": {
    "collapsed": false,
    "ExecuteTime": {
     "end_time": "2025-07-12T12:47:47.298838Z",
     "start_time": "2025-07-12T12:47:39.999806Z"
    }
   },
   "id": "4cb59fb181b14974",
   "execution_count": 84
  },
  {
   "cell_type": "code",
   "outputs": [],
   "source": [
    "gut_mpa = gut_mb.df.join(gut_mb.df_metadata[['research_stage', 'RegistrationCode']], how='inner')"
   ],
   "metadata": {
    "collapsed": false,
    "ExecuteTime": {
     "end_time": "2025-07-12T12:48:02.642712Z",
     "start_time": "2025-07-12T12:48:02.493750Z"
    }
   },
   "id": "590c3f251309d405",
   "execution_count": 85
  },
  {
   "cell_type": "code",
   "outputs": [],
   "source": [
    "gut_mpa_baseline = gut_mpa[gut_mpa['research_stage'] == 'baseline'].drop(columns=['research_stage'])"
   ],
   "metadata": {
    "collapsed": false,
    "ExecuteTime": {
     "end_time": "2025-07-12T12:48:04.090430Z",
     "start_time": "2025-07-12T12:48:03.831981Z"
    }
   },
   "id": "2ad1f5d591b09525",
   "execution_count": 86
  },
  {
   "cell_type": "code",
   "outputs": [],
   "source": [
    "gut_mpa_baseline.set_index('RegistrationCode', inplace=True)"
   ],
   "metadata": {
    "collapsed": false,
    "ExecuteTime": {
     "end_time": "2025-07-12T12:48:04.115444Z",
     "start_time": "2025-07-12T12:48:04.112582Z"
    }
   },
   "id": "d8fcc5cb0c33dfd4",
   "execution_count": 87
  },
  {
   "cell_type": "code",
   "outputs": [],
   "source": [
    "bm_df = bm.df\n",
    "bm_meta = bm.df_metadata"
   ],
   "metadata": {
    "collapsed": false,
    "ExecuteTime": {
     "end_time": "2025-07-12T12:48:05.190249Z",
     "start_time": "2025-07-12T12:48:05.158418Z"
    }
   },
   "id": "cc2bd326de35af44",
   "execution_count": 88
  },
  {
   "cell_type": "code",
   "outputs": [],
   "source": [
    "baseline_fatures = bm_df[['bmi']].join(bm_meta[['age', 'gender', 'research_stage']], how='inner')\n",
    "baseline_height = bm_df[['height']].join(bm_meta[['research_stage']], how='inner')"
   ],
   "metadata": {
    "collapsed": false,
    "ExecuteTime": {
     "end_time": "2025-07-12T12:48:05.638056Z",
     "start_time": "2025-07-12T12:48:05.619259Z"
    }
   },
   "id": "3d850b1bceba5b31",
   "execution_count": 89
  },
  {
   "cell_type": "code",
   "outputs": [],
   "source": [
    "agb_baseline = baseline_fatures[baseline_fatures['research_stage'] == 'baseline'].drop(columns=['research_stage'])\n",
    "height_baseline = baseline_height[baseline_height['research_stage'] == 'baseline'].drop(columns=['research_stage'])"
   ],
   "metadata": {
    "collapsed": false,
    "ExecuteTime": {
     "end_time": "2025-07-12T12:48:06.230105Z",
     "start_time": "2025-07-12T12:48:06.208780Z"
    }
   },
   "id": "b16bdbe7fdc1477a",
   "execution_count": 90
  },
  {
   "cell_type": "code",
   "outputs": [],
   "source": [
    "# agb_baseline.to_csv('/net/mraid20/export/genie/LabData/Analyses/Metabolomics_repeat/Xs/agb_baseline.csv')"
   ],
   "metadata": {
    "collapsed": false,
    "ExecuteTime": {
     "end_time": "2025-07-12T12:48:08.381849Z",
     "start_time": "2025-07-12T12:48:08.379797Z"
    }
   },
   "id": "3a1c8bbec2aaed94",
   "execution_count": 91
  },
  {
   "cell_type": "code",
   "outputs": [],
   "source": [
    "agb_baseline.reset_index(inplace=True)\n",
    "height_baseline.reset_index(inplace=True)"
   ],
   "metadata": {
    "collapsed": false,
    "ExecuteTime": {
     "end_time": "2025-07-12T12:48:08.866879Z",
     "start_time": "2025-07-12T12:48:08.863495Z"
    }
   },
   "id": "bac4b3668b73e4af",
   "execution_count": 92
  },
  {
   "cell_type": "code",
   "outputs": [],
   "source": [
    "agb_baseline.set_index('RegistrationCode', inplace=True)\n",
    "agb_baseline.drop(columns=['Date'], inplace=True)\n",
    "height_baseline.set_index('RegistrationCode', inplace=True)\n",
    "height_baseline.drop(columns=['Date'], inplace=True)"
   ],
   "metadata": {
    "collapsed": false,
    "ExecuteTime": {
     "end_time": "2025-07-12T12:48:09.332927Z",
     "start_time": "2025-07-12T12:48:09.329488Z"
    }
   },
   "id": "8c1e4a512bca0c55",
   "execution_count": 93
  },
  {
   "cell_type": "code",
   "outputs": [],
   "source": [
    "batches = 36\n",
    "serrf_ms_data = pd.read_csv(f'/net/mraid20/export/genie/LabData/Analyses/davidkro/batch_normalizations/SERRF/SERRF Result{batches}_no1/normalized by - SERRF.csv', index_col=0)\n",
    "# classic_ms_data = pd.read_csv('/net/mraid20/export/genie/LabData/Analyses/davidkro/batch_normalizations/inter_batch_normalized/normalized_compounds_batches_1_29_.csv', index_col=0)\n",
    "ms_metadata = pd.read_csv('/net/mraid20/export/genie/LabData/Analyses/davidkro/batch_normalizations/metadata_with_date.csv', index_col=0)\n",
    "fuzzy_join_ms = pd.read_csv(os.path.join(METABO_DIR_ROOT, 'fuzzy_joined', f'fuzzy_join_batches4_final_super_batches{batches}_no1.csv'), index_col=0)"
   ],
   "metadata": {
    "collapsed": false,
    "ExecuteTime": {
     "end_time": "2025-07-12T12:48:22.670210Z",
     "start_time": "2025-07-12T12:48:09.771488Z"
    }
   },
   "id": "b3de873387575f99",
   "execution_count": 94
  },
  {
   "cell_type": "code",
   "outputs": [],
   "source": [
    "nightingale_data = pd.read_csv('/net/mraid20/export/genie/LabData/Analyses/Metabolomics_repeat/Ys/nightingale.csv', index_col=0)\n",
    "nightingale_data.drop(columns=['Esterified_C', 'Free_C', 'Glycerol', 'HDL2_C', 'HDL3_C'], inplace=True)\n",
    "nightingale_data = nightingale_data.join(agb_baseline)\n",
    "# rename column 'Glucose' to 'Glucose_NMR'\n",
    "nightingale_data.rename(columns={'Glucose': 'Glucose_NMR'}, inplace=True)"
   ],
   "metadata": {
    "collapsed": false,
    "ExecuteTime": {
     "end_time": "2025-07-12T12:48:22.825132Z",
     "start_time": "2025-07-12T12:48:22.672037Z"
    }
   },
   "id": "6e7eeeb3ccc3e0b2",
   "execution_count": 95
  },
  {
   "cell_type": "code",
   "outputs": [],
   "source": [
    "cluster_data09 = pd.read_csv(f'/net/mraid20/export/genie/LabData/Analyses/davidkro/batch_normalizations/clustered/clustered_{batches}_thr09_no1.csv', index_col=0)\n",
    "cluster_data08 = pd.read_csv(f'/net/mraid20/export/genie/LabData/Analyses/davidkro/batch_normalizations/clustered/clustered_{batches}_thr08_no1.csv', index_col=0)\n",
    "cluster_data07 = pd.read_csv(f'/net/mraid20/export/genie/LabData/Analyses/davidkro/batch_normalizations/clustered/clustered_{batches}_thr07_no1.csv', index_col=0) "
   ],
   "metadata": {
    "collapsed": false,
    "ExecuteTime": {
     "end_time": "2025-07-12T12:48:30.335461Z",
     "start_time": "2025-07-12T12:48:22.826497Z"
    }
   },
   "id": "3139b27a7ae6e80f",
   "execution_count": 96
  },
  {
   "cell_type": "code",
   "outputs": [],
   "source": [
    "# ms_for_hpp = pd.read_csv('/net/mraid20/export/genie/LabData/Analyses/davidkro/batch_normalizations/inter_batch_normalized/normalized_compounds_batches_1_6_log.csv', index_col=0)"
   ],
   "metadata": {
    "collapsed": false,
    "ExecuteTime": {
     "end_time": "2025-07-12T12:48:30.340406Z",
     "start_time": "2025-07-12T12:48:30.337717Z"
    }
   },
   "id": "fc1c969c2bfc8e65",
   "execution_count": 97
  },
  {
   "cell_type": "code",
   "outputs": [],
   "source": [
    "def process_ms_ccs_data(serrf_ms_data, fuzzy_join_ms, ms_metadata, metadata_join_method='inner'):\n",
    "    \"\"\"\n",
    "    Process MS data by joining with CCS values and metadata, including transposition of the data.\n",
    "    \n",
    "    Parameters:\n",
    "    -----------\n",
    "    serrf_ms_data : pandas.DataFrame\n",
    "        The main MS data DataFrame\n",
    "    fuzzy_join_ms : pandas.DataFrame\n",
    "        DataFrame containing the CCS values to join\n",
    "    ms_metadata : pandas.DataFrame\n",
    "        DataFrame containing metadata with columns: 'name_dna', 'RegistrationCode',\n",
    "        'research_stage', 'age', 'gender', 'bmi'\n",
    "        \n",
    "    Returns:\n",
    "    --------\n",
    "    pandas.DataFrame\n",
    "        Processed DataFrame with metadata and updated indices including CCS values\n",
    "    \"\"\"\n",
    "    # Join the CCS values\n",
    "    processed_data = serrf_ms_data.join(fuzzy_join_ms['CCS (angstrom^2)'], how='inner')\n",
    "\n",
    "    # Round CCS values to 2 decimal places\n",
    "    processed_data['CCS (angstrom^2)'] = processed_data['CCS (angstrom^2)'].round(2)\n",
    "\n",
    "    # Update index by concatenating with CCS values\n",
    "    processed_data.index = processed_data.index + \"_\" + processed_data['CCS (angstrom^2)'].astype(str)\n",
    "\n",
    "    # Remove the CCS column\n",
    "    processed_data.drop(columns=['CCS (angstrom^2)'], inplace=True)\n",
    "\n",
    "    # Transpose the data\n",
    "    processed_data_transposed = processed_data.T\n",
    "    \n",
    "    # Set the index for metadata\n",
    "    ms_metadata = ms_metadata.copy()  # Create a copy to avoid modifying the original\n",
    "    ms_metadata.set_index('name_dna', inplace=True)\n",
    "    \n",
    "    # Join with metadata\n",
    "    final_data = processed_data_transposed.join(\n",
    "        ms_metadata[['RegistrationCode', 'research_stage', 'age', 'gender', 'bmi']], \n",
    "        how=metadata_join_method\n",
    "    )\n",
    "    return final_data"
   ],
   "metadata": {
    "collapsed": false,
    "ExecuteTime": {
     "end_time": "2025-07-12T12:48:30.357745Z",
     "start_time": "2025-07-12T12:48:30.341344Z"
    }
   },
   "id": "609ac27ff4934280",
   "execution_count": 98
  },
  {
   "cell_type": "code",
   "outputs": [],
   "source": [
    "fuzzy_join_ms_latest = pd.read_csv('/net/mraid20/export/genie/LabData/Analyses/davidkro/batch_normalizations/fuzzy_joined/fuzzy_join_batches4_final_super_batches36_no1.csv', index_col=0)"
   ],
   "metadata": {
    "collapsed": false,
    "ExecuteTime": {
     "end_time": "2025-07-12T12:48:36.532888Z",
     "start_time": "2025-07-12T12:48:30.358851Z"
    }
   },
   "id": "d80ae0382670efec",
   "execution_count": 99
  },
  {
   "cell_type": "code",
   "outputs": [],
   "source": [
    "try_ms = fuzzy_join_ms_latest.T.merge(ms_metadata, left_index=True, right_on='name_dna', how='inner')\n",
    "try_ms.set_index('RegistrationCode', inplace=True)\n",
    "try_ms_base = try_ms[try_ms['research_stage'] == 'baseline'].drop(columns=['research_stage'])"
   ],
   "metadata": {
    "collapsed": false,
    "ExecuteTime": {
     "end_time": "2025-07-12T12:48:36.941126Z",
     "start_time": "2025-07-12T12:48:36.535619Z"
    }
   },
   "id": "c673484ab77b5a82",
   "execution_count": 100
  },
  {
   "cell_type": "code",
   "outputs": [],
   "source": [
    "serf_full = process_ms_ccs_data(serrf_ms_data, fuzzy_join_ms, ms_metadata)\n",
    "clusterd_09 = process_ms_ccs_data(cluster_data09.T, fuzzy_join_ms, ms_metadata)\n",
    "clusterd_08 = process_ms_ccs_data(cluster_data08.T, fuzzy_join_ms, ms_metadata)\n",
    "clusterd_07 = process_ms_ccs_data(cluster_data07.T, fuzzy_join_ms, ms_metadata)\n",
    "# ms_classic = process_ms_ccs_data(classic_ms_data, fuzzy_join_ms, ms_metadata)\n",
    "# hpp_ms = process_ms_ccs_data(ms_for_hpp, fuzzy_join_ms, ms_metadata)\n",
    "serrf_all = process_ms_ccs_data(serrf_ms_data, fuzzy_join_ms, ms_metadata, metadata_join_method='left')\n",
    "clustered_09_all = process_ms_ccs_data(cluster_data09.T, fuzzy_join_ms, ms_metadata, metadata_join_method='left')    "
   ],
   "metadata": {
    "collapsed": false,
    "ExecuteTime": {
     "end_time": "2025-07-12T12:48:39.974206Z",
     "start_time": "2025-07-12T12:48:36.942519Z"
    }
   },
   "id": "ddfdde680474aacc",
   "execution_count": 101
  },
  {
   "cell_type": "code",
   "outputs": [
    {
     "data": {
      "text/plain": "(14413, 2252)"
     },
     "execution_count": 102,
     "metadata": {},
     "output_type": "execute_result"
    }
   ],
   "source": [
    "serrf_all.shape"
   ],
   "metadata": {
    "collapsed": false,
    "ExecuteTime": {
     "end_time": "2025-07-12T12:48:43.512062Z",
     "start_time": "2025-07-12T12:48:43.508587Z"
    }
   },
   "id": "17ab1ff56b8c48c0",
   "execution_count": 102
  },
  {
   "cell_type": "code",
   "outputs": [],
   "source": [
    "# keep rows with LV in index\n",
    "serrf_all = serrf_all[serrf_all.index.str.contains('LV')]\n",
    "clusterd_09_all = clusterd_09[clusterd_09.index.str.contains('LV')]"
   ],
   "metadata": {
    "collapsed": false,
    "ExecuteTime": {
     "end_time": "2025-07-12T12:48:44.839190Z",
     "start_time": "2025-07-12T12:48:44.544733Z"
    }
   },
   "id": "13fcdd52ed19e621",
   "execution_count": 103
  },
  {
   "cell_type": "code",
   "outputs": [
    {
     "data": {
      "text/plain": "(11023, 2252)"
     },
     "execution_count": 104,
     "metadata": {},
     "output_type": "execute_result"
    }
   ],
   "source": [
    "serrf_all.shape"
   ],
   "metadata": {
    "collapsed": false,
    "ExecuteTime": {
     "end_time": "2025-07-12T12:48:45.141182Z",
     "start_time": "2025-07-12T12:48:45.138228Z"
    }
   },
   "id": "91f17c9eb6f4b5f5",
   "execution_count": 104
  },
  {
   "cell_type": "code",
   "outputs": [],
   "source": [
    "serf_full = serf_full.drop_duplicates(subset=['RegistrationCode', 'research_stage'], keep='first')\n",
    "clusterd_09 = clusterd_09.drop_duplicates(subset=['RegistrationCode', 'research_stage'], keep='first')\n",
    "# serrf_all = serrf_all.drop_duplicates(subset=['RegistrationCode', 'research_stage'], keep='first')\n",
    "# clusterd_09_all = clustered_09_all.drop_duplicates(subset=['RegistrationCode', 'research_stage'], keep='first')"
   ],
   "metadata": {
    "collapsed": false,
    "ExecuteTime": {
     "end_time": "2025-07-12T12:48:46.277786Z",
     "start_time": "2025-07-12T12:48:46.053112Z"
    }
   },
   "id": "864aec4e060ac4dc",
   "execution_count": 105
  },
  {
   "cell_type": "code",
   "outputs": [],
   "source": [
    "serrf_all.to_csv(DIET_PAPER_DIR + '/serrf_all.csv') \n",
    "clusterd_09_all.to_csv(DIET_PAPER_DIR + '/clusterd_09_all.csv')"
   ],
   "metadata": {
    "collapsed": false,
    "ExecuteTime": {
     "end_time": "2025-07-12T12:49:33.640483Z",
     "start_time": "2025-07-12T12:48:47.103006Z"
    }
   },
   "id": "81314d8d4424c25e",
   "execution_count": 106
  },
  {
   "cell_type": "code",
   "outputs": [],
   "source": [
    "df = ms_metadata.copy()\n",
    "# Find all duplicate rows based on the two columns\n",
    "duplicates = df[df.duplicated(subset=['RegistrationCode', 'research_stage'], keep=False)]\n",
    "\n",
    "# Sort by those columns to see duplicates grouped together\n",
    "duplicates = duplicates.sort_values(['RegistrationCode', 'research_stage'])\n",
    "\n",
    "# To see the count of duplicates for each combination\n",
    "duplicate_counts = df.groupby(['RegistrationCode', 'research_stage']).size().reset_index(name='count')\n",
    "duplicate_counts = duplicate_counts[duplicate_counts['count'] > 1]"
   ],
   "metadata": {
    "collapsed": false,
    "ExecuteTime": {
     "end_time": "2025-07-12T12:49:33.723270Z",
     "start_time": "2025-07-12T12:49:33.642534Z"
    }
   },
   "id": "1dd6a92e97cc5eec",
   "execution_count": 107
  },
  {
   "cell_type": "code",
   "outputs": [
    {
     "data": {
      "text/plain": "research_stage\nbaseline       5900\n02_00_visit    3352\n04_00_visit     688\n03_01_visit      59\n01_01_visit      57\nName: count, dtype: int64"
     },
     "execution_count": 108,
     "metadata": {},
     "output_type": "execute_result"
    }
   ],
   "source": [
    "serf_full['research_stage'].value_counts()"
   ],
   "metadata": {
    "collapsed": false,
    "ExecuteTime": {
     "end_time": "2025-07-12T12:49:33.728552Z",
     "start_time": "2025-07-12T12:49:33.724292Z"
    }
   },
   "id": "3290a4619dd0a5a6",
   "execution_count": 108
  },
  {
   "cell_type": "code",
   "outputs": [],
   "source": [
    "# create a column combining the RegistrationCode and research_stage\n",
    "# hpp_ms['RegistrationCode_research_stage'] = hpp_ms['RegistrationCode'] + '_' + hpp_ms['research_stage']"
   ],
   "metadata": {
    "collapsed": false,
    "ExecuteTime": {
     "end_time": "2025-07-12T12:49:33.742944Z",
     "start_time": "2025-07-12T12:49:33.729782Z"
    }
   },
   "id": "440c6d0b4304c788",
   "execution_count": 109
  },
  {
   "cell_type": "code",
   "outputs": [],
   "source": [
    "# hpp_ms.set_index('RegistrationCode_research_stage', inplace=True)"
   ],
   "metadata": {
    "collapsed": false,
    "ExecuteTime": {
     "end_time": "2025-07-12T12:49:33.756929Z",
     "start_time": "2025-07-12T12:49:33.743705Z"
    }
   },
   "id": "d6990e9b211a714a",
   "execution_count": 110
  },
  {
   "cell_type": "code",
   "outputs": [],
   "source": [
    "# hpp_ms_metabo = hpp_ms.drop(columns=['RegistrationCode', 'research_stage', 'age', 'gender', 'bmi'])"
   ],
   "metadata": {
    "collapsed": false,
    "ExecuteTime": {
     "end_time": "2025-07-12T12:49:33.772581Z",
     "start_time": "2025-07-12T12:49:33.757673Z"
    }
   },
   "id": "ace9e00d8c3ba07d",
   "execution_count": 111
  },
  {
   "cell_type": "code",
   "outputs": [],
   "source": [
    "# standardize the data\n",
    "# scaler = StandardScaler()\n",
    "# hpp_ms_metabo_scaled = pd.DataFrame(scaler.fit_transform(hpp_ms_metabo), index=hpp_ms_metabo.index, columns=hpp_ms_metabo.columns)"
   ],
   "metadata": {
    "collapsed": false,
    "ExecuteTime": {
     "end_time": "2025-07-12T12:49:33.784850Z",
     "start_time": "2025-07-12T12:49:33.773447Z"
    }
   },
   "id": "c71156c6a988d58f",
   "execution_count": 112
  },
  {
   "cell_type": "code",
   "outputs": [],
   "source": [
    "# # corr_matrix = hpp_ms_metabo.T.corr()\n",
    "# corr_matrix = hpp_ms_metabo_scaled.T.corr()"
   ],
   "metadata": {
    "collapsed": false,
    "ExecuteTime": {
     "end_time": "2025-07-12T12:49:33.795930Z",
     "start_time": "2025-07-12T12:49:33.785601Z"
    }
   },
   "id": "17cf7b21e8b2a892",
   "execution_count": 113
  },
  {
   "cell_type": "code",
   "outputs": [],
   "source": [
    "# corr_matrix.to_csv('/net/mraid20/export/genie/LabData/Analyses/Metabolomics_repeat/hpp_ms_metabo_corr_scaled.csv')"
   ],
   "metadata": {
    "collapsed": false,
    "ExecuteTime": {
     "end_time": "2025-07-12T12:49:33.806550Z",
     "start_time": "2025-07-12T12:49:33.796664Z"
    }
   },
   "id": "23b0b0bd3e31e353",
   "execution_count": 114
  },
  {
   "cell_type": "code",
   "outputs": [],
   "source": [
    "# fuzzy_test = process_ms_ccs_data(fuzzy_join_ms_latest, fuzzy_join_ms_latest, ms_metadata)"
   ],
   "metadata": {
    "collapsed": false,
    "ExecuteTime": {
     "end_time": "2025-07-12T12:49:33.819335Z",
     "start_time": "2025-07-12T12:49:33.808021Z"
    }
   },
   "id": "ddd6fa955b714277",
   "execution_count": 115
  },
  {
   "cell_type": "code",
   "outputs": [],
   "source": [
    "serrf_full_base = serf_full[serf_full['research_stage'] == 'baseline'].drop(columns=['research_stage']).set_index('RegistrationCode')"
   ],
   "metadata": {
    "collapsed": false,
    "ExecuteTime": {
     "end_time": "2025-07-12T12:49:34.080432Z",
     "start_time": "2025-07-12T12:49:33.820091Z"
    }
   },
   "id": "4dc1a5735f7107f",
   "execution_count": 116
  },
  {
   "cell_type": "code",
   "outputs": [],
   "source": [
    "clusterd_09_base = clusterd_09[clusterd_09['research_stage'] == 'baseline'].drop(columns=['research_stage']).set_index('RegistrationCode')\n",
    "clusterd_08_base = clusterd_08[clusterd_08['research_stage'] == 'baseline'].drop(columns=['research_stage']).set_index('RegistrationCode')\n",
    "clusterd_07_base = clusterd_07[clusterd_07['research_stage'] == 'baseline'].drop(columns=['research_stage']).set_index('RegistrationCode')"
   ],
   "metadata": {
    "collapsed": false,
    "ExecuteTime": {
     "end_time": "2025-07-12T12:49:34.501933Z",
     "start_time": "2025-07-12T12:49:34.081618Z"
    }
   },
   "id": "2bd4a62c2b378a8b",
   "execution_count": 117
  },
  {
   "cell_type": "code",
   "outputs": [],
   "source": [
    "### import diet data\n",
    "diet_mb = pd.read_pickle(tomer_dir + 'diet_mb.pkl').drop(columns=['age', 'gender'])\n",
    "diet_mb_mpa = pd.read_pickle(tomer_dir + 'diet_mb_mpa.pkl').drop(columns=['age', 'gender'])\n",
    "diet_features = pd.read_pickle(tomer_dir + 'diet_features_v2.pkl').drop(columns=['age'])\n",
    "diet_features_v2 = pd.read_pickle(tomer_dir + 'diet_features_02_visit_v2.pkl').drop(columns=['age'])\n",
    "diet_features_with_disease = pd.read_pickle(tomer_dir + 'diet_features_v4.pkl').drop(columns=['age'])\n",
    "diet_features_pre = pd.read_pickle(tomer_dir + 'diet_features_pre_visit.pkl').drop(columns=['age'])\n",
    "# diet_features_version2 = pd.read_pickle(tomer_dir + 'diet_features_v2.pkl').drop(columns=['age', 'gender'])\n",
    "my_lists_diet = pd.read_pickle(tomer_dir + 'my_lists_diet_v2.pkl')"
   ],
   "metadata": {
    "collapsed": false,
    "ExecuteTime": {
     "end_time": "2025-07-20T07:26:34.208842Z",
     "start_time": "2025-07-20T07:26:32.542361Z"
    }
   },
   "id": "cc2f3e91308ed1e8",
   "execution_count": 208
  },
  {
   "cell_type": "code",
   "outputs": [],
   "source": [
    "ms_diet_baseline = serrf_full_base.join(diet_features, how='inner')"
   ],
   "metadata": {
    "collapsed": false,
    "ExecuteTime": {
     "end_time": "2025-07-12T12:49:36.118223Z",
     "start_time": "2025-07-12T12:49:36.014829Z"
    }
   },
   "id": "ff61aa78963e9c1f",
   "execution_count": 119
  },
  {
   "cell_type": "code",
   "outputs": [
    {
     "data": {
      "text/plain": "(5163, 2950)"
     },
     "execution_count": 120,
     "metadata": {},
     "output_type": "execute_result"
    }
   ],
   "source": [
    "ms_diet_baseline.shape"
   ],
   "metadata": {
    "collapsed": false,
    "ExecuteTime": {
     "end_time": "2025-07-12T12:49:36.122100Z",
     "start_time": "2025-07-12T12:49:36.119336Z"
    }
   },
   "id": "3c0df4bf96648732",
   "execution_count": 120
  },
  {
   "cell_type": "markdown",
   "source": [
    "### Validate the scores with Lifestyle"
   ],
   "metadata": {
    "collapsed": false
   },
   "id": "84479e4ff9a52e07"
  },
  {
   "cell_type": "code",
   "outputs": [],
   "source": [
    "diet_feature_lifestyle = diet_features.join(lifestyle_data_baseline_filtered, how='inner')"
   ],
   "metadata": {
    "collapsed": false,
    "ExecuteTime": {
     "end_time": "2025-04-28T07:35:09.519242Z",
     "start_time": "2025-04-28T07:35:09.478316Z"
    }
   },
   "id": "144393ea1193e2b6",
   "execution_count": 836
  },
  {
   "cell_type": "code",
   "outputs": [
    {
     "data": {
      "text/plain": "(8855, 956)"
     },
     "execution_count": 837,
     "metadata": {},
     "output_type": "execute_result"
    }
   ],
   "source": [
    "diet_feature_lifestyle.shape"
   ],
   "metadata": {
    "collapsed": false,
    "ExecuteTime": {
     "end_time": "2025-04-28T07:35:11.549114Z",
     "start_time": "2025-04-28T07:35:11.545935Z"
    }
   },
   "id": "455368bf0ada0bd1",
   "execution_count": 837
  },
  {
   "cell_type": "code",
   "outputs": [
    {
     "data": {
      "text/plain": "(10769, 719)"
     },
     "execution_count": 838,
     "metadata": {},
     "output_type": "execute_result"
    }
   ],
   "source": [
    "diet_features.shape"
   ],
   "metadata": {
    "collapsed": false,
    "ExecuteTime": {
     "end_time": "2025-04-28T07:35:11.750940Z",
     "start_time": "2025-04-28T07:35:11.748553Z"
    }
   },
   "id": "11e010d4bf224995",
   "execution_count": 838
  },
  {
   "cell_type": "code",
   "outputs": [],
   "source": [
    "import seaborn as sns\n",
    "import pandas as pd\n",
    "import numpy as np\n",
    "import matplotlib.pyplot as plt\n",
    "from scipy import stats\n",
    "\n",
    "def plot_vegan_adherence_comparison(df, adherence_col, question_cols, \n",
    "                                   title=\"Vegan Adherence by Food Restrictions\",\n",
    "                                   palette=None, \n",
    "                                   figsize=(12, 8), \n",
    "                                   save_path=None):\n",
    "    \"\"\"\n",
    "    Palette is set to use Seaborn's Set2 by default\n",
    "    \"\"\"\n",
    "    # Set default palette to Set2 if none provided\n",
    "    if palette is None:\n",
    "        palette = sns.color_palette(\"Set2\")[:2]\n",
    "    \"\"\"\n",
    "    Creates box plots comparing vegan adherence scores for 'yes' and 'no' responses \n",
    "    to multiple dietary restriction questions.\n",
    "    \n",
    "    Parameters:\n",
    "    -----------\n",
    "    df : pandas.DataFrame\n",
    "        The dataframe containing the data\n",
    "    adherence_col : str\n",
    "        Column name for the continuous adherence variable (values between 0 and 1)\n",
    "    question_cols : list\n",
    "        List of column names for the dietary restriction questions\n",
    "        (expected to be binary: 0 for No, 1 for Yes)\n",
    "    title : str, optional\n",
    "        Title for the plot\n",
    "    palette : list, optional\n",
    "        Color palette to use for No/Yes responses\n",
    "    figsize : tuple, optional\n",
    "        Figure size (width, height) in inches\n",
    "    save_path : str, optional\n",
    "        If provided, the plot will be saved to this path\n",
    "        \n",
    "    Returns:\n",
    "    --------\n",
    "    matplotlib.figure.Figure\n",
    "        The figure object containing the plot\n",
    "    \"\"\"\n",
    "    # Create a copy of the dataframe\n",
    "    plot_df = df.copy()\n",
    "    \n",
    "    # Create the figure and axis\n",
    "    fig, ax = plt.subplots(figsize=figsize)\n",
    "    \n",
    "    # Number of question columns\n",
    "    n_questions = len(question_cols)\n",
    "    \n",
    "    # Create labels for x-axis categories\n",
    "    category_labels = ['Eggs', 'Dairy', 'Wheat']\n",
    "    if len(category_labels) != n_questions:\n",
    "        category_labels = [col.split('__')[-1].replace('_', ' ') for col in question_cols]\n",
    "    \n",
    "    # Define positions for box plots\n",
    "    positions = []\n",
    "    tick_positions = []\n",
    "    tick_labels = []\n",
    "    \n",
    "    # Setup positions for each group of box plots\n",
    "    box_width = 0.35  # Width of each box\n",
    "    group_padding = 0.5  # Padding between groups\n",
    "    \n",
    "    # Calculate statistics for annotation\n",
    "    stats_results = []\n",
    "    \n",
    "    # Process each question column\n",
    "    for i, col in enumerate(question_cols):\n",
    "        # Base position for this category\n",
    "        base_pos = i * (2 * box_width + group_padding)\n",
    "        \n",
    "        # Position for No (0) and Yes (1) boxes\n",
    "        no_pos = base_pos\n",
    "        yes_pos = base_pos + box_width\n",
    "        \n",
    "        positions.extend([no_pos, yes_pos])\n",
    "        \n",
    "        # Center position for this category\n",
    "        tick_positions.append(base_pos + box_width/2)\n",
    "        tick_labels.append(category_labels[i])\n",
    "        \n",
    "        # Prepare data for plotting\n",
    "        no_data = plot_df[plot_df[col] == 0][adherence_col].dropna()\n",
    "        yes_data = plot_df[plot_df[col] == 1][adherence_col].dropna()\n",
    "        \n",
    "        # Perform t-test\n",
    "        t_stat, p_value = stats.ttest_ind(yes_data, no_data, equal_var=False)\n",
    "        \n",
    "        # Determine significance level\n",
    "        if p_value < 0.001:\n",
    "            sig_stars = \"***\"\n",
    "        elif p_value < 0.01:\n",
    "            sig_stars = \"**\"\n",
    "        elif p_value < 0.05:\n",
    "            sig_stars = \"*\"\n",
    "        else:\n",
    "            sig_stars = \"ns\"\n",
    "            \n",
    "        stats_results.append({\n",
    "            'category': category_labels[i],\n",
    "            'no_mean': no_data.mean(),\n",
    "            'yes_mean': yes_data.mean(),\n",
    "            'no_n': len(no_data),\n",
    "            'yes_n': len(yes_data),\n",
    "            'p_value': p_value,\n",
    "            'sig_stars': sig_stars\n",
    "        })\n",
    "    \n",
    "    # Create a list of all data points for boxplot\n",
    "    all_data = []\n",
    "    for i, col in enumerate(question_cols):\n",
    "        # Add No data\n",
    "        no_data = plot_df[plot_df[col] == 0][adherence_col].dropna()\n",
    "        all_data.append(no_data)\n",
    "        \n",
    "        # Add Yes data\n",
    "        yes_data = plot_df[plot_df[col] == 1][adherence_col].dropna()\n",
    "        all_data.append(yes_data)\n",
    "    \n",
    "    # Create boxplots\n",
    "    boxprops = {'edgecolor': 'black', 'linewidth': 1.5}\n",
    "    whiskerprops = {'linewidth': 1.5, 'color': 'black'}\n",
    "    medianprops = {'linewidth': 2, 'color': 'black'}\n",
    "    \n",
    "    box_plot = ax.boxplot(all_data, positions=positions, widths=box_width, patch_artist=True,\n",
    "                          boxprops=boxprops, whiskerprops=whiskerprops, medianprops=medianprops)\n",
    "    \n",
    "    # Color the boxes\n",
    "    for i, box in enumerate(box_plot['boxes']):\n",
    "        box.set_facecolor(palette[i % 2])  # Alternate colors for No/Yes\n",
    "    \n",
    "    # Add significance brackets\n",
    "    y_max = max([max(data) if len(data) > 0 else 0 for data in all_data])\n",
    "    y_max = max(y_max, 1) + 0.1\n",
    "    \n",
    "    for i, result in enumerate(stats_results):\n",
    "        base_pos = i * (2 * box_width + group_padding)\n",
    "        bracket_y = y_max + 0.05\n",
    "        bracket_height = 0.03\n",
    "        \n",
    "        # Draw bracket\n",
    "        ax.plot([base_pos, base_pos, base_pos + box_width, base_pos + box_width], \n",
    "                [bracket_y, bracket_y + bracket_height, bracket_y + bracket_height, bracket_y], \n",
    "                color='black', linewidth=1.5)\n",
    "        \n",
    "        # Add significance stars\n",
    "        ax.text(base_pos + box_width/2, bracket_y + bracket_height/2, result['sig_stars'], \n",
    "                ha='center', va='center', fontsize=14, fontweight='bold')\n",
    "        \n",
    "        # Add sample sizes\n",
    "        ax.text(base_pos, -0.07, f\"n={result['no_n']}\", transform=ax.get_xaxis_transform(),\n",
    "                ha='center', va='top', fontsize=9)\n",
    "        ax.text(base_pos + box_width, -0.07, f\"n={result['yes_n']}\", transform=ax.get_xaxis_transform(),\n",
    "                ha='center', va='top', fontsize=9)\n",
    "    \n",
    "    # Set x-axis ticks and labels\n",
    "    ax.set_xticks([pos + box_width/2 for pos in [i * (2 * box_width + group_padding) for i in range(n_questions)]])\n",
    "    ax.set_xticklabels(category_labels, fontsize=12)\n",
    "    \n",
    "    # Set y-axis limits (capped at 1 for adherence scores)\n",
    "    ax.set_ylim(-0.05, min(1.05, y_max + 0.15))\n",
    "    \n",
    "    # Set y-axis ticks to go from 0 to 1 with 0.2 increments\n",
    "    ax.set_yticks(np.arange(0, 1.2, 0.2))\n",
    "    \n",
    "    # Set labels and title\n",
    "    ax.set_ylabel(\"Vegan Score\", fontsize=12)\n",
    "    ax.set_title(title, fontsize=14, pad=20)\n",
    "    \n",
    "    # Add legend outside the plot\n",
    "    legend_elements = [\n",
    "        plt.Rectangle((0, 0), 1, 1, facecolor=palette[0], edgecolor='black', label='No'),\n",
    "        plt.Rectangle((0, 0), 1, 1, facecolor=palette[1], edgecolor='black', label='Yes')\n",
    "    ]\n",
    "    ax.legend(handles=legend_elements, loc='upper center', bbox_to_anchor=(0.5, -0.15), \n",
    "              title=\"Restriction\", ncol=2, frameon=True)\n",
    "    \n",
    "    # Add grid\n",
    "    ax.grid(axis='y', linestyle='--', alpha=0.7)\n",
    "    \n",
    "    # Remove top and right spines\n",
    "    ax.spines['top'].set_visible(False)\n",
    "    ax.spines['right'].set_visible(False)\n",
    "    ax.spines['left'].set_linewidth(0.5)\n",
    "    ax.spines['bottom'].set_linewidth(0.5)\n",
    "    \n",
    "    # Adjust layout to make room for the external legend\n",
    "    plt.tight_layout(rect=[0, 0.1, 1, 0.95])\n",
    "    \n",
    "    # Save plot if path is provided\n",
    "    if save_path:\n",
    "        plt.savefig(save_path, dpi=300, bbox_inches='tight')\n",
    "    \n",
    "    return fig\n"
   ],
   "metadata": {
    "collapsed": false,
    "ExecuteTime": {
     "end_time": "2025-04-28T07:38:16.443801Z",
     "start_time": "2025-04-28T07:38:16.430078Z"
    }
   },
   "id": "41da7296b12875e2",
   "execution_count": 844
  },
  {
   "cell_type": "code",
   "outputs": [
    {
     "data": {
      "text/plain": "<Figure size 700x700 with 1 Axes>",
      "image/png": "[encoded data removed]"
     },
     "metadata": {},
     "output_type": "display_data"
    }
   ],
   "source": [
    "question_cols = ['never_eat__Eggs or foods that contain eggs', \n",
    "                 'never_eat__Dairy products', \n",
    "                 'never_eat__Wheat products']\n",
    "fig = plot_vegan_adherence_comparison(diet_feature_lifestyle, 'vegan_score_per_day', question_cols, figsize=(7, 7),\n",
    "                                      save_path=FIGS_DIR + '/diet_adherence_vegan_score_per_day_boxplot.png', title='')\n",
    "plt.show()"
   ],
   "metadata": {
    "collapsed": false,
    "ExecuteTime": {
     "end_time": "2025-04-28T07:38:46.068561Z",
     "start_time": "2025-04-28T07:38:45.326609Z"
    }
   },
   "id": "ddfe4fe9544de8b0",
   "execution_count": 846
  },
  {
   "cell_type": "code",
   "outputs": [],
   "source": [
    "def plot_diet_adherence_by_status(df, adherence_col, status_col, \n",
    "                                  title=\"Diet Adherence Score\",\n",
    "                                  palette=None, \n",
    "                                  figsize=(8, 10), \n",
    "                                  save_path=None):\n",
    "    \"\"\"\n",
    "    Creates a box plot comparing diet adherence scores for 'yes' and 'no' responses \n",
    "    to a vegetarian/vegan status question.\n",
    "    \n",
    "    Parameters:\n",
    "    -----------\n",
    "    df : pandas.DataFrame\n",
    "        The dataframe containing the data\n",
    "    adherence_col : str\n",
    "        Column name for the continuous adherence variable (values between 0 and 1)\n",
    "    status_col : str\n",
    "        Column name for the dietary status question (expected to be binary: 0 for No, 1 for Yes)\n",
    "    title : str, optional\n",
    "        Title for the plot (will be placed on x-axis)\n",
    "    palette : list, optional\n",
    "        Color palette to use for No/Yes responses\n",
    "    figsize : tuple, optional\n",
    "        Figure size (width, height) in inches\n",
    "    save_path : str, optional\n",
    "        If provided, the plot will be saved to this path\n",
    "        \n",
    "    Returns:\n",
    "    --------\n",
    "    matplotlib.figure.Figure\n",
    "        The figure object containing the plot\n",
    "    \"\"\"\n",
    "    # Set default palette to Set2 if none provided\n",
    "    if palette is None:\n",
    "        palette = [sns.color_palette(\"Set2\")[0], sns.color_palette(\"Set2\")[1]]\n",
    "    \n",
    "    # Create a copy of the dataframe\n",
    "    plot_df = df.copy()\n",
    "    \n",
    "    # Create the figure and axis\n",
    "    fig, ax = plt.subplots(figsize=figsize)\n",
    "    \n",
    "    # Prepare data for plotting\n",
    "    no_data = plot_df[plot_df[status_col] == 0][adherence_col].dropna()\n",
    "    yes_data = plot_df[plot_df[status_col] == 1][adherence_col].dropna()\n",
    "    \n",
    "    # Calculate sample sizes\n",
    "    no_n = len(no_data)\n",
    "    yes_n = len(yes_data)\n",
    "    \n",
    "    # Perform t-test\n",
    "    t_stat, p_value = stats.ttest_ind(yes_data, no_data, equal_var=False)\n",
    "    \n",
    "    # Determine significance level\n",
    "    if p_value < 0.001:\n",
    "        sig_stars = \"***\"\n",
    "    elif p_value < 0.01:\n",
    "        sig_stars = \"**\"\n",
    "    elif p_value < 0.05:\n",
    "        sig_stars = \"*\"\n",
    "    else:\n",
    "        sig_stars = \"ns\"\n",
    "    \n",
    "    # Create a list of all data points for boxplot\n",
    "    all_data = [no_data, yes_data]\n",
    "    \n",
    "    # Define positions for box plots\n",
    "    box_width = 0.4  # Width of each box\n",
    "    positions = [0.7, 1.7]  # Positions for No and Yes boxes\n",
    "    \n",
    "    # Create boxplots\n",
    "    boxprops = {'edgecolor': 'black', 'linewidth': 1.5}\n",
    "    whiskerprops = {'linewidth': 1.5, 'color': 'black'}\n",
    "    medianprops = {'linewidth': 2, 'color': 'black'}\n",
    "    \n",
    "    box_plot = ax.boxplot(all_data, positions=positions, widths=box_width, patch_artist=True,\n",
    "                         boxprops=boxprops, whiskerprops=whiskerprops, medianprops=medianprops,\n",
    "                         showfliers=True, flierprops={'marker': 'o', 'markersize': 6, 'markerfacecolor': 'none'})\n",
    "    \n",
    "    # Color the boxes\n",
    "    for i, box in enumerate(box_plot['boxes']):\n",
    "        box.set_facecolor(palette[i])\n",
    "    \n",
    "    # Add significance bracket\n",
    "    y_max = max([max(data) if len(data) > 0 else 0 for data in all_data])\n",
    "    y_max = max(y_max, 1) * 1.05  # Make sure we have enough space for the significance stars\n",
    "    \n",
    "    # Draw bracket\n",
    "    bracket_height = 0.03\n",
    "    bracket_y = y_max + 0.02\n",
    "    ax.plot([positions[0], positions[0], positions[1], positions[1]], \n",
    "            [bracket_y, bracket_y + bracket_height, bracket_y + bracket_height, bracket_y], \n",
    "            color='black', linewidth=1.5)\n",
    "    \n",
    "    # Add significance stars\n",
    "    ax.text((positions[0] + positions[1]) / 2, bracket_y + bracket_height + 0.01, sig_stars, \n",
    "            ha='center', va='center', fontsize=14, fontweight='bold')\n",
    "    \n",
    "    # Add sample sizes at the bottom\n",
    "    ax.text(positions[0], -0.01, f\"n={no_n}\", transform=ax.get_xaxis_transform(),\n",
    "            ha='center', va='top', fontsize=11)\n",
    "    ax.text(positions[1], -0.01, f\"n={yes_n}\", transform=ax.get_xaxis_transform(),\n",
    "            ha='center', va='top', fontsize=11)\n",
    "    \n",
    "    # Set x-axis ticks and labels\n",
    "    ax.set_xticks([])  # Remove x-ticks\n",
    "    \n",
    "    # Set y-axis limits\n",
    "    ax.set_ylim(-0.05, min(1.05, y_max + 0.15))\n",
    "    \n",
    "    # Set y-axis ticks to go from 0 to 1 with 0.2 increments\n",
    "    ax.set_yticks(np.arange(0, 1.2, 0.2))\n",
    "    \n",
    "    # Set labels\n",
    "    ax.set_ylabel(\"Vegetarian Score\", fontsize=12)\n",
    "    \n",
    "    # # Add title at the bottom of the plot\n",
    "    # ax.text(1.2, -0.3, title, ha='center', va='center', fontsize=20, fontweight='bold', \n",
    "    #         transform=ax.transAxes)\n",
    "    \n",
    "    # Add legend outside the plot\n",
    "    legend_elements = [\n",
    "        plt.Rectangle((0, 0), 1, 1, facecolor=palette[0], edgecolor='black', label='No'),\n",
    "        plt.Rectangle((0, 0), 1, 1, facecolor=palette[1], edgecolor='black', label='Yes')\n",
    "    ]\n",
    "    ax.legend(handles=legend_elements, loc='lower center', bbox_to_anchor=(0.5, -0.22), \n",
    "              title=title, ncol=2, frameon=True, title_fontsize=12)\n",
    "    \n",
    "    # Add grid\n",
    "    ax.grid(axis='y', linestyle='--', alpha=0.7)\n",
    "    \n",
    "    # Remove top and right spines\n",
    "    ax.spines['top'].set_visible(False)\n",
    "    ax.spines['right'].set_visible(False)\n",
    "    # ax.spines['bottom'].set_visible(False)  # Hide bottom spine\n",
    "    # ax.spines['left'].set_linewidth(0.5)\n",
    "    \n",
    "    # Adjust layout\n",
    "    plt.tight_layout(rect=[0, 0.05, 1, 0.95])\n",
    "    \n",
    "    # Save plot if path is provided\n",
    "    if save_path:\n",
    "        plt.savefig(save_path, dpi=300, bbox_inches='tight')\n",
    "    \n",
    "    return fig"
   ],
   "metadata": {
    "collapsed": false,
    "ExecuteTime": {
     "end_time": "2025-04-28T07:40:18.015004Z",
     "start_time": "2025-04-28T07:40:18.003835Z"
    }
   },
   "id": "e7228c8dd59eb87c",
   "execution_count": 849
  },
  {
   "cell_type": "code",
   "outputs": [
    {
     "data": {
      "text/plain": "<Figure size 300x700 with 1 Axes>",
      "image/png": "[encoded data removed]"
     },
     "metadata": {},
     "output_type": "display_data"
    }
   ],
   "source": [
    "# plot diet adherence by status for vegetarian\n",
    "fig = plot_diet_adherence_by_status(diet_feature_lifestyle, 'vegetarian_score_per_day', 'vegeterian_yes_no', figsize=(3, 7),\n",
    "                                    save_path=FIGS_DIR + '/diet_adherence_vegetarian_score_per_day_boxplot.png')"
   ],
   "metadata": {
    "collapsed": false,
    "ExecuteTime": {
     "end_time": "2025-04-28T07:40:19.177943Z",
     "start_time": "2025-04-28T07:40:18.846842Z"
    }
   },
   "id": "e75b500d02470c6d",
   "execution_count": 850
  },
  {
   "cell_type": "markdown",
   "source": [
    "## Elad's HR"
   ],
   "metadata": {
    "collapsed": false
   },
   "id": "56e7dc3832b1ab2f"
  },
  {
   "cell_type": "code",
   "outputs": [],
   "source": [
    "# # import Elad's hazard ratios\n",
    "# hr = pd.read_csv(DVIDKRO_DIR + '/risk_factor_project/X_and_predictions.csv', index_col=0)\n",
    "# shaps_hr = pd.read_csv(DVIDKRO_DIR + '/risk_factor_project/shaps_for_david.csv', index_col=0)"
   ],
   "metadata": {
    "collapsed": false,
    "ExecuteTime": {
     "end_time": "2025-04-23T14:50:14.136380Z",
     "start_time": "2025-04-23T14:50:14.133603Z"
    }
   },
   "id": "662ee0aa04c15ae",
   "execution_count": 694
  },
  {
   "cell_type": "code",
   "outputs": [],
   "source": [
    "# hr_diet = hr.join(diet_features, how='inner').join(agb_baseline['bmi'], how='inner')\n",
    "# ms_hr = serrf_full_base.join(hr.drop(columns=['age','sex']), how='inner')\n",
    "# ms_blood = serrf_full_base.join(blood_data_df_baseline, how='inner')"
   ],
   "metadata": {
    "collapsed": false,
    "ExecuteTime": {
     "end_time": "2025-04-23T14:50:14.459080Z",
     "start_time": "2025-04-23T14:50:14.456467Z"
    }
   },
   "id": "be5b07119a6129c6",
   "execution_count": 695
  },
  {
   "cell_type": "code",
   "outputs": [],
   "source": [
    "# # keep only rows with age between 40 and 70\n",
    "# hr_clean = hr[(hr['age'] >= 40) & (hr['age'] <= 70)]\n",
    "# hr_diet_clean = hr_diet[(hr_diet['age'] >= 40) & (hr_diet['age'] <= 70)]\n",
    "# ms_hr_clean = ms_hr[(ms_hr['age'] >= 40) & (ms_hr['age'] <= 70)]"
   ],
   "metadata": {
    "collapsed": false,
    "ExecuteTime": {
     "end_time": "2025-04-23T14:50:14.997581Z",
     "start_time": "2025-04-23T14:50:14.995684Z"
    }
   },
   "id": "80b75d04a4999956",
   "execution_count": 696
  },
  {
   "cell_type": "code",
   "outputs": [],
   "source": [
    "def create_age_bin_ranks(df, bin_size=5, age_col='age', pheno_age_col='phenotypic_age'):\n",
    "    \"\"\"\n",
    "    Create age bins and rank phenotypic age within each bin.\n",
    "    \n",
    "    Parameters:\n",
    "    -----------\n",
    "    df : pandas.DataFrame\n",
    "        DataFrame containing age and phenotypic age columns\n",
    "    bin_size : int, default=5\n",
    "        Size of age bins in years\n",
    "    age_col : str, default='age'\n",
    "        Name of the chronological age column\n",
    "    pheno_age_col : str, default='phenotypic_age'\n",
    "        Name of the phenotypic age column\n",
    "    \n",
    "    Returns:\n",
    "    --------\n",
    "    pandas.DataFrame\n",
    "        Original DataFrame with additional columns:\n",
    "        - 'age_bin': The age bin category\n",
    "        - 'pheno_age_rank': Rank of phenotypic age within the age bin\n",
    "        - 'pheno_age_rank_pct': Percentile rank within the age bin (0-100)\n",
    "    \"\"\"\n",
    "    # Create copy to avoid modifying original\n",
    "    df_result = df.copy()\n",
    "    \n",
    "    # Calculate bin edges to ensure all ages are included\n",
    "    min_age = df_result[age_col].min()\n",
    "    max_age = df_result[age_col].max()\n",
    "    \n",
    "    # Calculate the lower edge of the first bin\n",
    "    # Floor divide min_age by bin_size and multiply back to get the bin start\n",
    "    first_bin_edge = (min_age // bin_size) * bin_size\n",
    "    \n",
    "    # Calculate the upper edge of the last bin\n",
    "    # Ceiling divide max_age by bin_size, multiply by bin_size, and add bin_size to include all values\n",
    "    last_bin_edge = ((max_age // bin_size) + 1) * bin_size\n",
    "    \n",
    "    # Create bins\n",
    "    bins = np.arange(first_bin_edge, last_bin_edge + bin_size, bin_size)\n",
    "    \n",
    "    # Create age bins\n",
    "    df_result['age_bin'] = pd.cut(\n",
    "        df_result[age_col],\n",
    "        bins=bins,\n",
    "        labels=False,\n",
    "        include_lowest=True  # Include the lowest edge in the first bin\n",
    "    )\n",
    "    \n",
    "    # Create age bin labels for better readability\n",
    "    df_result['age_bin_label'] = pd.cut(\n",
    "        df_result[age_col],\n",
    "        bins=bins,\n",
    "        include_lowest=True\n",
    "    ).astype(str)\n",
    "    \n",
    "    # Calculate ranks within each bin\n",
    "    df_result['pheno_age_rank'] = df_result.groupby('age_bin')[pheno_age_col].rank()\n",
    "    \n",
    "    # Calculate percentile ranks within each bin (0-100 scale)\n",
    "    df_result['pheno_age_rank_pct'] = df_result.groupby('age_bin')[pheno_age_col].rank(pct=True) * 100\n",
    "    \n",
    "    # calculate the phenotypic age minus the minimal age in the bin\n",
    "    df_result['phenotypic_age_reduced'] = df_result[pheno_age_col] - df_result.groupby('age_bin')[age_col].transform('min')\n",
    "    \n",
    "    return df_result"
   ],
   "metadata": {
    "collapsed": false,
    "ExecuteTime": {
     "end_time": "2025-04-23T14:50:15.268629Z",
     "start_time": "2025-04-23T14:50:15.263276Z"
    }
   },
   "id": "a0f67116beb6f797",
   "execution_count": 697
  },
  {
   "cell_type": "code",
   "outputs": [],
   "source": [
    "# ms_hr_clean_ranked = create_age_bin_ranks(ms_hr_clean)\n",
    "# hr_diet_clean_ranked = create_age_bin_ranks(hr_diet_clean)"
   ],
   "metadata": {
    "collapsed": false,
    "ExecuteTime": {
     "end_time": "2025-04-01T07:04:30.594394Z",
     "start_time": "2025-04-01T07:04:30.394364Z"
    }
   },
   "id": "6275367ee46bd0f0",
   "execution_count": 73
  },
  {
   "cell_type": "code",
   "outputs": [],
   "source": [
    "# pheno_age_ranked_cols = ['pheno_age_rank', 'pheno_age_rank_pct','age', 'phenotypic_age', 'phenotypic_age_reduced', 'gender', 'bmi']\n",
    "# ms_hr_clean_ranked[pheno_age_ranked_cols].to_csv(output_data_dir + '/MS/y_hr_clean_ranked.csv')"
   ],
   "metadata": {
    "collapsed": false,
    "ExecuteTime": {
     "end_time": "2025-04-01T07:04:34.796095Z",
     "start_time": "2025-04-01T07:04:34.753905Z"
    }
   },
   "id": "c538bde2191bdca1",
   "execution_count": 80
  },
  {
   "cell_type": "code",
   "outputs": [
    {
     "ename": "KeyboardInterrupt",
     "evalue": "",
     "output_type": "error",
     "traceback": [
      "\u001B[0;31m---------------------------------------------------------------------------\u001B[0m",
      "\u001B[0;31mKeyboardInterrupt\u001B[0m                         Traceback (most recent call last)",
      "File \u001B[0;32m/net/mraid20/export/jasmine/david/anaconda3/envs/freshEnv/lib/python3.11/site-packages/pandas/io/formats/csvs.py:270\u001B[0m, in \u001B[0;36mCSVFormatter.save\u001B[0;34m(self)\u001B[0m\n\u001B[1;32m    260\u001B[0m \u001B[38;5;28mself\u001B[39m\u001B[38;5;241m.\u001B[39mwriter \u001B[38;5;241m=\u001B[39m csvlib\u001B[38;5;241m.\u001B[39mwriter(\n\u001B[1;32m    261\u001B[0m     handles\u001B[38;5;241m.\u001B[39mhandle,\n\u001B[1;32m    262\u001B[0m     lineterminator\u001B[38;5;241m=\u001B[39m\u001B[38;5;28mself\u001B[39m\u001B[38;5;241m.\u001B[39mlineterminator,\n\u001B[0;32m   (...)\u001B[0m\n\u001B[1;32m    267\u001B[0m     quotechar\u001B[38;5;241m=\u001B[39m\u001B[38;5;28mself\u001B[39m\u001B[38;5;241m.\u001B[39mquotechar,\n\u001B[1;32m    268\u001B[0m )\n\u001B[0;32m--> 270\u001B[0m \u001B[38;5;28mself\u001B[39m\u001B[38;5;241m.\u001B[39m_save()\n",
      "File \u001B[0;32m/net/mraid20/export/jasmine/david/anaconda3/envs/freshEnv/lib/python3.11/site-packages/pandas/io/formats/csvs.py:275\u001B[0m, in \u001B[0;36mCSVFormatter._save\u001B[0;34m(self)\u001B[0m\n\u001B[1;32m    274\u001B[0m     \u001B[38;5;28mself\u001B[39m\u001B[38;5;241m.\u001B[39m_save_header()\n\u001B[0;32m--> 275\u001B[0m \u001B[38;5;28mself\u001B[39m\u001B[38;5;241m.\u001B[39m_save_body()\n",
      "File \u001B[0;32m/net/mraid20/export/jasmine/david/anaconda3/envs/freshEnv/lib/python3.11/site-packages/pandas/io/formats/csvs.py:313\u001B[0m, in \u001B[0;36mCSVFormatter._save_body\u001B[0;34m(self)\u001B[0m\n\u001B[1;32m    312\u001B[0m     \u001B[38;5;28;01mbreak\u001B[39;00m\n\u001B[0;32m--> 313\u001B[0m \u001B[38;5;28mself\u001B[39m\u001B[38;5;241m.\u001B[39m_save_chunk(start_i, end_i)\n",
      "File \u001B[0;32m/net/mraid20/export/jasmine/david/anaconda3/envs/freshEnv/lib/python3.11/site-packages/pandas/io/formats/csvs.py:324\u001B[0m, in \u001B[0;36mCSVFormatter._save_chunk\u001B[0;34m(self, start_i, end_i)\u001B[0m\n\u001B[1;32m    323\u001B[0m ix \u001B[38;5;241m=\u001B[39m \u001B[38;5;28mself\u001B[39m\u001B[38;5;241m.\u001B[39mdata_index[slicer]\u001B[38;5;241m.\u001B[39m_get_values_for_csv(\u001B[38;5;241m*\u001B[39m\u001B[38;5;241m*\u001B[39m\u001B[38;5;28mself\u001B[39m\u001B[38;5;241m.\u001B[39m_number_format)\n\u001B[0;32m--> 324\u001B[0m libwriters\u001B[38;5;241m.\u001B[39mwrite_csv_rows(\n\u001B[1;32m    325\u001B[0m     data,\n\u001B[1;32m    326\u001B[0m     ix,\n\u001B[1;32m    327\u001B[0m     \u001B[38;5;28mself\u001B[39m\u001B[38;5;241m.\u001B[39mnlevels,\n\u001B[1;32m    328\u001B[0m     \u001B[38;5;28mself\u001B[39m\u001B[38;5;241m.\u001B[39mcols,\n\u001B[1;32m    329\u001B[0m     \u001B[38;5;28mself\u001B[39m\u001B[38;5;241m.\u001B[39mwriter,\n\u001B[1;32m    330\u001B[0m )\n",
      "File \u001B[0;32mwriters.pyx:76\u001B[0m, in \u001B[0;36mpandas._libs.writers.write_csv_rows\u001B[0;34m()\u001B[0m\n",
      "\u001B[0;31mKeyboardInterrupt\u001B[0m: ",
      "\nDuring handling of the above exception, another exception occurred:\n",
      "\u001B[0;31mKeyboardInterrupt\u001B[0m                         Traceback (most recent call last)",
      "Cell \u001B[0;32mIn[81], line 2\u001B[0m\n\u001B[1;32m      1\u001B[0m cols_ms_age \u001B[38;5;241m=\u001B[39m \u001B[38;5;28mlist\u001B[39m(serrf_full_base\u001B[38;5;241m.\u001B[39mcolumns) \u001B[38;5;241m+\u001B[39m [\u001B[38;5;124m'\u001B[39m\u001B[38;5;124mage_bin\u001B[39m\u001B[38;5;124m'\u001B[39m]\n\u001B[0;32m----> 2\u001B[0m ms_hr_clean_ranked[cols_ms_age]\u001B[38;5;241m.\u001B[39mdrop(columns\u001B[38;5;241m=\u001B[39m[\u001B[38;5;124m'\u001B[39m\u001B[38;5;124mage\u001B[39m\u001B[38;5;124m'\u001B[39m,\u001B[38;5;124m'\u001B[39m\u001B[38;5;124mgender\u001B[39m\u001B[38;5;124m'\u001B[39m,\u001B[38;5;124m'\u001B[39m\u001B[38;5;124mbmi\u001B[39m\u001B[38;5;124m'\u001B[39m])\u001B[38;5;241m.\u001B[39mto_csv(output_data_dir \u001B[38;5;241m+\u001B[39m \u001B[38;5;124m'\u001B[39m\u001B[38;5;124m/MS/x_hr_clean_ranked.csv\u001B[39m\u001B[38;5;124m'\u001B[39m)\n\u001B[1;32m      3\u001B[0m ms_hr_clean_ranked[cols_ms_age]\u001B[38;5;241m.\u001B[39mdrop(columns\u001B[38;5;241m=\u001B[39m[\u001B[38;5;124m'\u001B[39m\u001B[38;5;124mage\u001B[39m\u001B[38;5;124m'\u001B[39m])\u001B[38;5;241m.\u001B[39mto_csv(output_data_dir \u001B[38;5;241m+\u001B[39m \u001B[38;5;124m'\u001B[39m\u001B[38;5;124m/MS/x_hr_clean_ranked_w_GB.csv\u001B[39m\u001B[38;5;124m'\u001B[39m)\n",
      "File \u001B[0;32m/net/mraid20/export/jasmine/david/anaconda3/envs/freshEnv/lib/python3.11/site-packages/pandas/util/_decorators.py:333\u001B[0m, in \u001B[0;36mdeprecate_nonkeyword_arguments.<locals>.decorate.<locals>.wrapper\u001B[0;34m(*args, **kwargs)\u001B[0m\n\u001B[1;32m    327\u001B[0m \u001B[38;5;28;01mif\u001B[39;00m \u001B[38;5;28mlen\u001B[39m(args) \u001B[38;5;241m>\u001B[39m num_allow_args:\n\u001B[1;32m    328\u001B[0m     warnings\u001B[38;5;241m.\u001B[39mwarn(\n\u001B[1;32m    329\u001B[0m         msg\u001B[38;5;241m.\u001B[39mformat(arguments\u001B[38;5;241m=\u001B[39m_format_argument_list(allow_args)),\n\u001B[1;32m    330\u001B[0m         \u001B[38;5;167;01mFutureWarning\u001B[39;00m,\n\u001B[1;32m    331\u001B[0m         stacklevel\u001B[38;5;241m=\u001B[39mfind_stack_level(),\n\u001B[1;32m    332\u001B[0m     )\n\u001B[0;32m--> 333\u001B[0m \u001B[38;5;28;01mreturn\u001B[39;00m func(\u001B[38;5;241m*\u001B[39margs, \u001B[38;5;241m*\u001B[39m\u001B[38;5;241m*\u001B[39mkwargs)\n",
      "File \u001B[0;32m/net/mraid20/export/jasmine/david/anaconda3/envs/freshEnv/lib/python3.11/site-packages/pandas/core/generic.py:3967\u001B[0m, in \u001B[0;36mNDFrame.to_csv\u001B[0;34m(self, path_or_buf, sep, na_rep, float_format, columns, header, index, index_label, mode, encoding, compression, quoting, quotechar, lineterminator, chunksize, date_format, doublequote, escapechar, decimal, errors, storage_options)\u001B[0m\n\u001B[1;32m   3956\u001B[0m df \u001B[38;5;241m=\u001B[39m \u001B[38;5;28mself\u001B[39m \u001B[38;5;28;01mif\u001B[39;00m \u001B[38;5;28misinstance\u001B[39m(\u001B[38;5;28mself\u001B[39m, ABCDataFrame) \u001B[38;5;28;01melse\u001B[39;00m \u001B[38;5;28mself\u001B[39m\u001B[38;5;241m.\u001B[39mto_frame()\n\u001B[1;32m   3958\u001B[0m formatter \u001B[38;5;241m=\u001B[39m DataFrameFormatter(\n\u001B[1;32m   3959\u001B[0m     frame\u001B[38;5;241m=\u001B[39mdf,\n\u001B[1;32m   3960\u001B[0m     header\u001B[38;5;241m=\u001B[39mheader,\n\u001B[0;32m   (...)\u001B[0m\n\u001B[1;32m   3964\u001B[0m     decimal\u001B[38;5;241m=\u001B[39mdecimal,\n\u001B[1;32m   3965\u001B[0m )\n\u001B[0;32m-> 3967\u001B[0m \u001B[38;5;28;01mreturn\u001B[39;00m DataFrameRenderer(formatter)\u001B[38;5;241m.\u001B[39mto_csv(\n\u001B[1;32m   3968\u001B[0m     path_or_buf,\n\u001B[1;32m   3969\u001B[0m     lineterminator\u001B[38;5;241m=\u001B[39mlineterminator,\n\u001B[1;32m   3970\u001B[0m     sep\u001B[38;5;241m=\u001B[39msep,\n\u001B[1;32m   3971\u001B[0m     encoding\u001B[38;5;241m=\u001B[39mencoding,\n\u001B[1;32m   3972\u001B[0m     errors\u001B[38;5;241m=\u001B[39merrors,\n\u001B[1;32m   3973\u001B[0m     compression\u001B[38;5;241m=\u001B[39mcompression,\n\u001B[1;32m   3974\u001B[0m     quoting\u001B[38;5;241m=\u001B[39mquoting,\n\u001B[1;32m   3975\u001B[0m     columns\u001B[38;5;241m=\u001B[39mcolumns,\n\u001B[1;32m   3976\u001B[0m     index_label\u001B[38;5;241m=\u001B[39mindex_label,\n\u001B[1;32m   3977\u001B[0m     mode\u001B[38;5;241m=\u001B[39mmode,\n\u001B[1;32m   3978\u001B[0m     chunksize\u001B[38;5;241m=\u001B[39mchunksize,\n\u001B[1;32m   3979\u001B[0m     quotechar\u001B[38;5;241m=\u001B[39mquotechar,\n\u001B[1;32m   3980\u001B[0m     date_format\u001B[38;5;241m=\u001B[39mdate_format,\n\u001B[1;32m   3981\u001B[0m     doublequote\u001B[38;5;241m=\u001B[39mdoublequote,\n\u001B[1;32m   3982\u001B[0m     escapechar\u001B[38;5;241m=\u001B[39mescapechar,\n\u001B[1;32m   3983\u001B[0m     storage_options\u001B[38;5;241m=\u001B[39mstorage_options,\n\u001B[1;32m   3984\u001B[0m )\n",
      "File \u001B[0;32m/net/mraid20/export/jasmine/david/anaconda3/envs/freshEnv/lib/python3.11/site-packages/pandas/io/formats/format.py:1014\u001B[0m, in \u001B[0;36mDataFrameRenderer.to_csv\u001B[0;34m(self, path_or_buf, encoding, sep, columns, index_label, mode, compression, quoting, quotechar, lineterminator, chunksize, date_format, doublequote, escapechar, errors, storage_options)\u001B[0m\n\u001B[1;32m    993\u001B[0m     created_buffer \u001B[38;5;241m=\u001B[39m \u001B[38;5;28;01mFalse\u001B[39;00m\n\u001B[1;32m    995\u001B[0m csv_formatter \u001B[38;5;241m=\u001B[39m CSVFormatter(\n\u001B[1;32m    996\u001B[0m     path_or_buf\u001B[38;5;241m=\u001B[39mpath_or_buf,\n\u001B[1;32m    997\u001B[0m     lineterminator\u001B[38;5;241m=\u001B[39mlineterminator,\n\u001B[0;32m   (...)\u001B[0m\n\u001B[1;32m   1012\u001B[0m     formatter\u001B[38;5;241m=\u001B[39m\u001B[38;5;28mself\u001B[39m\u001B[38;5;241m.\u001B[39mfmt,\n\u001B[1;32m   1013\u001B[0m )\n\u001B[0;32m-> 1014\u001B[0m csv_formatter\u001B[38;5;241m.\u001B[39msave()\n\u001B[1;32m   1016\u001B[0m \u001B[38;5;28;01mif\u001B[39;00m created_buffer:\n\u001B[1;32m   1017\u001B[0m     \u001B[38;5;28;01massert\u001B[39;00m \u001B[38;5;28misinstance\u001B[39m(path_or_buf, StringIO)\n",
      "File \u001B[0;32m/net/mraid20/export/jasmine/david/anaconda3/envs/freshEnv/lib/python3.11/site-packages/pandas/io/formats/csvs.py:251\u001B[0m, in \u001B[0;36mCSVFormatter.save\u001B[0;34m(self)\u001B[0m\n\u001B[1;32m    247\u001B[0m \u001B[38;5;250m\u001B[39m\u001B[38;5;124;03m\"\"\"\u001B[39;00m\n\u001B[1;32m    248\u001B[0m \u001B[38;5;124;03mCreate the writer & save.\u001B[39;00m\n\u001B[1;32m    249\u001B[0m \u001B[38;5;124;03m\"\"\"\u001B[39;00m\n\u001B[1;32m    250\u001B[0m \u001B[38;5;66;03m# apply compression and byte/text conversion\u001B[39;00m\n\u001B[0;32m--> 251\u001B[0m \u001B[38;5;28;01mwith\u001B[39;00m get_handle(\n\u001B[1;32m    252\u001B[0m     \u001B[38;5;28mself\u001B[39m\u001B[38;5;241m.\u001B[39mfilepath_or_buffer,\n\u001B[1;32m    253\u001B[0m     \u001B[38;5;28mself\u001B[39m\u001B[38;5;241m.\u001B[39mmode,\n\u001B[1;32m    254\u001B[0m     encoding\u001B[38;5;241m=\u001B[39m\u001B[38;5;28mself\u001B[39m\u001B[38;5;241m.\u001B[39mencoding,\n\u001B[1;32m    255\u001B[0m     errors\u001B[38;5;241m=\u001B[39m\u001B[38;5;28mself\u001B[39m\u001B[38;5;241m.\u001B[39merrors,\n\u001B[1;32m    256\u001B[0m     compression\u001B[38;5;241m=\u001B[39m\u001B[38;5;28mself\u001B[39m\u001B[38;5;241m.\u001B[39mcompression,\n\u001B[1;32m    257\u001B[0m     storage_options\u001B[38;5;241m=\u001B[39m\u001B[38;5;28mself\u001B[39m\u001B[38;5;241m.\u001B[39mstorage_options,\n\u001B[1;32m    258\u001B[0m ) \u001B[38;5;28;01mas\u001B[39;00m handles:\n\u001B[1;32m    259\u001B[0m     \u001B[38;5;66;03m# Note: self.encoding is irrelevant here\u001B[39;00m\n\u001B[1;32m    260\u001B[0m     \u001B[38;5;28mself\u001B[39m\u001B[38;5;241m.\u001B[39mwriter \u001B[38;5;241m=\u001B[39m csvlib\u001B[38;5;241m.\u001B[39mwriter(\n\u001B[1;32m    261\u001B[0m         handles\u001B[38;5;241m.\u001B[39mhandle,\n\u001B[1;32m    262\u001B[0m         lineterminator\u001B[38;5;241m=\u001B[39m\u001B[38;5;28mself\u001B[39m\u001B[38;5;241m.\u001B[39mlineterminator,\n\u001B[0;32m   (...)\u001B[0m\n\u001B[1;32m    267\u001B[0m         quotechar\u001B[38;5;241m=\u001B[39m\u001B[38;5;28mself\u001B[39m\u001B[38;5;241m.\u001B[39mquotechar,\n\u001B[1;32m    268\u001B[0m     )\n\u001B[1;32m    270\u001B[0m     \u001B[38;5;28mself\u001B[39m\u001B[38;5;241m.\u001B[39m_save()\n",
      "File \u001B[0;32m/net/mraid20/export/jasmine/david/anaconda3/envs/freshEnv/lib/python3.11/site-packages/pandas/io/common.py:157\u001B[0m, in \u001B[0;36mIOHandles.__exit__\u001B[0;34m(self, exc_type, exc_value, traceback)\u001B[0m\n\u001B[1;32m    151\u001B[0m \u001B[38;5;28;01mdef\u001B[39;00m \u001B[38;5;21m__exit__\u001B[39m(\n\u001B[1;32m    152\u001B[0m     \u001B[38;5;28mself\u001B[39m,\n\u001B[1;32m    153\u001B[0m     exc_type: \u001B[38;5;28mtype\u001B[39m[\u001B[38;5;167;01mBaseException\u001B[39;00m] \u001B[38;5;241m|\u001B[39m \u001B[38;5;28;01mNone\u001B[39;00m,\n\u001B[1;32m    154\u001B[0m     exc_value: \u001B[38;5;167;01mBaseException\u001B[39;00m \u001B[38;5;241m|\u001B[39m \u001B[38;5;28;01mNone\u001B[39;00m,\n\u001B[1;32m    155\u001B[0m     traceback: TracebackType \u001B[38;5;241m|\u001B[39m \u001B[38;5;28;01mNone\u001B[39;00m,\n\u001B[1;32m    156\u001B[0m ) \u001B[38;5;241m-\u001B[39m\u001B[38;5;241m>\u001B[39m \u001B[38;5;28;01mNone\u001B[39;00m:\n\u001B[0;32m--> 157\u001B[0m     \u001B[38;5;28mself\u001B[39m\u001B[38;5;241m.\u001B[39mclose()\n",
      "File \u001B[0;32m/net/mraid20/export/jasmine/david/anaconda3/envs/freshEnv/lib/python3.11/site-packages/pandas/io/common.py:144\u001B[0m, in \u001B[0;36mIOHandles.close\u001B[0;34m(self)\u001B[0m\n\u001B[1;32m    142\u001B[0m     \u001B[38;5;28mself\u001B[39m\u001B[38;5;241m.\u001B[39mcreated_handles\u001B[38;5;241m.\u001B[39mremove(\u001B[38;5;28mself\u001B[39m\u001B[38;5;241m.\u001B[39mhandle)\n\u001B[1;32m    143\u001B[0m \u001B[38;5;28;01mfor\u001B[39;00m handle \u001B[38;5;129;01min\u001B[39;00m \u001B[38;5;28mself\u001B[39m\u001B[38;5;241m.\u001B[39mcreated_handles:\n\u001B[0;32m--> 144\u001B[0m     handle\u001B[38;5;241m.\u001B[39mclose()\n\u001B[1;32m    145\u001B[0m \u001B[38;5;28mself\u001B[39m\u001B[38;5;241m.\u001B[39mcreated_handles \u001B[38;5;241m=\u001B[39m []\n\u001B[1;32m    146\u001B[0m \u001B[38;5;28mself\u001B[39m\u001B[38;5;241m.\u001B[39mis_wrapped \u001B[38;5;241m=\u001B[39m \u001B[38;5;28;01mFalse\u001B[39;00m\n",
      "\u001B[0;31mKeyboardInterrupt\u001B[0m: "
     ]
    }
   ],
   "source": [
    "# cols_ms_age = list(serrf_full_base.columns) + ['age_bin']\n",
    "# ms_hr_clean_ranked[cols_ms_age].drop(columns=['age','gender','bmi']).to_csv(output_data_dir + '/MS/x_hr_clean_ranked.csv')\n",
    "# ms_hr_clean_ranked[cols_ms_age].drop(columns=['age']).to_csv(output_data_dir + '/MS/x_hr_clean_ranked_w_GB.csv')"
   ],
   "metadata": {
    "collapsed": false,
    "ExecuteTime": {
     "end_time": "2025-04-01T07:04:48.795366Z",
     "start_time": "2025-04-01T07:04:35.181132Z"
    }
   },
   "id": "cec32d6c50ee003c",
   "execution_count": 81
  },
  {
   "cell_type": "code",
   "outputs": [],
   "source": [
    "# import re\n",
    "# # rename all columns with specail chras to _ \n",
    "# ms_hr_clean_ranked.columns = [re.sub(r'\\W+', '_', col) for col in ms_hr_clean_ranked.columns]"
   ],
   "metadata": {
    "collapsed": false
   },
   "id": "232f60fb6654fed0",
   "execution_count": null
  },
  {
   "cell_type": "code",
   "outputs": [],
   "source": [
    "# # read feature importance column from wfpb diet\n",
    "# wfpb_feature_importance = pd.read_csv(DIET_PAPER_DIR + '/Matched_Oral_wCCS/x_ms_matched/y_diet_adherence_scores/results/wfpb_score_per_day/feature_importance_wfpb_score_per_day.csv', index_col=0)\n",
    "# top1000_wfpb = wfpb_feature_importance.head(1900)"
   ],
   "metadata": {
    "collapsed": false
   },
   "id": "9d5d5ff2c8727c71",
   "execution_count": null
  },
  {
   "cell_type": "code",
   "outputs": [],
   "source": [
    "# # remove all indexes with top 100 impotance values in wfpb diet from columns in ms_hr_clean_ranked\n",
    "# ms_hr_clean_ranked_filtered = ms_hr_clean_ranked.drop(columns=top1000_wfpb.index)"
   ],
   "metadata": {
    "collapsed": false
   },
   "id": "d5f8d420dc27da3f",
   "execution_count": null
  },
  {
   "cell_type": "code",
   "outputs": [],
   "source": [
    "# ms_hr_clean_ranked_filtered_diet = ms_hr_clean_ranked_filtered.join(diet_features[diet_scores_no_NOVA], how='inner')"
   ],
   "metadata": {
    "collapsed": false
   },
   "id": "30c773dece515cce",
   "execution_count": null
  },
  {
   "cell_type": "code",
   "outputs": [],
   "source": [
    "# # get all column with 'm_z' in the name or 'n_' in the name\n",
    "# mz_cols = ms_hr_clean_ranked_filtered.columns[ms_hr_clean_ranked_filtered.columns.str.contains('m_z')]\n",
    "# n_cols = ms_hr_clean_ranked_filtered.columns[ms_hr_clean_ranked_filtered.columns.str.contains('n_')]\n",
    "# all_metabo_cols = mz_cols.union(n_cols)\n",
    "# ms_hr_clean_ranked_filtered[all_metabo_cols].drop(columns=['age_bin_label']).to_csv(output_data_dir + '/MS/x_hr_clean_ranked_filtered_wfpb_1900.csv')"
   ],
   "metadata": {
    "collapsed": false
   },
   "id": "ac30436ab4ae81c",
   "execution_count": null
  },
  {
   "cell_type": "code",
   "outputs": [],
   "source": [
    "# ms_hr_clean_ranked_filtered_diet.drop(columns=['age_bin_label']).to_csv(output_data_dir + '/MS/x_hr_clean_ranked_filtered_wfpb_0_diet.csv')"
   ],
   "metadata": {
    "collapsed": false
   },
   "id": "d74e338bde7e7dd4",
   "execution_count": null
  },
  {
   "cell_type": "code",
   "outputs": [],
   "source": [
    "# ms_hr_clean_ranked_filtered_diet[diet_scores_no_NOVA].to_csv(output_data_dir + '/MS/y_filtered_wfpb_1000_diet.csv')"
   ],
   "metadata": {
    "collapsed": false
   },
   "id": "25250fc44d23efd6",
   "execution_count": null
  },
  {
   "cell_type": "code",
   "outputs": [],
   "source": [
    "# # save sepereatly for each age_bin value\n",
    "# for age_bin in ms_hr_clean_ranked['age_bin'].unique():\n",
    "#     ms_hr_clean_ranked[ms_hr_clean_ranked['age_bin'] == age_bin][serrf_full_base.columns].drop(columns=['age','gender','bmi']).to_csv(output_data_dir + f'/MS/x_hr_clean_ranked_{age_bin}.csv')\n",
    "#     ms_hr_clean_ranked[ms_hr_clean_ranked['age_bin'] == age_bin][serrf_full_base.columns].drop(columns=['age']).to_csv(output_data_dir + f'/MS/x_hr_clean_ranked_w_GB_{age_bin}.csv')\n",
    "#     ms_hr_clean_ranked[ms_hr_clean_ranked['age_bin'] == age_bin][pheno_age_ranked_cols].to_csv(output_data_dir + f'/MS/y_hr_clean_ranked_{age_bin}.csv')"
   ],
   "metadata": {
    "collapsed": false
   },
   "id": "ffbae8c68e592bd0",
   "execution_count": null
  },
  {
   "cell_type": "code",
   "outputs": [],
   "source": [
    "# all columns starting wiht 's__'  from df\n",
    "# mpa_only = diet_mb_mpa.loc[:, diet_mb_mpa.columns.str.startswith('s__')].join(diet_mb_mpa[['Richness', 'Shannon_diversity']])"
   ],
   "metadata": {
    "collapsed": false
   },
   "id": "3a54c9d1dd2b2859",
   "execution_count": null
  },
  {
   "cell_type": "markdown",
   "source": [
    "## Joining the data"
   ],
   "metadata": {
    "collapsed": false
   },
   "id": "88d07873fd149736"
  },
  {
   "cell_type": "code",
   "outputs": [
    {
     "data": {
      "text/plain": "Index(['1.81_904.4772n_290.2', '1.95_1076.5247n_352.29',\n       '2.04_558.1404n_207.0', '1.88_1090.4203n_344.04',\n       '1.66_334.0144n_180.66', '2.14_630.1615n_222.67',\n       '2.13_602.0943n_294.0', '2.21_1106.4885n_353.01',\n       '2.24_863.4035n_279.77', '2.35_856.3247n_269.15',\n       ...\n       '0.64_213.0860m/z_151.39', '0.62_244.0314m/z_142.91',\n       '0.62_403.0312m/z_177.76', '0.60_145.0984m/z_134.63',\n       '0.59_129.0044m/z_127.63', '0.59_143.0200m/z_136.23',\n       '0.57_114.9885m/z_117.44', 'age', 'gender', 'bmi'],\n      dtype='object', length=2250)"
     },
     "execution_count": 191,
     "metadata": {},
     "output_type": "execute_result"
    }
   ],
   "source": [
    "serrf_full_base.columns"
   ],
   "metadata": {
    "collapsed": false,
    "ExecuteTime": {
     "end_time": "2025-07-12T13:46:30.704757Z",
     "start_time": "2025-07-12T13:46:30.701105Z"
    }
   },
   "id": "b9597ed55198abe6",
   "execution_count": 191
  },
  {
   "cell_type": "code",
   "outputs": [],
   "source": [
    "ms_joined_diet_features = serrf_full_base.join(diet_features, how='inner')\n",
    "clusterd_09_base_joined = clusterd_09_base.join(diet_features, how='inner')\n",
    "clusterd_08_base_joined = clusterd_08_base.join(diet_features, how='inner')\n",
    "clusterd_07_base_joined = clusterd_07_base.join(diet_features, how='inner')\n",
    "nightingale_data_diet = nightingale_data.join(diet_features, how='inner')\n",
    "ms_joined_lifestyle = serrf_full_base.join(lifestyle_data_baseline_filtered, how='inner')"
   ],
   "metadata": {
    "collapsed": false,
    "ExecuteTime": {
     "end_time": "2025-07-12T12:49:36.573969Z",
     "start_time": "2025-07-12T12:49:36.122842Z"
    }
   },
   "id": "de4282a4bf7f8232",
   "execution_count": 121
  },
  {
   "cell_type": "code",
   "outputs": [
    {
     "data": {
      "text/plain": "(5900, 1567)"
     },
     "execution_count": 122,
     "metadata": {},
     "output_type": "execute_result"
    }
   ],
   "source": [
    "clusterd_09_base.shape"
   ],
   "metadata": {
    "collapsed": false,
    "ExecuteTime": {
     "end_time": "2025-07-12T12:49:36.578018Z",
     "start_time": "2025-07-12T12:49:36.575107Z"
    }
   },
   "id": "229d81a08ffc8ea7",
   "execution_count": 122
  },
  {
   "cell_type": "code",
   "outputs": [
    {
     "data": {
      "text/plain": "(5163, 2267)"
     },
     "execution_count": 123,
     "metadata": {},
     "output_type": "execute_result"
    }
   ],
   "source": [
    "clusterd_09_base_joined.shape"
   ],
   "metadata": {
    "collapsed": false,
    "ExecuteTime": {
     "end_time": "2025-07-12T12:49:40.160108Z",
     "start_time": "2025-07-12T12:49:40.156471Z"
    }
   },
   "id": "8a423b820afad16f",
   "execution_count": 123
  },
  {
   "cell_type": "code",
   "outputs": [
    {
     "data": {
      "text/plain": "(5163, 2950)"
     },
     "execution_count": 124,
     "metadata": {},
     "output_type": "execute_result"
    }
   ],
   "source": [
    "ms_joined_diet_features.shape"
   ],
   "metadata": {
    "collapsed": false,
    "ExecuteTime": {
     "end_time": "2025-07-12T12:49:41.272838Z",
     "start_time": "2025-07-12T12:49:41.269154Z"
    }
   },
   "id": "d7391ca9926977d",
   "execution_count": 124
  },
  {
   "cell_type": "code",
   "outputs": [],
   "source": [
    "# load oral microbiome data\n",
    "oral_mb = pd.read_parquet('/net/mraid20/ifs/wisdom/segal_lab/genie/LabData/Data/10K/oral_microbiome/Data/species_oral_strict_preprocess.parquet')"
   ],
   "metadata": {
    "collapsed": false,
    "ExecuteTime": {
     "end_time": "2025-07-12T12:49:43.583937Z",
     "start_time": "2025-07-12T12:49:42.461653Z"
    }
   },
   "id": "e7bd6bf21dd6b3b0",
   "execution_count": 125
  },
  {
   "cell_type": "code",
   "outputs": [
    {
     "data": {
      "text/plain": "(7525, 122)"
     },
     "execution_count": 126,
     "metadata": {},
     "output_type": "execute_result"
    }
   ],
   "source": [
    "oral_mb.shape"
   ],
   "metadata": {
    "collapsed": false,
    "ExecuteTime": {
     "end_time": "2025-07-12T12:49:44.734250Z",
     "start_time": "2025-07-12T12:49:44.730651Z"
    }
   },
   "id": "cd46a6d70e0d847e",
   "execution_count": 126
  },
  {
   "cell_type": "code",
   "outputs": [],
   "source": [
    "oral_mb.columns = oral_mb.columns.str.split('|').str[-1]\n",
    "oral_mb.columns = oral_mb.columns.str.split('__').str[-1]"
   ],
   "metadata": {
    "collapsed": false,
    "ExecuteTime": {
     "end_time": "2025-07-12T12:49:44.922023Z",
     "start_time": "2025-07-12T12:49:44.917279Z"
    }
   },
   "id": "b6342119bf2e2e43",
   "execution_count": 127
  },
  {
   "cell_type": "code",
   "outputs": [],
   "source": [
    "ms_oral_mb = serrf_full_base.join(oral_mb, how='inner')\n",
    "oral_mb_diet = oral_mb.join(diet_features, how='inner')"
   ],
   "metadata": {
    "collapsed": false,
    "ExecuteTime": {
     "end_time": "2025-07-12T12:49:45.501637Z",
     "start_time": "2025-07-12T12:49:45.388678Z"
    }
   },
   "id": "5913adb7321da4f9",
   "execution_count": 128
  },
  {
   "cell_type": "code",
   "outputs": [
    {
     "data": {
      "text/plain": "(4083, 2372)"
     },
     "execution_count": 129,
     "metadata": {},
     "output_type": "execute_result"
    }
   ],
   "source": [
    "ms_oral_mb.shape"
   ],
   "metadata": {
    "collapsed": false,
    "ExecuteTime": {
     "end_time": "2025-07-12T12:49:45.904546Z",
     "start_time": "2025-07-12T12:49:45.901775Z"
    }
   },
   "id": "92cd0f22eb0f35c7",
   "execution_count": 129
  },
  {
   "cell_type": "code",
   "outputs": [],
   "source": [
    "gut_mpa_baseline_agb = gut_mpa_baseline.join(agb_baseline, how='inner')\n",
    "gut_mpa_baseline_agb_diet = gut_mpa_baseline_agb.join(diet_features, how='inner')\n",
    "ms_mpa_baseline = serrf_full_base.join(gut_mpa_baseline, how='inner')"
   ],
   "metadata": {
    "collapsed": false,
    "ExecuteTime": {
     "end_time": "2025-07-12T12:49:49.728637Z",
     "start_time": "2025-07-12T12:49:48.650269Z"
    }
   },
   "id": "177b95b24365573",
   "execution_count": 130
  },
  {
   "cell_type": "code",
   "outputs": [],
   "source": [
    "def filter_prevalence(df, baseline_cols, threshold=0.1):\n",
    "   global_min = df[baseline_cols].min().min()\n",
    "   baseline_mask = (df[baseline_cols] > global_min).mean() >= threshold\n",
    "   other_cols = df.columns.difference(baseline_cols)\n",
    "   # print number of columns kept out of baseline columns\n",
    "   print(f'Number of columns kept: {df[baseline_cols].loc[:, baseline_mask].shape[1]} out of {df[baseline_cols].shape[1]}')\n",
    "   return df[df[baseline_cols].loc[:, baseline_mask].columns.union(other_cols)], df[baseline_cols].loc[:, baseline_mask].columns"
   ],
   "metadata": {
    "collapsed": false,
    "ExecuteTime": {
     "end_time": "2025-07-12T12:49:53.770805Z",
     "start_time": "2025-07-12T12:49:53.767178Z"
    }
   },
   "id": "bb372e858359db5f",
   "execution_count": 131
  },
  {
   "cell_type": "code",
   "outputs": [
    {
     "name": "stdout",
     "output_type": "stream",
     "text": [
      "Number of columns kept: 378 out of 3512\n",
      "Number of columns kept: 377 out of 3512\n"
     ]
    }
   ],
   "source": [
    "filtered_mpa_diet, filtered_diet_mpa_cols = filter_prevalence(gut_mpa_baseline_agb_diet, gut_mpa_baseline.columns, threshold=0.1)\n",
    "filtered_ms_mpa, ms_mpa_cols = filter_prevalence(ms_mpa_baseline, gut_mpa_baseline.columns, threshold=0.1)"
   ],
   "metadata": {
    "collapsed": false,
    "ExecuteTime": {
     "end_time": "2025-07-12T12:49:57.905997Z",
     "start_time": "2025-07-12T12:49:56.764836Z"
    }
   },
   "id": "bf4100ffba895c45",
   "execution_count": 132
  },
  {
   "cell_type": "code",
   "outputs": [],
   "source": [
    "# import NOVA food scores\n",
    "nova_scores_baseline = pd.read_csv('/net/mraid20/export/genie/LabData/Data/10K/foods/upf_baseline.csv', index_col=0)\n",
    "nova_scores_visit2 = pd.read_csv('/net/mraid20/export/genie/LabData/Data/10K/foods/upf_2y.csv', index_col=0)\n",
    "short_names_food_categories = pd.read_excel('/net/mraid20/export/genie/LabData/Data/10K/foods/scores_categories_short_names.xlsx', index_col=0)\n",
    "nova_fiber = pd.read_csv('/home/godnean/PycharmProjects/nastyaPapers/fiber_per_person.csv', index_col=0)"
   ],
   "metadata": {
    "collapsed": false,
    "ExecuteTime": {
     "end_time": "2025-07-12T12:49:58.544058Z",
     "start_time": "2025-07-12T12:49:57.907007Z"
    }
   },
   "id": "d415d4d7d7147573",
   "execution_count": 133
  },
  {
   "cell_type": "code",
   "outputs": [],
   "source": [
    "# rename nova_fiber columns with _fiber suffix\n",
    "nova_fiber.columns = [col + '_nova_fiber' for col in nova_fiber.columns]"
   ],
   "metadata": {
    "collapsed": false,
    "ExecuteTime": {
     "end_time": "2025-07-12T12:49:58.547898Z",
     "start_time": "2025-07-12T12:49:58.545207Z"
    }
   },
   "id": "b6b650200f268f66",
   "execution_count": 134
  },
  {
   "cell_type": "code",
   "outputs": [
    {
     "data": {
      "text/plain": "Index(['1', '2', '3', '4', 'NOVA Score'], dtype='object')"
     },
     "execution_count": 135,
     "metadata": {},
     "output_type": "execute_result"
    }
   ],
   "source": [
    "nova_scores_baseline.columns"
   ],
   "metadata": {
    "collapsed": false,
    "ExecuteTime": {
     "end_time": "2025-07-12T12:49:58.990388Z",
     "start_time": "2025-07-12T12:49:58.987419Z"
    }
   },
   "id": "13067621a8b4c2b9",
   "execution_count": 135
  },
  {
   "cell_type": "code",
   "outputs": [],
   "source": [
    "joined_diet_mpa_serrf_nightinglae = serrf_full_base.join(gut_mpa_baseline, how='inner').join(nightingale_data.drop(columns=['age', 'gender','bmi']), how='inner').join(diet_features, how='inner').join(nova_scores_baseline.drop('NOVA Score', axis=1), how='inner').join(nova_fiber, how='inner')\n",
    "joined_diet_mpa_serrf_nightinglae_pre = serrf_full_base.join(gut_mpa_baseline, how='inner').join(nightingale_data.drop(columns=['age', 'gender','bmi']), how='inner').join(diet_features_pre, how='inner')\n",
    "ms_mpa_nmr_oral_nova_baseline = serrf_full_base.join(gut_mpa_baseline, how='inner').join(nightingale_data.drop(columns=['age', 'gender','bmi']), how='inner').join(oral_mb, how='inner').join(nova_scores_baseline, how='inner').join(nova_fiber, how='inner')"
   ],
   "metadata": {
    "collapsed": false,
    "ExecuteTime": {
     "end_time": "2025-07-12T12:50:03.099314Z",
     "start_time": "2025-07-12T12:49:59.514273Z"
    }
   },
   "id": "c2d149aef7728a7a",
   "execution_count": 136
  },
  {
   "cell_type": "code",
   "outputs": [
    {
     "data": {
      "text/plain": "(3863, 6638)"
     },
     "execution_count": 137,
     "metadata": {},
     "output_type": "execute_result"
    }
   ],
   "source": [
    "joined_diet_mpa_serrf_nightinglae.shape"
   ],
   "metadata": {
    "collapsed": false,
    "ExecuteTime": {
     "end_time": "2025-07-12T12:50:07.473968Z",
     "start_time": "2025-07-12T12:50:07.470579Z"
    }
   },
   "id": "3815827a2032fc7b",
   "execution_count": 137
  },
  {
   "cell_type": "code",
   "outputs": [
    {
     "data": {
      "text/plain": "(1921, 6286)"
     },
     "execution_count": 138,
     "metadata": {},
     "output_type": "execute_result"
    }
   ],
   "source": [
    "joined_diet_mpa_serrf_nightinglae_pre.shape"
   ],
   "metadata": {
    "collapsed": false,
    "ExecuteTime": {
     "end_time": "2025-07-12T12:50:10.210323Z",
     "start_time": "2025-07-12T12:50:10.207024Z"
    }
   },
   "id": "929f1cc47e694071",
   "execution_count": 138
  },
  {
   "cell_type": "code",
   "outputs": [],
   "source": [
    "ms_mpa_nmr_diet_oral = joined_diet_mpa_serrf_nightinglae.join(oral_mb, how='inner')\n",
    "ms_mpa_nmr_diet_oral_pre = joined_diet_mpa_serrf_nightinglae_pre.join(oral_mb, how='inner')"
   ],
   "metadata": {
    "collapsed": false,
    "ExecuteTime": {
     "end_time": "2025-07-12T12:50:15.196650Z",
     "start_time": "2025-07-12T12:50:14.817224Z"
    }
   },
   "id": "a1b8e6c448381894",
   "execution_count": 139
  },
  {
   "cell_type": "code",
   "outputs": [
    {
     "data": {
      "text/plain": "(3190, 6760)"
     },
     "execution_count": 140,
     "metadata": {},
     "output_type": "execute_result"
    }
   ],
   "source": [
    "ms_mpa_nmr_diet_oral.shape"
   ],
   "metadata": {
    "collapsed": false,
    "ExecuteTime": {
     "end_time": "2025-07-12T12:50:15.277436Z",
     "start_time": "2025-07-12T12:50:15.274771Z"
    }
   },
   "id": "364dce629859ba7b",
   "execution_count": 140
  },
  {
   "cell_type": "code",
   "outputs": [
    {
     "data": {
      "text/plain": "(1598, 6408)"
     },
     "execution_count": 141,
     "metadata": {},
     "output_type": "execute_result"
    }
   ],
   "source": [
    "ms_mpa_nmr_diet_oral_pre.shape"
   ],
   "metadata": {
    "collapsed": false,
    "ExecuteTime": {
     "end_time": "2025-07-12T12:50:20.319115Z",
     "start_time": "2025-07-12T12:50:20.315697Z"
    }
   },
   "id": "b74343203a5246fa",
   "execution_count": 141
  },
  {
   "cell_type": "code",
   "outputs": [],
   "source": [
    "ms_mpa_nmr_oral_lifestyle = serrf_full_base.join(gut_mpa_baseline, how='inner').join(nightingale_data.drop(columns=['age', 'gender','bmi']), how='inner').join(oral_mb, how='inner').join(lifestyle_data_baseline_filtered, how='inner')"
   ],
   "metadata": {
    "collapsed": false,
    "ExecuteTime": {
     "end_time": "2025-07-12T12:50:21.791480Z",
     "start_time": "2025-07-12T12:50:20.754882Z"
    }
   },
   "id": "7406bc264c30fd0d",
   "execution_count": 142
  },
  {
   "cell_type": "code",
   "outputs": [
    {
     "data": {
      "text/plain": "(2920, 6288)"
     },
     "execution_count": 143,
     "metadata": {},
     "output_type": "execute_result"
    }
   ],
   "source": [
    "ms_mpa_nmr_oral_lifestyle.shape"
   ],
   "metadata": {
    "collapsed": false,
    "ExecuteTime": {
     "end_time": "2025-07-12T12:50:21.795402Z",
     "start_time": "2025-07-12T12:50:21.792587Z"
    }
   },
   "id": "8063669f738a4070",
   "execution_count": 143
  },
  {
   "cell_type": "code",
   "outputs": [
    {
     "data": {
      "text/plain": "(3190, 6760)"
     },
     "execution_count": 144,
     "metadata": {},
     "output_type": "execute_result"
    }
   ],
   "source": [
    "ms_mpa_nmr_diet_oral.shape"
   ],
   "metadata": {
    "collapsed": false,
    "ExecuteTime": {
     "end_time": "2025-07-12T12:50:22.216817Z",
     "start_time": "2025-07-12T12:50:22.214335Z"
    }
   },
   "id": "f0772528dc9b528c",
   "execution_count": 144
  },
  {
   "cell_type": "code",
   "outputs": [
    {
     "data": {
      "text/plain": "(2920, 6288)"
     },
     "execution_count": 145,
     "metadata": {},
     "output_type": "execute_result"
    }
   ],
   "source": [
    "ms_mpa_nmr_oral_lifestyle.shape"
   ],
   "metadata": {
    "collapsed": false,
    "ExecuteTime": {
     "end_time": "2025-07-12T12:50:22.321894Z",
     "start_time": "2025-07-12T12:50:22.319813Z"
    }
   },
   "id": "610e3204c6f7828d",
   "execution_count": 145
  },
  {
   "cell_type": "code",
   "outputs": [
    {
     "name": "stdout",
     "output_type": "stream",
     "text": [
      "Blood data shape: (5900, 2250)\n",
      "Gut microbiome data shape: (10902, 3512)\n",
      "Nightgale data shape: (8495, 170)\n",
      "Diet data shape: (10769, 700)\n",
      "Lifestyle data shape: (11411, 237)\n",
      "Oral microbiome data shape: (7525, 122)\n",
      "MS Metabolites data shape: (5900, 2250)\n",
      "Joined data shape: (3190, 6760)\n"
     ]
    }
   ],
   "source": [
    "# print the shapes of all modalities sepreately \n",
    "print(f'Blood data shape: {serrf_full_base.shape}')\n",
    "print(f'Gut microbiome data shape: {gut_mpa_baseline.shape}')\n",
    "print(f'Nightgale data shape: {nightingale_data.shape}')\n",
    "print(f'Diet data shape: {diet_features.shape}')\n",
    "print(f'Lifestyle data shape: {lifestyle_data_baseline_filtered.shape}')\n",
    "print(f'Oral microbiome data shape: {oral_mb.shape}')\n",
    "print(f'MS Metabolites data shape: {serrf_full_base.shape}')\n",
    "print(f'Joined data shape: {ms_mpa_nmr_diet_oral.shape}')"
   ],
   "metadata": {
    "collapsed": false,
    "ExecuteTime": {
     "end_time": "2025-07-12T12:50:23.159972Z",
     "start_time": "2025-07-12T12:50:23.156355Z"
    }
   },
   "id": "cc2db8745d11546b",
   "execution_count": 146
  },
  {
   "cell_type": "code",
   "outputs": [
    {
     "name": "stdout",
     "output_type": "stream",
     "text": [
      "Number of columns kept: 382 out of 3512\n",
      "Number of columns kept: 385 out of 3512\n"
     ]
    }
   ],
   "source": [
    "joined_diet_mpa_serrf_nightinglae_filtered, filtered_cols = filter_prevalence(joined_diet_mpa_serrf_nightinglae, gut_mpa_baseline.columns, threshold=0.1)\n",
    "ms_mpa_nmr_diet_oral_filtered, filtered_cols_w_oral = filter_prevalence(ms_mpa_nmr_diet_oral, gut_mpa_baseline.columns, threshold=0.1)"
   ],
   "metadata": {
    "collapsed": false,
    "ExecuteTime": {
     "end_time": "2025-07-12T12:50:25.259665Z",
     "start_time": "2025-07-12T12:50:24.676646Z"
    }
   },
   "id": "fe30d51df46df86b",
   "execution_count": 147
  },
  {
   "cell_type": "code",
   "outputs": [],
   "source": [
    "# Save the data\n",
    "# # ms_joined_diet_features[serrf_full_base.columns].to_csv(output_data_dir + '/MS/x_diet_adherence.csv')\n",
    "# ms_hr[serrf_full_base.columns].drop(columns=['age','bmi']).to_csv(output_data_dir + '/MS/x_hr.csv')\n",
    "# ms_hr[['predicted', 'logprob',  'phenotypic_age', 'age']].to_csv(output_data_dir + '/MS/y_hr.csv')\n",
    "# # ms_blood[serrf_full_base.columns].to_csv(output_data_dir + '/MS/x_blood.csv')\n",
    "# # ms_blood[blood_data_df_baseline.columns].to_csv(output_data_dir + '/MS/y_blood.csv')"
   ],
   "metadata": {
    "collapsed": false,
    "ExecuteTime": {
     "end_time": "2025-07-12T12:50:26.271673Z",
     "start_time": "2025-07-12T12:50:26.269192Z"
    }
   },
   "id": "ee4a56a3aa1a80c6",
   "execution_count": 148
  },
  {
   "cell_type": "code",
   "outputs": [],
   "source": [
    "# ms_mpa_baseline[serrf_full_base.columns].to_csv(output_data_dir + '/MS/x_ms_mpa.csv')\n",
    "# ms_mpa_baseline[ms_mpa_cols].to_csv(output_data_dir + '/MS/y_ms_mpa.csv')"
   ],
   "metadata": {
    "collapsed": false,
    "ExecuteTime": {
     "end_time": "2025-04-28T15:42:12.698610Z",
     "start_time": "2025-04-28T15:42:12.696937Z"
    }
   },
   "id": "da64edaf8a72e897",
   "execution_count": 956
  },
  {
   "cell_type": "code",
   "outputs": [],
   "source": [
    "diet_scores = [\n",
    "    'IMEDAS_score_per_day',\n",
    "    'eatLANCET_score_per_day',\n",
    "    'aHEI_score_per_day',\n",
    "    'DASH_score',\n",
    "    'hPDI_score_per_day',\n",
    "    'vegetarian_score_per_day',\n",
    "    'vegan_score_per_day',\n",
    "    'carnivore_score_per_day',\n",
    "    'low_carb_diet',\n",
    "    'pct_NOVA_4',\n",
    "]\n",
    "diet_scores_no_NOVA = ['med_score_per_day', 'paleo_score_per_day', 'vegetarian_score_per_day', 'wfpb_score_per_day', 'vegan_score_per_day', 'carnivore_score_per_day', 'keto']\n",
    "pct_macros = ['pct_protein_calories', 'pct_fat_calories', 'pct_carb_calories', 'pct_saturated_fat_calories']\n",
    "lipids_ratios = ['sat_to_total_lipids_ratio', 'trans_to_total_lipids_ratio', 'mono_to_total_lipids_ratio', 'poly_to_total_lipids_ratio', 'omega3_to_total_lipids_ratio', 'omega6_to_total_lipids_ratio', 'omega6_to_omega3_ratio']\n",
    "plant_ratios = ['plant_energy_pct', 'plant_protein_pct', 'plant_fat_pct']"
   ],
   "metadata": {
    "collapsed": false,
    "ExecuteTime": {
     "end_time": "2025-07-20T07:24:17.242201Z",
     "start_time": "2025-07-20T07:24:17.238677Z"
    }
   },
   "id": "694878838962fb33",
   "execution_count": 204
  },
  {
   "cell_type": "code",
   "outputs": [],
   "source": [
    "nutrients = ['Fiber, total dietary',\n",
    " 'Calcium, Ca',\n",
    " 'Iron, Fe',\n",
    " 'Magnesium, Mg',\n",
    " 'Phosphorus, P',\n",
    " 'Potassium, K',\n",
    " 'Sodium, Na',\n",
    " 'Zinc, Zn',\n",
    " 'Copper, Cu',\n",
    " 'Vitamin C, total ascorbic acid',\n",
    " 'Thiamin',\n",
    " 'Riboflavin',\n",
    " 'Niacin',\n",
    " 'Vitamin B-6',\n",
    " 'Folate, total',\n",
    " 'Vitamin B-12',\n",
    " 'Cholesterol',\n",
    "             'Fiber, total dietary',\n",
    " 'Fatty acids, total saturated',\n",
    " 'Fatty acids, total monounsaturated',\n",
    " 'Fatty acids, total polyunsaturated',\n",
    " 'Vitamin D (D2 + D3)',\n",
    " 'Sugars, Total',\n",
    " 'Fatty acids, total trans',\n",
    " 'Vitamin A, RAE',\n",
    " 'Isoleucine',\n",
    " 'Leucine',\n",
    " 'Valine',\n",
    " 'Lysine',\n",
    " 'Threonine',\n",
    " 'Methionine',\n",
    " 'Phenylalanine',\n",
    " 'Tryptophan',\n",
    " 'Histidine',\n",
    " 'Tyrosine',\n",
    " 'Arginine',\n",
    " 'Cystine',\n",
    " 'Serine',\n",
    " 'Pantothenic acid',\n",
    " 'Selenium, Se',\n",
    " 'Choline, total',\n",
    " 'Manganese, Mn',\n",
    " 'Fructose',\n",
    " 'Vitamin K',\n",
    " 'Iodine',\n",
    " 'Sugar alcohols',\n",
    " 'Biotin',\n",
    " 'Alanine',\n",
    " 'Ash',\n",
    " 'Aspartic acid',\n",
    " 'Betaine',\n",
    " 'Caffeine',\n",
    " 'Campesterol',\n",
    " 'Fluoride, F',\n",
    " 'Glucose',\n",
    " 'Glutamic acid',\n",
    " 'Glycine',\n",
    " 'Hydroxyproline',\n",
    " 'Lutein + zeaxanthin',\n",
    " 'Lycopene',\n",
    " 'Phytosterols',\n",
    " 'Proline',\n",
    " 'Starch',\n",
    " 'omega_6',\n",
    " 'omega_3',\n",
    " 'vitamin_E',\n",
    " # 'Protein',\n",
    " # 'Total lipid (fat)',\n",
    " # 'Carbohydrate, by difference',\n",
    " 'Energy',\n",
    " # 'Alcohol, ethyl',\n",
    " 'Water']"
   ],
   "metadata": {
    "collapsed": false,
    "ExecuteTime": {
     "end_time": "2025-07-20T08:38:06.930402Z",
     "start_time": "2025-07-20T08:38:06.926428Z"
    }
   },
   "id": "ae6acea2fc72ac73",
   "execution_count": 252
  },
  {
   "cell_type": "code",
   "outputs": [],
   "source": [
    "never_eaters = [ 'never_eat__Dairy products',\n",
    " 'never_eat__Eggs or foods that contain eggs',\n",
    " 'never_eat__I eat everything above',\n",
    " 'never_eat__Sugar or foods / beverages that contain sugar',\n",
    " 'never_eat__Wheat products']"
   ],
   "metadata": {
    "collapsed": false,
    "ExecuteTime": {
     "end_time": "2025-06-03T12:22:48.364652Z",
     "start_time": "2025-06-03T12:22:48.359632Z"
    }
   },
   "id": "22c9f766d1aba31b",
   "execution_count": 145
  },
  {
   "cell_type": "code",
   "outputs": [],
   "source": [
    "bread_types = [ 'bread_type_mainly_eat__Dark',\n",
    " 'bread_type_mainly_eat__Hot',\n",
    " 'bread_type_mainly_eat__White',\n",
    " 'bread_type_mainly_eat__Whole wheat',\n",
    " 'bread_type_mainly_eat__no']"
   ],
   "metadata": {
    "collapsed": false,
    "ExecuteTime": {
     "end_time": "2025-06-03T12:22:48.549134Z",
     "start_time": "2025-06-03T12:22:48.544547Z"
    }
   },
   "id": "ac053017f73e71e3",
   "execution_count": 146
  },
  {
   "cell_type": "code",
   "outputs": [],
   "source": [
    "cereal_types = [ 'cereal_type__Cornflakes or branflakes',\n",
    " 'cereal_type__Cornflakes with sugar (cookies, pillows, etc.)',\n",
    " 'cereal_type__Granola',\n",
    " 'cereal_type__Oatmeal',\n",
    " 'cereal_type__no']"
   ],
   "metadata": {
    "collapsed": false,
    "ExecuteTime": {
     "end_time": "2025-06-03T12:22:48.716119Z",
     "start_time": "2025-06-03T12:22:48.711855Z"
    }
   },
   "id": "72984347dc125482",
   "execution_count": 147
  },
  {
   "cell_type": "code",
   "outputs": [],
   "source": [
    "food_categories = [ 'AlcoholicDrinks',\n",
    " 'Beefveallambandothermeatproducts',\n",
    " 'Bread_cat',\n",
    " 'Bread_wholewheat',\n",
    " 'Cannedvegandfruits',\n",
    " 'Cereals_cat',\n",
    " 'Deepfriedfoods',\n",
    " 'Drinks',\n",
    " 'Eggsandtheirproducts',\n",
    " 'FastFoods',\n",
    " 'Fishandseafood',\n",
    " 'Fruits',\n",
    " 'Hardcheese',\n",
    " 'Industrializedvegetarianfoodreadytoeat',\n",
    " 'MedOilandfats',\n",
    " 'Nutsseedsandproducts',\n",
    " 'Oilsandfats',\n",
    " 'Others',\n",
    " 'PastaGrainsandSidedishes',\n",
    " 'PastaGrainsandSidedishes_wholewheat',\n",
    " 'Poultryanditsproducts',\n",
    " 'Proccessedmeatproducts',\n",
    " 'Pulsesandproducts',\n",
    " 'Snacks',\n",
    " 'Soupsandsauces',\n",
    " 'Spicesandherbs',\n",
    " 'Vegetables',\n",
    " 'bakedgoods',\n",
    " 'fruitjuicesandsoftdrinks',\n",
    " 'milkcreamcheeseandyogurts',\n",
    " 'sweetmilkproducts',\n",
    " 'sweets']"
   ],
   "metadata": {
    "collapsed": false,
    "ExecuteTime": {
     "end_time": "2025-07-20T08:00:11.293152Z",
     "start_time": "2025-07-20T08:00:11.289954Z"
    }
   },
   "id": "35dd351a535c79ce",
   "execution_count": 228
  },
  {
   "cell_type": "code",
   "outputs": [],
   "source": [
    "oil_types = [ 'oil_press_type_frying__Butter',\n",
    " 'oil_press_type_frying__Cold pressed olive oil',\n",
    " 'oil_press_type_frying__Margarine',\n",
    " 'oil_press_type_frying__Olive oil',\n",
    " 'oil_press_type_frying__Refined oil',\n",
    " 'oil_press_type_frying__no',\n",
    " 'oil_type_frying__Butter',\n",
    " 'oil_type_frying__Coconut oil',\n",
    " 'oil_type_frying__Margarine',\n",
    " 'oil_type_frying__Olive oil',\n",
    " 'oil_type_frying__Soy',\n",
    " 'oil_type_frying__Soy Oil',\n",
    " 'oil_type_frying__canola oil',\n",
    " 'oil_type_frying__no',\n",
    " 'oil_type_frying__sunflower oil']"
   ],
   "metadata": {
    "collapsed": false,
    "ExecuteTime": {
     "end_time": "2025-06-03T12:22:50.802221Z",
     "start_time": "2025-06-03T12:22:50.795780Z"
    }
   },
   "id": "f3fa10d7d407f633",
   "execution_count": 149
  },
  {
   "cell_type": "code",
   "outputs": [],
   "source": [
    "foods = ['Acorn squash',\n",
    " 'Alfalfa sprouts',\n",
    " 'Almond Beverage',\n",
    " 'Almond flour',\n",
    " 'Almond spread',\n",
    " 'Almonds',\n",
    " 'Amba',\n",
    " 'Apple',\n",
    " 'Apple Cake',\n",
    " 'Apple Vinegar',\n",
    " 'Apple juice',\n",
    " 'Apricot',\n",
    " 'Apropo',\n",
    " 'Artichoke',\n",
    " 'Arugula',\n",
    " 'Asparagus',\n",
    " 'Avocado',\n",
    " 'Avocado Sandwich',\n",
    " 'Bagel',\n",
    " 'Baguette',\n",
    " 'Baked apple',\n",
    " 'Baklava',\n",
    " 'Balsamic vinegar',\n",
    " 'Bamba',\n",
    " 'Banana',\n",
    " 'Banana Cake',\n",
    " 'Barbecue sauce',\n",
    " 'Barley soup',\n",
    " 'Basil',\n",
    " 'Bean Noodles',\n",
    " 'Bean soup',\n",
    " 'Beans',\n",
    " 'Beans black-eyed peas',\n",
    " 'Beef',\n",
    " 'Beef Cholent',\n",
    " 'Beef Lasagna',\n",
    " 'Beef Shawarma',\n",
    " 'Beer',\n",
    " 'Beet',\n",
    " 'Beet Salad',\n",
    " 'Berries',\n",
    " 'Biscuit',\n",
    " 'Bissli',\n",
    " 'Black beans',\n",
    " 'Blintzes',\n",
    " 'Blue Cheese',\n",
    " 'Blueberries',\n",
    " 'Boiled corn',\n",
    " 'Bolognese',\n",
    " 'Bounty',\n",
    " 'Brazil nuts',\n",
    " 'Bread',\n",
    " 'Bread Crumbs',\n",
    " 'Brioche',\n",
    " 'Broccoli',\n",
    " 'Broth',\n",
    " 'Brown Rice',\n",
    " 'Brown Sugar',\n",
    " 'Brownies',\n",
    " 'Buckwheat Bread',\n",
    " 'Buckwheat crackers',\n",
    " 'Bulgur',\n",
    " 'Burekas',\n",
    " 'Butter',\n",
    " 'Butter Cookies',\n",
    " 'Caesar Salad',\n",
    " 'Cake',\n",
    " 'Calamari',\n",
    " 'Camembert or Brie',\n",
    " 'Campari',\n",
    " 'Candies',\n",
    " 'Canned Sardine',\n",
    " 'Canned Tuna Fish',\n",
    " 'Canned corn',\n",
    " 'Cappuccino',\n",
    " 'Carpaccio',\n",
    " 'Carrot Cake',\n",
    " 'Carrot Juice',\n",
    " 'Carrot Salad',\n",
    " 'Carrots',\n",
    " 'Cashew',\n",
    " 'Cauliflower',\n",
    " 'Cauliflower Patties',\n",
    " 'Cauliflower Pie',\n",
    " 'Celery',\n",
    " 'Cereal Bar',\n",
    " 'Cereals',\n",
    " 'Ceviche',\n",
    " 'Challah',\n",
    " 'Chard',\n",
    " 'Cheddar',\n",
    " 'Cheese Pastry',\n",
    " 'Cheese Pie',\n",
    " 'Cheesecake',\n",
    " 'Cherries',\n",
    " 'Cherry tomatoes',\n",
    " 'Chestnuts',\n",
    " 'Chia seeds',\n",
    " 'Chicken',\n",
    " 'Chicken Liver',\n",
    " 'Chicken Meatballs',\n",
    " 'Chicken Pad Thai',\n",
    " 'Chicken Shawarma',\n",
    " 'Chicken Steak',\n",
    " 'Chicken breast',\n",
    " 'Chicken drumstick',\n",
    " 'Chicken legs',\n",
    " 'Chicken soup',\n",
    " 'Chicken wings',\n",
    " 'Chili pepper',\n",
    " 'Chili sauce',\n",
    " 'Chilli Con Carne',\n",
    " 'Chocolate',\n",
    " 'Chocolate Cookies',\n",
    " 'Chocolate Mousse',\n",
    " 'Chocolate balls',\n",
    " 'Chocolate cake',\n",
    " 'Chocolate spread',\n",
    " 'Chopped Liver',\n",
    " 'Ciabatta',\n",
    " 'Cinnamon',\n",
    " 'Cinnamon Danish',\n",
    " 'Coated Biscuits',\n",
    " 'Coated Wafers',\n",
    " 'Coated peanuts',\n",
    " 'Cocktail',\n",
    " 'Coconut',\n",
    " 'Coconut Oil',\n",
    " 'Coconut milk',\n",
    " 'Coconut water',\n",
    " 'Coffee',\n",
    " 'Coke',\n",
    " 'Cold cut',\n",
    " 'Coleslaw',\n",
    " 'Cooked Okra',\n",
    " 'Cooked Pumpkin',\n",
    " 'Cooked Sweet potato',\n",
    " 'Cooked broccoli',\n",
    " 'Cooked cabbage',\n",
    " 'Cooked green beans',\n",
    " 'Cooked tomatoes',\n",
    " 'Cooked vegetables',\n",
    " 'Cooked zucchini',\n",
    " 'Cookies',\n",
    " 'Cookies Oreo',\n",
    " 'Cooking cream',\n",
    " 'Coriander',\n",
    " 'Corn',\n",
    " 'Corn Soup',\n",
    " 'Corn casserole',\n",
    " 'Corn crackers',\n",
    " 'Corn schnitzel',\n",
    " 'Cottage cheese',\n",
    " 'Couscous',\n",
    " 'Cracker',\n",
    " 'Crackers',\n",
    " 'Cranberries',\n",
    " 'Cream Cake',\n",
    " 'Cream Cheese',\n",
    " 'Creme Brulee',\n",
    " 'Croissant',\n",
    " 'Croutons',\n",
    " 'Crushed tomatoes',\n",
    " 'Cuba',\n",
    " 'Cucumber',\n",
    " 'Curry Paste',\n",
    " 'Danish',\n",
    " 'Dark Chocolate',\n",
    " 'Date honey',\n",
    " 'Dates',\n",
    " 'Dessert Wine',\n",
    " 'Diet Cheesecake',\n",
    " 'Diet Coke',\n",
    " 'Dill',\n",
    " 'Doritos',\n",
    " 'Dried Fruit',\n",
    " 'Dried Herring',\n",
    " 'Dried Mango',\n",
    " 'Dried apple',\n",
    " 'Dried cranberries',\n",
    " 'Dried fig',\n",
    " 'Dried pineapple',\n",
    " 'Edamame',\n",
    " 'Eel',\n",
    " 'Egg',\n",
    " 'Egg Roll',\n",
    " 'Egg Salad',\n",
    " 'Egg Sandwich',\n",
    " 'Egg noodles',\n",
    " 'Egg yolk',\n",
    " 'Eggplant',\n",
    " 'Eggplant Salad',\n",
    " 'Emmental cheese',\n",
    " 'Empanadas',\n",
    " 'Energy bar',\n",
    " 'English cake',\n",
    " 'Entrecote',\n",
    " 'Eshel',\n",
    " 'Falafel',\n",
    " 'Fava beans',\n",
    " 'Fennel',\n",
    " 'Fennel Salad',\n",
    " 'Feta Cheese',\n",
    " 'Fig',\n",
    " 'Fish Roe Salad',\n",
    " 'Fish balls',\n",
    " 'Fish schnitzel',\n",
    " 'Flavored Waters',\n",
    " 'Flavored Yogurt',\n",
    " 'Flax seeds',\n",
    " 'French fries',\n",
    " 'Fried Bread',\n",
    " 'Fried Sweet potato',\n",
    " 'Fried cauliflower',\n",
    " 'Fried eggplant',\n",
    " 'Fried onions',\n",
    " 'Fruit Drink',\n",
    " 'Fruit flavored Yogurt',\n",
    " 'Fruit juice',\n",
    " 'Fruit salad',\n",
    " 'Garlic',\n",
    " 'Gefilte fish',\n",
    " 'Gilthead Bream',\n",
    " 'Gin and tonic',\n",
    " 'Gluten free bread',\n",
    " 'Gnocchi',\n",
    " 'Goat Cheese',\n",
    " 'Goat Milk Yogurt',\n",
    " 'Goji berry',\n",
    " 'Gouda Cheese',\n",
    " 'Granola',\n",
    " 'Granola Cookies',\n",
    " 'Granola bar',\n",
    " 'Grapefruit',\n",
    " 'Grapefruit juice',\n",
    " 'Grapes',\n",
    " 'Greek Yogurt',\n",
    " 'Greek salad',\n",
    " 'Green Salad',\n",
    " 'Green Tea',\n",
    " 'Green beans',\n",
    " 'Green cabbage',\n",
    " 'Green onions',\n",
    " 'Green pepper',\n",
    " 'Grilled vegetables',\n",
    " 'Grits',\n",
    " 'Guacamole',\n",
    " 'Guava',\n",
    " 'Gumdrops',\n",
    " 'Halloumi Cheese',\n",
    " 'Halva',\n",
    " 'Hamantaschen',\n",
    " 'Hamburger',\n",
    " 'Hazelnuts',\n",
    " 'Heavy cream',\n",
    " 'Herring',\n",
    " 'Honey',\n",
    " 'Honey Cake',\n",
    " 'Hummus',\n",
    " 'Hummus Salad',\n",
    " 'Ice cream',\n",
    " 'Ice cream bar',\n",
    " 'Israeli couscous',\n",
    " 'Jachnun',\n",
    " 'Jam',\n",
    " 'Jerusalem mixed grill',\n",
    " 'Jewish donut',\n",
    " 'Kashkaval',\n",
    " 'Kebab',\n",
    " 'Ketchup',\n",
    " 'Kif Kef',\n",
    " 'Kiwi',\n",
    " 'Knafeh',\n",
    " 'Knaidlach',\n",
    " 'Kohlrabi',\n",
    " 'Krembo',\n",
    " 'Kugel',\n",
    " 'Labneh Cheese',\n",
    " 'Lamb Kebabs',\n",
    " 'Lasagna',\n",
    " 'Leek',\n",
    " 'Lemon',\n",
    " 'Lemon Pie',\n",
    " 'Lemon juice',\n",
    " 'Lemonade',\n",
    " 'Lentil Patties',\n",
    " 'Lentil Soup',\n",
    " 'Lentils',\n",
    " 'Lettuce',\n",
    " 'Lettuce Salad',\n",
    " 'Light Beer',\n",
    " 'Light Bread',\n",
    " 'Light Cream Cheese',\n",
    " 'Light Soymilk',\n",
    " 'Light Yellow Cheese',\n",
    " 'Loquat',\n",
    " 'Low fat Milk',\n",
    " 'Lychee',\n",
    " 'Macadamia nuts',\n",
    " 'Majadra',\n",
    " 'Malabi',\n",
    " 'Malt beverage',\n",
    " 'Manchego Cheese',\n",
    " 'Mandarin',\n",
    " 'Mango',\n",
    " 'Maple Cake',\n",
    " 'Maple syrup',\n",
    " 'Mark Hariri',\n",
    " 'Mars',\n",
    " 'Marzipan',\n",
    " 'Matbucha',\n",
    " 'Matzo',\n",
    " 'Mayonnaise',\n",
    " 'Meagre Fish',\n",
    " 'Meat Ravioli',\n",
    " 'Meat Stuffed Burekas',\n",
    " 'Meatballs',\n",
    " 'Mekupelet',\n",
    " 'Melon',\n",
    " 'Milk',\n",
    " 'Milky',\n",
    " 'Mille-feuille',\n",
    " 'Minced meat',\n",
    " 'Mint',\n",
    " 'Miso soup',\n",
    " 'Mixed Vegetables',\n",
    " 'Mixed nuts',\n",
    " 'Moussaka',\n",
    " 'Mousse Cake',\n",
    " 'Mozzarella Cheese',\n",
    " 'Mulberry',\n",
    " 'Mushroom Pie',\n",
    " 'Mushroom soup',\n",
    " 'Mushrooms',\n",
    " 'Mustard',\n",
    " 'Mutton',\n",
    " 'Natural Yogurt',\n",
    " 'Natural Yogurt Drinks',\n",
    " 'Nectarine',\n",
    " 'Noodle Pie',\n",
    " 'Noodles',\n",
    " 'Nut cake',\n",
    " 'Nuts',\n",
    " 'Oat Drink',\n",
    " 'Oatmeal',\n",
    " 'Oatmeal Cereal',\n",
    " 'Oil',\n",
    " 'Olive Bread',\n",
    " 'Olive oil',\n",
    " 'Olive spread',\n",
    " 'Olives',\n",
    " 'Omelet sandwich',\n",
    " 'Omelette',\n",
    " 'Onion',\n",
    " 'Onion Pie',\n",
    " 'Onion Rings',\n",
    " 'Onion soup',\n",
    " 'Orange',\n",
    " 'Orange Cake',\n",
    " 'Orange Soup',\n",
    " 'Orange juice',\n",
    " 'Ouzo',\n",
    " 'Pancake',\n",
    " 'Papaya',\n",
    " 'Parmesan cheese',\n",
    " 'Parsley',\n",
    " 'Passionflower',\n",
    " 'Pasta',\n",
    " 'Pasta Bolognese',\n",
    " 'Pasta With Cheese',\n",
    " 'Pasta with tomato sauce',\n",
    " 'Pastrami',\n",
    " 'Pate',\n",
    " 'Pea soup',\n",
    " 'Peach',\n",
    " 'Peanut Butter',\n",
    " 'Peanuts',\n",
    " 'Pear',\n",
    " 'Peas',\n",
    " 'Peas and carrots',\n",
    " 'Pecan',\n",
    " 'Pecans',\n",
    " 'Pepper',\n",
    " 'Persimmon',\n",
    " 'Pesek Zman snack',\n",
    " 'Pesto',\n",
    " 'Pickled Chili pepper',\n",
    " 'Pickled Herring',\n",
    " 'Pickled cucumber',\n",
    " 'Pickled vegetables',\n",
    " 'Pine nuts',\n",
    " 'Pineapple',\n",
    " 'Pistachio',\n",
    " 'Pita',\n",
    " 'Pizza',\n",
    " 'Plum',\n",
    " 'Polenta',\n",
    " 'Pomegranate',\n",
    " 'Pomegranate juice',\n",
    " 'Pomelo',\n",
    " 'Popcorn',\n",
    " 'Popsicle',\n",
    " 'Pork',\n",
    " 'Portobello mushroom',\n",
    " 'Potato chips',\n",
    " 'Potato pancakes',\n",
    " 'Potato pie',\n",
    " 'Potato salad',\n",
    " 'Potatoes',\n",
    " 'Pretzels',\n",
    " 'Prickly pears',\n",
    " 'Protein Powder',\n",
    " 'Protein bar',\n",
    " 'Prune',\n",
    " 'Puffs',\n",
    " 'Pullet',\n",
    " 'Pumpkin',\n",
    " 'Pumpkin seeds',\n",
    " 'Pumpkin soup',\n",
    " 'Quinoa',\n",
    " 'Quinoa Salad',\n",
    " 'Radish',\n",
    " 'Raisins',\n",
    " 'Ravioli',\n",
    " 'Red Cabbage Salad',\n",
    " 'Red beans',\n",
    " 'Red pepper',\n",
    " 'Rice',\n",
    " 'Rice Noodles',\n",
    " 'Rice crackers',\n",
    " 'Rice drink',\n",
    " 'Rice paper',\n",
    " 'Ricotta Cheese',\n",
    " 'Risotto',\n",
    " 'Roast beef',\n",
    " 'Roasted eggplant',\n",
    " 'Roll',\n",
    " 'Roquefort',\n",
    " 'Rugelach',\n",
    " 'Rye Bread',\n",
    " 'Sabih Sandwich',\n",
    " 'Salmon',\n",
    " 'Salmon Sandwich',\n",
    " 'Salty Cheese',\n",
    " 'Salty Cookies',\n",
    " 'Sambusak',\n",
    " 'Sauerkraut',\n",
    " 'Sausages',\n",
    " 'Sauteed vegetables',\n",
    " 'Schnitzel',\n",
    " 'Schug',\n",
    " 'Seabass Fish',\n",
    " 'Seaweeds',\n",
    " 'Sesame oil',\n",
    " 'Sesame seeds',\n",
    " 'Shakshouka',\n",
    " 'Sheep Milk Yoghurt',\n",
    " 'Sheep milk Labaneh',\n",
    " 'Sherbet',\n",
    " 'Shrimp',\n",
    " 'Small radish',\n",
    " 'Smoked Mackerel Fish',\n",
    " 'Smoked Salmon',\n",
    " 'Smoothies',\n",
    " 'Snickers',\n",
    " 'Soup mandels',\n",
    " 'Soy Patties',\n",
    " 'Soy Pudding',\n",
    " 'Soy sauce',\n",
    " 'Soymilk',\n",
    " 'Spelled',\n",
    " 'Spinach',\n",
    " 'Spinach Quiche',\n",
    " 'Spongecake',\n",
    " 'Sprouted lentils',\n",
    " 'Sprouts',\n",
    " 'Squash casserole',\n",
    " 'Steak',\n",
    " 'Steamed vegetables',\n",
    " 'Strawberry',\n",
    " 'Stuffed Cabbage',\n",
    " 'Stuffed Chard',\n",
    " 'Stuffed Vine leaves',\n",
    " 'Sugar',\n",
    " 'Sugar substitute',\n",
    " 'Sunflower seeds',\n",
    " 'Sushi',\n",
    " 'Sweet Challah',\n",
    " 'Sweet Potato Fries',\n",
    " 'Sweet Potato Pie',\n",
    " 'Sweet Potato Soup',\n",
    " 'Sweet Roll',\n",
    " 'Sweet potato',\n",
    " 'Sweet wine',\n",
    " 'Sweetened Cocoa Powder',\n",
    " 'Sweetened White Cheese',\n",
    " 'Tabbouleh Salad',\n",
    " 'Tahini',\n",
    " 'Tahini Bread',\n",
    " 'Tea',\n",
    " 'Teami waffle snack',\n",
    " 'Teriyaki Sauce',\n",
    " 'Thousand Island dressing',\n",
    " 'Tilapia',\n",
    " 'Tiramisu',\n",
    " 'Toblerone',\n",
    " 'Tofu',\n",
    " 'Tofu Pad Thai',\n",
    " 'Tom Yum soup',\n",
    " 'Tomato paste',\n",
    " 'Tomato sauce',\n",
    " 'Tomato soup',\n",
    " 'Tomato soup and rice',\n",
    " 'Tomatoes',\n",
    " 'Tomatoes Salad',\n",
    " 'Tortilla',\n",
    " 'Tuna Salad',\n",
    " 'Tuna Sandwich',\n",
    " 'Turkey',\n",
    " 'Turkey Shawarma',\n",
    " 'Turkey and vegetables',\n",
    " 'Turkey breast',\n",
    " 'Turkish Salad',\n",
    " 'Turmeric powder',\n",
    " 'Twix',\n",
    " 'Tzatziki Cheese',\n",
    " 'Tzfatit Cheese',\n",
    " 'Veal Meatballs',\n",
    " 'Veal kebabs',\n",
    " 'Vegan Cheese',\n",
    " 'Vegetable Pie',\n",
    " 'Vegetable Salad',\n",
    " 'Vegetable Soup',\n",
    " 'Vegetable patties',\n",
    " 'Veggie burger',\n",
    " 'Vinaigrette',\n",
    " 'Vodka or Arak',\n",
    " 'Wafers',\n",
    " 'Walnuts',\n",
    " 'Watermelon',\n",
    " 'Watermelon Seeds',\n",
    " 'Wheat',\n",
    " 'Whipped Cream Pudding',\n",
    " 'Whipped cream',\n",
    " 'Whiskey',\n",
    " 'White Cheese',\n",
    " 'White Chocolate',\n",
    " 'White beans',\n",
    " 'White cabbage salad',\n",
    " 'Wholemeal Baguette',\n",
    " 'Wholemeal Bread',\n",
    " 'Wholemeal Crackers',\n",
    " 'Wholemeal Light Bread',\n",
    " 'Wholemeal Pita',\n",
    " 'Wholemeal Roll',\n",
    " 'Wild Rice',\n",
    " 'Wine',\n",
    " 'Yellow Cheese',\n",
    " 'Yellow Cheese Sandwich',\n",
    " 'Yellow beans',\n",
    " 'Yellow pepper',\n",
    " 'Yogurt',\n",
    " 'Zaatar',\n",
    " 'Zucchini',\n",
    " 'Zucchini Patties',\n",
    " 'black pepper',\n",
    " 'dried tomato spread',\n",
    " 'emmer wheat bread',\n",
    " 'ginger',\n",
    " 'kale',]"
   ],
   "metadata": {
    "collapsed": false,
    "ExecuteTime": {
     "end_time": "2025-06-03T12:22:51.443631Z",
     "start_time": "2025-06-03T12:22:50.981923Z"
    }
   },
   "id": "53e6cd3d2742a123",
   "execution_count": 150
  },
  {
   "cell_type": "code",
   "outputs": [],
   "source": [
    "# get all columns with _distance_from_DRI in the columns name \n",
    "min_consumption = [col for col in diet_features.columns if '_distance_from_DRI' in col]\n",
    "max_consumption = [col for col in diet_features.columns if '_distance_from_UL' in col]"
   ],
   "metadata": {
    "collapsed": false,
    "ExecuteTime": {
     "end_time": "2025-06-03T12:22:52.125103Z",
     "start_time": "2025-06-03T12:22:52.121647Z"
    }
   },
   "id": "e5bc9bb743d231a0",
   "execution_count": 151
  },
  {
   "cell_type": "code",
   "outputs": [],
   "source": [
    "ms_diet = serrf_full_base.join(diet_features, how='inner')"
   ],
   "metadata": {
    "collapsed": false,
    "ExecuteTime": {
     "end_time": "2025-06-03T12:22:52.555187Z",
     "start_time": "2025-06-03T12:22:52.332503Z"
    }
   },
   "id": "174262125ff8785b",
   "execution_count": 152
  },
  {
   "cell_type": "code",
   "outputs": [],
   "source": [
    "def create_quantile_features(df, nutrient_columns, quantile=0.1, include_top=False, include_bottom=True):\n",
    "    \"\"\"\n",
    "    Create binary features indicating whether each nutrient is in its top and/or bottom quantile.\n",
    "    Returns a defragmented DataFrame with new binary features.\n",
    "    \n",
    "    Parameters:\n",
    "    df (pandas.DataFrame): Input dataframe containing nutrient columns\n",
    "    nutrient_columns (list): List of column names for nutrients\n",
    "    quantile (float): Quantile threshold (default 0.1 for 10%)\n",
    "    include_top (bool): Whether to create features for top quantile (default False)\n",
    "    include_bottom (bool): Whether to create features for bottom quantile (default True)\n",
    "    \n",
    "    Returns:\n",
    "    pandas.DataFrame: Defragmented DataFrame with original and new binary features\n",
    "    \"\"\"\n",
    "    # Initialize dictionary to store new feature series\n",
    "    new_features = {}\n",
    "    \n",
    "    # Create binary features for each nutrient\n",
    "    for nutrient in nutrient_columns:\n",
    "        if include_bottom:\n",
    "            bottom_threshold = df[nutrient].quantile(quantile)\n",
    "            bottom_column = f\"{nutrient}_bottom_{int(quantile*100)}pct\"\n",
    "            new_features[bottom_column] = (df[nutrient] <= bottom_threshold).astype(int)\n",
    "        \n",
    "        if include_top:\n",
    "            top_threshold = df[nutrient].quantile(1 - quantile)\n",
    "            top_column = f\"{nutrient}_top_{int(quantile*100)}pct\"\n",
    "            new_features[top_column] = (df[nutrient] >= top_threshold).astype(int)\n",
    "    \n",
    "    # Combine original dataframe with new features efficiently\n",
    "    result_df = pd.concat([df, pd.DataFrame(new_features)], axis=1)\n",
    "    \n",
    "    # Return a defragmented copy\n",
    "    return result_df.copy()"
   ],
   "metadata": {
    "collapsed": false,
    "ExecuteTime": {
     "end_time": "2025-06-03T12:22:53.231960Z",
     "start_time": "2025-06-03T12:22:53.226781Z"
    }
   },
   "id": "1cd7bac2212737f8",
   "execution_count": 153
  },
  {
   "cell_type": "code",
   "outputs": [
    {
     "ename": "KeyError",
     "evalue": "'Fatty acids, total saturated'",
     "output_type": "error",
     "traceback": [
      "\u001B[0;31m---------------------------------------------------------------------------\u001B[0m",
      "\u001B[0;31mKeyError\u001B[0m                                  Traceback (most recent call last)",
      "File \u001B[0;32m/net/mraid20/export/jasmine/david/anaconda3/envs/freshEnv/lib/python3.11/site-packages/pandas/core/indexes/base.py:3805\u001B[0m, in \u001B[0;36mIndex.get_loc\u001B[0;34m(self, key)\u001B[0m\n\u001B[1;32m   3804\u001B[0m \u001B[38;5;28;01mtry\u001B[39;00m:\n\u001B[0;32m-> 3805\u001B[0m     \u001B[38;5;28;01mreturn\u001B[39;00m \u001B[38;5;28mself\u001B[39m\u001B[38;5;241m.\u001B[39m_engine\u001B[38;5;241m.\u001B[39mget_loc(casted_key)\n\u001B[1;32m   3806\u001B[0m \u001B[38;5;28;01mexcept\u001B[39;00m \u001B[38;5;167;01mKeyError\u001B[39;00m \u001B[38;5;28;01mas\u001B[39;00m err:\n",
      "File \u001B[0;32mindex.pyx:167\u001B[0m, in \u001B[0;36mpandas._libs.index.IndexEngine.get_loc\u001B[0;34m()\u001B[0m\n",
      "File \u001B[0;32mindex.pyx:196\u001B[0m, in \u001B[0;36mpandas._libs.index.IndexEngine.get_loc\u001B[0;34m()\u001B[0m\n",
      "File \u001B[0;32mpandas/_libs/hashtable_class_helper.pxi:7081\u001B[0m, in \u001B[0;36mpandas._libs.hashtable.PyObjectHashTable.get_item\u001B[0;34m()\u001B[0m\n",
      "File \u001B[0;32mpandas/_libs/hashtable_class_helper.pxi:7089\u001B[0m, in \u001B[0;36mpandas._libs.hashtable.PyObjectHashTable.get_item\u001B[0;34m()\u001B[0m\n",
      "\u001B[0;31mKeyError\u001B[0m: 'Fatty acids, total saturated'",
      "\nThe above exception was the direct cause of the following exception:\n",
      "\u001B[0;31mKeyError\u001B[0m                                  Traceback (most recent call last)",
      "Cell \u001B[0;32mIn[154], line 1\u001B[0m\n\u001B[0;32m----> 1\u001B[0m ms_diet_quantiles \u001B[38;5;241m=\u001B[39m create_quantile_features(ms_diet, nutrients, quantile\u001B[38;5;241m=\u001B[39m\u001B[38;5;241m0.1\u001B[39m, include_bottom\u001B[38;5;241m=\u001B[39m\u001B[38;5;28;01mTrue\u001B[39;00m, include_top\u001B[38;5;241m=\u001B[39m\u001B[38;5;28;01mTrue\u001B[39;00m)\n",
      "Cell \u001B[0;32mIn[153], line 22\u001B[0m, in \u001B[0;36mcreate_quantile_features\u001B[0;34m(df, nutrient_columns, quantile, include_top, include_bottom)\u001B[0m\n\u001B[1;32m     20\u001B[0m \u001B[38;5;28;01mfor\u001B[39;00m nutrient \u001B[38;5;129;01min\u001B[39;00m nutrient_columns:\n\u001B[1;32m     21\u001B[0m     \u001B[38;5;28;01mif\u001B[39;00m include_bottom:\n\u001B[0;32m---> 22\u001B[0m         bottom_threshold \u001B[38;5;241m=\u001B[39m df[nutrient]\u001B[38;5;241m.\u001B[39mquantile(quantile)\n\u001B[1;32m     23\u001B[0m         bottom_column \u001B[38;5;241m=\u001B[39m \u001B[38;5;124mf\u001B[39m\u001B[38;5;124m\"\u001B[39m\u001B[38;5;132;01m{\u001B[39;00mnutrient\u001B[38;5;132;01m}\u001B[39;00m\u001B[38;5;124m_bottom_\u001B[39m\u001B[38;5;132;01m{\u001B[39;00m\u001B[38;5;28mint\u001B[39m(quantile\u001B[38;5;241m*\u001B[39m\u001B[38;5;241m100\u001B[39m)\u001B[38;5;132;01m}\u001B[39;00m\u001B[38;5;124mpct\u001B[39m\u001B[38;5;124m\"\u001B[39m\n\u001B[1;32m     24\u001B[0m         new_features[bottom_column] \u001B[38;5;241m=\u001B[39m (df[nutrient] \u001B[38;5;241m<\u001B[39m\u001B[38;5;241m=\u001B[39m bottom_threshold)\u001B[38;5;241m.\u001B[39mastype(\u001B[38;5;28mint\u001B[39m)\n",
      "File \u001B[0;32m/net/mraid20/export/jasmine/david/anaconda3/envs/freshEnv/lib/python3.11/site-packages/pandas/core/frame.py:4102\u001B[0m, in \u001B[0;36mDataFrame.__getitem__\u001B[0;34m(self, key)\u001B[0m\n\u001B[1;32m   4100\u001B[0m \u001B[38;5;28;01mif\u001B[39;00m \u001B[38;5;28mself\u001B[39m\u001B[38;5;241m.\u001B[39mcolumns\u001B[38;5;241m.\u001B[39mnlevels \u001B[38;5;241m>\u001B[39m \u001B[38;5;241m1\u001B[39m:\n\u001B[1;32m   4101\u001B[0m     \u001B[38;5;28;01mreturn\u001B[39;00m \u001B[38;5;28mself\u001B[39m\u001B[38;5;241m.\u001B[39m_getitem_multilevel(key)\n\u001B[0;32m-> 4102\u001B[0m indexer \u001B[38;5;241m=\u001B[39m \u001B[38;5;28mself\u001B[39m\u001B[38;5;241m.\u001B[39mcolumns\u001B[38;5;241m.\u001B[39mget_loc(key)\n\u001B[1;32m   4103\u001B[0m \u001B[38;5;28;01mif\u001B[39;00m is_integer(indexer):\n\u001B[1;32m   4104\u001B[0m     indexer \u001B[38;5;241m=\u001B[39m [indexer]\n",
      "File \u001B[0;32m/net/mraid20/export/jasmine/david/anaconda3/envs/freshEnv/lib/python3.11/site-packages/pandas/core/indexes/base.py:3812\u001B[0m, in \u001B[0;36mIndex.get_loc\u001B[0;34m(self, key)\u001B[0m\n\u001B[1;32m   3807\u001B[0m     \u001B[38;5;28;01mif\u001B[39;00m \u001B[38;5;28misinstance\u001B[39m(casted_key, \u001B[38;5;28mslice\u001B[39m) \u001B[38;5;129;01mor\u001B[39;00m (\n\u001B[1;32m   3808\u001B[0m         \u001B[38;5;28misinstance\u001B[39m(casted_key, abc\u001B[38;5;241m.\u001B[39mIterable)\n\u001B[1;32m   3809\u001B[0m         \u001B[38;5;129;01mand\u001B[39;00m \u001B[38;5;28many\u001B[39m(\u001B[38;5;28misinstance\u001B[39m(x, \u001B[38;5;28mslice\u001B[39m) \u001B[38;5;28;01mfor\u001B[39;00m x \u001B[38;5;129;01min\u001B[39;00m casted_key)\n\u001B[1;32m   3810\u001B[0m     ):\n\u001B[1;32m   3811\u001B[0m         \u001B[38;5;28;01mraise\u001B[39;00m InvalidIndexError(key)\n\u001B[0;32m-> 3812\u001B[0m     \u001B[38;5;28;01mraise\u001B[39;00m \u001B[38;5;167;01mKeyError\u001B[39;00m(key) \u001B[38;5;28;01mfrom\u001B[39;00m \u001B[38;5;21;01merr\u001B[39;00m\n\u001B[1;32m   3813\u001B[0m \u001B[38;5;28;01mexcept\u001B[39;00m \u001B[38;5;167;01mTypeError\u001B[39;00m:\n\u001B[1;32m   3814\u001B[0m     \u001B[38;5;66;03m# If we have a listlike key, _check_indexing_error will raise\u001B[39;00m\n\u001B[1;32m   3815\u001B[0m     \u001B[38;5;66;03m#  InvalidIndexError. Otherwise we fall through and re-raise\u001B[39;00m\n\u001B[1;32m   3816\u001B[0m     \u001B[38;5;66;03m#  the TypeError.\u001B[39;00m\n\u001B[1;32m   3817\u001B[0m     \u001B[38;5;28mself\u001B[39m\u001B[38;5;241m.\u001B[39m_check_indexing_error(key)\n",
      "\u001B[0;31mKeyError\u001B[0m: 'Fatty acids, total saturated'"
     ]
    }
   ],
   "source": [
    "ms_diet_quantiles = create_quantile_features(ms_diet, nutrients, quantile=0.1, include_bottom=True, include_top=True)"
   ],
   "metadata": {
    "collapsed": false,
    "ExecuteTime": {
     "end_time": "2025-06-03T12:22:55.446102Z",
     "start_time": "2025-06-03T12:22:53.341374Z"
    }
   },
   "id": "c16dc51f96b07d0c",
   "execution_count": 154
  },
  {
   "cell_type": "markdown",
   "source": [
    "### Save the data"
   ],
   "metadata": {
    "collapsed": false
   },
   "id": "b03839bf79c06297"
  },
  {
   "cell_type": "code",
   "outputs": [],
   "source": [
    "ms_mpa_nmr_diet_oral_filtered.reset_index()['index'].to_csv(output_data_dir + '/matched_3190_registration_codes.csv', index=False)"
   ],
   "metadata": {
    "collapsed": false,
    "ExecuteTime": {
     "end_time": "2025-07-12T13:06:12.025288Z",
     "start_time": "2025-07-12T13:06:11.874096Z"
    }
   },
   "id": "6b8068fff1730de9",
   "execution_count": 163
  },
  {
   "cell_type": "code",
   "outputs": [
    {
     "data": {
      "text/plain": "               age          bmi\ncount  3190.000000  3187.000000\nmean     51.947022    25.991883\nstd       7.808102     4.044971\nmin      33.000000    16.121168\n25%      46.000000    23.167230\n50%      51.000000    25.529791\n75%      57.000000    28.257738\nmax      75.000000    42.071159",
      "text/html": "<div>\n<style scoped>\n    .dataframe tbody tr th:only-of-type {\n        vertical-align: middle;\n    }\n\n    .dataframe tbody tr th {\n        vertical-align: top;\n    }\n\n    .dataframe thead th {\n        text-align: right;\n    }\n</style>\n<table border=\"1\" class=\"dataframe\">\n  <thead>\n    <tr style=\"text-align: right;\">\n      <th></th>\n      <th>age</th>\n      <th>bmi</th>\n    </tr>\n  </thead>\n  <tbody>\n    <tr>\n      <th>count</th>\n      <td>3190.000000</td>\n      <td>3187.000000</td>\n    </tr>\n    <tr>\n      <th>mean</th>\n      <td>51.947022</td>\n      <td>25.991883</td>\n    </tr>\n    <tr>\n      <th>std</th>\n      <td>7.808102</td>\n      <td>4.044971</td>\n    </tr>\n    <tr>\n      <th>min</th>\n      <td>33.000000</td>\n      <td>16.121168</td>\n    </tr>\n    <tr>\n      <th>25%</th>\n      <td>46.000000</td>\n      <td>23.167230</td>\n    </tr>\n    <tr>\n      <th>50%</th>\n      <td>51.000000</td>\n      <td>25.529791</td>\n    </tr>\n    <tr>\n      <th>75%</th>\n      <td>57.000000</td>\n      <td>28.257738</td>\n    </tr>\n    <tr>\n      <th>max</th>\n      <td>75.000000</td>\n      <td>42.071159</td>\n    </tr>\n  </tbody>\n</table>\n</div>"
     },
     "execution_count": 164,
     "metadata": {},
     "output_type": "execute_result"
    }
   ],
   "source": [
    "# save ms_mpa_nmr_diet_oral_filtered index to a csv file\n",
    "ms_mpa_nmr_diet_oral_filtered[['age', 'bmi']].describe()"
   ],
   "metadata": {
    "collapsed": false,
    "ExecuteTime": {
     "end_time": "2025-07-12T13:07:22.049214Z",
     "start_time": "2025-07-12T13:07:22.040999Z"
    }
   },
   "id": "5648de1e60c3792e",
   "execution_count": 164
  },
  {
   "cell_type": "code",
   "outputs": [
    {
     "data": {
      "text/plain": "gender\n0.0    1612\n1.0    1578\nName: count, dtype: int64"
     },
     "execution_count": 165,
     "metadata": {},
     "output_type": "execute_result"
    }
   ],
   "source": [
    "ms_mpa_nmr_diet_oral_filtered.gender.value_counts()"
   ],
   "metadata": {
    "collapsed": false,
    "ExecuteTime": {
     "end_time": "2025-07-12T13:13:02.470075Z",
     "start_time": "2025-07-12T13:13:02.465779Z"
    }
   },
   "id": "61f64203b46c50e8",
   "execution_count": 165
  },
  {
   "cell_type": "code",
   "outputs": [],
   "source": [
    "ms_mpa_nmr_diet_oral_filtered_lifestyle = ms_mpa_nmr_diet_oral_filtered.join(lifestyle_data_baseline.reset_index().set_index('RegistrationCode'), how='inner')"
   ],
   "metadata": {
    "collapsed": false,
    "ExecuteTime": {
     "end_time": "2025-07-12T13:16:58.057757Z",
     "start_time": "2025-07-12T13:16:57.922716Z"
    }
   },
   "id": "74e9f86f02c7ea8e",
   "execution_count": 171
  },
  {
   "cell_type": "code",
   "outputs": [
    {
     "data": {
      "text/plain": "smoke_tobacco_now\n 0.0    8792\n 0.5     834\n 1.0     647\n-1.0      45\nName: count, dtype: int64"
     },
     "execution_count": 175,
     "metadata": {},
     "output_type": "execute_result"
    }
   ],
   "source": [
    "lifestyle_data_baseline.smoke_tobacco_now.value_counts()"
   ],
   "metadata": {
    "collapsed": false,
    "ExecuteTime": {
     "end_time": "2025-07-12T13:19:37.564281Z",
     "start_time": "2025-07-12T13:19:37.559192Z"
    }
   },
   "id": "298dab3c0deb86f0",
   "execution_count": 175
  },
  {
   "cell_type": "code",
   "outputs": [
    {
     "data": {
      "text/plain": "(2697, 3895)"
     },
     "execution_count": 189,
     "metadata": {},
     "output_type": "execute_result"
    }
   ],
   "source": [
    "ms_mpa_nmr_diet_oral_filtered_lifestyle.shape"
   ],
   "metadata": {
    "collapsed": false,
    "ExecuteTime": {
     "end_time": "2025-07-12T13:38:50.739301Z",
     "start_time": "2025-07-12T13:38:50.736026Z"
    }
   },
   "id": "7aa0560cf9a81119",
   "execution_count": 189
  },
  {
   "cell_type": "code",
   "outputs": [
    {
     "data": {
      "text/plain": "smoke_tobacco_now\n 0.0    2096\n 0.5     182\n 1.0     137\n-1.0      10\nName: count, dtype: int64"
     },
     "execution_count": 179,
     "metadata": {},
     "output_type": "execute_result"
    }
   ],
   "source": [
    "ms_mpa_nmr_diet_oral_filtered_lifestyle.smoke_tobacco_now.value_counts()"
   ],
   "metadata": {
    "collapsed": false,
    "ExecuteTime": {
     "end_time": "2025-07-12T13:23:19.308295Z",
     "start_time": "2025-07-12T13:23:19.303797Z"
    }
   },
   "id": "d67cce50662c2b7b",
   "execution_count": 179
  },
  {
   "cell_type": "code",
   "outputs": [],
   "source": [
    "# import medical conditions\n",
    "medical_conditions = pd.read_csv('/net/mraid20/export/genie/LabData/Analyses/DeepVoiceFolder/nastya_medical_conditions_baseline_consolidated_above1percent.csv', index_col=0)"
   ],
   "metadata": {
    "collapsed": false,
    "ExecuteTime": {
     "end_time": "2025-07-12T13:34:23.304953Z",
     "start_time": "2025-07-12T13:34:23.283696Z"
    }
   },
   "id": "1929f66a42e2ae2e",
   "execution_count": 180
  },
  {
   "cell_type": "code",
   "outputs": [],
   "source": [
    "ms_mpa_nmr_diet_oral_filtered_medical_conds = ms_mpa_nmr_diet_oral_filtered.join(medical_conditions, how='inner')"
   ],
   "metadata": {
    "collapsed": false,
    "ExecuteTime": {
     "end_time": "2025-07-12T13:36:28.991893Z",
     "start_time": "2025-07-12T13:36:28.863166Z"
    }
   },
   "id": "718785105d7d07c6",
   "execution_count": 186
  },
  {
   "cell_type": "code",
   "outputs": [
    {
     "data": {
      "text/plain": "Diabetes\n0    2708\n1      10\nName: count, dtype: int64"
     },
     "execution_count": 188,
     "metadata": {},
     "output_type": "execute_result"
    }
   ],
   "source": [
    "ms_mpa_nmr_diet_oral_filtered_medical_conds['Diabetes'].value_counts()"
   ],
   "metadata": {
    "collapsed": false,
    "ExecuteTime": {
     "end_time": "2025-07-12T13:37:06.981834Z",
     "start_time": "2025-07-12T13:37:06.977657Z"
    }
   },
   "id": "383f6a6303539df1",
   "execution_count": 188
  },
  {
   "cell_type": "code",
   "outputs": [],
   "source": [
    "### save the final joined data MS X MPA X NIGHTINGALE X Oral\n",
    "nightingale_cols = list(nightingale_data.columns) + ['age', 'gender', 'bmi']\n",
    "mpa_cols = list(filtered_cols_w_oral) + ['age', 'gender', 'bmi']\n",
    "oral_cols = list(oral_mb.columns) + ['age', 'gender', 'bmi']\n",
    "ms_cols = clusterd_09.drop(columns=['RegistrationCode', 'research_stage']).columns\n",
    "\n",
    "ms_mpa_cols = list(set(ms_cols).union(set(filtered_cols_w_oral)))\n",
    "ms_oral_cols = list(set(ms_cols).union(set(oral_mb.columns)))\n",
    "ms_nmr_cols = list(set(ms_cols).union(set(nightingale_cols)))\n",
    "ms_mpa_nmr_cols = list(set(ms_cols).union(set(filtered_cols_w_oral)).union(set(nightingale_cols)))\n",
    "ms_mpa_nmr_oral_cols = list(set(ms_mpa_nmr_cols).union(set(oral_mb.columns)))\n",
    "\n",
    "ms_mpa_nmr_diet_oral_filtered[ms_cols].to_csv(output_data_dir + '/x_ms_matched.csv')\n",
    "ms_mpa_nmr_diet_oral_pre[ms_cols].to_csv(output_data_dir + '/Previsit/x_ms_matched_pre.csv')\n",
    "ms_mpa_nmr_oral_lifestyle[ms_cols].to_csv(output_data_dir + '/Lifestyle/x_ms_matched.csv')\n",
    "\n",
    "\n",
    "ms_mpa_nmr_diet_oral_filtered[nightingale_cols].to_csv(output_data_dir + '/x_NMR_matched.csv')\n",
    "ms_mpa_nmr_diet_oral_pre[nightingale_cols].to_csv(output_data_dir + '/Previsit/x_NMR_matched_pre.csv')\n",
    "\n",
    "ms_mpa_nmr_oral_lifestyle[nightingale_cols].to_csv(output_data_dir + '/Lifestyle/x_NMR_matched.csv')\n",
    "ms_mpa_nmr_diet_oral_filtered[mpa_cols].to_csv(output_data_dir + '/x_mpa_matched.csv')\n",
    "ms_mpa_nmr_diet_oral_pre[mpa_cols].to_csv(output_data_dir + '/Previsit/x_mpa_matched_pre.csv')\n",
    "\n",
    "ms_mpa_nmr_oral_lifestyle[mpa_cols].to_csv(output_data_dir + '/Lifestyle/x_mpa_matched.csv')\n",
    "ms_mpa_nmr_diet_oral_filtered[oral_cols].to_csv(output_data_dir + '/x_oral_matched.csv')\n",
    "ms_mpa_nmr_diet_oral_pre[oral_cols].to_csv(output_data_dir + '/Previsit/x_oral_matched_pre.csv')\n",
    "ms_mpa_nmr_oral_lifestyle[oral_cols].to_csv(output_data_dir + '/Lifestyle/x_oral_matched.csv')\n",
    "\n",
    "ms_mpa_nmr_diet_oral_filtered[ms_mpa_cols].to_csv(output_data_dir + '/x_ms_mpa_matched.csv')\n",
    "ms_mpa_nmr_oral_lifestyle[ms_mpa_cols].to_csv(output_data_dir + '/Lifestyle/x_ms_mpa_matched.csv')\n",
    "ms_mpa_nmr_diet_oral_filtered[ms_oral_cols].to_csv(output_data_dir + '/x_ms_oral_matched.csv')\n",
    "ms_mpa_nmr_oral_lifestyle[ms_oral_cols].to_csv(output_data_dir + '/Lifestyle/x_ms_oral_matched.csv')\n",
    "ms_mpa_nmr_oral_lifestyle[lifestyle_data_baseline_filtered.columns].to_csv(output_data_dir + '/Lifestyle/y_lifestyle_matched.csv')\n",
    "\n",
    "ms_mpa_nmr_diet_oral_filtered[ms_nmr_cols].to_csv(output_data_dir + '/x_ms_NMR_matched.csv')\n",
    "ms_mpa_nmr_oral_lifestyle[ms_nmr_cols].to_csv(output_data_dir + '/Lifestyle/x_ms_NMR_matched.csv')\n",
    "ms_mpa_nmr_diet_oral_filtered[ms_oral_cols].to_csv(output_data_dir + '/x_ms_oral_matched.csv')\n",
    "ms_mpa_nmr_diet_oral_filtered[ms_mpa_nmr_cols].to_csv(output_data_dir + '/x_ms_mpa_NMR_matched.csv')"
   ],
   "metadata": {
    "collapsed": false,
    "ExecuteTime": {
     "end_time": "2025-06-03T12:27:07.211032Z",
     "start_time": "2025-06-03T12:26:02.596489Z"
    }
   },
   "id": "f323cced9ff55a0b",
   "execution_count": 160
  },
  {
   "cell_type": "code",
   "outputs": [],
   "source": [
    "nova_cols = list(nova_scores_baseline.columns) + list(nova_fiber.columns)\n",
    "ms_mpa_nmr_diet_oral_filtered[nova_cols].to_csv(output_data_dir + '/y_nova_scores.csv')"
   ],
   "metadata": {
    "collapsed": false,
    "ExecuteTime": {
     "end_time": "2025-04-28T15:47:43.538438Z",
     "start_time": "2025-04-28T15:47:43.489055Z"
    }
   },
   "id": "28f5a1fdf117a3ba",
   "execution_count": 974
  },
  {
   "cell_type": "code",
   "outputs": [],
   "source": [
    "# ms_mpa_nmr_diet_oral_filtered[ms_mpa_nmr_oral_cols].to_csv(output_data_dir + '/x_ms_mpa_NMR_oral_matched.csv')"
   ],
   "metadata": {
    "collapsed": false,
    "ExecuteTime": {
     "end_time": "2025-04-28T15:47:44.310601Z",
     "start_time": "2025-04-28T15:47:44.308189Z"
    }
   },
   "id": "1bb1ec374c6a6745",
   "execution_count": 975
  },
  {
   "cell_type": "code",
   "outputs": [],
   "source": [
    "ms_mpa_nmr_diet_oral_filtered[diet_scores].to_csv(output_data_dir + '/y_diet_adherence_scores.csv')\n",
    "ms_mpa_nmr_diet_oral_filtered[food_categories].to_csv(output_data_dir + '/y_food_categories.csv')\n",
    "ms_mpa_nmr_diet_oral_filtered[pct_macros].to_csv(output_data_dir + '/y_diet_macros.csv')\n",
    "ms_mpa_nmr_diet_oral_filtered[lipids_ratios].to_csv(output_data_dir + '/y_lipid_ratios.csv')\n",
    "ms_mpa_nmr_diet_oral_filtered[plant_ratios].to_csv(output_data_dir + '/y_plant_ratios.csv')\n",
    "ms_mpa_nmr_diet_oral_filtered[nutrients].to_csv(output_data_dir + '/y_nutrients.csv')\n",
    "# joined_diet_mpa_serrf_nightinglae_filtered[never_eaters].to_csv(output_data_dir + '/y_never_eaters.csv')\n",
    "# joined_diet_mpa_serrf_nightinglae_filtered[bread_types].to_csv(output_data_dir + '/y_bread_types.csv')\n",
    "# joined_diet_mpa_serrf_nightinglae_filtered[oil_types].to_csv(output_data_dir + '/y_oil_types.csv')\n",
    "# joined_diet_mpa_serrf_nightinglae_filtered[cereal_types].to_csv(output_data_dir + '/y_cereal_types.csv')\n",
    "ms_mpa_nmr_diet_oral_filtered[foods].to_csv(output_data_dir + '/y_foods.csv')"
   ],
   "metadata": {
    "collapsed": false,
    "ExecuteTime": {
     "end_time": "2025-04-28T15:47:46.539222Z",
     "start_time": "2025-04-28T15:47:44.906165Z"
    }
   },
   "id": "2da2a2030a252090",
   "execution_count": 976
  },
  {
   "cell_type": "code",
   "outputs": [
    {
     "data": {
      "text/plain": "['IMEDAS_score_per_day',\n 'eatLANCET_score_per_day',\n 'aHEI_score_per_day',\n 'DASH_score',\n 'hPDI_score_per_day',\n 'vegetarian_score_per_day',\n 'vegan_score_per_day',\n 'carnivore_score_per_day',\n 'keto',\n 'low_carb_diet',\n 'pct_NOVA_4']"
     },
     "execution_count": 162,
     "metadata": {},
     "output_type": "execute_result"
    }
   ],
   "source": [
    "diet_scores"
   ],
   "metadata": {
    "collapsed": false,
    "ExecuteTime": {
     "end_time": "2025-06-03T12:30:48.140601Z",
     "start_time": "2025-06-03T12:30:48.137305Z"
    }
   },
   "id": "a73a244778a5c807",
   "execution_count": 162
  },
  {
   "cell_type": "code",
   "outputs": [],
   "source": [
    "filtered_list = [x for x in diet_scores if x not in ['hPDI_score_per_day', 'pct_NOVA_4']]\n",
    "filtered_list_nutr = [x for x in nutrients if x not in ['Fatty acids, total saturated', 'Isoleucine', 'Leucine', 'Valine', 'Lysine', 'Threonine', 'Methionine', 'Phenylalanine', 'Tryptophan', 'Histidine', 'Tyrosine', 'Arginine', 'Cystine', 'Serine', 'Alanine', 'Aspartic acid', 'Glutamic acid', 'Glycine', 'Hydroxyproline', 'Proline']]"
   ],
   "metadata": {
    "collapsed": false,
    "ExecuteTime": {
     "end_time": "2025-06-03T12:35:23.463968Z",
     "start_time": "2025-06-03T12:35:23.460264Z"
    }
   },
   "id": "930efcea490d3cb4",
   "execution_count": 172
  },
  {
   "cell_type": "code",
   "outputs": [],
   "source": [
    "foods_pre = ['Almond Beverage',\n",
    " 'Almonds',\n",
    " 'Apple',\n",
    " 'Apple Cake',\n",
    " 'Apricot',\n",
    " 'Artichoke',\n",
    " 'Arugula',\n",
    " 'Avocado',\n",
    " 'Bagel',\n",
    " 'Baguette',\n",
    " 'Bamba',\n",
    " 'Banana',\n",
    " 'Beans',\n",
    " 'Beans black-eyed peas',\n",
    " 'Beef',\n",
    " 'Beer',\n",
    " 'Beet',\n",
    " 'Beet Salad',\n",
    " 'Biscuit',\n",
    " 'Blueberries',\n",
    " 'Brazil nuts',\n",
    " 'Bread',\n",
    " 'Broccoli',\n",
    " 'Brown Sugar',\n",
    " 'Burekas',\n",
    " 'Butter',\n",
    " 'Butter Cookies',\n",
    " 'Camembert or Brie',\n",
    " 'Canned Tuna Fish',\n",
    " 'Canned corn',\n",
    " 'Cappuccino',\n",
    " 'Carrot Salad',\n",
    " 'Carrots',\n",
    " 'Cashew',\n",
    " 'Cauliflower',\n",
    " 'Celery',\n",
    " 'Cereals',\n",
    " 'Cheesecake',\n",
    " 'Cherries',\n",
    " 'Cherry tomatoes',\n",
    " 'Chia seeds',\n",
    " 'Chicken',\n",
    " 'Chicken Meatballs',\n",
    " 'Chicken Steak',\n",
    " 'Chicken breast',\n",
    " 'Chicken drumstick',\n",
    " 'Chicken legs',\n",
    " 'Chicken soup',\n",
    " 'Chili pepper',\n",
    " 'Chocolate',\n",
    " 'Chocolate Cookies',\n",
    " 'Chocolate cake',\n",
    " 'Chocolate spread',\n",
    " 'Ciabatta',\n",
    " 'Cinnamon',\n",
    " 'Coffee',\n",
    " 'Coke',\n",
    " 'Cold cut',\n",
    " 'Coleslaw',\n",
    " 'Cooked green beans',\n",
    " 'Cooked vegetables',\n",
    " 'Cookies',\n",
    " 'Coriander',\n",
    " 'Corn',\n",
    " 'Cottage cheese',\n",
    " 'Couscous',\n",
    " 'Cracker',\n",
    " 'Crackers',\n",
    " 'Cranberries',\n",
    " 'Cream Cheese',\n",
    " 'Croissant',\n",
    " 'Cucumber',\n",
    " 'Danish',\n",
    " 'Dark Chocolate',\n",
    " 'Date honey',\n",
    " 'Dates',\n",
    " 'Diet Coke',\n",
    " 'Egg',\n",
    " 'Egg Salad',\n",
    " 'Eggplant',\n",
    " 'Eggplant Salad',\n",
    " 'English cake',\n",
    " 'Falafel',\n",
    " 'Feta Cheese',\n",
    " 'Fig',\n",
    " 'Flavored Yogurt',\n",
    " 'Flax seeds',\n",
    " 'French fries',\n",
    " 'Fried onions',\n",
    " 'Garlic',\n",
    " 'Goat Cheese',\n",
    " 'Goat Milk Yogurt',\n",
    " 'Goji berry',\n",
    " 'Gouda Cheese',\n",
    " 'Granola',\n",
    " 'Grapes',\n",
    " 'Green Salad',\n",
    " 'Green Tea',\n",
    " 'Green cabbage',\n",
    " 'Green onions',\n",
    " 'Grilled vegetables',\n",
    " 'Guacamole',\n",
    " 'Halva',\n",
    " 'Hamburger',\n",
    " 'Hazelnuts',\n",
    " 'Heavy cream',\n",
    " 'Honey',\n",
    " 'Hummus',\n",
    " 'Hummus Salad',\n",
    " 'Ice cream',\n",
    " 'Israeli couscous',\n",
    " 'Jam',\n",
    " 'Kebab',\n",
    " 'Ketchup',\n",
    " 'Kiwi',\n",
    " 'Kohlrabi',\n",
    " 'Labneh Cheese',\n",
    " 'Lemon',\n",
    " 'Lemon juice',\n",
    " 'Lentil Soup',\n",
    " 'Lentils',\n",
    " 'Lettuce',\n",
    " 'Lettuce Salad',\n",
    " 'Light Bread',\n",
    " 'Light Yellow Cheese',\n",
    " 'Low fat Milk',\n",
    " 'Macadamia nuts',\n",
    " 'Majadra',\n",
    " 'Mandarin',\n",
    " 'Mango',\n",
    " 'Matbucha',\n",
    " 'Mayonnaise',\n",
    " 'Meatballs',\n",
    " 'Melon',\n",
    " 'Milk',\n",
    " 'Mixed nuts',\n",
    " 'Mozzarella Cheese',\n",
    " 'Mushrooms',\n",
    " 'Mustard',\n",
    " 'Natural Yogurt',\n",
    " 'Nectarine',\n",
    " 'Noodles',\n",
    " 'Oat Drink',\n",
    " 'Oatmeal',\n",
    " 'Oatmeal Cereal',\n",
    " 'Olive oil',\n",
    " 'Olives',\n",
    " 'Omelette',\n",
    " 'Onion',\n",
    " 'Orange',\n",
    " 'Orange juice',\n",
    " 'Pancake',\n",
    " 'Parmesan cheese',\n",
    " 'Parsley',\n",
    " 'Pasta',\n",
    " 'Pasta with tomato sauce',\n",
    " 'Pastrami',\n",
    " 'Peach',\n",
    " 'Peanut Butter',\n",
    " 'Peanuts',\n",
    " 'Pear',\n",
    " 'Peas',\n",
    " 'Pecan',\n",
    " 'Pepper',\n",
    " 'Persimmon',\n",
    " 'Pesto',\n",
    " 'Pickled cucumber',\n",
    " 'Pistachio',\n",
    " 'Pita',\n",
    " 'Pizza',\n",
    " 'Plum',\n",
    " 'Pomegranate',\n",
    " 'Pomelo',\n",
    " 'Popcorn',\n",
    " 'Popsicle',\n",
    " 'Potatoes',\n",
    " 'Pretzels',\n",
    " 'Prune',\n",
    " 'Pullet',\n",
    " 'Pumpkin',\n",
    " 'Pumpkin seeds',\n",
    " 'Quinoa',\n",
    " 'Raisins',\n",
    " 'Red Cabbage Salad',\n",
    " 'Rice',\n",
    " 'Rice crackers',\n",
    " 'Rice drink',\n",
    " 'Roasted eggplant',\n",
    " 'Roll',\n",
    " 'Rye Bread',\n",
    " 'Salmon',\n",
    " 'Salty Cheese',\n",
    " 'Salty Cookies',\n",
    " 'Sausages',\n",
    " 'Sauteed vegetables',\n",
    " 'Schnitzel',\n",
    " 'Shakshouka',\n",
    " 'Sheep Milk Yoghurt',\n",
    " 'Small radish',\n",
    " 'Smoked Salmon',\n",
    " 'Smoothies',\n",
    " 'Soup mandels',\n",
    " 'Soy sauce',\n",
    " 'Soymilk',\n",
    " 'Spelled',\n",
    " 'Spinach',\n",
    " 'Sprouts',\n",
    " 'Steak',\n",
    " 'Strawberry',\n",
    " 'Stuffed Vine leaves',\n",
    " 'Sugar',\n",
    " 'Sunflower seeds',\n",
    " 'Sushi',\n",
    " 'Sweet potato',\n",
    " 'Tahini',\n",
    " 'Tea',\n",
    " 'Tilapia',\n",
    " 'Tofu',\n",
    " 'Tomato paste',\n",
    " 'Tomato sauce',\n",
    " 'Tomatoes',\n",
    " 'Tortilla',\n",
    " 'Tuna Salad',\n",
    " 'Turkey Shawarma',\n",
    " 'Tzfatit Cheese',\n",
    " 'Vegetable Salad',\n",
    " 'Vegetable Soup',\n",
    " 'Wafers',\n",
    " 'Walnuts',\n",
    " 'Watermelon',\n",
    " 'Whipped cream',\n",
    " 'Whiskey',\n",
    " 'White Cheese',\n",
    " 'Wholemeal Bread',\n",
    " 'Wholemeal Crackers',\n",
    " 'Wholemeal Roll',\n",
    " 'Wine',\n",
    " 'Yellow Cheese',\n",
    " 'Yellow pepper',\n",
    " 'Yogurt',\n",
    " 'Zucchini',\n",
    " 'emmer wheat bread',\n",
    " 'ginger']"
   ],
   "metadata": {
    "collapsed": false,
    "ExecuteTime": {
     "end_time": "2025-06-03T15:16:45.074968Z",
     "start_time": "2025-06-03T15:16:45.067713Z"
    }
   },
   "id": "45aa085e68a64256",
   "execution_count": 176
  },
  {
   "cell_type": "code",
   "outputs": [],
   "source": [
    "ms_mpa_nmr_diet_oral_pre[filtered_list].to_csv(output_data_dir + '/Previsit/y_diet_adherence_scores.csv')\n",
    "ms_mpa_nmr_diet_oral_pre[food_categories].to_csv(output_data_dir + '/Previsit/y_food_categories.csv')\n",
    "ms_mpa_nmr_diet_oral_pre[pct_macros].to_csv(output_data_dir + '/Previsit/y_diet_macros.csv')\n",
    "ms_mpa_nmr_diet_oral_pre[lipids_ratios].to_csv(output_data_dir + '/Previsit/y_lipid_ratios.csv')\n",
    "ms_mpa_nmr_diet_oral_pre[plant_ratios].to_csv(output_data_dir + '/Previsit/y_plant_ratios.csv')\n",
    "ms_mpa_nmr_diet_oral_pre[filtered_list_nutr].to_csv(output_data_dir + '/Previsit/y_nutrients.csv')\n",
    "ms_mpa_nmr_diet_oral_pre[foods_pre].to_csv(output_data_dir + '/Previsit/y_foods.csv')"
   ],
   "metadata": {
    "collapsed": false,
    "ExecuteTime": {
     "end_time": "2025-06-03T15:16:50.716769Z",
     "start_time": "2025-06-03T15:16:50.258048Z"
    }
   },
   "id": "45ea96dc1832050",
   "execution_count": 177
  },
  {
   "cell_type": "code",
   "outputs": [
    {
     "data": {
      "text/plain": "['Almond Beverage',\n 'Almonds',\n 'Apple',\n 'Apple Cake',\n 'Apricot',\n 'Artichoke',\n 'Arugula',\n 'Avocado',\n 'Bagel',\n 'Baguette',\n 'Bamba',\n 'Banana',\n 'Beans',\n 'Beans black-eyed peas',\n 'Beef',\n 'Beer',\n 'Beet',\n 'Beet Salad',\n 'Biscuit',\n 'Blueberries',\n 'Brazil nuts',\n 'Bread',\n 'Broccoli',\n 'Brown Sugar',\n 'Burekas',\n 'Butter',\n 'Butter Cookies',\n 'Camembert or Brie',\n 'Canned Tuna Fish',\n 'Canned corn',\n 'Cappuccino',\n 'Carrot Salad',\n 'Carrots',\n 'Cashew',\n 'Cauliflower',\n 'Celery',\n 'Cereals',\n 'Cheesecake',\n 'Cherries',\n 'Cherry tomatoes',\n 'Chia seeds',\n 'Chicken',\n 'Chicken Meatballs',\n 'Chicken Steak',\n 'Chicken breast',\n 'Chicken drumstick',\n 'Chicken legs',\n 'Chicken soup',\n 'Chili pepper',\n 'Chocolate',\n 'Chocolate Cookies',\n 'Chocolate cake',\n 'Chocolate spread',\n 'Ciabatta',\n 'Cinnamon',\n 'Coffee',\n 'Coke',\n 'Cold cut',\n 'Coleslaw',\n 'Cooked green beans',\n 'Cooked vegetables',\n 'Cookies',\n 'Coriander',\n 'Corn',\n 'Cottage cheese',\n 'Couscous',\n 'Cracker',\n 'Crackers',\n 'Cranberries',\n 'Cream Cheese',\n 'Croissant',\n 'Cucumber',\n 'Danish',\n 'Dark Chocolate',\n 'Date honey',\n 'Dates',\n 'Diet Coke',\n 'Egg',\n 'Egg Salad',\n 'Eggplant',\n 'Eggplant Salad',\n 'English cake',\n 'Falafel',\n 'Feta Cheese',\n 'Fig',\n 'Flavored Yogurt',\n 'Flax seeds',\n 'French fries',\n 'Fried onions',\n 'Garlic',\n 'Goat Cheese',\n 'Goat Milk Yogurt',\n 'Goji berry',\n 'Gouda Cheese',\n 'Granola',\n 'Grapes',\n 'Green Salad',\n 'Green Tea',\n 'Green cabbage',\n 'Green onions',\n 'Grilled vegetables',\n 'Guacamole',\n 'Halva',\n 'Hamburger',\n 'Hazelnuts',\n 'Heavy cream',\n 'Honey',\n 'Hummus',\n 'Hummus Salad',\n 'Ice cream',\n 'Israeli couscous',\n 'Jam',\n 'Kebab',\n 'Ketchup',\n 'Kiwi',\n 'Kohlrabi',\n 'Labneh Cheese',\n 'Lemon',\n 'Lemon juice',\n 'Lentil Soup',\n 'Lentils',\n 'Lettuce',\n 'Lettuce Salad',\n 'Light Bread',\n 'Light Yellow Cheese',\n 'Low fat Milk',\n 'Macadamia nuts',\n 'Majadra',\n 'Mandarin',\n 'Mango',\n 'Matbucha',\n 'Mayonnaise',\n 'Meatballs',\n 'Melon',\n 'Milk',\n 'Mixed nuts',\n 'Mozzarella Cheese',\n 'Mushrooms',\n 'Mustard',\n 'Natural Yogurt',\n 'Nectarine',\n 'Noodles',\n 'Oat Drink',\n 'Oatmeal',\n 'Oatmeal Cereal',\n 'Olive oil',\n 'Olives',\n 'Omelette',\n 'Onion',\n 'Orange',\n 'Orange juice',\n 'Pancake',\n 'Parmesan cheese',\n 'Parsley',\n 'Pasta',\n 'Pasta with tomato sauce',\n 'Pastrami',\n 'Peach',\n 'Peanut Butter',\n 'Peanuts',\n 'Pear',\n 'Peas',\n 'Pecan',\n 'Pepper',\n 'Persimmon',\n 'Pesto',\n 'Pickled cucumber',\n 'Pistachio',\n 'Pita',\n 'Pizza',\n 'Plum',\n 'Pomegranate',\n 'Pomelo',\n 'Popcorn',\n 'Popsicle',\n 'Potatoes',\n 'Pretzels',\n 'Prune',\n 'Pullet',\n 'Pumpkin',\n 'Pumpkin seeds',\n 'Quinoa',\n 'Raisins',\n 'Red Cabbage Salad',\n 'Rice',\n 'Rice crackers',\n 'Rice drink',\n 'Roasted eggplant',\n 'Roll',\n 'Rye Bread',\n 'Salmon',\n 'Salty Cheese',\n 'Salty Cookies',\n 'Sausages',\n 'Sauteed vegetables',\n 'Schnitzel',\n 'Shakshouka',\n 'Sheep Milk Yoghurt',\n 'Small radish',\n 'Smoked Salmon',\n 'Smoothies',\n 'Soup mandels',\n 'Soy sauce',\n 'Soymilk',\n 'Spelled',\n 'Spinach',\n 'Sprouts',\n 'Steak',\n 'Strawberry',\n 'Stuffed Vine leaves',\n 'Sugar',\n 'Sunflower seeds',\n 'Sushi',\n 'Sweet potato',\n 'Tahini',\n 'Tea',\n 'Tilapia',\n 'Tofu',\n 'Tomato paste',\n 'Tomato sauce',\n 'Tomatoes',\n 'Tortilla',\n 'Tuna Salad',\n 'Turkey Shawarma',\n 'Tzfatit Cheese',\n 'Vegetable Salad',\n 'Vegetable Soup',\n 'Wafers',\n 'Walnuts',\n 'Watermelon',\n 'Whipped cream',\n 'Whiskey',\n 'White Cheese',\n 'Wholemeal Bread',\n 'Wholemeal Crackers',\n 'Wholemeal Roll',\n 'Wine',\n 'Yellow Cheese',\n 'Yellow pepper',\n 'Yogurt',\n 'Zucchini',\n 'emmer wheat bread',\n 'ginger',\n 'Energy',\n 'Water',\n 'Fiber, total dietary',\n 'Calcium, Ca',\n 'Iron, Fe',\n 'Magnesium, Mg',\n 'Phosphorus, P',\n 'Potassium, K',\n 'Sodium, Na',\n 'Zinc, Zn',\n 'Copper, Cu',\n 'Vitamin C, total ascorbic acid',\n 'Thiamin',\n 'Riboflavin',\n 'Niacin',\n 'Vitamin B-6',\n 'Folate, total',\n 'Vitamin B-12',\n 'Cholesterol',\n 'Fatty acids, total monounsaturated',\n 'Fatty acids, total polyunsaturated',\n 'Vitamin D (D2 + D3)',\n 'Sugars, Total',\n 'Fatty acids, total trans',\n 'Vitamin A, RAE',\n 'Pantothenic acid',\n 'Selenium, Se',\n 'Choline, total',\n 'Manganese, Mn',\n 'Fructose',\n 'Vitamin K',\n 'Iodine',\n 'Sugar alcohols',\n 'Biotin',\n 'Ash',\n 'Betaine',\n 'Caffeine',\n 'Campesterol',\n 'Fluoride, F',\n 'Glucose',\n 'Lutein + zeaxanthin',\n 'Lycopene',\n 'Phytosterols',\n 'Starch',\n 'omega_6',\n 'omega_3',\n 'vitamin_E',\n 'Foods_per_meal',\n 'Foods_per_day',\n 'Meals_per_day',\n 'Fasting_window',\n 'plant_foods_per_day',\n 'plant_foods_per_week',\n 'plant_energy_pct',\n 'plant_protein_pct',\n 'plant_fat_pct',\n 'vegetarian_score_per_day',\n 'wfpb_score_per_day',\n 'vegan_score_per_day',\n 'pescatarian_score_per_day',\n 'carnivore_score_per_day',\n 'NOVA_pct',\n 'IMEDAS_score_per_day',\n 'eatLANCET_score_per_day',\n 'aHEI_score_per_day',\n 'pct_protein_calories',\n 'pct_carb_calories',\n 'pct_fat_calories',\n 'pct_alcohol_calories',\n 'sat_to_total_lipids_ratio',\n 'trans_to_total_lipids_ratio',\n 'mono_to_total_lipids_ratio',\n 'poly_to_total_lipids_ratio',\n 'omega3_to_total_lipids_ratio',\n 'omega6_to_total_lipids_ratio',\n 'omega6_to_omega3_ratio',\n 'pct_saturated_fat_calories',\n 'keto',\n 'low_carb_diet',\n 'DASH_score',\n 'AlcoholicDrinks',\n 'Beefveallambandothermeatproducts',\n 'Bread_cat',\n 'Bread_wholewheat',\n 'Cannedvegandfruits',\n 'Cereals_cat',\n 'Deepfriedfoods',\n 'Drinks',\n 'Eggsandtheirproducts',\n 'FastFoods',\n 'Fishandseafood',\n 'Fruits',\n 'Hardcheese',\n 'Industrializedvegetarianfoodreadytoeat',\n 'MedOilandfats',\n 'Nutsseedsandproducts',\n 'Oilsandfats',\n 'Others',\n 'PastaGrainsandSidedishes',\n 'PastaGrainsandSidedishes_wholewheat',\n 'Poultryanditsproducts',\n 'Proccessedmeatproducts',\n 'Pulsesandproducts',\n 'Snacks',\n 'Soupsandsauces',\n 'Spicesandherbs',\n 'Vegetables',\n 'bakedgoods',\n 'fruitjuicesandsoftdrinks',\n 'milkcreamcheeseandyogurts',\n 'sweetmilkproducts',\n 'sweets',\n 'sex',\n 'Energy / BMR']"
     },
     "execution_count": 175,
     "metadata": {},
     "output_type": "execute_result"
    }
   ],
   "source": [
    "diet_features_pre.columns.to_list()"
   ],
   "metadata": {
    "collapsed": false,
    "ExecuteTime": {
     "end_time": "2025-06-03T15:15:41.218585Z",
     "start_time": "2025-06-03T15:15:41.213941Z"
    }
   },
   "id": "ac9feef0c08417bd",
   "execution_count": 175
  },
  {
   "cell_type": "code",
   "outputs": [
    {
     "data": {
      "text/plain": "(4818, 2792)"
     },
     "execution_count": 1516,
     "metadata": {},
     "output_type": "execute_result"
    }
   ],
   "source": [
    "ms_joined_diet_features.shape"
   ],
   "metadata": {
    "collapsed": false,
    "ExecuteTime": {
     "end_time": "2025-03-12T06:24:15.166850Z",
     "start_time": "2025-03-12T06:24:15.163158Z"
    }
   },
   "id": "df72cb07afe0835b",
   "execution_count": 1516
  },
  {
   "cell_type": "code",
   "outputs": [
    {
     "data": {
      "text/plain": "(4818, 2792)"
     },
     "execution_count": 1517,
     "metadata": {},
     "output_type": "execute_result"
    }
   ],
   "source": [
    "ms_diet.shape"
   ],
   "metadata": {
    "collapsed": false,
    "ExecuteTime": {
     "end_time": "2025-03-12T06:24:16.112615Z",
     "start_time": "2025-03-12T06:24:16.109837Z"
    }
   },
   "id": "e0335ea3a69e8666",
   "execution_count": 1517
  },
  {
   "cell_type": "code",
   "outputs": [],
   "source": [
    "ms_joined_diet_features[diet_scores].to_csv(output_data_dir + '/MS/y_diet_adherence_scores.csv')\n",
    "ms_joined_diet_features[min_consumption].to_csv(output_data_dir + '/MS/y_min_consumption.csv')\n",
    "ms_joined_diet_features[max_consumption].to_csv(output_data_dir + '/MS/y_max_consumption.csv')\n",
    "ms_joined_diet_features[serrf_full_base.columns].to_csv(output_data_dir + '/MS/x_diet_features.csv')\n",
    "# ms_joined_diet_features[pct_macros].to_csv(output_data_dir + '/y_diet_macros.csv')\n",
    "# ms_joined_diet_features[lipids_ratios].to_csv(output_data_dir + '/y_diet_lipids.csv')\n",
    "# ms_joined_diet_features[plant_ratios].to_csv(output_data_dir + '/y_diet_plant_ratios.csv')"
   ],
   "metadata": {
    "collapsed": false,
    "ExecuteTime": {
     "end_time": "2025-03-12T06:24:59.062775Z",
     "start_time": "2025-03-12T06:24:46.828244Z"
    }
   },
   "id": "4eecd1e6d1c33895",
   "execution_count": 1518
  },
  {
   "cell_type": "code",
   "outputs": [],
   "source": [
    "# ms_joined_diet_features[nutrients].to_csv(output_data_dir + '/y_diet_nutrients.csv')\n",
    "# ms_joined_diet_features[never_eaters].to_csv(output_data_dir + '/y_diet_never_eaters.csv')\n",
    "# ms_joined_diet_features[bread_types].to_csv(output_data_dir + '/y_diet_bread_types.csv')\n",
    "# ms_joined_diet_features[oil_types].to_csv(output_data_dir + '/y_diet_oil_types.csv')\n",
    "# ms_joined_diet_features[cereal_types].to_csv(output_data_dir + '/y_diet_cereal_types.csv')\n",
    "# ms_joined_diet_features[food_categories].to_csv(output_data_dir + '/y_diet_food_categories.csv')\n",
    "# ms_joined_diet_features[foods].to_csv(output_data_dir + '/y_diet_foods.csv')"
   ],
   "metadata": {
    "collapsed": false,
    "ExecuteTime": {
     "end_time": "2025-01-29T08:01:09.452838Z",
     "start_time": "2025-01-29T08:01:09.450909Z"
    }
   },
   "id": "1770adfe92ef0c0a",
   "execution_count": 328
  },
  {
   "cell_type": "code",
   "outputs": [],
   "source": [
    "### save mpa with diet features\n",
    "filtered_mpa_diet[diet_scores].to_csv(output_data_dir + '/MPA/y_diet_adherence_scores_mpa.csv')\n",
    "mpa_cols_to_save = list(filtered_diet_mpa_cols) + ['age', 'gender', 'bmi']\n",
    "filtered_mpa_diet[mpa_cols_to_save].to_csv(output_data_dir + '/MPA/x_mpa_diet.csv')"
   ],
   "metadata": {
    "collapsed": false,
    "ExecuteTime": {
     "end_time": "2025-02-13T08:39:59.587980Z",
     "start_time": "2025-02-13T08:39:57.429289Z"
    }
   },
   "id": "e42d2850f0a4a98f",
   "execution_count": 669
  },
  {
   "cell_type": "code",
   "outputs": [],
   "source": [
    "# # save combined MPA + SERRF data\n",
    "# joined_diet_mpa_serrf[diet_scores].to_csv(output_data_dir + '/y_diet_adherence_scores_mpa_serrf.csv')\n",
    "# joined_diet_mpa_serrf[pct_macros].to_csv(output_data_dir + '/y_diet_macros_mpa_serrf.csv')\n",
    "# joined_diet_mpa_serrf[lipids_ratios].to_csv(output_data_dir + '/y_diet_lipids_mpa_serrf.csv')\n",
    "# joined_diet_mpa_serrf[plant_ratios].to_csv(output_data_dir + '/y_diet_plant_ratios_mpa_serrf.csv')\n",
    "# joined_diet_mpa_serrf[nutrients].to_csv(output_data_dir + '/y_diet_nutrients_mpa_serrf.csv')\n",
    "# joined_diet_mpa_serrf[never_eaters].to_csv(output_data_dir + '/y_diet_never_eaters_mpa_serrf.csv')\n",
    "# joined_diet_mpa_serrf[bread_types].to_csv(output_data_dir + '/y_diet_bread_types_mpa_serrf.csv')\n",
    "# joined_diet_mpa_serrf[oil_types].to_csv(output_data_dir + '/y_diet_oil_types_mpa_serrf.csv')\n",
    "# joined_diet_mpa_serrf[cereal_types].to_csv(output_data_dir + '/y_diet_cereal_types_mpa_serrf.csv')\n",
    "# joined_diet_mpa_serrf[food_categories].to_csv(output_data_dir + '/y_diet_food_categories_mpa_serrf.csv')\n",
    "# joined_diet_mpa_serrf[foods].to_csv(output_data_dir + '/y_diet_foods_mpa_serrf.csv')"
   ],
   "metadata": {
    "collapsed": false
   },
   "id": "a29252151889cb63",
   "execution_count": null
  },
  {
   "cell_type": "code",
   "outputs": [],
   "source": [
    "### save lifesytle ms\n",
    "ms_joined_lifestyle[serrf_full_base.columns].to_csv(output_data_dir + '/MS/x_lifestyle.csv')\n",
    "ms_joined_lifestyle[lifestyle_data_baseline_filtered.columns].to_csv(output_data_dir + '/MS/y_lifestyle_answers.csv')"
   ],
   "metadata": {
    "collapsed": false,
    "ExecuteTime": {
     "end_time": "2025-03-12T06:25:11.656867Z",
     "start_time": "2025-03-12T06:24:59.475736Z"
    }
   },
   "id": "283db096e2f5e722",
   "execution_count": 1519
  },
  {
   "cell_type": "code",
   "outputs": [],
   "source": [
    "# hr_x_diet = hr.join(diet_features, how='inner')"
   ],
   "metadata": {
    "collapsed": false,
    "ExecuteTime": {
     "end_time": "2025-01-29T08:03:11.538883Z",
     "start_time": "2025-01-29T08:03:11.536787Z"
    }
   },
   "id": "d49d63ffdef2f115",
   "execution_count": 334
  },
  {
   "cell_type": "code",
   "outputs": [],
   "source": [
    "# hr_x_diet.to_csv(os.path.join(output_data_dir, '../x_hr_diet.csv'))"
   ],
   "metadata": {
    "collapsed": false,
    "ExecuteTime": {
     "end_time": "2025-01-29T08:03:11.552499Z",
     "start_time": "2025-01-29T08:03:11.539636Z"
    }
   },
   "id": "3183aec32cd828c8",
   "execution_count": 335
  },
  {
   "cell_type": "code",
   "outputs": [
    {
     "data": {
      "text/plain": "Index(['2.17_220.0172m/z_147.96'], dtype='object')"
     },
     "execution_count": 118,
     "metadata": {},
     "output_type": "execute_result"
    }
   ],
   "source": [
    "# show all columns containing '220.0172m/z_147.92'\n",
    "ms_joined_diet_features.filter(like='220.0172').columns"
   ],
   "metadata": {
    "collapsed": false,
    "ExecuteTime": {
     "end_time": "2025-01-05T12:53:52.327647Z",
     "start_time": "2025-01-05T12:53:52.323441Z"
    }
   },
   "id": "25a6a4f6fff1744e",
   "execution_count": 118
  },
  {
   "cell_type": "markdown",
   "source": [
    "## Medical Condtions"
   ],
   "metadata": {
    "collapsed": false
   },
   "id": "4e8f5636c1936d9"
  },
  {
   "cell_type": "code",
   "outputs": [],
   "source": [
    "nastya_mc_baseline_above1 = pd.read_csv('/net/mraid20/export/genie/LabData/Analyses/DeepVoiceFolder/nastya_medical_conditions_baseline_above1percent.csv', index_col=0)\n",
    "nastya_mc_followup_above1 = pd.read_csv('/net/mraid20/export/genie/LabData/Analyses/DeepVoiceFolder/nastya_medical_conditions_followup_above1percent.csv', index_col=0)\n",
    "nastya_mc_baseline_above1_consolidate = pd.read_csv('/net/mraid20/export/genie/LabData/Analyses/DeepVoiceFolder/nastya_medical_conditions_baseline_consolidated_above1percent.csv', index_col=0)\n",
    "nastya_mc_followup_above1_consolidate = pd.read_csv('/net/mraid20/export/genie/LabData/Analyses/DeepVoiceFolder/nastya_medical_conditions_followup_consolidated_above1percent.csv', index_col=0)\n",
    "nastya_mc_followup_above1_consolidate = pd.read_csv('/net/mraid20/export/genie/LabData/Analyses/DeepVoiceFolder/nastya_medical_conditions_followup_consolidated_above1percent.csv', index_col=0)"
   ],
   "metadata": {
    "collapsed": false
   },
   "id": "2b55e10c282fa57d",
   "execution_count": null
  },
  {
   "cell_type": "code",
   "outputs": [],
   "source": [
    "# Get the actual duplicate index values\n",
    "duplicated_values = serrf_full_base.index[serrf_full_base.index.duplicated()].unique()"
   ],
   "metadata": {
    "collapsed": false,
    "ExecuteTime": {
     "end_time": "2025-01-29T07:47:20.869275Z",
     "start_time": "2025-01-29T07:47:20.867258Z"
    }
   },
   "id": "89b59a7ba8dc39cb",
   "execution_count": 266
  },
  {
   "cell_type": "code",
   "outputs": [],
   "source": [
    "ms_medical_conditions = serrf_full_base.join(nastya_mc_baseline_above1, how='left')\n",
    "ms_medical_conditions_consolidated = serrf_full_base.join(nastya_mc_baseline_above1_consolidate, how='left')\n",
    "mpa_medical_conditions = gut_mpa_baseline.join(nastya_mc_baseline_above1, how='left')\n",
    "mpa_medical_conditions_consolidated = gut_mpa_baseline.join(nastya_mc_baseline_above1_consolidate, how='left')"
   ],
   "metadata": {
    "collapsed": false,
    "ExecuteTime": {
     "end_time": "2025-02-02T06:56:29.891234Z",
     "start_time": "2025-02-02T06:56:29.511501Z"
    }
   },
   "id": "5b82fe00bb8de039",
   "execution_count": 339
  },
  {
   "cell_type": "code",
   "outputs": [],
   "source": [
    "# fill all nastya_mc_baseline_above1 columns with 0\n",
    "ms_medical_conditions.update(ms_medical_conditions[nastya_mc_baseline_above1.columns].fillna(0))\n",
    "ms_medical_conditions_consolidated.update(ms_medical_conditions_consolidated[nastya_mc_baseline_above1_consolidate.columns].fillna(0))\n",
    "mpa_medical_conditions.update(mpa_medical_conditions[nastya_mc_baseline_above1.columns].fillna(0))\n",
    "mpa_medical_conditions_consolidated.update(mpa_medical_conditions_consolidated[nastya_mc_baseline_above1_consolidate.columns].fillna(0))"
   ],
   "metadata": {
    "collapsed": false,
    "ExecuteTime": {
     "end_time": "2025-02-02T06:59:47.728714Z",
     "start_time": "2025-02-02T06:59:47.602580Z"
    }
   },
   "id": "5a303fdf10c2d5d8",
   "execution_count": 343
  },
  {
   "cell_type": "code",
   "outputs": [
    {
     "name": "stdout",
     "output_type": "stream",
     "text": [
      "Number of columns kept: 377 out of 3359\n",
      "Number of columns kept: 377 out of 3359\n"
     ]
    }
   ],
   "source": [
    "mpa_medical_conditions_filtered, mpa_conditions_cols = filter_prevalence(mpa_medical_conditions, gut_mpa_baseline.columns, 0.1)\n",
    "mpa_medical_conditions_consolidated_filtered, mpa_conditions_consolidated_cols = filter_prevalence(mpa_medical_conditions_consolidated, gut_mpa_baseline.columns, 0.1)"
   ],
   "metadata": {
    "collapsed": false,
    "ExecuteTime": {
     "end_time": "2025-02-02T07:02:23.974501Z",
     "start_time": "2025-02-02T07:02:22.270165Z"
    }
   },
   "id": "5cfcd8df2e799c5c",
   "execution_count": 347
  },
  {
   "cell_type": "code",
   "outputs": [],
   "source": [
    "# save the data\n",
    "ms_medical_conditions[serrf_full_base.columns].to_csv(output_data_dir + '/MS/x_medical_conditions.csv')\n",
    "ms_medical_conditions[nastya_mc_baseline_above1.columns].to_csv(output_data_dir + '/MS/y_medical_conditions.csv')\n",
    "ms_medical_conditions_consolidated[serrf_full_base.columns].to_csv(output_data_dir + '/MS/x_medical_conditions_consolidated.csv')\n",
    "ms_medical_conditions_consolidated[nastya_mc_baseline_above1_consolidate.columns].to_csv(output_data_dir + '/MS/y_medical_conditions_consolidated.csv')"
   ],
   "metadata": {
    "collapsed": false,
    "ExecuteTime": {
     "end_time": "2025-01-29T07:47:55.766442Z",
     "start_time": "2025-01-29T07:47:35.993330Z"
    }
   },
   "id": "6e1dacec21dbb351",
   "execution_count": 270
  },
  {
   "cell_type": "code",
   "outputs": [],
   "source": [
    "mpa_medical_conditions_filtered[mpa_conditions_cols].to_csv(output_data_dir + '/MPA/x_medical_conditions.csv')\n",
    "mpa_medical_conditions_filtered[nastya_mc_baseline_above1.columns].to_csv(output_data_dir + '/MPA/y_medical_conditions.csv')\n",
    "mpa_medical_conditions_consolidated_filtered[mpa_conditions_cols].to_csv(output_data_dir + '/MPA/x_medical_conditions_consolidated.csv')\n",
    "mpa_medical_conditions_consolidated_filtered[nastya_mc_baseline_above1_consolidate.columns].to_csv(output_data_dir + '/MPA/y_medical_conditions_consolidated.csv')"
   ],
   "metadata": {
    "collapsed": false,
    "ExecuteTime": {
     "end_time": "2025-02-02T07:03:28.020438Z",
     "start_time": "2025-02-02T07:03:23.104437Z"
    }
   },
   "id": "415f10b3ba19c688",
   "execution_count": 349
  },
  {
   "cell_type": "code",
   "outputs": [],
   "source": [
    "def correlate_columns(df1, df2, target_column, columns_list=None, method='pearson'):\n",
    "    \"\"\"\n",
    "    Calculate correlations between a target column from df1 and columns from df2.\n",
    "\n",
    "    Parameters:\n",
    "    -----------\n",
    "    df1 : pandas.DataFrame\n",
    "        The first DataFrame containing the target column\n",
    "    df2 : pandas.DataFrame\n",
    "        The second DataFrame containing the columns to correlate with\n",
    "    target_column : str\n",
    "        The name of the column from df1 to correlate against others\n",
    "    columns_list : list, optional\n",
    "        List of column names from df2 to correlate with target_column. \n",
    "        If None, will use all numeric columns from df2.\n",
    "    method : str, optional\n",
    "        The correlation method to use ('pearson', 'spearman', or 'kendall')\n",
    "        Default is 'pearson'\n",
    "\n",
    "    Returns:\n",
    "    --------\n",
    "    pandas.Series\n",
    "        Series containing correlation coefficients sorted by absolute value in descending order\n",
    "\n",
    "    Raises:\n",
    "    -------\n",
    "    ValueError\n",
    "        If target_column is not in df1\n",
    "        If any column in columns_list is not in df2\n",
    "        If invalid correlation method is specified\n",
    "        If DataFrames have different lengths\n",
    "    \"\"\"\n",
    "    # Validate DataFrames have same length\n",
    "    if len(df1) != len(df2):\n",
    "        raise ValueError(\"DataFrames must have the same length\")\n",
    "\n",
    "    # Validate target column exists in df1\n",
    "    if target_column not in df1.columns:\n",
    "        raise ValueError(f\"Target column '{target_column}' not found in first DataFrame\")\n",
    "\n",
    "    # Validate correlation method\n",
    "    valid_methods = ['pearson', 'spearman', 'kendall']\n",
    "    if method.lower() not in valid_methods:\n",
    "        raise ValueError(f\"Invalid correlation method. Choose from: {valid_methods}\")\n",
    "\n",
    "    # If no columns list provided, use all numeric columns from df2\n",
    "    if columns_list is None:\n",
    "        columns_list = df2.select_dtypes(include=[np.number]).columns.tolist()\n",
    "    else:\n",
    "        # Validate all columns exist in df2\n",
    "        missing_cols = [col for col in columns_list if col not in df2.columns]\n",
    "        if missing_cols:\n",
    "            raise ValueError(f\"Columns not found in second DataFrame: {missing_cols}\")\n",
    "\n",
    "    # Calculate correlations\n",
    "    correlations = {}\n",
    "    for col in columns_list:\n",
    "        # Handle non-numeric columns\n",
    "        if not np.issubdtype(df2[col].dtype, np.number):\n",
    "            print(f\"Warning: Skipping non-numeric column '{col}'\")\n",
    "            continue\n",
    "\n",
    "        corr = df1[target_column].corr(df2[col], method=method)\n",
    "        correlations[col] = corr\n",
    "\n",
    "    # Convert to series and sort by absolute value\n",
    "    corr_series = pd.Series(correlations)\n",
    "    corr_series = corr_series.sort_values(key=abs, ascending=False)\n",
    "\n",
    "    return corr_series"
   ],
   "metadata": {
    "collapsed": false,
    "ExecuteTime": {
     "end_time": "2025-01-14T08:46:45.885627Z",
     "start_time": "2025-01-14T08:46:45.878729Z"
    }
   },
   "id": "2781965eaaeb733a",
   "execution_count": 50
  },
  {
   "cell_type": "code",
   "outputs": [],
   "source": [
    "# Example usage\n",
    "correlations = correlate_columns(df1=ms_joined_diet_features, df2=ms_joined_diet_features, target_column='2.17_220.0172m/z_147.96', columns_list=foods, method='pearson')"
   ],
   "metadata": {
    "collapsed": false,
    "ExecuteTime": {
     "end_time": "2025-01-05T13:44:41.478511Z",
     "start_time": "2025-01-05T13:44:41.371306Z"
    }
   },
   "id": "d3ce2f017eaa60",
   "execution_count": 226
  },
  {
   "cell_type": "code",
   "outputs": [],
   "source": [
    "def calculate_partial_correlations(data, metabolites, risk_factors, covariates=['age', 'gender', 'bmi'], method='pearson'):\n",
    "    \"\"\"\n",
    "    Calculate partial correlations between metabolites and risk factors, filtering NaN values per pair.\n",
    "    Also includes correlation values for covariates.\n",
    "    \"\"\"\n",
    "    results = []\n",
    "    \n",
    "    for metabolite in metabolites:\n",
    "        for risk_factor in risk_factors:\n",
    "            # Select relevant columns\n",
    "            cols_to_check = [metabolite, risk_factor] + covariates\n",
    "            subset = data[cols_to_check].copy()\n",
    "            \n",
    "            # Filter rows where both metabolite and risk factor are not NaN\n",
    "            valid_pairs = subset[metabolite].notna() & subset[risk_factor].notna()\n",
    "            subset = subset[valid_pairs]\n",
    "            \n",
    "            # Check complete cases after pair-wise filtering\n",
    "            n_complete = len(subset.dropna())\n",
    "            min_samples = len(covariates) + 3\n",
    "            \n",
    "            result_dict = {\n",
    "                'Metabolite': metabolite,\n",
    "                'Risk_Factor': risk_factor,\n",
    "                'N_Complete_Cases': n_complete\n",
    "            }\n",
    "            \n",
    "            if n_complete < min_samples:\n",
    "                result_dict.update({\n",
    "                    'Partial_Correlation': np.nan,\n",
    "                    'P_value': np.nan,\n",
    "                    'Warning': f'Insufficient cases (n={n_complete}, min={min_samples})'\n",
    "                })\n",
    "                # Add NaN values for covariate correlations\n",
    "                for cov in covariates:\n",
    "                    result_dict.update({\n",
    "                        f'{cov}_correlation': np.nan,\n",
    "                        f'{cov}_pvalue': np.nan\n",
    "                    })\n",
    "                results.append(result_dict)\n",
    "                continue\n",
    "                \n",
    "            try:\n",
    "                # Calculate partial correlation\n",
    "                pcorr = partial_corr(\n",
    "                    data=subset.dropna(),\n",
    "                    x=metabolite,\n",
    "                    y=risk_factor,\n",
    "                    covar=covariates,\n",
    "                    method=method\n",
    "                )\n",
    "                \n",
    "                result_dict.update({\n",
    "                    'Partial_Correlation': pcorr['r'].values[0],\n",
    "                    'P_value': pcorr['p-val'].values[0],\n",
    "                    'Warning': None\n",
    "                })\n",
    "                \n",
    "                # Calculate correlations for each covariate\n",
    "                clean_data = subset.dropna()\n",
    "                for cov in covariates:\n",
    "                    # Calculate correlation with metabolite\n",
    "                    corr_result = stats.pearsonr(clean_data[metabolite], clean_data[cov])\n",
    "                    result_dict.update({\n",
    "                        f'{cov}_correlation': corr_result[0],\n",
    "                        f'{cov}_pvalue': corr_result[1]\n",
    "                    })\n",
    "                \n",
    "            except Exception as e:\n",
    "                result_dict.update({\n",
    "                    'Partial_Correlation': np.nan,\n",
    "                    'P_value': np.nan,\n",
    "                    'Warning': str(e)\n",
    "                })\n",
    "                # Add NaN values for covariate correlations\n",
    "                for cov in covariates:\n",
    "                    result_dict.update({\n",
    "                        f'{cov}_correlation': np.nan,\n",
    "                        f'{cov}_pvalue': np.nan\n",
    "                    })\n",
    "            \n",
    "            results.append(result_dict)\n",
    "    \n",
    "    results_df = pd.DataFrame(results)\n",
    "    \n",
    "    # Apply FDR correction to main partial correlation p-values\n",
    "    valid_pvals = results_df['P_value'].notna()\n",
    "    if valid_pvals.any():\n",
    "        results_df.loc[valid_pvals, 'FDR_Adjusted_P'] = multipletests(\n",
    "            results_df.loc[valid_pvals, 'P_value'],\n",
    "            method='fdr_bh'\n",
    "        )[1]\n",
    "    else:\n",
    "        results_df['FDR_Adjusted_P'] = np.nan\n",
    "    \n",
    "    # Apply FDR correction to covariate p-values\n",
    "    for cov in covariates:\n",
    "        pval_col = f'{cov}_pvalue'\n",
    "        valid_cov_pvals = results_df[pval_col].notna()\n",
    "        if valid_cov_pvals.any():\n",
    "            results_df.loc[valid_cov_pvals, f'{cov}_FDR_Adjusted_P'] = multipletests(\n",
    "                results_df.loc[valid_cov_pvals, pval_col],\n",
    "                method='fdr_bh'\n",
    "            )[1]\n",
    "        else:\n",
    "            results_df[f'{cov}_FDR_Adjusted_P'] = np.nan\n",
    "        \n",
    "    return results_df.sort_values('FDR_Adjusted_P', na_position='last')"
   ],
   "metadata": {
    "collapsed": false,
    "ExecuteTime": {
     "end_time": "2025-03-12T06:15:21.043499Z",
     "start_time": "2025-03-12T06:15:21.034399Z"
    }
   },
   "id": "ea1635ee94a5fed6",
   "execution_count": 1466
  },
  {
   "cell_type": "code",
   "outputs": [],
   "source": [
    "# calculate_partial_correlations(hr_diet, metabolites=diet_scores, risk_factors=list(risk_factors_hr), covariates=['age', 'sex', 'bmi'], method='pearson').to_csv(output_data_dir + '/partial_correlations_hr_diet_adherence_pearson.csv')"
   ],
   "metadata": {
    "collapsed": false,
    "ExecuteTime": {
     "end_time": "2025-02-09T07:52:32.583838Z",
     "start_time": "2025-02-09T07:52:30.545459Z"
    }
   },
   "id": "59a77c4bd311bd4d",
   "execution_count": 412
  },
  {
   "cell_type": "code",
   "outputs": [],
   "source": [
    "# calculate_partial_correlations(hr_diet, metabolites=food_categories, risk_factors=list(risk_factors_hr), covariates=['age', 'sex', 'bmi'], method='spearman').to_csv(output_data_dir + '/partial_correlations_hr_food_categories_spearman.csv')"
   ],
   "metadata": {
    "collapsed": false,
    "ExecuteTime": {
     "end_time": "2025-02-09T09:16:11.530285Z",
     "start_time": "2025-02-09T09:15:58.474173Z"
    }
   },
   "id": "e8eb81154db0f803",
   "execution_count": 417
  },
  {
   "cell_type": "code",
   "outputs": [],
   "source": [
    "diet_features_agb = diet_features.join(agb_baseline, how='inner')"
   ],
   "metadata": {
    "collapsed": false,
    "ExecuteTime": {
     "end_time": "2025-02-18T13:00:24.491547Z",
     "start_time": "2025-02-18T13:00:24.479969Z"
    }
   },
   "id": "68aab743ad1a16f8",
   "execution_count": 881
  },
  {
   "cell_type": "code",
   "outputs": [],
   "source": [
    "diet_nutrients_corrs = calculate_partial_correlations(diet_features_agb, metabolites=nutrients, risk_factors=diet_scores, covariates=['age','gender', 'bmi'], method='pearson')"
   ],
   "metadata": {
    "collapsed": false,
    "ExecuteTime": {
     "end_time": "2025-02-23T09:34:05.468108Z",
     "start_time": "2025-02-23T09:34:02.779874Z"
    }
   },
   "id": "cbd176d21742ac91",
   "execution_count": 1277
  },
  {
   "cell_type": "code",
   "outputs": [],
   "source": [
    "diet_nutrients_corrs.to_csv(DIET_PAPER_DIR + '/Partial Corrs/partial_correlations_diet_nutrients_adherence_pearson.csv')"
   ],
   "metadata": {
    "collapsed": false,
    "ExecuteTime": {
     "end_time": "2025-02-18T13:06:48.749594Z",
     "start_time": "2025-02-18T13:06:48.729633Z"
    }
   },
   "id": "613ffdee68a3880e",
   "execution_count": 887
  },
  {
   "cell_type": "code",
   "outputs": [],
   "source": [
    "diet_mb_mpa[diet_scores].to_csv(output_data_dir + '/y_diet_adherence_scores_mpa.csv')\n",
    "diet_mb_mpa[pct_macros].to_csv(output_data_dir + '/y_diet_macros_mpa.csv')\n",
    "diet_mb_mpa[lipids_ratios].to_csv(output_data_dir + '/y_diet_lipids_mpa.csv')\n",
    "diet_mb_mpa[plant_ratios].to_csv(output_data_dir + '/y_diet_plant_ratios_mpa.csv')"
   ],
   "metadata": {
    "collapsed": false
   },
   "id": "feb21e702cebed7e"
  },
  {
   "cell_type": "code",
   "outputs": [],
   "source": [
    "diet_mb_mpa[nutrients].to_csv(output_data_dir + '/y_diet_nutrients_mpa.csv')\n",
    "diet_mb_mpa[never_eaters].to_csv(output_data_dir + '/y_diet_never_eaters_mpa.csv')\n",
    "diet_mb_mpa[bread_types].to_csv(output_data_dir + '/y_diet_bread_types_mpa.csv')\n",
    "diet_mb_mpa[oil_types].to_csv(output_data_dir + '/y_diet_oil_types_mpa.csv')\n",
    "diet_mb_mpa[cereal_types].to_csv(output_data_dir + '/y_diet_cereal_types_mpa.csv')\n",
    "diet_mb_mpa[food_categories].to_csv(output_data_dir + '/y_diet_food_categories_mpa.csv')"
   ],
   "metadata": {
    "collapsed": false,
    "ExecuteTime": {
     "end_time": "2025-01-04T14:04:59.718180Z",
     "start_time": "2025-01-04T14:04:50.662082Z"
    }
   },
   "id": "f6ecc5c809872604",
   "execution_count": 117
  },
  {
   "cell_type": "code",
   "outputs": [],
   "source": [
    "nightingale_data_diet[diet_scores].to_csv(output_data_dir + '/y_diet_adherence_scores_nightingale.csv')\n",
    "nightingale_data_diet[pct_macros].to_csv(output_data_dir + '/y_diet_macros_nightingale.csv')\n",
    "nightingale_data_diet[lipids_ratios].to_csv(output_data_dir + '/y_diet_lipids_nightingale.csv')\n",
    "nightingale_data_diet[plant_ratios].to_csv(output_data_dir + '/y_diet_plant_ratios_nightingale.csv')\n",
    "nightingale_data_diet[food_categories].to_csv(output_data_dir + '/y_diet_food_categories_nightingale.csv')\n",
    "nightingale_data_diet[nutrients].to_csv(output_data_dir + '/y_diet_nutrients_nightingale.csv')"
   ],
   "metadata": {
    "collapsed": false,
    "ExecuteTime": {
     "end_time": "2025-01-06T13:22:42.669694Z",
     "start_time": "2025-01-06T13:22:39.756619Z"
    }
   },
   "id": "2b24aa3f61c2aaab",
   "execution_count": 39
  },
  {
   "cell_type": "code",
   "outputs": [],
   "source": [
    "import scipy.stats as stats\n",
    "from statsmodels.regression.linear_model import OLS\n",
    "import statsmodels.api as sm\n",
    "\n",
    "def analyze_nutrient_adherence_association(\n",
    "    df, \n",
    "    nutrient_columns, \n",
    "    adherence_score_col,\n",
    "    covariates=None,\n",
    "    quantile=0.1\n",
    "):\n",
    "    \"\"\"\n",
    "    Analyze association between bottom-quantile nutrient consumption and diet adherence scores.\n",
    "    \n",
    "    Parameters:\n",
    "    df (pandas.DataFrame): DataFrame containing nutrient and adherence data\n",
    "    nutrient_columns (list): List of nutrient column names\n",
    "    adherence_score_col (str): Name of the diet adherence score column (assumed 0-1 range)\n",
    "    covariates (list): Optional list of covariate column names for regression\n",
    "    quantile (float): Quantile threshold (default 0.1 for bottom 10%)\n",
    "    \n",
    "    Returns:\n",
    "    dict: Dictionary containing statistical test results and regression results\n",
    "    \"\"\"\n",
    "    results = {\n",
    "        'statistical_tests': {},\n",
    "        'regression_results': {}\n",
    "    }\n",
    "    \n",
    "    # Create bottom quantile indicators first\n",
    "    df_with_quantiles = create_quantile_features(\n",
    "        df, \n",
    "        nutrient_columns, \n",
    "        quantile=quantile, \n",
    "        include_top=False, \n",
    "        include_bottom=True\n",
    "    )\n",
    "    \n",
    "    # 1. Statistical Tests\n",
    "    for nutrient in nutrient_columns:\n",
    "        bottom_col = f\"{nutrient}_bottom_{int(quantile*100)}pct\"\n",
    "        \n",
    "        # Split adherence scores into bottom quantile and other groups\n",
    "        bottom_group = df_with_quantiles[df_with_quantiles[bottom_col] == 1][adherence_score_col]\n",
    "        other_group = df_with_quantiles[df_with_quantiles[bottom_col] == 0][adherence_score_col]\n",
    "        \n",
    "        # Perform both t-test and Wilcoxon rank-sum test\n",
    "        t_stat, t_pval = stats.ttest_ind(bottom_group, other_group)\n",
    "        w_stat, w_pval = stats.ranksums(bottom_group, other_group)\n",
    "        \n",
    "        # Calculate effect size (Cohen's d)\n",
    "        cohens_d = (bottom_group.mean() - other_group.mean()) / np.sqrt(\n",
    "            ((len(bottom_group) - 1) * bottom_group.std()**2 + \n",
    "             (len(other_group) - 1) * other_group.std()**2) /\n",
    "            (len(bottom_group) + len(other_group) - 2)\n",
    "        )\n",
    "        \n",
    "        results['statistical_tests'][nutrient] = {\n",
    "            'bottom_quantile_mean': bottom_group.mean(),\n",
    "            'others_mean': other_group.mean(),\n",
    "            'mean_difference': bottom_group.mean() - other_group.mean(),\n",
    "            't_statistic': t_stat,\n",
    "            't_pvalue': t_pval,\n",
    "            'wilcoxon_statistic': w_stat,\n",
    "            'wilcoxon_pvalue': w_pval,\n",
    "            'cohens_d': cohens_d,\n",
    "        }\n",
    "    \n",
    "    # 2. Regression Analysis\n",
    "    for nutrient in nutrient_columns:\n",
    "        bottom_col = f\"{nutrient}_bottom_{int(quantile*100)}pct\"\n",
    "        \n",
    "        # Prepare regression variables\n",
    "        X = df_with_quantiles[bottom_col]\n",
    "        if covariates:\n",
    "            X = pd.concat([X, df_with_quantiles[covariates]], axis=1)\n",
    "        X = sm.add_constant(X)  # Add intercept\n",
    "        y = df_with_quantiles[adherence_score_col]\n",
    "        \n",
    "        # Fit regression model\n",
    "        model = OLS(y, X).fit()\n",
    "        \n",
    "        results['regression_results'][nutrient] = {\n",
    "            'coefficients': model.params.to_dict(),\n",
    "            'pvalues': model.pvalues.to_dict(),\n",
    "            'r_squared': model.rsquared,\n",
    "            'adj_r_squared': model.rsquared_adj,\n",
    "            'conf_intervals': model.conf_int().to_dict(),\n",
    "        }\n",
    "    \n",
    "    return results\n",
    "\n",
    "def format_analysis_results(results, alpha=0.05, quantile=0.1):\n",
    "    \"\"\"\n",
    "    Format the analysis results into a readable summary.\n",
    "    \n",
    "    Parameters:\n",
    "    results (dict): Output from analyze_nutrient_adherence_association\n",
    "    alpha (float): Significance level for highlighting significant results\n",
    "    \n",
    "    Returns:\n",
    "    str: Formatted summary of results\n",
    "    \"\"\"\n",
    "    summary = []\n",
    "    \n",
    "    summary.append(\"STATISTICAL TEST RESULTS\")\n",
    "    summary.append(\"-----------------------\")\n",
    "    for nutrient, stats in results['statistical_tests'].items():\n",
    "        summary.append(f\"\\n{nutrient.upper()}:\")\n",
    "        summary.append(f\"Mean Adherence Scores:\")\n",
    "        summary.append(f\"  Bottom {int(quantile*100)}%: {stats['bottom_quantile_mean']:.3f}\")\n",
    "        summary.append(f\"  Others: {stats['others_mean']:.3f}\")\n",
    "        summary.append(f\"  Difference: {stats['mean_difference']:.3f}\")\n",
    "        \n",
    "        # Add significance markers\n",
    "        t_sig = '*' if stats['t_pvalue'] < alpha else ''\n",
    "        w_sig = '*' if stats['wilcoxon_pvalue'] < alpha else ''\n",
    "        \n",
    "        summary.append(f\"T-test p-value: {stats['t_pvalue']:.4f}{t_sig}\")\n",
    "        summary.append(f\"Wilcoxon test p-value: {stats['wilcoxon_pvalue']:.4f}{w_sig}\")\n",
    "        summary.append(f\"Effect size (Cohen's d): {stats['cohens_d']:.3f}\")\n",
    "    \n",
    "    summary.append(\"\\nREGRESSION RESULTS\")\n",
    "    summary.append(\"------------------\")\n",
    "    for nutrient, reg in results['regression_results'].items():\n",
    "        summary.append(f\"\\n{nutrient.upper()}:\")\n",
    "        summary.append(f\"R-squared: {reg['r_squared']:.3f}\")\n",
    "        summary.append(\"Coefficients:\")\n",
    "        for var, coef in reg['coefficients'].items():\n",
    "            p_val = reg['pvalues'][var]\n",
    "            sig = '*' if p_val < alpha else ''\n",
    "            summary.append(f\"  {var}: {coef:.3f} (p={p_val:.4f}){sig}\")\n",
    "    \n",
    "    return '\\n'.join(summary)\n"
   ],
   "metadata": {
    "collapsed": false,
    "ExecuteTime": {
     "end_time": "2025-02-19T12:22:27.956239Z",
     "start_time": "2025-02-19T12:22:27.940820Z"
    }
   },
   "id": "ea50c6face69dba1",
   "execution_count": 1091
  },
  {
   "cell_type": "markdown",
   "source": [],
   "metadata": {
    "collapsed": false
   },
   "id": "477adc1be257f57f"
  },
  {
   "cell_type": "markdown",
   "source": [
    "## PCA Analysis"
   ],
   "metadata": {
    "collapsed": false
   },
   "id": "9bd64ab4288ad7d"
  },
  {
   "cell_type": "code",
   "outputs": [],
   "source": [
    "import pandas as pd\n",
    "import numpy as np\n",
    "from sklearn.preprocessing import StandardScaler\n",
    "from sklearn.decomposition import PCA\n",
    "import matplotlib.pyplot as plt\n",
    "import seaborn as sns\n",
    "from scipy.spatial.distance import pdist, squareform\n",
    "\n",
    "def permanova_with_covariates(X, y, covariates, permutations=999, metric='euclidean'):\n",
    "    \"\"\"\n",
    "    Perform PERMANOVA with covariates using partial regression approach\n",
    "    \"\"\"\n",
    "    n = len(y)\n",
    "    \n",
    "    # Calculate distance matrices\n",
    "    X_dist = squareform(pdist(X, metric=metric))\n",
    "    y_dist = squareform(pdist(y.reshape(-1, 1), metric=metric))\n",
    "    \n",
    "    # Center matrices\n",
    "    H = np.eye(n) - np.ones((n, n)) / n\n",
    "    X_cent = H @ X_dist @ H\n",
    "    y_cent = H @ y_dist @ H\n",
    "    \n",
    "    # Handle covariates\n",
    "    if covariates is not None:\n",
    "        # Calculate residuals for X after removing covariate effects\n",
    "        covariates = np.column_stack([np.ones(n), covariates])  # Add intercept\n",
    "        P = covariates @ np.linalg.pinv(covariates.T @ covariates) @ covariates.T\n",
    "        X_resid = (np.eye(n) - P) @ X\n",
    "        X_dist_resid = squareform(pdist(X_resid, metric=metric))\n",
    "        X_cent = H @ X_dist_resid @ H\n",
    "        \n",
    "        # Calculate residuals for y after removing covariate effects\n",
    "        y_resid = (np.eye(n) - P) @ y\n",
    "        y_dist_resid = squareform(pdist(y_resid.reshape(-1, 1), metric=metric))\n",
    "        y_cent = H @ y_dist_resid @ H\n",
    "    \n",
    "    # Calculate test statistic\n",
    "    F_stat = np.sum(X_cent * y_cent) / np.sum(X_cent * X_cent)\n",
    "    \n",
    "    # Permutation test\n",
    "    perms = np.zeros(permutations)\n",
    "    for i in range(permutations):\n",
    "        y_perm = np.random.permutation(y)\n",
    "        if covariates is not None:\n",
    "            y_perm_resid = (np.eye(n) - P) @ y_perm\n",
    "            y_dist_perm = squareform(pdist(y_perm_resid.reshape(-1, 1), metric=metric))\n",
    "        else:\n",
    "            y_dist_perm = squareform(pdist(y_perm.reshape(-1, 1), metric=metric))\n",
    "        y_cent_perm = H @ y_dist_perm @ H\n",
    "        perms[i] = np.sum(X_cent * y_cent_perm) / np.sum(X_cent * X_cent)\n",
    "    \n",
    "    # Calculate p-value and R²\n",
    "    p_value = (np.sum(perms >= F_stat) + 1) / (permutations + 1)\n",
    "    R2 = F_stat  # In this context, F_stat is equivalent to R²\n",
    "    \n",
    "    return {\n",
    "        'F_statistic': F_stat,\n",
    "        'p_value': p_value,\n",
    "        'R2': R2,\n",
    "        'n_permutations': permutations\n",
    "    }"
   ],
   "metadata": {
    "collapsed": false,
    "ExecuteTime": {
     "end_time": "2025-07-14T09:27:27.672948Z",
     "start_time": "2025-07-14T09:27:25.783488Z"
    }
   },
   "id": "1a162c130bd9195b",
   "execution_count": 192
  },
  {
   "cell_type": "code",
   "outputs": [],
   "source": [
    "def perform_pca_visualization(df, columns_for_pca, color_column, \n",
    "                            log_transform=False, \n",
    "                            standardize=True,\n",
    "                            log_transform_color=False,\n",
    "                            title=None,\n",
    "                            color_scale='zscore',\n",
    "                            cmap='RdBu_r',\n",
    "                            center_colors=True,\n",
    "                            covariates=None,\n",
    "                            run_permanova=False,\n",
    "                            use_quartiles=False,\n",
    "                            show_histograms=False,\n",
    "                            histogram_bins=30,\n",
    "                            remove_borders=True,\n",
    "                            figsize=(2.8, 2.8),    # Default changed to 2.8 x 2.8\n",
    "                            fontsize=8,           # Parameter for controlling font sizes\n",
    "                            show_colorbar=True,   # New parameter to control colorbar visibility\n",
    "                            show_grid=False,    # New parameter to control grid visibility\n",
    "                            show_correlations=True,\n",
    "                            diet_variance_explained=False,  # New parameter to calculate variance explained\n",
    "                            n_components_for_variance=3,\n",
    "                            second_pc=2):     \n",
    "    \"\"\"Import necessary packages if they're not already imported\"\"\" \n",
    "    import numpy as np\n",
    "    import pandas as pd\n",
    "    import matplotlib.pyplot as plt\n",
    "    from sklearn.decomposition import PCA\n",
    "    from sklearn.preprocessing import StandardScaler\n",
    "    from sklearn.linear_model import LinearRegression\n",
    "    from sklearn.metrics import r2_score\n",
    "\n",
    "\n",
    "    import seaborn as sns\n",
    "    \"\"\"\n",
    "    Perform PCA visualization with optional PERMANOVA analysis\n",
    "    \n",
    "    Parameters:\n",
    "    -----------\n",
    "    df : pandas.DataFrame\n",
    "        Input data\n",
    "    columns_for_pca : list\n",
    "        List of column names to use for PCA\n",
    "    color_column : str\n",
    "        Column name to use for coloring points\n",
    "    log_transform : bool or list, optional\n",
    "        Whether to log-transform PCA features\n",
    "    standardize : bool, optional\n",
    "        Whether to standardize features before PCA\n",
    "    log_transform_color : bool, optional\n",
    "        Whether to log-transform the color column\n",
    "    title : str, optional\n",
    "        Plot title\n",
    "    color_scale : str, optional\n",
    "        Method for scaling color values ('zscore', 'minmax', 'center', 'none')\n",
    "    cmap : str, optional\n",
    "        Matplotlib colormap name\n",
    "    center_colors : bool, optional\n",
    "        Whether to center the colormap around zero\n",
    "    covariates : list, optional\n",
    "        List of covariate column names for PERMANOVA\n",
    "    run_permanova : bool, optional\n",
    "        Whether to run PERMANOVA analysis\n",
    "    use_quartiles : bool, optional\n",
    "        Whether to transform color values into quartiles\n",
    "    show_histograms : bool, optional\n",
    "        Whether to show histograms along the axes\n",
    "    histogram_bins : int, optional\n",
    "        Number of bins for histograms\n",
    "    remove_borders : bool, optional\n",
    "        Whether to remove borders/spines from plots\n",
    "    figsize : tuple, optional\n",
    "        Figure size in inches (width, height)\n",
    "    fontsize : int, optional\n",
    "        Font size for all text elements\n",
    "    show_colorbar : bool, optional\n",
    "        Whether to display the colorbar\n",
    "    show_grid : bool, optional\n",
    "        Whether to display grid lines\n",
    "    \n",
    "    Returns:\n",
    "    --------\n",
    "    pca : sklearn.decomposition.PCA\n",
    "        Fitted PCA object\n",
    "    X_pca : numpy.ndarray\n",
    "        PCA-transformed data\n",
    "    fig : matplotlib.figure.Figure\n",
    "        Figure object\n",
    "    permanova_results : dict or None\n",
    "        PERMANOVA results if run_permanova=True\n",
    "    \"\"\"\n",
    "    # Make a copy of the data\n",
    "    data = df.copy()\n",
    "    \n",
    "    # Handle NaN values\n",
    "    for col in columns_for_pca:\n",
    "        if data[col].isnull().any():\n",
    "            median_val = data[col].median()\n",
    "            data[col].fillna(median_val, inplace=True)\n",
    "    \n",
    "    if data[color_column].isnull().any():\n",
    "        median_color = data[color_column].median()\n",
    "        data[color_column].fillna(median_color, inplace=True)\n",
    "    \n",
    "    # Handle covariates NaN values if provided\n",
    "    if covariates is not None:\n",
    "        for col in covariates:\n",
    "            if data[col].isnull().any():\n",
    "                if data[col].dtype in ['int64', 'float64']:\n",
    "                    median_val = data[col].median()\n",
    "                else:\n",
    "                    median_val = data[col].mode()[0]\n",
    "                data[col].fillna(median_val, inplace=True)\n",
    "    \n",
    "    # Handle log transformations\n",
    "    if log_transform:\n",
    "        if isinstance(log_transform, list):\n",
    "            for col in log_transform:\n",
    "                if col in columns_for_pca:\n",
    "                    data[col] = np.log1p(data[col])\n",
    "        else:\n",
    "            for col in columns_for_pca:\n",
    "                data[col] = np.log1p(data[col])\n",
    "    \n",
    "    if log_transform_color:\n",
    "        data[color_column] = np.log1p(data[color_column])\n",
    "    \n",
    "    # Get color values\n",
    "    color_values = data[color_column].values\n",
    "    \n",
    "    # Transform to quartiles if requested\n",
    "    if use_quartiles:\n",
    "        # Calculate quartiles from the color column\n",
    "        q1, q2, q3 = np.percentile(color_values, [25, 50, 75])\n",
    "        \n",
    "        # Convert to quartile categories (0, 1, 2, 3 for Q1, Q2, Q3, Q4)\n",
    "        quartile_values = np.zeros_like(color_values, dtype=int)\n",
    "        quartile_values[(color_values >= q1) & (color_values < q2)] = 1\n",
    "        quartile_values[(color_values >= q2) & (color_values < q3)] = 2\n",
    "        quartile_values[color_values >= q3] = 3\n",
    "        \n",
    "        # Use these as the color values\n",
    "        color_values = quartile_values\n",
    "        \n",
    "        # Override color scale setting since we've already categorized\n",
    "        color_scale = 'none'\n",
    "        \n",
    "        # Adjust colormap settings for discrete values\n",
    "        discrete_cmap = plt.cm.get_cmap(cmap, 4)\n",
    "        cmap = discrete_cmap\n",
    "    else:\n",
    "        # Scale the color values for better visualization\n",
    "        if color_scale == 'zscore':\n",
    "            color_values = (color_values - np.mean(color_values)) / np.std(color_values)\n",
    "        elif color_scale == 'minmax':\n",
    "            color_values = (color_values - np.min(color_values)) / (np.max(color_values) - np.min(color_values))\n",
    "        elif color_scale == 'center':\n",
    "            color_values = color_values - np.mean(color_values)\n",
    "    \n",
    "    # Extract and potentially standardize features for PCA\n",
    "    X = data[columns_for_pca].values\n",
    "    if standardize:\n",
    "        scaler = StandardScaler()\n",
    "        X = scaler.fit_transform(X)\n",
    "    \n",
    "    pc2 = second_pc - 1\n",
    "    # Perform PCA\n",
    "    max_components = max(2, n_components_for_variance) if diet_variance_explained else 2\n",
    "    pca = PCA(n_components=max_components)\n",
    "    X_pca = pca.fit_transform(X)\n",
    "    \n",
    "    # Get the first word of color_column (split by underscore)\n",
    "    color_label = color_column.split('_')[0]\n",
    "    # Calculate correlations between principal components and diet scores\n",
    "    if show_correlations:\n",
    "        pc1_corr, pc1_pval = pearsonr(X_pca[:, 0], data[color_column])\n",
    "        pc2_corr, pc2_pval = pearsonr(X_pca[:, pc2], data[color_column])\n",
    "        \n",
    "        # Print correlation results to stdout\n",
    "        print(f\"Dataset: {title if title else color_column}\")\n",
    "        print(f\"Correlation between PC1 and {color_column}: r = {pc1_corr:.3f}, p = {pc1_pval:.3e}\")\n",
    "        print(f\"Correlation between PC2 and {color_column}: r = {pc2_corr:.3f}, p = {pc2_pval:.3e}\")\n",
    "        print(\"---\")\n",
    "        # Calculate Diet Score Variance Explained if requested\n",
    "    variance_explained_results = None\n",
    "    if diet_variance_explained:\n",
    "        # Ensure we have the requested number of components\n",
    "        if X_pca.shape[1] < n_components_for_variance:\n",
    "            print(f\"Warning: Requested {n_components_for_variance} components but only {X_pca.shape[1]} are available.\")\n",
    "            n_components = X_pca.shape[1]\n",
    "        else:\n",
    "            n_components = n_components_for_variance\n",
    "        \n",
    "        # Perform regression analysis using PCs to predict diet score\n",
    "        model = LinearRegression()\n",
    "        model.fit(X_pca[:, :n_components], data[color_column])\n",
    "        \n",
    "        # Predict values and calculate R²\n",
    "        y_pred = model.predict(X_pca[:, :n_components])\n",
    "        r2 = r2_score(data[color_column], y_pred)\n",
    "        \n",
    "        # Calculate R² for individual components\n",
    "        individual_r2 = []\n",
    "        for i in range(n_components):\n",
    "            # Single component model\n",
    "            model_single = LinearRegression()\n",
    "            model_single.fit(X_pca[:, i].reshape(-1, 1), data[color_column])\n",
    "            y_pred_single = model_single.predict(X_pca[:, i].reshape(-1, 1))\n",
    "            r2_single = r2_score(data[color_column], y_pred_single)\n",
    "            individual_r2.append(r2_single)\n",
    "        \n",
    "        # Store results\n",
    "        variance_explained_results = {\n",
    "            'total_r2': r2,\n",
    "            'individual_r2': individual_r2,\n",
    "            'n_components': n_components\n",
    "        }\n",
    "        \n",
    "        # Print results\n",
    "        print(f\"Diet Score Variance Explained Results:\")\n",
    "        print(f\"Dataset: {title if title else 'Unknown'}\")\n",
    "        print(f\"Principal components 1-{n_components} explain {r2:.4f} (R²) of variance in {color_column}\")\n",
    "        print(\"Individual component contributions:\")\n",
    "        for i, r2_val in enumerate(individual_r2):\n",
    "            print(f\"  PC{i+1}: R² = {r2_val:.4f} ({r2_val*100:.2f}%)\")\n",
    "        print(\"---\")\n",
    "        \n",
    "    # Set default font sizes for all text elements based on fontsize parameter\n",
    "    plt.rcParams.update({\n",
    "        'font.size': fontsize,\n",
    "        'axes.labelsize': fontsize,\n",
    "        'axes.titlesize': fontsize + 1,\n",
    "        'xtick.labelsize': fontsize - 1,\n",
    "        'ytick.labelsize': fontsize - 1,\n",
    "        'legend.fontsize': fontsize - 1,\n",
    "        'figure.titlesize': fontsize + 1\n",
    "    })\n",
    "    \n",
    "    # Create visualization with GridSpec for better layout control\n",
    "    if show_histograms:\n",
    "        # For histograms, we need to adjust the layout for the compact size\n",
    "        # Make histograms smaller relative to the main plot\n",
    "        fig = plt.figure(figsize=figsize)\n",
    "        \n",
    "        # Define grid with histograms and optional colorbar on right\n",
    "        if show_colorbar:\n",
    "            # GridSpec with space for colorbar on right\n",
    "            gs = plt.GridSpec(4, 5, figure=fig, \n",
    "                             height_ratios=[1, 5, 5, 5], \n",
    "                             width_ratios=[5, 5, 5, 0.5, 0.8])\n",
    "            \n",
    "            # Colorbar axis on the right\n",
    "            cbar_ax = fig.add_subplot(gs[1:4, 4])\n",
    "        else:\n",
    "            # GridSpec without colorbar\n",
    "            gs = plt.GridSpec(4, 4, figure=fig, \n",
    "                             height_ratios=[1, 5, 5, 5], \n",
    "                             width_ratios=[5, 5, 5, 1])\n",
    "            cbar_ax = None\n",
    "        \n",
    "        # Main scatter plot in the center\n",
    "        ax = fig.add_subplot(gs[1:4, 0:3])\n",
    "        \n",
    "        # Histograms at the top and right\n",
    "        ax_histx = fig.add_subplot(gs[0, 0:3], sharex=ax)\n",
    "        ax_histy = fig.add_subplot(gs[1:4, 3], sharey=ax)\n",
    "        \n",
    "        # Set white background for histograms and remove grid\n",
    "        ax_histx.set_facecolor('white')\n",
    "        ax_histx.grid(False)\n",
    "        ax_histy.set_facecolor('white')\n",
    "        ax_histy.grid(False)\n",
    "        \n",
    "        # Remove all ticks and labels from histograms\n",
    "        ax_histx.tick_params(axis=\"both\", which=\"both\", bottom=False, top=False, \n",
    "                           labelbottom=False, left=False, right=False, labelleft=False)\n",
    "        ax_histy.tick_params(axis=\"both\", which=\"both\", bottom=False, top=False, \n",
    "                           labelbottom=False, left=False, right=False, labelleft=False)\n",
    "    else:\n",
    "        # For compact size without histograms, adjust proportions\n",
    "        fig = plt.figure(figsize=figsize)\n",
    "        \n",
    "        if show_colorbar:\n",
    "            # Create layout with colorbar on right\n",
    "            gs = plt.GridSpec(1, 2, figure=fig, width_ratios=[20, 1])\n",
    "            \n",
    "            # Main plot\n",
    "            ax = fig.add_subplot(gs[0, 0])\n",
    "            \n",
    "            # Colorbar axis on the right\n",
    "            cbar_ax = fig.add_subplot(gs[0, 1])\n",
    "        else:\n",
    "            # Simple layout without colorbar\n",
    "            ax = fig.add_subplot(111)\n",
    "            cbar_ax = None\n",
    "    \n",
    "    # Remove borders if specified\n",
    "    if remove_borders:\n",
    "        for spine in ax.spines.values():\n",
    "            spine.set_visible(False)\n",
    "        if show_histograms:\n",
    "            for spine in ax_histx.spines.values():\n",
    "                spine.set_visible(False)\n",
    "            for spine in ax_histy.spines.values():\n",
    "                spine.set_visible(False)\n",
    "    \n",
    "    # Set up colormap settings\n",
    "    if use_quartiles:\n",
    "        # For quartiles, use fixed range from 0 to 3\n",
    "        vmin, vmax = -0.5, 3.5  # Slightly extended to ensure all categories are visible\n",
    "    elif center_colors and cmap in ['RdBu_r', 'coolwarm', 'RdYlBu_r', 'seismic']:\n",
    "        vmax = np.max(np.abs(color_values))\n",
    "        vmin = -vmax\n",
    "    else:\n",
    "        vmax = np.max(color_values)\n",
    "        vmin = np.min(color_values)\n",
    "    \n",
    "    # Create scatter plot - reduce point size for compact figure\n",
    "    scatter = ax.scatter(X_pca[:, 0], X_pca[:, pc2],\n",
    "                        c=color_values,\n",
    "                        cmap=cmap,\n",
    "                        vmin=vmin,\n",
    "                        vmax=vmax,\n",
    "                        alpha=0.6,\n",
    "                        s=3,  # Reduced point size for compact figure\n",
    "                        edgecolors='none')\n",
    "    \n",
    "    ax.set_facecolor('white')\n",
    "    \n",
    "    if show_correlations:\n",
    "        # Get the first word of color_column (split by underscore)\n",
    "        color_label = color_column.split('_')[0]\n",
    "        \n",
    "        # Add PC1 correlation text in top right corner\n",
    "        ax.text(0.98, 0.98, f\"PC1-{color_label}\\nr = {pc1_corr:.3f}\\np = {pc1_pval:.2e}\",\n",
    "                transform=ax.transAxes, fontsize=fontsize-1,\n",
    "                verticalalignment='top', horizontalalignment='right',\n",
    "                bbox=dict(boxstyle='round', facecolor='white', alpha=0.7))\n",
    "        \n",
    "        # Add PC2 correlation text in bottom left corner\n",
    "        ax.text(0.02, 0.02, f\"PC2-{color_label}\\nr = {pc2_corr:.3f}\\np = {pc2_pval:.2e}\",\n",
    "                transform=ax.transAxes, fontsize=fontsize-1,\n",
    "                verticalalignment='bottom', horizontalalignment='left',\n",
    "                bbox=dict(boxstyle='round', facecolor='white', alpha=0.7))\n",
    "        \n",
    "    # Add Diet Score Variance Explained annotation if calculated\n",
    "    if diet_variance_explained and variance_explained_results:\n",
    "        # Create text for variance explained results\n",
    "        r2 = variance_explained_results['total_r2']\n",
    "        n = variance_explained_results['n_components']\n",
    "        variance_text = f\"PCs 1-{n} explain\\n{r2:.3f} (R²) of\\n{color_label} variance\"\n",
    "        \n",
    "        # Add text box with results in the top left corner\n",
    "        ax.text(0.98, 0.98, variance_text,\n",
    "                transform=ax.transAxes, fontsize=fontsize-1,\n",
    "                verticalalignment='top', horizontalalignment='right',\n",
    "                bbox=dict(boxstyle='round', facecolor='white', alpha=0.7))\n",
    "    \n",
    "    # Add colorbar if requested\n",
    "    if show_colorbar and cbar_ax is not None:\n",
    "        cbar = plt.colorbar(scatter, cax=cbar_ax, orientation='vertical')\n",
    "        cbar.set_label(color_column, fontsize=fontsize-1)\n",
    "        cbar.ax.tick_params(labelsize=fontsize-2)  # Smaller font for colorbar ticks\n",
    "    \n",
    "    # Add labels with controlled font size\n",
    "    ax.set_xlabel(f'PC1 ({pca.explained_variance_ratio_[0]:.1%} variance explained)', fontsize=fontsize)\n",
    "    ax.set_ylabel(f'PC2 ({pca.explained_variance_ratio_[1]:.1%} variance explained)', fontsize=fontsize)\n",
    "    # Remove tick marks on both axes while keeping labels\n",
    "    ax.tick_params(axis='both', which='both', \n",
    "                   bottom=False, top=False, left=False, right=False,  # Hide the tick marks\n",
    "                   labelbottom=True, labeltop=False, labelleft=True, labelright=False)  # Keep labels\n",
    "    \n",
    "    # Perform PERMANOVA if requested\n",
    "    permanova_results = None\n",
    "    if run_permanova and covariates is not None:\n",
    "        # Prepare covariates matrix\n",
    "        covar_matrix = data[covariates].values\n",
    "        if standardize:\n",
    "            covar_matrix = StandardScaler().fit_transform(covar_matrix)\n",
    "        \n",
    "        # Run PERMANOVA\n",
    "        permanova_results = permanova_with_covariates(\n",
    "            X_pca, \n",
    "            color_values, \n",
    "            covar_matrix,\n",
    "            permutations=999\n",
    "        )\n",
    "    \n",
    "    # Set title with PERMANOVA p-value if available\n",
    "    if title is None:\n",
    "        plot_title = f'Colored by {color_column}'\n",
    "    else:\n",
    "        plot_title = title\n",
    "    \n",
    "    # Add PERMANOVA p-value to title if available\n",
    "    if permanova_results is not None:\n",
    "        plot_title += f'\\nPERMANOVA p = {permanova_results[\"p_value\"]:.2e}'\n",
    "    \n",
    "    # Add title with controlled font size\n",
    "    ax.set_title(plot_title, fontsize=fontsize)\n",
    "    \n",
    "    # Add grid if requested\n",
    "    if show_grid:\n",
    "        ax.grid(True, linestyle='--', alpha=0.5, linewidth=0.5)  # Thinner grid lines\n",
    "    else:\n",
    "        ax.grid(False)\n",
    "        \n",
    "    # Remove tick marks while keeping labels\n",
    "    ax.tick_params(axis='both', which='both', length=0)\n",
    "    \n",
    "    # Add detailed PERMANOVA results to plot if available\n",
    "    if permanova_results is not None:\n",
    "        # Create text for PERMANOVA results\n",
    "        stats_text = (\n",
    "            f\"PERMANOVA Results:\\n\"\n",
    "            f\"F = {permanova_results['F_statistic']:.3f}\\n\"\n",
    "            f\"p = {permanova_results['p_value']:.3e}\\n\"\n",
    "            f\"R² = {permanova_results['R2']:.3f}\\n\"\n",
    "            f\"Covariates: {', '.join(covariates)}\"\n",
    "        )\n",
    "        \n",
    "        # Add text box with results - smaller font for compact figure\n",
    "        plt.text(0.02, 0.98, stats_text,\n",
    "                transform=ax.transAxes,\n",
    "                verticalalignment='top',\n",
    "                bbox=dict(boxstyle='round', facecolor='white', alpha=0.8),\n",
    "                fontsize=fontsize-2)\n",
    "    \n",
    "    # Add histograms if requested\n",
    "    if show_histograms:\n",
    "        # Calculate the bin edges for the histograms\n",
    "        x_bins = np.linspace(np.min(X_pca[:, 0]), np.max(X_pca[:, 0]), histogram_bins + 1)\n",
    "        y_bins = np.linspace(np.min(X_pca[:, 1]), np.max(X_pca[:, 1]), histogram_bins + 1)\n",
    "        \n",
    "        # Calculate bin centers for coloring\n",
    "        x_bin_centers = (x_bins[:-1] + x_bins[1:]) / 2\n",
    "        y_bin_centers = (y_bins[:-1] + y_bins[1:]) / 2\n",
    "        \n",
    "        # Compute histograms\n",
    "        x_hist, _ = np.histogram(X_pca[:, 0], bins=x_bins)\n",
    "        y_hist, _ = np.histogram(X_pca[:, 1], bins=y_bins)\n",
    "        \n",
    "        # Initialize arrays to store color values for each bin\n",
    "        x_colors = np.zeros(len(x_bins) - 1)\n",
    "        y_colors = np.zeros(len(y_bins) - 1)\n",
    "        \n",
    "        # Calculate median color value for each bin\n",
    "        for i in range(len(x_bins) - 1):\n",
    "            bin_mask = (X_pca[:, 0] >= x_bins[i]) & (X_pca[:, 0] < x_bins[i+1])\n",
    "            if np.any(bin_mask):\n",
    "                if use_quartiles:\n",
    "                    # For quartiles, use mode (most common quartile)\n",
    "                    bin_colors = color_values[bin_mask]\n",
    "                    if len(bin_colors) > 0:\n",
    "                        x_colors[i] = np.median(bin_colors)\n",
    "                else:\n",
    "                    # For continuous colors, use median\n",
    "                    bin_colors = data[color_column].values[bin_mask]\n",
    "                    if len(bin_colors) > 0:\n",
    "                        # Z-score normalize within each bin\n",
    "                        x_colors[i] = (np.median(bin_colors) - np.mean(data[color_column])) / np.std(data[color_column])\n",
    "        \n",
    "        for i in range(len(y_bins) - 1):\n",
    "            bin_mask = (X_pca[:, 1] >= y_bins[i]) & (X_pca[:, 1] < y_bins[i+1])\n",
    "            if np.any(bin_mask):\n",
    "                if use_quartiles:\n",
    "                    # For quartiles, use mode (most common quartile)\n",
    "                    bin_colors = color_values[bin_mask]\n",
    "                    if len(bin_colors) > 0:\n",
    "                        y_colors[i] = np.median(bin_colors)\n",
    "                else:\n",
    "                    # For continuous colors, use median\n",
    "                    bin_colors = data[color_column].values[bin_mask]\n",
    "                    if len(bin_colors) > 0:\n",
    "                        # Z-score normalize within each bin\n",
    "                        y_colors[i] = (np.median(bin_colors) - np.mean(data[color_column])) / np.std(data[color_column])\n",
    "        \n",
    "        # Normalize the histogram values\n",
    "        x_hist_norm = x_hist / np.max(x_hist)\n",
    "        y_hist_norm = y_hist / np.max(y_hist)\n",
    "        \n",
    "        # Create colored bars for histograms\n",
    "        if use_quartiles:\n",
    "            # For quartiles, use discrete colors\n",
    "            if isinstance(cmap, str):\n",
    "                colors = plt.cm.get_cmap(cmap, 4)\n",
    "                x_bar_colors = [colors(int(val)) for val in x_colors]\n",
    "                y_bar_colors = [colors(int(val)) for val in y_colors]\n",
    "            else:\n",
    "                x_bar_colors = [plt.cm.get_cmap(cmap.name)(val/3) for val in x_colors]\n",
    "                y_bar_colors = [plt.cm.get_cmap(cmap.name)(val/3) for val in y_colors]\n",
    "        else:\n",
    "            # Normalize color values to [0, 1] for continuous colormap\n",
    "            if center_colors and cmap in ['RdBu_r', 'coolwarm', 'RdYlBu_r', 'seismic']:\n",
    "                max_color_abs = np.max(np.abs([np.min(x_colors), np.max(x_colors), \n",
    "                                              np.min(y_colors), np.max(y_colors)]))\n",
    "                norm = plt.Normalize(-max_color_abs, max_color_abs)\n",
    "            else:\n",
    "                min_color = min(np.min(x_colors), np.min(y_colors))\n",
    "                max_color = max(np.max(x_colors), np.max(y_colors))\n",
    "                norm = plt.Normalize(min_color, max_color)\n",
    "            \n",
    "            if isinstance(cmap, str):\n",
    "                cmap_func = plt.cm.get_cmap(cmap)\n",
    "            else:\n",
    "                cmap_func = cmap\n",
    "                \n",
    "            x_bar_colors = [cmap_func(norm(val)) for val in x_colors]\n",
    "            y_bar_colors = [cmap_func(norm(val)) for val in y_colors]\n",
    "        \n",
    "        # Plot the colored histograms\n",
    "        for i in range(len(x_hist)):\n",
    "            ax_histx.bar(x_bin_centers[i], x_hist_norm[i], width=x_bins[1]-x_bins[0], \n",
    "                        color=x_bar_colors[i], edgecolor='none', alpha=0.7)\n",
    "        \n",
    "        for i in range(len(y_hist)):\n",
    "            ax_histy.barh(y_bin_centers[i], y_hist_norm[i], height=y_bins[1]-y_bins[0],\n",
    "                         color=y_bar_colors[i], edgecolor='none', alpha=0.7)\n",
    "        \n",
    "        # Adjust subplots for compact figure with histograms\n",
    "        if show_colorbar:\n",
    "            plt.subplots_adjust(top=0.92, bottom=0.15, left=0.15, right=0.85, hspace=0.12, wspace=0.12)\n",
    "        else:\n",
    "            plt.subplots_adjust(top=0.92, bottom=0.15, left=0.15, right=0.90, hspace=0.12, wspace=0.12)\n",
    "    else:\n",
    "        # Adjust layout for compact non-histogram plots\n",
    "        if show_colorbar:\n",
    "            plt.subplots_adjust(top=0.90, bottom=0.15, left=0.15, right=0.85)\n",
    "        else:\n",
    "            plt.subplots_adjust(top=0.90, bottom=0.15, left=0.15, right=0.95)\n",
    "    return pca, X_pca, fig, permanova_results, {\n",
    "        'correlations': (pc1_corr, pc1_pval, pc2_corr, pc2_pval) if show_correlations else None,\n",
    "        'variance_explained': variance_explained_results if diet_variance_explained else None\n",
    "    }"
   ],
   "metadata": {
    "collapsed": false,
    "ExecuteTime": {
     "end_time": "2025-07-14T09:34:53.973620Z",
     "start_time": "2025-07-14T09:34:53.930501Z"
    }
   },
   "id": "9b48cee313c54418",
   "execution_count": 197
  },
  {
   "cell_type": "code",
   "outputs": [
    {
     "name": "stdout",
     "output_type": "stream",
     "text": [
      "\n",
      "Processing Gut_MB...\n"
     ]
    },
    {
     "name": "stderr",
     "output_type": "stream",
     "text": [
      "/tmp/ipykernel_47486/2354921697.py:112: FutureWarning: A value is trying to be set on a copy of a DataFrame or Series through chained assignment using an inplace method.\n",
      "The behavior will change in pandas 3.0. This inplace method will never work because the intermediate object on which we are setting values always behaves as a copy.\n",
      "\n",
      "For example, when doing 'df[col].method(value, inplace=True)', try using 'df.method({col: value}, inplace=True)' or df[col] = df[col].method(value) instead, to perform the operation inplace on the original object.\n",
      "\n",
      "\n",
      "  data[col].fillna(median_val, inplace=True)\n"
     ]
    },
    {
     "name": "stdout",
     "output_type": "stream",
     "text": [
      "Diet Score Variance Explained Results:\n",
      "Dataset: Unknown\n",
      "Principal components 1-5 explain 0.0911 (R²) of variance in hPDI_score_per_day\n",
      "Individual component contributions:\n",
      "  PC1: R² = 0.0101 (1.01%)\n",
      "  PC2: R² = 0.0058 (0.58%)\n",
      "  PC3: R² = 0.0363 (3.63%)\n",
      "  PC4: R² = 0.0212 (2.12%)\n",
      "  PC5: R² = 0.0176 (1.76%)\n",
      "---\n"
     ]
    },
    {
     "name": "stderr",
     "output_type": "stream",
     "text": [
      "/tmp/ipykernel_47486/2354921697.py:503: MatplotlibDeprecationWarning: The get_cmap function was deprecated in Matplotlib 3.7 and will be removed in 3.11. Use ``matplotlib.colormaps[name]`` or ``matplotlib.colormaps.get_cmap()`` or ``pyplot.get_cmap()`` instead.\n",
      "  cmap_func = plt.cm.get_cmap(cmap)\n"
     ]
    },
    {
     "name": "stdout",
     "output_type": "stream",
     "text": [
      "\n",
      "Processing Oral_MB...\n",
      "Diet Score Variance Explained Results:\n",
      "Dataset: Unknown\n",
      "Principal components 1-5 explain 0.0231 (R²) of variance in hPDI_score_per_day\n",
      "Individual component contributions:\n",
      "  PC1: R² = 0.0053 (0.53%)\n",
      "  PC2: R² = 0.0079 (0.79%)\n",
      "  PC3: R² = 0.0015 (0.15%)\n",
      "  PC4: R² = 0.0068 (0.68%)\n",
      "  PC5: R² = 0.0015 (0.15%)\n",
      "---\n"
     ]
    },
    {
     "name": "stderr",
     "output_type": "stream",
     "text": [
      "/tmp/ipykernel_47486/2354921697.py:112: FutureWarning: A value is trying to be set on a copy of a DataFrame or Series through chained assignment using an inplace method.\n",
      "The behavior will change in pandas 3.0. This inplace method will never work because the intermediate object on which we are setting values always behaves as a copy.\n",
      "\n",
      "For example, when doing 'df[col].method(value, inplace=True)', try using 'df.method({col: value}, inplace=True)' or df[col] = df[col].method(value) instead, to perform the operation inplace on the original object.\n",
      "\n",
      "\n",
      "  data[col].fillna(median_val, inplace=True)\n",
      "/tmp/ipykernel_47486/2354921697.py:503: MatplotlibDeprecationWarning: The get_cmap function was deprecated in Matplotlib 3.7 and will be removed in 3.11. Use ``matplotlib.colormaps[name]`` or ``matplotlib.colormaps.get_cmap()`` or ``pyplot.get_cmap()`` instead.\n",
      "  cmap_func = plt.cm.get_cmap(cmap)\n"
     ]
    },
    {
     "name": "stdout",
     "output_type": "stream",
     "text": [
      "\n",
      "Processing NMR...\n",
      "Diet Score Variance Explained Results:\n",
      "Dataset: Unknown\n",
      "Principal components 1-5 explain 0.0394 (R²) of variance in hPDI_score_per_day\n",
      "Individual component contributions:\n",
      "  PC1: R² = 0.0225 (2.25%)\n",
      "  PC2: R² = 0.0114 (1.14%)\n",
      "  PC3: R² = 0.0000 (0.00%)\n",
      "  PC4: R² = 0.0000 (0.00%)\n",
      "  PC5: R² = 0.0055 (0.55%)\n",
      "---\n"
     ]
    },
    {
     "name": "stderr",
     "output_type": "stream",
     "text": [
      "/tmp/ipykernel_47486/2354921697.py:98: FutureWarning: A value is trying to be set on a copy of a DataFrame or Series through chained assignment using an inplace method.\n",
      "The behavior will change in pandas 3.0. This inplace method will never work because the intermediate object on which we are setting values always behaves as a copy.\n",
      "\n",
      "For example, when doing 'df[col].method(value, inplace=True)', try using 'df.method({col: value}, inplace=True)' or df[col] = df[col].method(value) instead, to perform the operation inplace on the original object.\n",
      "\n",
      "\n",
      "  data[col].fillna(median_val, inplace=True)\n",
      "/tmp/ipykernel_47486/2354921697.py:112: FutureWarning: A value is trying to be set on a copy of a DataFrame or Series through chained assignment using an inplace method.\n",
      "The behavior will change in pandas 3.0. This inplace method will never work because the intermediate object on which we are setting values always behaves as a copy.\n",
      "\n",
      "For example, when doing 'df[col].method(value, inplace=True)', try using 'df.method({col: value}, inplace=True)' or df[col] = df[col].method(value) instead, to perform the operation inplace on the original object.\n",
      "\n",
      "\n",
      "  data[col].fillna(median_val, inplace=True)\n",
      "/tmp/ipykernel_47486/2354921697.py:503: MatplotlibDeprecationWarning: The get_cmap function was deprecated in Matplotlib 3.7 and will be removed in 3.11. Use ``matplotlib.colormaps[name]`` or ``matplotlib.colormaps.get_cmap()`` or ``pyplot.get_cmap()`` instead.\n",
      "  cmap_func = plt.cm.get_cmap(cmap)\n"
     ]
    },
    {
     "name": "stdout",
     "output_type": "stream",
     "text": [
      "\n",
      "Processing MS...\n"
     ]
    },
    {
     "name": "stderr",
     "output_type": "stream",
     "text": [
      "/tmp/ipykernel_47486/2354921697.py:112: FutureWarning: A value is trying to be set on a copy of a DataFrame or Series through chained assignment using an inplace method.\n",
      "The behavior will change in pandas 3.0. This inplace method will never work because the intermediate object on which we are setting values always behaves as a copy.\n",
      "\n",
      "For example, when doing 'df[col].method(value, inplace=True)', try using 'df.method({col: value}, inplace=True)' or df[col] = df[col].method(value) instead, to perform the operation inplace on the original object.\n",
      "\n",
      "\n",
      "  data[col].fillna(median_val, inplace=True)\n"
     ]
    },
    {
     "name": "stdout",
     "output_type": "stream",
     "text": [
      "Diet Score Variance Explained Results:\n",
      "Dataset: Unknown\n",
      "Principal components 1-5 explain 0.2868 (R²) of variance in hPDI_score_per_day\n",
      "Individual component contributions:\n",
      "  PC1: R² = 0.1661 (16.61%)\n",
      "  PC2: R² = 0.0116 (1.16%)\n",
      "  PC3: R² = 0.0641 (6.41%)\n",
      "  PC4: R² = 0.0331 (3.31%)\n",
      "  PC5: R² = 0.0119 (1.19%)\n",
      "---\n"
     ]
    },
    {
     "name": "stderr",
     "output_type": "stream",
     "text": [
      "/tmp/ipykernel_47486/2354921697.py:503: MatplotlibDeprecationWarning: The get_cmap function was deprecated in Matplotlib 3.7 and will be removed in 3.11. Use ``matplotlib.colormaps[name]`` or ``matplotlib.colormaps.get_cmap()`` or ``pyplot.get_cmap()`` instead.\n",
      "  cmap_func = plt.cm.get_cmap(cmap)\n"
     ]
    },
    {
     "name": "stdout",
     "output_type": "stream",
     "text": [
      "\n",
      "Processing MS_09...\n"
     ]
    },
    {
     "name": "stderr",
     "output_type": "stream",
     "text": [
      "/tmp/ipykernel_47486/2354921697.py:112: FutureWarning: A value is trying to be set on a copy of a DataFrame or Series through chained assignment using an inplace method.\n",
      "The behavior will change in pandas 3.0. This inplace method will never work because the intermediate object on which we are setting values always behaves as a copy.\n",
      "\n",
      "For example, when doing 'df[col].method(value, inplace=True)', try using 'df.method({col: value}, inplace=True)' or df[col] = df[col].method(value) instead, to perform the operation inplace on the original object.\n",
      "\n",
      "\n",
      "  data[col].fillna(median_val, inplace=True)\n"
     ]
    },
    {
     "name": "stdout",
     "output_type": "stream",
     "text": [
      "Diet Score Variance Explained Results:\n",
      "Dataset: Unknown\n",
      "Principal components 1-5 explain 0.3158 (R²) of variance in hPDI_score_per_day\n",
      "Individual component contributions:\n",
      "  PC1: R² = 0.1297 (12.97%)\n",
      "  PC2: R² = 0.0052 (0.52%)\n",
      "  PC3: R² = 0.1177 (11.77%)\n",
      "  PC4: R² = 0.0363 (3.63%)\n",
      "  PC5: R² = 0.0269 (2.69%)\n",
      "---\n"
     ]
    },
    {
     "name": "stderr",
     "output_type": "stream",
     "text": [
      "/tmp/ipykernel_47486/2354921697.py:503: MatplotlibDeprecationWarning: The get_cmap function was deprecated in Matplotlib 3.7 and will be removed in 3.11. Use ``matplotlib.colormaps[name]`` or ``matplotlib.colormaps.get_cmap()`` or ``pyplot.get_cmap()`` instead.\n",
      "  cmap_func = plt.cm.get_cmap(cmap)\n"
     ]
    },
    {
     "name": "stdout",
     "output_type": "stream",
     "text": [
      "\n",
      "Processing MS_07...\n"
     ]
    },
    {
     "name": "stderr",
     "output_type": "stream",
     "text": [
      "/tmp/ipykernel_47486/2354921697.py:112: FutureWarning: A value is trying to be set on a copy of a DataFrame or Series through chained assignment using an inplace method.\n",
      "The behavior will change in pandas 3.0. This inplace method will never work because the intermediate object on which we are setting values always behaves as a copy.\n",
      "\n",
      "For example, when doing 'df[col].method(value, inplace=True)', try using 'df.method({col: value}, inplace=True)' or df[col] = df[col].method(value) instead, to perform the operation inplace on the original object.\n",
      "\n",
      "\n",
      "  data[col].fillna(median_val, inplace=True)\n"
     ]
    },
    {
     "name": "stdout",
     "output_type": "stream",
     "text": [
      "Diet Score Variance Explained Results:\n",
      "Dataset: Unknown\n",
      "Principal components 1-5 explain 0.3430 (R²) of variance in hPDI_score_per_day\n",
      "Individual component contributions:\n",
      "  PC1: R² = 0.1334 (13.34%)\n",
      "  PC2: R² = 0.0049 (0.49%)\n",
      "  PC3: R² = 0.0117 (1.17%)\n",
      "  PC4: R² = 0.1134 (11.34%)\n",
      "  PC5: R² = 0.0797 (7.97%)\n",
      "---\n"
     ]
    },
    {
     "name": "stderr",
     "output_type": "stream",
     "text": [
      "/tmp/ipykernel_47486/2354921697.py:503: MatplotlibDeprecationWarning: The get_cmap function was deprecated in Matplotlib 3.7 and will be removed in 3.11. Use ``matplotlib.colormaps[name]`` or ``matplotlib.colormaps.get_cmap()`` or ``pyplot.get_cmap()`` instead.\n",
      "  cmap_func = plt.cm.get_cmap(cmap)\n"
     ]
    }
   ],
   "source": [
    "# Define column sets and their properties\n",
    "dataset_configs = {\n",
    "    'Gut_MB': {\n",
    "        'columns': [col for col in filtered_cols_w_oral if col not in ['age', 'gender', 'bmi', 'Richness', 'Shannon_diversity']],\n",
    "        'suffix': 'Gut_MB',\n",
    "        'title': 'Gut Microbiome',\n",
    "        'log_transform': True  # MPA doesn't need log transform,\n",
    "    },\n",
    "    'Oral_MB': {\n",
    "        'columns': [col for col in oral_mb.columns if col not in ['age', 'gender', 'bmi', 'Richness', 'Shannon_diversity']],\n",
    "        'suffix': 'Oral_MB',\n",
    "        'title': 'Oral Microbiome',\n",
    "        'log_transform': False  # MPA doesn't need log transform,\n",
    "    },\n",
    "    'NMR': {\n",
    "        'columns': [col for col in nightingale_data.columns if col not in ['age', 'gender', 'bmi', 'Richness', 'Shannon_diversity'] and col in ms_mpa_nmr_diet_oral_filtered.columns],\n",
    "        'suffix': 'NMR',\n",
    "        'title': 'NMR Metabolomics',\n",
    "        'log_transform': True\n",
    "    },\n",
    "    'MS': {\n",
    "        'columns': [col for col in serrf_full_base.columns if col not in ['age', 'gender', 'bmi', 'Richness', 'Shannon_diversity'] and col in ms_mpa_nmr_diet_oral_filtered.columns],\n",
    "        'suffix': 'MS',\n",
    "        'title': 'Mass Spectrometry Full',\n",
    "        'log_transform': True\n",
    "    },\n",
    "    'MS_09': {\n",
    "        'columns': [col for col in clusterd_09_base.columns if col not in ['age', 'gender', 'bmi', 'Richness', 'Shannon_diversity'] and col in ms_mpa_nmr_diet_oral_filtered.columns],\n",
    "        'suffix': 'MS_09',\n",
    "        'title': 'Mass Spectrometry Clustered 0.9',\n",
    "        'log_transform': True\n",
    "    },\n",
    "    'MS_07': {\n",
    "        'columns': [col for col in clusterd_07_base.columns if col not in ['age', 'gender', 'bmi', 'Richness', 'Shannon_diversity'] and col in ms_mpa_nmr_diet_oral_filtered.columns],\n",
    "        'suffix': 'MS_07',\n",
    "        'title': 'Mass Spectrometry Clustered 0.7',\n",
    "        'log_transform': True\n",
    "    }\n",
    "}\n",
    "\n",
    "feature_to_color = 'hPDI_score_per_day'\n",
    "\n",
    "# Perform PCA for each column set\n",
    "for dataset_name, config in dataset_configs.items():\n",
    "    print(f\"\\nProcessing {dataset_name}...\")\n",
    "    \n",
    "    # Perform PCA and create visualization\n",
    "    pca, X_pca, fig_pca, permanova_results, corr_results = perform_pca_visualization(\n",
    "        df=ms_mpa_nmr_diet_oral_filtered,\n",
    "        columns_for_pca=config['columns'],\n",
    "        color_column=feature_to_color,\n",
    "        log_transform=config['log_transform'],\n",
    "        standardize=True,\n",
    "        log_transform_color=False,\n",
    "        color_scale='zscore',\n",
    "        cmap='seismic',\n",
    "        center_colors=True,\n",
    "        # title=f\"{config['title']} PCA\\nColored by {feature_to_color}\",\n",
    "        title=\"\",\n",
    "        covariates=['age', 'gender', 'bmi'],\n",
    "        run_permanova=False,\n",
    "        use_quartiles=False,\n",
    "        show_histograms=True,\n",
    "        histogram_bins=30,\n",
    "        remove_borders=True,\n",
    "        figsize=(2.8, 2.8),\n",
    "        fontsize=6,\n",
    "        show_colorbar=False,\n",
    "        show_grid=False,\n",
    "        diet_variance_explained=True,\n",
    "        n_components_for_variance=5,\n",
    "        show_correlations=False,\n",
    "        second_pc=2,\n",
    "    )\n",
    "    \n",
    "    # Save figure\n",
    "    output_filename = f'pca_{feature_to_color}_{config[\"suffix\"]}_r2_withVariance.pdf'\n",
    "    fig_pca.savefig(FIGS_DIR + '/' + output_filename, dpi=300)\n",
    "    # save as png\n",
    "    fig_pca.savefig(FIGS_DIR + '/' + output_filename.replace('.pdf', '.png'), dpi=300)\n",
    "    plt.close(fig_pca)  # Close the figure to free memory"
   ],
   "metadata": {
    "collapsed": false,
    "ExecuteTime": {
     "end_time": "2025-07-16T08:25:16.443781Z",
     "start_time": "2025-07-16T08:25:09.804980Z"
    }
   },
   "id": "4283e957ea1bdbce",
   "execution_count": 199
  },
  {
   "cell_type": "code",
   "outputs": [],
   "source": [
    "from sklearn.cross_decomposition import PLSRegression\n",
    "from sklearn.model_selection import cross_val_score, KFold\n",
    "\n",
    "\n",
    "def calculate_vip_scores(plsda, x):\n",
    "    \"\"\"\n",
    "    Calculate VIP (Variable Importance in Projection) scores for PLS-DA\n",
    "    \n",
    "    Parameters:\n",
    "    -----------\n",
    "    plsda : PLSRegression\n",
    "        Fitted PLS-DA model\n",
    "    x : array-like\n",
    "        Original feature matrix\n",
    "        \n",
    "    Returns:\n",
    "    --------\n",
    "    vip : array-like\n",
    "        VIP scores for each feature\n",
    "    \"\"\"\n",
    "    t = plsda.x_scores_\n",
    "    w = plsda.x_weights_\n",
    "    q = plsda.y_loadings_\n",
    "    p, h = w.shape\n",
    "    \n",
    "    vips = np.zeros((p,))\n",
    "    s = np.diag(t.T @ t @ q.T @ q).reshape(h, -1)\n",
    "    total_s = np.sum(s)\n",
    "    \n",
    "    for i in range(p):\n",
    "        weight = np.array([(w[i,j] / np.sqrt(s[j]))**2 for j in range(h)])\n",
    "        vips[i] = np.sqrt(p*(s.T @ weight)/total_s)\n",
    "    \n",
    "    return vips\n",
    "\n",
    "def calculate_r2q2(X, y, plsda, cv_folds=5):\n",
    "    \"\"\"\n",
    "    Calculate R² and Q² values for PLS-DA model\n",
    "    \n",
    "    Parameters:\n",
    "    -----------\n",
    "    X : array-like\n",
    "        Feature matrix\n",
    "    y : array-like\n",
    "        Target variable\n",
    "    plsda : PLSRegression\n",
    "        Fitted PLS-DA model\n",
    "    cv_folds : int\n",
    "        Number of cross-validation folds\n",
    "        \n",
    "    Returns:\n",
    "    --------\n",
    "    r2 : float\n",
    "        R² score\n",
    "    q2 : float\n",
    "        Q² score from cross-validation\n",
    "    \"\"\"\n",
    "    # Calculate R²\n",
    "    y_pred = plsda.predict(X)\n",
    "    r2 = plsda.score(X, y)\n",
    "    \n",
    "    # Calculate Q² using cross-validation\n",
    "    cv = KFold(n_splits=cv_folds, shuffle=True, random_state=42)\n",
    "    q2 = np.mean(cross_val_score(plsda, X, y, cv=cv))\n",
    "    \n",
    "    return r2, q2\n",
    "\n",
    "def perform_plsda_analysis(df, columns_for_plsda, target_column,\n",
    "                          n_components=2,\n",
    "                          log_transform=False,\n",
    "                          standardize=True,\n",
    "                          threshold=None,\n",
    "                          title=None,\n",
    "                          cmap='RdBu_r'):\n",
    "    \"\"\"\n",
    "    Perform enhanced PLS-DA analysis with visualization and comprehensive metrics\n",
    "    \n",
    "    [Previous parameters documentation remains the same]\n",
    "    \n",
    "    Returns:\n",
    "    --------\n",
    "    plsda : PLSRegression\n",
    "        Fitted PLS-DA model\n",
    "    X_plsda : numpy array\n",
    "        Transformed features\n",
    "    metrics : dict\n",
    "        Dictionary containing R², Q², VIP scores, and feature importance\n",
    "    fig : matplotlib figure\n",
    "        Plot figure handle\n",
    "    \"\"\"\n",
    "    # Make a copy of the data\n",
    "    data = df.copy()\n",
    "    \n",
    "    # Handle NaN values and preprocessing as before\n",
    "    for col in columns_for_plsda:\n",
    "        if data[col].isnull().any():\n",
    "            median_val = data[col].median()\n",
    "            data[col].fillna(median_val, inplace=True)\n",
    "    \n",
    "    # Handle log transformations\n",
    "    if log_transform:\n",
    "        if isinstance(log_transform, list):\n",
    "            for col in log_transform:\n",
    "                if col in columns_for_plsda:\n",
    "                    data[col] = np.log1p(data[col])\n",
    "        else:\n",
    "            for col in columns_for_plsda:\n",
    "                data[col] = np.log1p(data[col])\n",
    "    \n",
    "    # Prepare features\n",
    "    X = data[columns_for_plsda].values\n",
    "    if standardize:\n",
    "        scaler = StandardScaler()\n",
    "        X = scaler.fit_transform(X)\n",
    "    \n",
    "    # Prepare target\n",
    "    y = data[target_column].values\n",
    "    if threshold is not None:\n",
    "        y = (y > threshold).astype(int)\n",
    "    \n",
    "    # Fit PLS-DA\n",
    "    plsda = PLSRegression(n_components=n_components)\n",
    "    X_plsda = plsda.fit_transform(X, y)[0]\n",
    "    \n",
    "    # Calculate metrics\n",
    "    r2, q2 = calculate_r2q2(X, y, plsda)\n",
    "    vip_scores = calculate_vip_scores(plsda, X)\n",
    "    \n",
    "    # Calculate explained variance for each component\n",
    "    explained_var = np.var(X_plsda, axis=0) / np.var(X_plsda).sum() * 100\n",
    "    \n",
    "    # Combine feature importance metrics\n",
    "    feature_importance = pd.DataFrame({\n",
    "        'feature': columns_for_plsda,\n",
    "        'coefficient': np.abs(plsda.coef_[:,0]),\n",
    "        'vip_score': vip_scores\n",
    "    })\n",
    "    feature_importance = feature_importance.sort_values('vip_score', ascending=False)\n",
    "    \n",
    "    # Create visualization with enhanced information\n",
    "    fig = plt.figure(figsize=(15, 8))\n",
    "    gs = plt.GridSpec(2, 2, height_ratios=[1, 0.1])\n",
    "    \n",
    "    # Scatter plot\n",
    "    ax1 = plt.subplot(gs[0, 0])\n",
    "    scatter = ax1.scatter(X_plsda[:, 0], X_plsda[:, 1],\n",
    "                         c=y,\n",
    "                         cmap=cmap,\n",
    "                         alpha=0.6,\n",
    "                         s=50,\n",
    "                         edgecolors='black',\n",
    "                         linewidth=0.5)\n",
    "    \n",
    "    ax1.set_xlabel(f'PLS Component 1 ({explained_var[0]:.1f}% explained variance)')\n",
    "    ax1.set_ylabel(f'PLS Component 2 ({explained_var[1]:.1f}% explained variance)')\n",
    "    ax1.grid(True, linestyle='--', alpha=0.7)\n",
    "    plt.colorbar(scatter, ax=ax1, label=target_column)\n",
    "    \n",
    "    # Add R² and Q² information\n",
    "    metrics_text = f'R² = {r2:.3f}\\nQ² = {q2:.3f}'\n",
    "    ax1.text(0.02, 0.98, metrics_text,\n",
    "             transform=ax1.transAxes,\n",
    "             verticalalignment='top',\n",
    "             bbox=dict(boxstyle='round', facecolor='white', alpha=0.8))\n",
    "    \n",
    "    # Feature importance plot\n",
    "    ax2 = plt.subplot(gs[0, 1])\n",
    "    top_n = 20  # Show top 20 features\n",
    "    sns.barplot(data=feature_importance.head(top_n),\n",
    "                x='vip_score',\n",
    "                y='feature',\n",
    "                ax=ax2)\n",
    "    ax2.set_title('Top Features by VIP Score')\n",
    "    ax2.set_xlabel('VIP Score')\n",
    "    \n",
    "    # Set overall title\n",
    "    if title is None:\n",
    "        plot_title = f'PLS-DA Results\\nColored by {target_column}'\n",
    "    else:\n",
    "        plot_title = title\n",
    "    \n",
    "    fig.suptitle(plot_title, y=1.02)\n",
    "    plt.tight_layout()\n",
    "    \n",
    "    # Compile metrics\n",
    "    metrics = {\n",
    "        'r2': r2,\n",
    "        'q2': q2,\n",
    "        'explained_variance': explained_var,\n",
    "        'feature_importance': feature_importance,\n",
    "        'vip_scores': vip_scores\n",
    "    }\n",
    "    \n",
    "    return plsda, X_plsda, metrics, fig"
   ],
   "metadata": {
    "collapsed": false,
    "ExecuteTime": {
     "end_time": "2025-04-07T06:31:07.884959Z",
     "start_time": "2025-04-07T06:31:07.843590Z"
    }
   },
   "id": "f4c1f70abdcb4fa9",
   "execution_count": 166
  },
  {
   "cell_type": "code",
   "outputs": [
    {
     "data": {
      "text/plain": "['vegetarian_score_per_day',\n 'pescatarian_score_per_day',\n 'wfpb_score_per_day',\n 'vegan_score_per_day',\n 'carnivore_score_per_day',\n 'keto',\n 'low_carb_diet',\n 'NOVA Score',\n 'pct_NOVA_4',\n 'IMEDAS_score_per_day',\n 'eatLANCET_score_per_day']"
     },
     "execution_count": 392,
     "metadata": {},
     "output_type": "execute_result"
    }
   ],
   "source": [
    "diet_scores"
   ],
   "metadata": {
    "collapsed": false,
    "ExecuteTime": {
     "end_time": "2025-04-14T16:07:44.498545Z",
     "start_time": "2025-04-14T16:07:44.495480Z"
    }
   },
   "id": "66986cd72323acc5",
   "execution_count": 392
  },
  {
   "cell_type": "code",
   "outputs": [
    {
     "name": "stdout",
     "output_type": "stream",
     "text": [
      "\n",
      "Processing MS...\n"
     ]
    },
    {
     "ename": "KeyError",
     "evalue": "'IMEDAS_score_per_day'",
     "output_type": "error",
     "traceback": [
      "\u001B[0;31m---------------------------------------------------------------------------\u001B[0m",
      "\u001B[0;31mKeyError\u001B[0m                                  Traceback (most recent call last)",
      "File \u001B[0;32m/net/mraid20/export/jasmine/david/anaconda3/envs/freshEnv/lib/python3.11/site-packages/pandas/core/indexes/base.py:3805\u001B[0m, in \u001B[0;36mIndex.get_loc\u001B[0;34m(self, key)\u001B[0m\n\u001B[1;32m   3804\u001B[0m \u001B[38;5;28;01mtry\u001B[39;00m:\n\u001B[0;32m-> 3805\u001B[0m     \u001B[38;5;28;01mreturn\u001B[39;00m \u001B[38;5;28mself\u001B[39m\u001B[38;5;241m.\u001B[39m_engine\u001B[38;5;241m.\u001B[39mget_loc(casted_key)\n\u001B[1;32m   3806\u001B[0m \u001B[38;5;28;01mexcept\u001B[39;00m \u001B[38;5;167;01mKeyError\u001B[39;00m \u001B[38;5;28;01mas\u001B[39;00m err:\n",
      "File \u001B[0;32mindex.pyx:167\u001B[0m, in \u001B[0;36mpandas._libs.index.IndexEngine.get_loc\u001B[0;34m()\u001B[0m\n",
      "File \u001B[0;32mindex.pyx:196\u001B[0m, in \u001B[0;36mpandas._libs.index.IndexEngine.get_loc\u001B[0;34m()\u001B[0m\n",
      "File \u001B[0;32mpandas/_libs/hashtable_class_helper.pxi:7081\u001B[0m, in \u001B[0;36mpandas._libs.hashtable.PyObjectHashTable.get_item\u001B[0;34m()\u001B[0m\n",
      "File \u001B[0;32mpandas/_libs/hashtable_class_helper.pxi:7089\u001B[0m, in \u001B[0;36mpandas._libs.hashtable.PyObjectHashTable.get_item\u001B[0;34m()\u001B[0m\n",
      "\u001B[0;31mKeyError\u001B[0m: 'IMEDAS_score_per_day'",
      "\nThe above exception was the direct cause of the following exception:\n",
      "\u001B[0;31mKeyError\u001B[0m                                  Traceback (most recent call last)",
      "Cell \u001B[0;32mIn[393], line 8\u001B[0m\n\u001B[1;32m      5\u001B[0m \u001B[38;5;28mprint\u001B[39m(\u001B[38;5;124mf\u001B[39m\u001B[38;5;124m\"\u001B[39m\u001B[38;5;130;01m\\n\u001B[39;00m\u001B[38;5;124mProcessing \u001B[39m\u001B[38;5;132;01m{\u001B[39;00mdataset_name\u001B[38;5;132;01m}\u001B[39;00m\u001B[38;5;124m...\u001B[39m\u001B[38;5;124m\"\u001B[39m)\n\u001B[1;32m      7\u001B[0m \u001B[38;5;66;03m# Perform PLS-DA and create visualization\u001B[39;00m\n\u001B[0;32m----> 8\u001B[0m plsda, X_plsda, feature_importance, fig_plsda \u001B[38;5;241m=\u001B[39m perform_plsda_analysis(\n\u001B[1;32m      9\u001B[0m     df\u001B[38;5;241m=\u001B[39mjoined_diet_mpa_serrf_nightinglae,\n\u001B[1;32m     10\u001B[0m     columns_for_plsda\u001B[38;5;241m=\u001B[39mconfig[\u001B[38;5;124m'\u001B[39m\u001B[38;5;124mcolumns\u001B[39m\u001B[38;5;124m'\u001B[39m],\n\u001B[1;32m     11\u001B[0m     target_column\u001B[38;5;241m=\u001B[39mtarget,\n\u001B[1;32m     12\u001B[0m     n_components\u001B[38;5;241m=\u001B[39m\u001B[38;5;241m2\u001B[39m,\n\u001B[1;32m     13\u001B[0m     log_transform\u001B[38;5;241m=\u001B[39mconfig[\u001B[38;5;124m'\u001B[39m\u001B[38;5;124mlog_transform\u001B[39m\u001B[38;5;124m'\u001B[39m],\n\u001B[1;32m     14\u001B[0m     standardize\u001B[38;5;241m=\u001B[39m\u001B[38;5;28;01mTrue\u001B[39;00m,\n\u001B[1;32m     15\u001B[0m     threshold\u001B[38;5;241m=\u001B[39m\u001B[38;5;28;01mNone\u001B[39;00m,\n\u001B[1;32m     16\u001B[0m     title\u001B[38;5;241m=\u001B[39m\u001B[38;5;124mf\u001B[39m\u001B[38;5;124m\"\u001B[39m\u001B[38;5;132;01m{\u001B[39;00mconfig[\u001B[38;5;124m'\u001B[39m\u001B[38;5;124mtitle\u001B[39m\u001B[38;5;124m'\u001B[39m]\u001B[38;5;132;01m}\u001B[39;00m\u001B[38;5;124m PLS-DA\u001B[39m\u001B[38;5;130;01m\\n\u001B[39;00m\u001B[38;5;124mColored by\u001B[39m\u001B[38;5;124m\"\u001B[39m\n\u001B[1;32m     17\u001B[0m )\n\u001B[1;32m     19\u001B[0m \u001B[38;5;66;03m# Save figure\u001B[39;00m\n\u001B[1;32m     20\u001B[0m output_filename \u001B[38;5;241m=\u001B[39m \u001B[38;5;124mf\u001B[39m\u001B[38;5;124m'\u001B[39m\u001B[38;5;124mplsda_\u001B[39m\u001B[38;5;132;01m{\u001B[39;00mconfig[\u001B[38;5;124m\"\u001B[39m\u001B[38;5;124msuffix\u001B[39m\u001B[38;5;124m\"\u001B[39m]\u001B[38;5;132;01m}\u001B[39;00m\u001B[38;5;124m_\u001B[39m\u001B[38;5;132;01m{\u001B[39;00mtarget\u001B[38;5;132;01m}\u001B[39;00m\u001B[38;5;124m.png\u001B[39m\u001B[38;5;124m'\u001B[39m\n",
      "Cell \u001B[0;32mIn[166], line 118\u001B[0m, in \u001B[0;36mperform_plsda_analysis\u001B[0;34m(df, columns_for_plsda, target_column, n_components, log_transform, standardize, threshold, title, cmap)\u001B[0m\n\u001B[1;32m    115\u001B[0m     X \u001B[38;5;241m=\u001B[39m scaler\u001B[38;5;241m.\u001B[39mfit_transform(X)\n\u001B[1;32m    117\u001B[0m \u001B[38;5;66;03m# Prepare target\u001B[39;00m\n\u001B[0;32m--> 118\u001B[0m y \u001B[38;5;241m=\u001B[39m data[target_column]\u001B[38;5;241m.\u001B[39mvalues\n\u001B[1;32m    119\u001B[0m \u001B[38;5;28;01mif\u001B[39;00m threshold \u001B[38;5;129;01mis\u001B[39;00m \u001B[38;5;129;01mnot\u001B[39;00m \u001B[38;5;28;01mNone\u001B[39;00m:\n\u001B[1;32m    120\u001B[0m     y \u001B[38;5;241m=\u001B[39m (y \u001B[38;5;241m>\u001B[39m threshold)\u001B[38;5;241m.\u001B[39mastype(\u001B[38;5;28mint\u001B[39m)\n",
      "File \u001B[0;32m/net/mraid20/export/jasmine/david/anaconda3/envs/freshEnv/lib/python3.11/site-packages/pandas/core/frame.py:4102\u001B[0m, in \u001B[0;36mDataFrame.__getitem__\u001B[0;34m(self, key)\u001B[0m\n\u001B[1;32m   4100\u001B[0m \u001B[38;5;28;01mif\u001B[39;00m \u001B[38;5;28mself\u001B[39m\u001B[38;5;241m.\u001B[39mcolumns\u001B[38;5;241m.\u001B[39mnlevels \u001B[38;5;241m>\u001B[39m \u001B[38;5;241m1\u001B[39m:\n\u001B[1;32m   4101\u001B[0m     \u001B[38;5;28;01mreturn\u001B[39;00m \u001B[38;5;28mself\u001B[39m\u001B[38;5;241m.\u001B[39m_getitem_multilevel(key)\n\u001B[0;32m-> 4102\u001B[0m indexer \u001B[38;5;241m=\u001B[39m \u001B[38;5;28mself\u001B[39m\u001B[38;5;241m.\u001B[39mcolumns\u001B[38;5;241m.\u001B[39mget_loc(key)\n\u001B[1;32m   4103\u001B[0m \u001B[38;5;28;01mif\u001B[39;00m is_integer(indexer):\n\u001B[1;32m   4104\u001B[0m     indexer \u001B[38;5;241m=\u001B[39m [indexer]\n",
      "File \u001B[0;32m/net/mraid20/export/jasmine/david/anaconda3/envs/freshEnv/lib/python3.11/site-packages/pandas/core/indexes/base.py:3812\u001B[0m, in \u001B[0;36mIndex.get_loc\u001B[0;34m(self, key)\u001B[0m\n\u001B[1;32m   3807\u001B[0m     \u001B[38;5;28;01mif\u001B[39;00m \u001B[38;5;28misinstance\u001B[39m(casted_key, \u001B[38;5;28mslice\u001B[39m) \u001B[38;5;129;01mor\u001B[39;00m (\n\u001B[1;32m   3808\u001B[0m         \u001B[38;5;28misinstance\u001B[39m(casted_key, abc\u001B[38;5;241m.\u001B[39mIterable)\n\u001B[1;32m   3809\u001B[0m         \u001B[38;5;129;01mand\u001B[39;00m \u001B[38;5;28many\u001B[39m(\u001B[38;5;28misinstance\u001B[39m(x, \u001B[38;5;28mslice\u001B[39m) \u001B[38;5;28;01mfor\u001B[39;00m x \u001B[38;5;129;01min\u001B[39;00m casted_key)\n\u001B[1;32m   3810\u001B[0m     ):\n\u001B[1;32m   3811\u001B[0m         \u001B[38;5;28;01mraise\u001B[39;00m InvalidIndexError(key)\n\u001B[0;32m-> 3812\u001B[0m     \u001B[38;5;28;01mraise\u001B[39;00m \u001B[38;5;167;01mKeyError\u001B[39;00m(key) \u001B[38;5;28;01mfrom\u001B[39;00m \u001B[38;5;21;01merr\u001B[39;00m\n\u001B[1;32m   3813\u001B[0m \u001B[38;5;28;01mexcept\u001B[39;00m \u001B[38;5;167;01mTypeError\u001B[39;00m:\n\u001B[1;32m   3814\u001B[0m     \u001B[38;5;66;03m# If we have a listlike key, _check_indexing_error will raise\u001B[39;00m\n\u001B[1;32m   3815\u001B[0m     \u001B[38;5;66;03m#  InvalidIndexError. Otherwise we fall through and re-raise\u001B[39;00m\n\u001B[1;32m   3816\u001B[0m     \u001B[38;5;66;03m#  the TypeError.\u001B[39;00m\n\u001B[1;32m   3817\u001B[0m     \u001B[38;5;28mself\u001B[39m\u001B[38;5;241m.\u001B[39m_check_indexing_error(key)\n",
      "\u001B[0;31mKeyError\u001B[0m: 'IMEDAS_score_per_day'"
     ]
    }
   ],
   "source": [
    "target = 'IMEDAS_score_per_day'\n",
    "\n",
    "# Perform PLS-DA for each column set\n",
    "for dataset_name, config in dataset_configs.items():\n",
    "    print(f\"\\nProcessing {dataset_name}...\")\n",
    "    \n",
    "    # Perform PLS-DA and create visualization\n",
    "    plsda, X_plsda, feature_importance, fig_plsda = perform_plsda_analysis(\n",
    "        df=joined_diet_mpa_serrf_nightinglae,\n",
    "        columns_for_plsda=config['columns'],\n",
    "        target_column=target,\n",
    "        n_components=2,\n",
    "        log_transform=config['log_transform'],\n",
    "        standardize=True,\n",
    "        threshold=None,\n",
    "        title=f\"{config['title']} PLS-DA\\nColored by\"\n",
    "    )\n",
    "    \n",
    "    # Save figure\n",
    "    output_filename = f'plsda_{config[\"suffix\"]}_{target}.png'\n",
    "    fig_plsda.savefig(FIGS_DIR + '/' + output_filename, dpi=300, bbox_inches='tight')\n",
    "    plt.close(fig_plsda)  # Close the figure to free memory\n",
    "    \n",
    "    # save feature importance\n",
    "    # feature_importance.to_csv(FIGS_DIR + '/' + f'feature_importance_{config[\"suffix\"]}_{target}.csv')"
   ],
   "metadata": {
    "collapsed": false,
    "ExecuteTime": {
     "end_time": "2025-04-14T16:08:01.442429Z",
     "start_time": "2025-04-14T16:08:00.414357Z"
    }
   },
   "id": "fb4c249144816e84",
   "execution_count": 393
  },
  {
   "cell_type": "code",
   "outputs": [],
   "source": [
    "import umap\n",
    "def perform_pca_umap_visualization(df, columns_for_projection, color_column,\n",
    "                                 n_pca_components=None,\n",
    "                                 variance_threshold=0.9,\n",
    "                                 log_transform=False,\n",
    "                                 standardize=True,\n",
    "                                 log_transform_color=False,\n",
    "                                 title=None,\n",
    "                                 color_scale='zscore',\n",
    "                                 cmap='RdBu_r',\n",
    "                                 center_colors=True,\n",
    "                                 n_neighbors=15,\n",
    "                                 min_dist=0.1,\n",
    "                                 random_state=42):\n",
    "    \"\"\"\n",
    "    Perform PCA followed by UMAP with enhanced visualization.\n",
    "    \n",
    "    Parameters:\n",
    "    -----------\n",
    "    [...previous parameters...]\n",
    "    n_pca_components : int, optional\n",
    "        Number of PCA components to keep. If None, use variance_threshold\n",
    "    variance_threshold : float, default=0.9\n",
    "        Minimum explained variance ratio to maintain (used if n_pca_components is None)\n",
    "    \n",
    "    Returns:\n",
    "    --------\n",
    "    tuple\n",
    "        (pca_object, umap_object, transformed_data, figure, explained_variance_ratio)\n",
    "    \"\"\"\n",
    "    # Make a copy of the data\n",
    "    data = df.copy()\n",
    "    \n",
    "    # Handle NaN values\n",
    "    for col in columns_for_projection:\n",
    "        if data[col].isnull().any():\n",
    "            median_val = data[col].median()\n",
    "            data[col].fillna(median_val, inplace=True)\n",
    "    \n",
    "    if data[color_column].isnull().any():\n",
    "        median_color = data[color_column].median()\n",
    "        data[color_column].fillna(median_color, inplace=True)\n",
    "    \n",
    "    # Handle log transformations\n",
    "    if log_transform:\n",
    "        if isinstance(log_transform, list):\n",
    "            for col in log_transform:\n",
    "                if col in columns_for_projection:\n",
    "                    data[col] = np.log1p(data[col])\n",
    "        else:\n",
    "            for col in columns_for_projection:\n",
    "                data[col] = np.log1p(data[col])\n",
    "    \n",
    "    if log_transform_color:\n",
    "        data[color_column] = np.log1p(data[color_column])\n",
    "    \n",
    "    # Scale the color values\n",
    "    color_values = data[color_column].values\n",
    "    if color_scale == 'zscore':\n",
    "        color_values = (color_values - np.mean(color_values)) / np.std(color_values)\n",
    "    elif color_scale == 'minmax':\n",
    "        color_values = (color_values - np.min(color_values)) / (np.max(color_values) - np.min(color_values))\n",
    "    elif color_scale == 'center':\n",
    "        color_values = color_values - np.mean(color_values)\n",
    "    \n",
    "    # Extract and potentially standardize features\n",
    "    X = data[columns_for_projection].values\n",
    "    if standardize:\n",
    "        scaler = StandardScaler()\n",
    "        X = scaler.fit_transform(X)\n",
    "    \n",
    "    # First step: PCA\n",
    "    if n_pca_components is None:\n",
    "        # Use full PCA first to determine number of components\n",
    "        pca_full = PCA()\n",
    "        pca_full.fit(X)\n",
    "        cumsum = np.cumsum(pca_full.explained_variance_ratio_)\n",
    "        n_components = np.argmax(cumsum >= variance_threshold) + 1\n",
    "    else:\n",
    "        n_components = n_pca_components\n",
    "    \n",
    "    # Perform PCA with selected number of components\n",
    "    pca = PCA(n_components=n_components)\n",
    "    X_pca = pca.fit_transform(X)\n",
    "    \n",
    "    # Print PCA information\n",
    "    print(f\"Using {n_components} PCA components\")\n",
    "    print(f\"Explained variance ratio: {pca.explained_variance_ratio_.sum():.3f}\")\n",
    "    \n",
    "    # Second step: UMAP\n",
    "    reducer = umap.UMAP(\n",
    "        n_neighbors=n_neighbors,\n",
    "        min_dist=min_dist,\n",
    "    )\n",
    "    X_umap = reducer.fit_transform(X_pca)\n",
    "    \n",
    "    # Create visualization\n",
    "    fig, ax = plt.subplots(figsize=(10, 8))\n",
    "    \n",
    "    # Set up colormap centering\n",
    "    if center_colors and cmap in ['RdBu_r', 'coolwarm', 'RdYlBu_r', 'seismic']:\n",
    "        vmax = np.max(np.abs(color_values))\n",
    "        vmin = -vmax\n",
    "    else:\n",
    "        vmax = np.max(color_values)\n",
    "        vmin = np.min(color_values)\n",
    "    \n",
    "    # Create scatter plot\n",
    "    scatter = ax.scatter(X_umap[:, 0], X_umap[:, 1],\n",
    "                        c=color_values,\n",
    "                        cmap=cmap,\n",
    "                        vmin=vmin,\n",
    "                        vmax=vmax,\n",
    "                        alpha=0.6,\n",
    "                        s=20,\n",
    "                        edgecolors='black',\n",
    "                        linewidth=0.5)\n",
    "    \n",
    "    # Add colorbar\n",
    "    colorbar_label = color_column\n",
    "    if log_transform_color:\n",
    "        colorbar_label += ' (log-transformed)'\n",
    "    if color_scale:\n",
    "        colorbar_label += f' ({color_scale} scaled)'\n",
    "    plt.colorbar(scatter, label=colorbar_label)\n",
    "    \n",
    "    # Add labels and title\n",
    "    ax.set_xlabel('UMAP1')\n",
    "    ax.set_ylabel('UMAP2')\n",
    "    \n",
    "    # Set title\n",
    "    if title is None:\n",
    "        plot_title = f'PCA-UMAP Results Colored by {color_column}'\n",
    "    else:\n",
    "        plot_title = title\n",
    "    \n",
    "    plot_title += f'\\n{n_components} PCA components ({pca.explained_variance_ratio_.sum():.1%} variance)'\n",
    "    if log_transform:\n",
    "        plot_title += '\\nFeatures log-transformed'\n",
    "    \n",
    "    ax.set_title(plot_title)\n",
    "    ax.grid(True, linestyle='--', alpha=0.7)\n",
    "    plt.tight_layout()\n",
    "    \n",
    "    return pca, reducer, X_umap, fig, pca.explained_variance_ratio_"
   ],
   "metadata": {
    "collapsed": false,
    "ExecuteTime": {
     "end_time": "2025-01-21T08:22:36.865969Z",
     "start_time": "2025-01-21T08:22:28.158059Z"
    }
   },
   "id": "1d72553120a3a15e",
   "execution_count": 45
  },
  {
   "cell_type": "code",
   "outputs": [
    {
     "name": "stdout",
     "output_type": "stream",
     "text": [
      "\n",
      "Processing MPA...\n",
      "Using 368 PCA components\n",
      "Explained variance ratio: 0.897\n",
      "\n",
      "Processing NMR...\n",
      "Using 7 PCA components\n",
      "Explained variance ratio: 0.903\n",
      "\n",
      "Processing MS...\n",
      "Using 451 PCA components\n",
      "Explained variance ratio: 0.899\n",
      "\n",
      "Processing MS_09...\n",
      "Using 470 PCA components\n",
      "Explained variance ratio: 0.898\n",
      "\n",
      "Processing MS_07...\n",
      "Using 437 PCA components\n",
      "Explained variance ratio: 0.898\n"
     ]
    }
   ],
   "source": [
    "# Perform UMAP for each column set\n",
    "for dataset_name, config in dataset_configs.items():\n",
    "    print(f\"\\nProcessing {dataset_name}...\")\n",
    "    \n",
    "    # Perform UMAP and create visualization\n",
    "    pca, umap_obj, X_umap, fig, var_ratio = perform_pca_umap_visualization(\n",
    "        df=joined_diet_mpa_serrf_nightinglae,\n",
    "        columns_for_projection=config['columns'],\n",
    "        color_column=feature_to_color,\n",
    "        log_transform=config['log_transform'],\n",
    "        standardize=True,\n",
    "        log_transform_color=False,\n",
    "        color_scale='zscore',\n",
    "        cmap='seismic',\n",
    "        center_colors=True,\n",
    "        title=f\"{config['title']} UMAP\\nColored by {feature_to_color}\",\n",
    "        n_neighbors=5,\n",
    "        min_dist=0.5,\n",
    "        n_pca_components=None\n",
    "    )\n",
    "    \n",
    "    # Save figure\n",
    "    output_filename = f'umap_pca_{feature_to_color}_{config[\"suffix\"]}_n5min05.png'\n",
    "    fig.savefig(FIGS_DIR + '/' + output_filename, dpi=300)\n",
    "    plt.close(fig)  # Close the figure to free memory"
   ],
   "metadata": {
    "collapsed": false,
    "ExecuteTime": {
     "end_time": "2025-01-12T13:34:15.130057Z",
     "start_time": "2025-01-12T13:33:36.516476Z"
    }
   },
   "id": "3788b756a15ccc50",
   "execution_count": 252
  },
  {
   "cell_type": "code",
   "outputs": [],
   "source": [
    "import LabData.DataLoaders.HardASCVDRiskScore as HardASCVDRiskScore\n",
    "import LabData.DataLoaders.FraminghamRiskScore as FraminghamRiskScore\n",
    "risk_scores = pd.read_csv('/net/mraid20/export/genie/LabData/Data/10K/rna_meeting/risk_factors.csv', index_col=0)"
   ],
   "metadata": {
    "collapsed": false,
    "ExecuteTime": {
     "end_time": "2025-01-13T16:48:38.202833Z",
     "start_time": "2025-01-13T16:48:38.185499Z"
    }
   },
   "id": "99bdbc37901607f4",
   "execution_count": 300
  },
  {
   "cell_type": "code",
   "outputs": [
    {
     "data": {
      "text/plain": "                  gender   age  bt__total_cholesterol  bt__hdl_cholesterol  \\\nRegistrationCode                                                             \n10K_1001201093       0.0  42.0                  172.4                 64.0   \n10K_1002087123       0.0  42.0                  201.7                 38.0   \n10K_1002254441       1.0  45.0                  261.0                 60.0   \n10K_1007400622       0.0  64.0                  221.0                 81.0   \n10K_1007599726       0.0  55.0                  225.2                 70.0   \n...                  ...   ...                    ...                  ...   \n10K_9995823183       1.0  47.0                  176.3                 57.0   \n10K_9996884777       0.0  53.0                  181.0                 48.0   \n10K_9998420917       0.0  47.0                  214.0                 94.0   \n10K_9999226141       1.0  42.0                  214.0                 45.3   \n10K_9999409119       0.0  54.0                  217.0                 64.0   \n\n                  sitting_blood_pressure_systolic  smoke_tobacco_now  \\\nRegistrationCode                                                       \n10K_1001201093                              104.0                0.5   \n10K_1002087123                              145.0                0.0   \n10K_1002254441                              107.0                0.0   \n10K_1007400622                              125.0                0.0   \n10K_1007599726                               91.0                0.0   \n...                                           ...                ...   \n10K_9995823183                              120.0                0.0   \n10K_9996884777                              105.0                0.5   \n10K_9998420917                               97.0                0.0   \n10K_9999226141                              134.0                0.0   \n10K_9999409119                              126.0                0.0   \n\n                  frs_score  frs_percent_risk  gender.1  age.1  \\\nRegistrationCode                                                 \n10K_1001201093          3.0               2.0       0.0   42.0   \n10K_1002087123         10.0               6.3       0.0   42.0   \n10K_1002254441          9.0               7.9       1.0   45.0   \n10K_1007400622         10.0               6.3       0.0   64.0   \n10K_1007599726          6.0               3.3       0.0   55.0   \n...                     ...               ...       ...    ...   \n10K_9995823183          8.0               6.7       1.0   47.0   \n10K_9996884777          8.0               4.5       0.0   53.0   \n10K_9998420917          3.0               2.0       0.0   47.0   \n10K_9999226141         10.0               9.4       1.0   42.0   \n10K_9999409119          8.0               4.5       0.0   54.0   \n\n                  bt__total_cholesterol.1  bt__hdl_cholesterol.1  \\\nRegistrationCode                                                   \n10K_1001201093                      172.4                   64.0   \n10K_1002087123                      201.7                   38.0   \n10K_1002254441                      261.0                   60.0   \n10K_1007400622                      221.0                   81.0   \n10K_1007599726                      225.2                   70.0   \n...                                   ...                    ...   \n10K_9995823183                      176.3                   57.0   \n10K_9996884777                      181.0                   48.0   \n10K_9998420917                      214.0                   94.0   \n10K_9999226141                      214.0                   45.3   \n10K_9999409119                      217.0                   64.0   \n\n                  sitting_blood_pressure_systolic.1  smoke_tobacco_now.1  \\\nRegistrationCode                                                           \n10K_1001201093                                104.0                  0.5   \n10K_1002087123                                145.0                  0.0   \n10K_1002254441                                107.0                  0.0   \n10K_1007400622                                125.0                  0.0   \n10K_1007599726                                 91.0                  0.0   \n...                                             ...                  ...   \n10K_9995823183                                120.0                  0.0   \n10K_9996884777                                105.0                  0.5   \n10K_9998420917                                 97.0                  0.0   \n10K_9999226141                                134.0                  0.0   \n10K_9999409119                                126.0                  0.0   \n\n                  ascvd_percent_risk  \nRegistrationCode                      \n10K_1001201093                 0.010  \n10K_1002087123                 0.016  \n10K_1002254441                 0.019  \n10K_1007400622                 0.042  \n10K_1007599726                 0.009  \n...                              ...  \n10K_9995823183                 0.016  \n10K_9996884777                 0.030  \n10K_9998420917                 0.003  \n10K_9999226141                 0.020  \n10K_9999409119                 0.016  \n\n[8469 rows x 15 columns]",
      "text/html": "<div>\n<style scoped>\n    .dataframe tbody tr th:only-of-type {\n        vertical-align: middle;\n    }\n\n    .dataframe tbody tr th {\n        vertical-align: top;\n    }\n\n    .dataframe thead th {\n        text-align: right;\n    }\n</style>\n<table border=\"1\" class=\"dataframe\">\n  <thead>\n    <tr style=\"text-align: right;\">\n      <th></th>\n      <th>gender</th>\n      <th>age</th>\n      <th>bt__total_cholesterol</th>\n      <th>bt__hdl_cholesterol</th>\n      <th>sitting_blood_pressure_systolic</th>\n      <th>smoke_tobacco_now</th>\n      <th>frs_score</th>\n      <th>frs_percent_risk</th>\n      <th>gender.1</th>\n      <th>age.1</th>\n      <th>bt__total_cholesterol.1</th>\n      <th>bt__hdl_cholesterol.1</th>\n      <th>sitting_blood_pressure_systolic.1</th>\n      <th>smoke_tobacco_now.1</th>\n      <th>ascvd_percent_risk</th>\n    </tr>\n    <tr>\n      <th>RegistrationCode</th>\n      <th></th>\n      <th></th>\n      <th></th>\n      <th></th>\n      <th></th>\n      <th></th>\n      <th></th>\n      <th></th>\n      <th></th>\n      <th></th>\n      <th></th>\n      <th></th>\n      <th></th>\n      <th></th>\n      <th></th>\n    </tr>\n  </thead>\n  <tbody>\n    <tr>\n      <th>10K_1001201093</th>\n      <td>0.0</td>\n      <td>42.0</td>\n      <td>172.4</td>\n      <td>64.0</td>\n      <td>104.0</td>\n      <td>0.5</td>\n      <td>3.0</td>\n      <td>2.0</td>\n      <td>0.0</td>\n      <td>42.0</td>\n      <td>172.4</td>\n      <td>64.0</td>\n      <td>104.0</td>\n      <td>0.5</td>\n      <td>0.010</td>\n    </tr>\n    <tr>\n      <th>10K_1002087123</th>\n      <td>0.0</td>\n      <td>42.0</td>\n      <td>201.7</td>\n      <td>38.0</td>\n      <td>145.0</td>\n      <td>0.0</td>\n      <td>10.0</td>\n      <td>6.3</td>\n      <td>0.0</td>\n      <td>42.0</td>\n      <td>201.7</td>\n      <td>38.0</td>\n      <td>145.0</td>\n      <td>0.0</td>\n      <td>0.016</td>\n    </tr>\n    <tr>\n      <th>10K_1002254441</th>\n      <td>1.0</td>\n      <td>45.0</td>\n      <td>261.0</td>\n      <td>60.0</td>\n      <td>107.0</td>\n      <td>0.0</td>\n      <td>9.0</td>\n      <td>7.9</td>\n      <td>1.0</td>\n      <td>45.0</td>\n      <td>261.0</td>\n      <td>60.0</td>\n      <td>107.0</td>\n      <td>0.0</td>\n      <td>0.019</td>\n    </tr>\n    <tr>\n      <th>10K_1007400622</th>\n      <td>0.0</td>\n      <td>64.0</td>\n      <td>221.0</td>\n      <td>81.0</td>\n      <td>125.0</td>\n      <td>0.0</td>\n      <td>10.0</td>\n      <td>6.3</td>\n      <td>0.0</td>\n      <td>64.0</td>\n      <td>221.0</td>\n      <td>81.0</td>\n      <td>125.0</td>\n      <td>0.0</td>\n      <td>0.042</td>\n    </tr>\n    <tr>\n      <th>10K_1007599726</th>\n      <td>0.0</td>\n      <td>55.0</td>\n      <td>225.2</td>\n      <td>70.0</td>\n      <td>91.0</td>\n      <td>0.0</td>\n      <td>6.0</td>\n      <td>3.3</td>\n      <td>0.0</td>\n      <td>55.0</td>\n      <td>225.2</td>\n      <td>70.0</td>\n      <td>91.0</td>\n      <td>0.0</td>\n      <td>0.009</td>\n    </tr>\n    <tr>\n      <th>...</th>\n      <td>...</td>\n      <td>...</td>\n      <td>...</td>\n      <td>...</td>\n      <td>...</td>\n      <td>...</td>\n      <td>...</td>\n      <td>...</td>\n      <td>...</td>\n      <td>...</td>\n      <td>...</td>\n      <td>...</td>\n      <td>...</td>\n      <td>...</td>\n      <td>...</td>\n    </tr>\n    <tr>\n      <th>10K_9995823183</th>\n      <td>1.0</td>\n      <td>47.0</td>\n      <td>176.3</td>\n      <td>57.0</td>\n      <td>120.0</td>\n      <td>0.0</td>\n      <td>8.0</td>\n      <td>6.7</td>\n      <td>1.0</td>\n      <td>47.0</td>\n      <td>176.3</td>\n      <td>57.0</td>\n      <td>120.0</td>\n      <td>0.0</td>\n      <td>0.016</td>\n    </tr>\n    <tr>\n      <th>10K_9996884777</th>\n      <td>0.0</td>\n      <td>53.0</td>\n      <td>181.0</td>\n      <td>48.0</td>\n      <td>105.0</td>\n      <td>0.5</td>\n      <td>8.0</td>\n      <td>4.5</td>\n      <td>0.0</td>\n      <td>53.0</td>\n      <td>181.0</td>\n      <td>48.0</td>\n      <td>105.0</td>\n      <td>0.5</td>\n      <td>0.030</td>\n    </tr>\n    <tr>\n      <th>10K_9998420917</th>\n      <td>0.0</td>\n      <td>47.0</td>\n      <td>214.0</td>\n      <td>94.0</td>\n      <td>97.0</td>\n      <td>0.0</td>\n      <td>3.0</td>\n      <td>2.0</td>\n      <td>0.0</td>\n      <td>47.0</td>\n      <td>214.0</td>\n      <td>94.0</td>\n      <td>97.0</td>\n      <td>0.0</td>\n      <td>0.003</td>\n    </tr>\n    <tr>\n      <th>10K_9999226141</th>\n      <td>1.0</td>\n      <td>42.0</td>\n      <td>214.0</td>\n      <td>45.3</td>\n      <td>134.0</td>\n      <td>0.0</td>\n      <td>10.0</td>\n      <td>9.4</td>\n      <td>1.0</td>\n      <td>42.0</td>\n      <td>214.0</td>\n      <td>45.3</td>\n      <td>134.0</td>\n      <td>0.0</td>\n      <td>0.020</td>\n    </tr>\n    <tr>\n      <th>10K_9999409119</th>\n      <td>0.0</td>\n      <td>54.0</td>\n      <td>217.0</td>\n      <td>64.0</td>\n      <td>126.0</td>\n      <td>0.0</td>\n      <td>8.0</td>\n      <td>4.5</td>\n      <td>0.0</td>\n      <td>54.0</td>\n      <td>217.0</td>\n      <td>64.0</td>\n      <td>126.0</td>\n      <td>0.0</td>\n      <td>0.016</td>\n    </tr>\n  </tbody>\n</table>\n<p>8469 rows × 15 columns</p>\n</div>"
     },
     "execution_count": 301,
     "metadata": {},
     "output_type": "execute_result"
    }
   ],
   "source": [
    "risk_scores"
   ],
   "metadata": {
    "collapsed": false,
    "ExecuteTime": {
     "end_time": "2025-01-13T16:48:38.906675Z",
     "start_time": "2025-01-13T16:48:38.892257Z"
    }
   },
   "id": "bd7a793c7cc1b38b",
   "execution_count": 301
  },
  {
   "cell_type": "code",
   "outputs": [
    {
     "ename": "AttributeError",
     "evalue": "module 'LabData.DataLoaders.HardASCVDRiskScore' has no attribute 'get_data'",
     "output_type": "error",
     "traceback": [
      "\u001B[0;31m---------------------------------------------------------------------------\u001B[0m",
      "\u001B[0;31mAttributeError\u001B[0m                            Traceback (most recent call last)",
      "Cell \u001B[0;32mIn[297], line 2\u001B[0m\n\u001B[1;32m      1\u001B[0m \u001B[38;5;66;03m# Load the data\u001B[39;00m\n\u001B[0;32m----> 2\u001B[0m hard_ascvd \u001B[38;5;241m=\u001B[39m HardASCVDRiskScore\u001B[38;5;241m.\u001B[39mget_data()\n\u001B[1;32m      3\u001B[0m framingham \u001B[38;5;241m=\u001B[39m FraminghamRiskScore\u001B[38;5;241m.\u001B[39mget_data()\n",
      "\u001B[0;31mAttributeError\u001B[0m: module 'LabData.DataLoaders.HardASCVDRiskScore' has no attribute 'get_data'"
     ]
    }
   ],
   "source": [
    "# Load the data\n",
    "hard_ascvd = HardASCVDRiskScore.get_data()\n",
    "framingham = FraminghamRiskScore.get_data()"
   ],
   "metadata": {
    "collapsed": false,
    "ExecuteTime": {
     "end_time": "2025-01-13T16:47:28.671025Z",
     "start_time": "2025-01-13T16:47:28.652817Z"
    }
   },
   "id": "3e0a81851ebb453e",
   "execution_count": 297
  },
  {
   "cell_type": "markdown",
   "source": [
    "## Feature correlation analysis"
   ],
   "metadata": {
    "collapsed": false
   },
   "id": "5617001972d616dc"
  },
  {
   "cell_type": "code",
   "outputs": [],
   "source": [
    "def plot_correlation_circles(df, features, corr_method='pearson', figsize=(10, 8), \n",
    "                            text_color='black', cmap='RdYlGn', vmin=-1, vmax=1):\n",
    "    \"\"\"\n",
    "    Create a correlation visualization using colored circles where the size and color \n",
    "    intensity represent correlation values, showing only the lower triangle.\n",
    "    \n",
    "    Parameters:\n",
    "    -----------\n",
    "    df : pandas DataFrame\n",
    "        The DataFrame containing the data\n",
    "    features : list\n",
    "        List of column names to include in the correlation matrix\n",
    "    corr_method : str, default 'pearson'\n",
    "        Correlation method ('pearson', 'kendall', 'spearman')\n",
    "    figsize : tuple, default (10, 8)\n",
    "        Figure size\n",
    "    text_color : str, default 'black'\n",
    "        Color of text annotations\n",
    "    cmap : str, default 'RdYlGn'\n",
    "        Colormap to use (the example uses a red-white-green colormap)\n",
    "    vmin, vmax : float, default -1, 1\n",
    "        Min and max values for color scaling\n",
    "        \n",
    "    Returns:\n",
    "    --------\n",
    "    matplotlib.figure.Figure\n",
    "        The figure object containing the plot\n",
    "    \"\"\"\n",
    "    import matplotlib.pyplot as plt\n",
    "    import numpy as np\n",
    "    import re\n",
    "    from matplotlib.colors import Normalize\n",
    "    from matplotlib.cm import ScalarMappable\n",
    "    \n",
    "    \n",
    "    # reverse the order of the features\n",
    "    # features = features[::-1]\n",
    "    \n",
    "    # Calculate correlation matrix\n",
    "    correlation_matrix = df[features].corr(method=corr_method)\n",
    "    \n",
    "    # Create figure with specified size\n",
    "    fig, ax = plt.subplots(figsize=figsize)\n",
    "    \n",
    "    # Set white background\n",
    "    fig.patch.set_facecolor('white')\n",
    "    ax.set_facecolor('white')\n",
    "\n",
    "    \n",
    "    # Set up colormap using the newer API\n",
    "    norm = Normalize(vmin=vmin, vmax=vmax)\n",
    "    cmap_obj = plt.colormaps[cmap]\n",
    "    \n",
    "    # Number of features\n",
    "    n = len(features)\n",
    "    \n",
    "    # Set up the axes\n",
    "    ax.set_xlim(-0.5, n - 0.5)\n",
    "    ax.set_ylim(-0.5, n - 0.5)\n",
    "    \n",
    "    # Make the plot square\n",
    "    ax.set_aspect('equal')\n",
    "    \n",
    "    name_mapping = {\n",
    "    'aHEI_score_per_day': 'AHEI',\n",
    "    'eatLANCET_score_per_day': 'EAT-Lancet',\n",
    "    'hPDI_score_per_day': 'hPDI',\n",
    "    'DASH_score': 'DASH',\n",
    "    'IMEDAS_score_per_day': 'iMEDAS',\n",
    "    'vegetarian_score_per_day': 'Vegetarian',\n",
    "    'vegan_score_per_day': 'Vegan',\n",
    "    'carnivore_score_per_day': 'Carnivore',\n",
    "    'low_carb_diet': 'Low-carb',\n",
    "    'pct_NOVA_4': 'UPF'\n",
    "}\n",
    "\n",
    "    \n",
    "    # Clean feature names by removing \"*score_*per_day\" pattern\n",
    "    # cleaned_features = [re.sub(r'_score_per_day', '', feature) for feature in features]\n",
    "    # cleaned_features = [re.sub(r'_score', '', feature) for feature in features]\n",
    "    # Clean feature names\n",
    "    cleaned_features = [name_mapping.get(feature, feature) for feature in features]\n",
    "\n",
    "    # Position x-axis ticks and labels at the top - remove the last label since diagonal isn't plotted\n",
    "    ax.xaxis.tick_top()\n",
    "    ax.set_xticks(range(n-1))  # One fewer tick on x-axis\n",
    "    ax.set_yticks(range(1, n))  # Start y-axis from index 1 (second feature)\n",
    "    ax.set_xticklabels(cleaned_features[:-1], rotation=45, ha='left', fontsize=12)\n",
    "    ax.set_yticklabels(cleaned_features[1:], fontsize=12)\n",
    "    \n",
    "    # Remove spines\n",
    "    for spine in ax.spines.values():\n",
    "        spine.set_visible(False)\n",
    "    \n",
    "    # Add grid for better readability (optional)\n",
    "    ax.grid(False)\n",
    "    \n",
    "    # Plot circles for lower triangle correlations (excluding diagonal)\n",
    "    for i in range(n):\n",
    "        for j in range(i):  # This ensures lower triangle only and excludes diagonal\n",
    "            corr_value = correlation_matrix.iloc[i, j]\n",
    "            \n",
    "            # Calculate circle size - make it proportional to absolute correlation\n",
    "            # The radius will vary between 0.2 and 0.45 based on correlation strength\n",
    "            radius = 0.3 + 0.23 * abs(corr_value)\n",
    "            \n",
    "            # Get color from colormap\n",
    "            color = cmap_obj(norm(corr_value))\n",
    "            \n",
    "            # Plot circle\n",
    "            circle = plt.Circle((j, i), radius, color=color, alpha=0.8)\n",
    "            ax.add_patch(circle)\n",
    "            \n",
    "            # Add text annotation of correlation value\n",
    "            ax.text(j, i, f\"{corr_value:.2f}\", ha='center', va='center', \n",
    "                   color=text_color, fontsize=9, fontweight='bold')\n",
    "    \n",
    "    # Add a color bar - half size with no borders\n",
    "    sm = ScalarMappable(cmap=cmap, norm=norm)\n",
    "    sm.set_array([])\n",
    "    cbar = plt.colorbar(sm, ax=ax, orientation='horizontal', pad=0.01, aspect=20, shrink=0.5)\n",
    "    cbar.set_ticks([-1.0, -0.5, 0.0, 0.5, 1.0])\n",
    "    cbar.outline.set_visible(False)\n",
    "    \n",
    "    # make te color bar ticks larger\n",
    "    cbar.ax.tick_params(labelsize=10)\n",
    "    cbar.ax.set_xticklabels(['-1.0', '-0.5', '0.0', '0.5', '1.0'], fontsize=10)\n",
    "    cbar.set_label('Correlation Coefficient', fontsize=12)\n",
    "    cbar.ax.set_xlabel('Correlation Coefficient', fontsize=12)\n",
    "    \n",
    "    \n",
    "    # Remove extra whitespace\n",
    "    plt.tight_layout()\n",
    "    \n",
    "    return fig"
   ],
   "metadata": {
    "collapsed": false,
    "ExecuteTime": {
     "end_time": "2025-07-22T11:07:27.934707Z",
     "start_time": "2025-07-22T11:07:27.922932Z"
    }
   },
   "id": "6077516114c363f",
   "execution_count": 417
  },
  {
   "cell_type": "code",
   "outputs": [
    {
     "data": {
      "text/plain": "<Figure size 1200x1000 with 2 Axes>",
      "image/png": "[encoded data removed]"
     },
     "metadata": {},
     "output_type": "display_data"
    }
   ],
   "source": [
    "fig = plot_correlation_circles(diet_features, diet_scores, corr_method='pearson', figsize=(12, 10), cmap='PiYG')\n",
    "fig.savefig(FIGS_DIR + '/diet_scores_correlation_heatmap_circles_final.pdf', dpi=600)"
   ],
   "metadata": {
    "collapsed": false,
    "ExecuteTime": {
     "end_time": "2025-07-22T11:07:49.961936Z",
     "start_time": "2025-07-22T11:07:49.154576Z"
    }
   },
   "id": "432ff28523bd6f6",
   "execution_count": 419
  },
  {
   "cell_type": "markdown",
   "source": [],
   "metadata": {
    "collapsed": false
   },
   "id": "d84b683a554b49c4"
  },
  {
   "cell_type": "code",
   "outputs": [],
   "source": [
    "plot_correlation_heatmap(joined_diet_mpa_serrf_nightinglae, nutrients, corr_method='pearson', color_palette='coolwarm', figsize=(12, 10), annot=False)\n",
    "plt.savefig(FIGS_DIR + '/nutrients_correlation_heatmap.png', dpi=300)"
   ],
   "metadata": {
    "collapsed": false
   },
   "id": "9e40abbb0328c48c",
   "execution_count": null
  },
  {
   "cell_type": "code",
   "outputs": [],
   "source": [
    "plot_correlation_heatmap(joined_diet_mpa_serrf_nightinglae, pct_macros, corr_method='pearson', color_palette='coolwarm', figsize=(12, 10), annot=True)\n",
    "plt.savefig(FIGS_DIR + '/macros_correlation_heatmap.png', dpi=300)"
   ],
   "metadata": {
    "collapsed": false
   },
   "id": "4ff2037347c8fa30",
   "execution_count": null
  },
  {
   "cell_type": "code",
   "outputs": [
    {
     "data": {
      "text/plain": "['never_eat__Dairy products',\n 'never_eat__Eggs or foods that contain eggs',\n 'never_eat__I eat everything above',\n 'never_eat__Sugar or foods / beverages that contain sugar',\n 'never_eat__Wheat products']"
     },
     "execution_count": 72,
     "metadata": {},
     "output_type": "execute_result"
    }
   ],
   "source": [
    "never_eaters"
   ],
   "metadata": {
    "collapsed": false,
    "ExecuteTime": {
     "end_time": "2025-01-14T09:29:21.630274Z",
     "start_time": "2025-01-14T09:29:21.626907Z"
    }
   },
   "id": "b2ea66995ab6c360",
   "execution_count": 72
  },
  {
   "cell_type": "markdown",
   "source": [
    "## Genetics Analysis"
   ],
   "metadata": {
    "collapsed": false
   },
   "id": "f6138ed70a71cad8"
  },
  {
   "cell_type": "code",
   "outputs": [],
   "source": [
    "from LabData.DataLoaders.PRSLoader import PRSLoader\n",
    "prs_loader = PRSLoader()"
   ],
   "metadata": {
    "collapsed": false,
    "ExecuteTime": {
     "end_time": "2025-07-23T13:52:28.744356Z",
     "start_time": "2025-07-23T13:52:28.731543Z"
    }
   },
   "id": "2b012fdee1e02cf4",
   "execution_count": 509
  },
  {
   "cell_type": "code",
   "outputs": [],
   "source": [
    "prs_data = prs_loader.get_data().df\n",
    "prs_metadata = prs_loader.get_data().df_metadata\n",
    "prs_col_metadata = prs_loader.get_data().df_columns_metadata"
   ],
   "metadata": {
    "collapsed": false,
    "ExecuteTime": {
     "end_time": "2025-07-23T13:52:29.875038Z",
     "start_time": "2025-07-23T13:52:28.958077Z"
    }
   },
   "id": "8ec2cd98278797e",
   "execution_count": 510
  },
  {
   "cell_type": "code",
   "outputs": [
    {
     "data": {
      "text/plain": "(8958, 4587)"
     },
     "execution_count": 511,
     "metadata": {},
     "output_type": "execute_result"
    }
   ],
   "source": [
    "prs_data.shape"
   ],
   "metadata": {
    "collapsed": false,
    "ExecuteTime": {
     "end_time": "2025-07-23T13:52:37.015923Z",
     "start_time": "2025-07-23T13:52:37.007930Z"
    }
   },
   "id": "ab762a7004d9f689",
   "execution_count": 511
  },
  {
   "cell_type": "code",
   "outputs": [],
   "source": [
    "prs_col_metadata.to_csv(DIET_PAPER_DIR + '/prs_col_metadata.csv')"
   ],
   "metadata": {
    "collapsed": false,
    "ExecuteTime": {
     "end_time": "2025-02-18T13:11:23.208623Z",
     "start_time": "2025-02-18T13:11:23.069223Z"
    }
   },
   "id": "ca4260b06640594d",
   "execution_count": 888
  },
  {
   "cell_type": "code",
   "outputs": [],
   "source": [
    "# Get the filtered column indices\n",
    "filtered_cols = prs_col_metadata[prs_col_metadata['h2_h2_sig'].eq('z7')].index\n",
    "filtered_cols_nominal = prs_col_metadata[prs_col_metadata['h2_h2_sig'].isin(['z7', 'z4', 'nominal'])].index\n",
    "# Get only the columns that exist in prs_data\n",
    "valid_cols = filtered_cols_nominal.intersection(prs_data.columns)\n",
    "# Now use these columns to index prs_data\n",
    "prs_data_sig = prs_data[valid_cols]"
   ],
   "metadata": {
    "collapsed": false,
    "ExecuteTime": {
     "end_time": "2025-02-18T13:46:35.465631Z",
     "start_time": "2025-02-18T13:46:35.409322Z"
    }
   },
   "id": "836cdc5ccf3529e1",
   "execution_count": 913
  },
  {
   "cell_type": "code",
   "outputs": [
    {
     "data": {
      "text/plain": "(1051,)"
     },
     "execution_count": 914,
     "metadata": {},
     "output_type": "execute_result"
    }
   ],
   "source": [
    "filtered_cols_nominal.shape"
   ],
   "metadata": {
    "collapsed": false,
    "ExecuteTime": {
     "end_time": "2025-02-18T13:46:37.851569Z",
     "start_time": "2025-02-18T13:46:37.847799Z"
    }
   },
   "id": "4a9210ec6d3d38d6",
   "execution_count": 914
  },
  {
   "cell_type": "code",
   "outputs": [],
   "source": [
    "prs_data_sig_diet = prs_data_sig.join(diet_features, how='inner')\n",
    "prs_data_sig_agb_height = prs_data_sig.join(agb_baseline, how='inner').join(height_baseline, how='inner')"
   ],
   "metadata": {
    "collapsed": false,
    "ExecuteTime": {
     "end_time": "2025-02-18T13:46:44.030775Z",
     "start_time": "2025-02-18T13:46:43.722604Z"
    }
   },
   "id": "2c5eec44acd07bbd",
   "execution_count": 916
  },
  {
   "cell_type": "code",
   "outputs": [],
   "source": [
    "prs_data_sig_diet_agb = prs_data_sig_diet.join(agb_baseline, how='inner')"
   ],
   "metadata": {
    "collapsed": false,
    "ExecuteTime": {
     "end_time": "2025-02-18T13:46:50.400516Z",
     "start_time": "2025-02-18T13:46:50.282374Z"
    }
   },
   "id": "fa1194ab643fe39c",
   "execution_count": 917
  },
  {
   "cell_type": "code",
   "outputs": [],
   "source": [
    "prs_data_sig_diet_agb[list(prs_data_sig.columns) + ['age', 'gender', 'bmi']].to_csv(output_data_dir + '/Genetics/x_prs_data_sig_diet_nominal.csv')\n",
    "prs_data_sig_agb_height[prs_data_sig.columns].to_csv(output_data_dir + '/Genetics/x_prs_data_sig_nominal.csv')"
   ],
   "metadata": {
    "collapsed": false,
    "ExecuteTime": {
     "end_time": "2025-02-18T13:47:15.434737Z",
     "start_time": "2025-02-18T13:46:55.724907Z"
    }
   },
   "id": "5abfc3696c2a4719",
   "execution_count": 918
  },
  {
   "cell_type": "code",
   "outputs": [],
   "source": [
    "prs_data_sig_diet_agb[diet_scores].to_csv(output_data_dir + '/Genetics/y_prs_diet_scores.csv')\n",
    "prs_data_sig_diet_agb[nutrients].to_csv(output_data_dir + '/Genetics/y_prs_nutrients.csv')\n",
    "prs_data_sig_agb_height[['age', 'gender', 'bmi', 'height']].to_csv(output_data_dir + '/Genetics/y_prs_agb_height.csv')"
   ],
   "metadata": {
    "collapsed": false,
    "ExecuteTime": {
     "end_time": "2025-02-18T13:51:13.872988Z",
     "start_time": "2025-02-18T13:51:13.078334Z"
    }
   },
   "id": "6da3c7702ccf9fb2",
   "execution_count": 919
  },
  {
   "cell_type": "code",
   "outputs": [],
   "source": [
    "prs_hr = prs_data_sig.join(hr_clean, how='inner')"
   ],
   "metadata": {
    "collapsed": false,
    "ExecuteTime": {
     "end_time": "2025-02-17T12:41:11.144598Z",
     "start_time": "2025-02-17T12:41:11.114351Z"
    }
   },
   "id": "bb63217be429866d",
   "execution_count": 774
  },
  {
   "cell_type": "code",
   "outputs": [],
   "source": [
    "prs_hr_clean_ranked = create_age_bin_ranks(prs_hr)"
   ],
   "metadata": {
    "collapsed": false,
    "ExecuteTime": {
     "end_time": "2025-02-17T12:41:57.286512Z",
     "start_time": "2025-02-17T12:41:57.266219Z"
    }
   },
   "id": "9a12286df3db8899",
   "execution_count": 775
  },
  {
   "cell_type": "code",
   "outputs": [
    {
     "data": {
      "text/plain": "Index(['102_irnt', '1021', '1031', '1050', '1060', '1070', '1080', '1090',\n       '1100', '110001',\n       ...\n       'sex', 'StudyTypeID', 'predicted', 'logprob', 'phenotypic_age',\n       'active_features', 'age_bin', 'age_bin_label', 'pheno_age_rank',\n       'pheno_age_rank_pct'],\n      dtype='object', length=512)"
     },
     "execution_count": 777,
     "metadata": {},
     "output_type": "execute_result"
    }
   ],
   "source": [
    "prs_hr_clean_ranked.columns"
   ],
   "metadata": {
    "collapsed": false,
    "ExecuteTime": {
     "end_time": "2025-02-17T12:48:41.249432Z",
     "start_time": "2025-02-17T12:48:41.246256Z"
    }
   },
   "id": "ce3510d464211c80",
   "execution_count": 777
  },
  {
   "cell_type": "code",
   "outputs": [],
   "source": [
    "cols_prs_age = list(prs_data_sig.columns) + ['age_bin']\n",
    "prs_hr_clean_ranked[cols_prs_age].to_csv(output_data_dir + '/Genetics/x_prs_hr_ranked.csv')\n",
    "prs_hr_clean_ranked[['pheno_age_rank', 'pheno_age_rank_pct','age', 'phenotypic_age']].to_csv(output_data_dir + '/Genetics/y_prs_hr_ranked.csv')"
   ],
   "metadata": {
    "collapsed": false,
    "ExecuteTime": {
     "end_time": "2025-02-17T12:51:29.659363Z",
     "start_time": "2025-02-17T12:51:25.894084Z"
    }
   },
   "id": "11ae778ae98d8627",
   "execution_count": 780
  },
  {
   "cell_type": "markdown",
   "source": [
    "## Longitudinal Analysis"
   ],
   "metadata": {
    "collapsed": false
   },
   "id": "714c56dfb0a41a98"
  },
  {
   "cell_type": "code",
   "outputs": [],
   "source": [
    "clusterd_09_v2 = clusterd_09[clusterd_09['research_stage'] == '02_00_visit'].copy()\n",
    "clusterd_09_baseline = clusterd_09[clusterd_09['research_stage'] == 'baseline'].copy()\n",
    "clusterd_09_v2.drop(columns=['research_stage'], inplace=True)\n",
    "clusterd_09_baseline.drop(columns=['research_stage'], inplace=True)\n",
    "# serf_full_visit2.set_index('RegistrationCode', inplace=True)"
   ],
   "metadata": {
    "collapsed": false,
    "ExecuteTime": {
     "end_time": "2025-05-30T13:29:18.220203Z",
     "start_time": "2025-05-30T13:29:18.036433Z"
    }
   },
   "id": "bd8a9e8ffec12283",
   "execution_count": 59
  },
  {
   "cell_type": "code",
   "outputs": [],
   "source": [
    "clusterd_09_v2_diet = clusterd_09_v2.merge(diet_features_v2, how='inner', left_on='RegistrationCode', right_index=True)\n",
    "clusterd_09_base_diet = clusterd_09_baseline.merge(diet_features, how='inner', left_on='RegistrationCode', right_index=True)"
   ],
   "metadata": {
    "collapsed": false,
    "ExecuteTime": {
     "end_time": "2025-05-30T13:29:19.022290Z",
     "start_time": "2025-05-30T13:29:18.906890Z"
    }
   },
   "id": "c92c921086d17a15",
   "execution_count": 60
  },
  {
   "cell_type": "code",
   "outputs": [],
   "source": [
    "ms_all_diet = pd.concat([clusterd_09_base_diet, clusterd_09_v2_diet], axis=0)"
   ],
   "metadata": {
    "collapsed": false,
    "ExecuteTime": {
     "end_time": "2025-05-30T13:29:19.733869Z",
     "start_time": "2025-05-30T13:29:19.677593Z"
    }
   },
   "id": "c1cb2fedfd4ff8e6",
   "execution_count": 61
  },
  {
   "cell_type": "code",
   "outputs": [],
   "source": [
    "# Calculate differences between followup and baseline\n",
    "metabolite_columns = clusterd_09_base_diet.drop(columns=['age', 'gender', 'bmi']).columns\n",
    "diet_columns = diet_features.columns\n",
    "ms_cols = clusterd_09_base.columns.to_list() + ['RegistrationCode']\n",
    "# Calculate differences for metabolites"
   ],
   "metadata": {
    "collapsed": false,
    "ExecuteTime": {
     "end_time": "2025-05-30T14:03:12.487252Z",
     "start_time": "2025-05-30T14:03:12.226349Z"
    }
   },
   "id": "6af57957f84bfdd7",
   "execution_count": 94
  },
  {
   "cell_type": "code",
   "outputs": [],
   "source": [
    "#### save concatted table\n",
    "# ms_all_diet[ms_cols].to_csv(output_data_dir + '/Longitudinal/x_ms_all_diet.csv')"
   ],
   "metadata": {
    "collapsed": false,
    "ExecuteTime": {
     "end_time": "2025-05-27T12:44:50.282989Z",
     "start_time": "2025-05-27T12:44:34.067336Z"
    }
   },
   "id": "99d150eee3485903",
   "execution_count": 1198
  },
  {
   "cell_type": "code",
   "outputs": [],
   "source": [
    "# ms_all_diet[diet_scores].to_csv(output_data_dir + '/Longitudinal/y_ms_all_diet_scores.csv')"
   ],
   "metadata": {
    "collapsed": false,
    "ExecuteTime": {
     "end_time": "2025-05-27T12:44:50.378691Z",
     "start_time": "2025-05-27T12:44:50.284687Z"
    }
   },
   "id": "40afe2ebe880236e",
   "execution_count": 1199
  },
  {
   "cell_type": "code",
   "outputs": [],
   "source": [
    "# compute similarity \n",
    "diet_type = 'vegan_score_per_day'\n",
    "predictions = pd.read_csv(DIET_PAPER_DIR + f'/Clustered_Reruns36/x_ms_all_diet/y_ms_all_diet_scores/results/{diet_type}/predictions_{diet_type}.csv', index_col=0)"
   ],
   "metadata": {
    "collapsed": false,
    "ExecuteTime": {
     "end_time": "2025-05-30T14:01:09.317608Z",
     "start_time": "2025-05-30T14:01:09.273432Z"
    }
   },
   "id": "16788ed938ecc1a3",
   "execution_count": 88
  },
  {
   "cell_type": "code",
   "outputs": [],
   "source": [
    "predictions_baseline = predictions.join(clusterd_09_base_diet['RegistrationCode'], how='inner')\n",
    "predictions_v2 = predictions.join(clusterd_09_v2_diet['RegistrationCode'], how='inner')"
   ],
   "metadata": {
    "collapsed": false,
    "ExecuteTime": {
     "end_time": "2025-05-30T14:01:10.214627Z",
     "start_time": "2025-05-30T14:01:10.207963Z"
    }
   },
   "id": "aa711f0c695afc92",
   "execution_count": 89
  },
  {
   "cell_type": "code",
   "outputs": [],
   "source": [
    "def create_true_sign_series(baseline_df, return_df):\n",
    "    \"\"\"\n",
    "    Create a pandas Series of true sign changes with RegistrationCode as index.\n",
    "    \n",
    "    Parameters:\n",
    "    baseline_df: DataFrame with columns ['RegistrationCode', 'true_values']\n",
    "    return_df: DataFrame with columns ['RegistrationCode', 'true_values']\n",
    "    \n",
    "    Returns:\n",
    "    pd.Series: Series with RegistrationCode as index and binary sign changes as values\n",
    "               1 = positive change (improvement)\n",
    "               0 = negative change (decline)\n",
    "    \"\"\"\n",
    "    \n",
    "    # Find common RegistrationCodes\n",
    "    common_codes = set(baseline_df['RegistrationCode']) & set(return_df['RegistrationCode'])\n",
    "    \n",
    "    if len(common_codes) == 0:\n",
    "        print(\"No common RegistrationCodes found!\")\n",
    "        return None\n",
    "    \n",
    "    # Filter to common codes and sort\n",
    "    baseline_filtered = baseline_df[baseline_df['RegistrationCode'].isin(common_codes)].copy()\n",
    "    return_filtered = return_df[return_df['RegistrationCode'].isin(common_codes)].copy()\n",
    "    \n",
    "    # Sort by RegistrationCode for proper alignment\n",
    "    baseline_filtered = baseline_filtered.sort_values('RegistrationCode').reset_index(drop=True)\n",
    "    return_filtered = return_filtered.sort_values('RegistrationCode').reset_index(drop=True)\n",
    "    \n",
    "    # Calculate true changes (return - baseline)\n",
    "    delta_true = return_filtered['true_values'].values - baseline_filtered['true_values'].values\n",
    "    \n",
    "    # Convert to binary: 1 for positive change, 0 for negative change\n",
    "    # Since you mentioned there are no zero changes, we don't need to handle them\n",
    "    binary_signs = (delta_true > 0).astype(int)\n",
    "    \n",
    "    # Create Series with RegistrationCode as index\n",
    "    sign_series = pd.Series(\n",
    "        data=binary_signs,\n",
    "        index=baseline_filtered['RegistrationCode'].values,\n",
    "        name='true_sign_changes'\n",
    "    )\n",
    "    \n",
    "    print(f\"Created sign series for {len(sign_series)} patients\")\n",
    "    print(f\"Positive changes (1): {np.sum(binary_signs)} ({np.mean(binary_signs)*100:.1f}%)\")\n",
    "    print(f\"Negative changes (0): {len(binary_signs) - np.sum(binary_signs)} ({(1-np.mean(binary_signs))*100:.1f}%)\")\n",
    "    \n",
    "    return sign_series"
   ],
   "metadata": {
    "collapsed": false,
    "ExecuteTime": {
     "end_time": "2025-05-30T14:07:20.403606Z",
     "start_time": "2025-05-30T14:07:20.398407Z"
    }
   },
   "id": "ffb65fc0e233e2e7",
   "execution_count": 96
  },
  {
   "cell_type": "code",
   "outputs": [
    {
     "name": "stdout",
     "output_type": "stream",
     "text": [
      "Created sign series for 2243 patients\n",
      "Positive changes (1): 1002 (44.7%)\n",
      "Negative changes (0): 1241 (55.3%)\n"
     ]
    }
   ],
   "source": [
    "baseline_signs = create_true_sign_series(predictions_baseline, predictions_v2)"
   ],
   "metadata": {
    "collapsed": false,
    "ExecuteTime": {
     "end_time": "2025-05-30T14:07:53.408386Z",
     "start_time": "2025-05-30T14:07:53.400125Z"
    }
   },
   "id": "d2de07e28e8523e",
   "execution_count": 98
  },
  {
   "cell_type": "code",
   "outputs": [],
   "source": [
    "ms_all_diet_signs = ms_all_diet.merge(baseline_signs, how='inner', left_on='RegistrationCode', right_index=True)"
   ],
   "metadata": {
    "collapsed": false,
    "ExecuteTime": {
     "end_time": "2025-05-30T14:09:42.757687Z",
     "start_time": "2025-05-30T14:09:42.625313Z"
    }
   },
   "id": "13bcf29f9814282b",
   "execution_count": 100
  },
  {
   "cell_type": "code",
   "outputs": [],
   "source": [
    "ms_all_diet_signs[ms_cols].to_csv(output_data_dir + '/Longitudinal/x_ms_all_diet_signs.csv')"
   ],
   "metadata": {
    "collapsed": false,
    "ExecuteTime": {
     "end_time": "2025-05-30T14:11:18.200980Z",
     "start_time": "2025-05-30T14:11:09.913328Z"
    }
   },
   "id": "817071fa45b0fbe2",
   "execution_count": 104
  },
  {
   "cell_type": "code",
   "outputs": [],
   "source": [
    "ms_all_diet_signs['true_sign_changes'].to_csv(output_data_dir + '/Longitudinal/y_ms_all_diet_signs.csv')"
   ],
   "metadata": {
    "collapsed": false,
    "ExecuteTime": {
     "end_time": "2025-05-30T14:11:30.330953Z",
     "start_time": "2025-05-30T14:11:30.318490Z"
    }
   },
   "id": "c313a781732a81c0",
   "execution_count": 105
  },
  {
   "cell_type": "code",
   "outputs": [],
   "source": [
    "import pandas as pd\n",
    "import numpy as np\n",
    "from sklearn.metrics.pairwise import cosine_similarity\n",
    "\n",
    "def calculate_diet_score_sign_similarity(baseline_df, return_df):\n",
    "    \"\"\"\n",
    "    Calculate cosine similarity between signs of diet score changes.\n",
    "    \n",
    "    Parameters:\n",
    "    baseline_df: DataFrame with columns ['index', 'true_values', 'predictions', 'RegistrationCode']\n",
    "    return_df: DataFrame with columns ['index', 'true_values', 'predictions', 'RegistrationCode']\n",
    "    \n",
    "    Returns:\n",
    "    float: Cosine similarity between sign vectors\n",
    "    \"\"\"\n",
    "    \n",
    "    # Find common RegistrationCodes between both tables\n",
    "    common_codes = set(baseline_df['RegistrationCode']) & set(return_df['RegistrationCode'])\n",
    "    print(f\"Found {len(common_codes)} common RegistrationCodes\")\n",
    "    \n",
    "    if len(common_codes) == 0:\n",
    "        print(\"No common RegistrationCodes found!\")\n",
    "        return None\n",
    "    \n",
    "    # Filter both dataframes to only include common RegistrationCodes\n",
    "    baseline_filtered = baseline_df[baseline_df['RegistrationCode'].isin(common_codes)].copy()\n",
    "    return_filtered = return_df[return_df['RegistrationCode'].isin(common_codes)].copy()\n",
    "    \n",
    "    # Sort by RegistrationCode to ensure proper alignment\n",
    "    baseline_filtered = baseline_filtered.sort_values('RegistrationCode').reset_index(drop=True)\n",
    "    return_filtered = return_filtered.sort_values('RegistrationCode').reset_index(drop=True)\n",
    "    \n",
    "    # Calculate deltas (return - baseline) for both true values and predictions\n",
    "    delta_true = return_filtered['true_values'].values - baseline_filtered['true_values'].values\n",
    "    delta_predicted = return_filtered['predictions'].values - baseline_filtered['predictions'].values\n",
    "    \n",
    "    # Get signs of the deltas\n",
    "    sign_delta_true = np.sign(delta_true)\n",
    "    sign_delta_predicted = np.sign(delta_predicted)\n",
    "    \n",
    "    # Handle zero values (sign returns 0 for zero values)\n",
    "    # You might want to exclude these or treat them differently\n",
    "    print(f\"Zero changes in true values: {np.sum(sign_delta_true == 0)}\")\n",
    "    print(f\"Zero changes in predicted values: {np.sum(sign_delta_predicted == 0)}\")\n",
    "    \n",
    "    # Calculate cosine similarity\n",
    "    # Reshape to 2D arrays as required by sklearn\n",
    "    sign_true_2d = sign_delta_true.reshape(1, -1)\n",
    "    sign_pred_2d = sign_delta_predicted.reshape(1, -1)\n",
    "    \n",
    "    # Calculate cosine similarity\n",
    "    similarity = cosine_similarity(sign_true_2d, sign_pred_2d)[0, 0]\n",
    "    \n",
    "    # Alternative manual calculation for verification\n",
    "    dot_product = np.dot(sign_delta_true, sign_delta_predicted)\n",
    "    norm_true = np.linalg.norm(sign_delta_true)\n",
    "    norm_pred = np.linalg.norm(sign_delta_predicted)\n",
    "    \n",
    "    if norm_true == 0 or norm_pred == 0:\n",
    "        manual_similarity = 0\n",
    "    else:\n",
    "        manual_similarity = dot_product / (norm_true * norm_pred)\n",
    "    \n",
    "    print(f\"Cosine similarity (sklearn): {similarity:.4f}\")\n",
    "    print(f\"Cosine similarity (manual): {manual_similarity:.4f}\")\n",
    "    \n",
    "    # Additional metrics for insight\n",
    "    agreement = np.sum(sign_delta_true == sign_delta_predicted)\n",
    "    total = len(sign_delta_true)\n",
    "    agreement_rate = agreement / total\n",
    "    \n",
    "    print(f\"Sign agreement rate: {agreement}/{total} = {agreement_rate:.4f}\")\n",
    "    \n",
    "    return similarity, {\n",
    "        'cosine_similarity': similarity,\n",
    "        'sign_agreement_rate': agreement_rate,\n",
    "        'total_pairs': total,\n",
    "        'sign_agreements': agreement,\n",
    "        'delta_true_signs': sign_delta_true,\n",
    "        'delta_predicted_signs': sign_delta_predicted,\n",
    "        'common_registration_codes': sorted(list(common_codes))\n",
    "    }   "
   ],
   "metadata": {
    "collapsed": false,
    "ExecuteTime": {
     "end_time": "2025-05-30T14:01:10.853801Z",
     "start_time": "2025-05-30T14:01:10.847114Z"
    }
   },
   "id": "7d9529a30c7b17b0",
   "execution_count": 90
  },
  {
   "cell_type": "code",
   "outputs": [],
   "source": [
    "# UPDATED: Now includes comprehensive metrics\n",
    "def comprehensive_sign_agreement_metrics(sign_true, sign_pred):\n",
    "    \"\"\"\n",
    "    Calculate multiple metrics for sign agreement between two vectors.\n",
    "    \"\"\"\n",
    "    from sklearn.metrics import cohen_kappa_score, matthews_corrcoef\n",
    "    from sklearn.metrics.pairwise import cosine_similarity\n",
    "    \n",
    "    results = {}\n",
    "    \n",
    "    # 1. Simple accuracy\n",
    "    results['simple_accuracy'] = np.mean(sign_true == sign_pred)\n",
    "    \n",
    "    # 2. Cohen's Kappa (RECOMMENDED)\n",
    "    results['cohens_kappa'] = cohen_kappa_score(sign_true, sign_pred)\n",
    "    \n",
    "    # 3. Matthews Correlation Coefficient\n",
    "    results['matthews_corr'] = matthews_corrcoef(sign_true, sign_pred)\n",
    "    \n",
    "    # 4. Cosine similarity\n",
    "    if np.linalg.norm(sign_true) > 0 and np.linalg.norm(sign_pred) > 0:\n",
    "        results['cosine_similarity'] = cosine_similarity(\n",
    "            sign_true.reshape(1, -1), sign_pred.reshape(1, -1))[0, 0]\n",
    "    else:\n",
    "        results['cosine_similarity'] = 0\n",
    "    \n",
    "    # 5. Directional agreement (ignoring zeros)\n",
    "    non_zero_mask = (sign_true != 0) & (sign_pred != 0)\n",
    "    if np.sum(non_zero_mask) > 0:\n",
    "        results['directional_agreement'] = np.mean(sign_true[non_zero_mask] == sign_pred[non_zero_mask])\n",
    "        results['non_zero_pairs'] = np.sum(non_zero_mask)\n",
    "    else:\n",
    "        results['directional_agreement'] = np.nan\n",
    "        results['non_zero_pairs'] = 0\n",
    "    \n",
    "    # 6. Breakdown by categories\n",
    "    results['breakdown'] = {\n",
    "        'both_positive': np.sum((sign_true > 0) & (sign_pred > 0)),\n",
    "        'both_negative': np.sum((sign_true < 0) & (sign_pred < 0)),\n",
    "        'both_zero': np.sum((sign_true == 0) & (sign_pred == 0)),\n",
    "        'opposite_signs': np.sum((sign_true * sign_pred) < 0),\n",
    "        'mixed_with_zero': np.sum(((sign_true == 0) & (sign_pred != 0)) | \n",
    "                                 ((sign_true != 0) & (sign_pred == 0)))\n",
    "    }\n",
    "    \n",
    "    return results"
   ],
   "metadata": {
    "collapsed": false,
    "ExecuteTime": {
     "end_time": "2025-05-30T14:01:12.583280Z",
     "start_time": "2025-05-30T14:01:12.577501Z"
    }
   },
   "id": "f0d611f95624be8a",
   "execution_count": 91
  },
  {
   "cell_type": "code",
   "outputs": [],
   "source": [
    "def analyze_diet_score_predictions(baseline_df, return_df, detailed_output=True):\n",
    "    \"\"\"\n",
    "    Complete workflow for analyzing sign agreement between predicted and true diet score changes.\n",
    "    \n",
    "    Returns comprehensive metrics and detailed analysis.\n",
    "    \"\"\"\n",
    "    \n",
    "    print(\"?? DIET SCORE PREDICTION ANALYSIS\")\n",
    "    print(\"=\" * 60)\n",
    "    \n",
    "    # Step 1: Get the basic similarity results\n",
    "    print(\"Step 1: Calculating basic sign similarity...\")\n",
    "    similarity, details = calculate_diet_score_sign_similarity(baseline_df, return_df)\n",
    "    \n",
    "    if similarity is None:\n",
    "        print(\"? No common registration codes found!\")\n",
    "        return None\n",
    "    \n",
    "    # Step 2: Extract sign vectors for comprehensive analysis\n",
    "    print(\"Step 2: Running comprehensive sign agreement analysis...\")\n",
    "    sign_true = details['delta_true_signs']\n",
    "    sign_pred = details['delta_predicted_signs']\n",
    "    \n",
    "    # Step 3: Get comprehensive metrics\n",
    "    comprehensive_results = comprehensive_sign_agreement_metrics(sign_true, sign_pred)\n",
    "    \n",
    "    # Step 4: Print results\n",
    "    print(\"\\n?? COMPREHENSIVE RESULTS\")\n",
    "    print(\"=\" * 60)\n",
    "    \n",
    "    print(\"?? RECOMMENDED METRICS:\")\n",
    "    print(f\"   Cohen's Kappa: {comprehensive_results['cohens_kappa']:.4f}\")\n",
    "    print(f\"   Matthews Correlation: {comprehensive_results['matthews_corr']:.4f}\")\n",
    "    \n",
    "    print(\"\\n?? OTHER METRICS:\")\n",
    "    print(f\"   Simple Accuracy: {comprehensive_results['simple_accuracy']:.4f}\")\n",
    "    print(f\"   Cosine Similarity: {comprehensive_results['cosine_similarity']:.4f}\")\n",
    "    if not np.isnan(comprehensive_results['directional_agreement']):\n",
    "        print(f\"   Directional Agreement: {comprehensive_results['directional_agreement']:.4f} \"\n",
    "              f\"({comprehensive_results['non_zero_pairs']} non-zero pairs)\")\n",
    "    \n",
    "    # Step 5: Detailed breakdown\n",
    "    if detailed_output:\n",
    "        print(\"\\n?? DETAILED BREAKDOWN:\")\n",
    "        print(\"=\" * 40)\n",
    "        \n",
    "        breakdown = comprehensive_results['breakdown']\n",
    "        total = sum(breakdown.values())\n",
    "        \n",
    "        print(f\"Total patient pairs analyzed: {total}\")\n",
    "        print(f\"Common registration codes: {len(details['common_registration_codes'])}\")\n",
    "        \n",
    "        print(\"\\nSign Agreement Categories:\")\n",
    "        for category, count in breakdown.items():\n",
    "            pct = (count/total)*100 if total > 0 else 0\n",
    "            emoji = {\"both_positive\": \"??\", \"both_negative\": \"??\", \"both_zero\": \"?\", \n",
    "                    \"opposite_signs\": \"??\", \"mixed_with_zero\": \"?\"}.get(category, \"\")\n",
    "            print(f\"  {emoji} {category.replace('_', ' ').title()}: {count} ({pct:.1f}%)\")\n",
    "    \n",
    "    # Step 6: Interpretation\n",
    "    print(\"\\n?? INTERPRETATION:\")\n",
    "    print(\"=\" * 40)\n",
    "    \n",
    "    kappa = comprehensive_results['cohens_kappa']\n",
    "    if kappa < 0:\n",
    "        interpretation = \"Worse than random (systematic disagreement)\"\n",
    "    elif kappa < 0.2:\n",
    "        interpretation = \"Slight agreement\"\n",
    "    elif kappa < 0.4:\n",
    "        interpretation = \"Fair agreement\"\n",
    "    elif kappa < 0.6:\n",
    "        interpretation = \"Moderate agreement\"\n",
    "    elif kappa < 0.8:\n",
    "        interpretation = \"Substantial agreement\"\n",
    "    else:\n",
    "        interpretation = \"Almost perfect agreement\"\n",
    "    \n",
    "    print(f\"Cohen's Kappa ({kappa:.4f}): {interpretation}\")\n",
    "    \n",
    "    accuracy = comprehensive_results['simple_accuracy']\n",
    "    print(f\"Simple Accuracy ({accuracy:.4f}): {accuracy*100:.1f}% of predictions match true direction\")\n",
    "    \n",
    "    # Return all results\n",
    "    return {\n",
    "        'basic_results': details,\n",
    "        'comprehensive_metrics': comprehensive_results,\n",
    "        'interpretation': interpretation,\n",
    "        'summary': {\n",
    "            'cohens_kappa': kappa,\n",
    "            'simple_accuracy': accuracy,\n",
    "            'total_pairs': total,\n",
    "            'recommendation': 'cohens_kappa'  # Best metric to report\n",
    "        }\n",
    "    }\n",
    "\n",
    "# QUICK USAGE FUNCTION\n",
    "def quick_sign_agreement_analysis(baseline_df, return_df):\n",
    "    \"\"\"\n",
    "    Quick function that returns just the key metrics\n",
    "    \"\"\"\n",
    "    similarity, details = calculate_diet_score_sign_similarity(baseline_df, return_df)\n",
    "    \n",
    "    if similarity is None:\n",
    "        return None\n",
    "    \n",
    "    comprehensive_results = comprehensive_sign_agreement_metrics(\n",
    "        details['delta_true_signs'], \n",
    "        details['delta_predicted_signs']\n",
    "    )\n",
    "    \n",
    "    return {\n",
    "        'cohens_kappa': comprehensive_results['cohens_kappa'],\n",
    "        'simple_accuracy': comprehensive_results['simple_accuracy'],\n",
    "        'matthews_correlation': comprehensive_results['matthews_corr'],\n",
    "        'total_pairs': len(details['delta_true_signs'])\n",
    "    }\n"
   ],
   "metadata": {
    "collapsed": false,
    "ExecuteTime": {
     "end_time": "2025-05-30T14:01:13.466235Z",
     "start_time": "2025-05-30T14:01:13.458112Z"
    }
   },
   "id": "c74a492d2f6902d8",
   "execution_count": 92
  },
  {
   "cell_type": "code",
   "outputs": [
    {
     "name": "stdout",
     "output_type": "stream",
     "text": [
      "?? DIET SCORE PREDICTION ANALYSIS\n",
      "============================================================\n",
      "Step 1: Calculating basic sign similarity...\n",
      "Found 2243 common RegistrationCodes\n",
      "Zero changes in true values: 0\n",
      "Zero changes in predicted values: 0\n",
      "Cosine similarity (sklearn): 0.1939\n",
      "Cosine similarity (manual): 0.1939\n",
      "Sign agreement rate: 1339/2243 = 0.5970\n",
      "Step 2: Running comprehensive sign agreement analysis...\n",
      "\n",
      "?? COMPREHENSIVE RESULTS\n",
      "============================================================\n",
      "?? RECOMMENDED METRICS:\n",
      "   Cohen's Kappa: 0.1812\n",
      "   Matthews Correlation: 0.1814\n",
      "\n",
      "?? OTHER METRICS:\n",
      "   Simple Accuracy: 0.5970\n",
      "   Cosine Similarity: 0.1939\n",
      "   Directional Agreement: 0.5970 (2243 non-zero pairs)\n",
      "\n",
      "?? DETAILED BREAKDOWN:\n",
      "========================================\n",
      "Total patient pairs analyzed: 2243\n",
      "Common registration codes: 2243\n",
      "\n",
      "Sign Agreement Categories:\n",
      "  ?? Both Positive: 528 (23.5%)\n",
      "  ?? Both Negative: 811 (36.2%)\n",
      "  ? Both Zero: 0 (0.0%)\n",
      "  ?? Opposite Signs: 904 (40.3%)\n",
      "  ? Mixed With Zero: 0 (0.0%)\n",
      "\n",
      "?? INTERPRETATION:\n",
      "========================================\n",
      "Cohen's Kappa (0.1812): Slight agreement\n",
      "Simple Accuracy (0.5970): 59.7% of predictions match true direction\n",
      "Best metric (Cohen's Kappa): 0.1812\n"
     ]
    }
   ],
   "source": [
    "# Full analysis\n",
    "results = analyze_diet_score_predictions(predictions_baseline, predictions_v2)\n",
    "print(f\"Best metric (Cohen's Kappa): {results['summary']['cohens_kappa']:.4f}\")"
   ],
   "metadata": {
    "collapsed": false,
    "ExecuteTime": {
     "end_time": "2025-05-30T14:01:14.319331Z",
     "start_time": "2025-05-30T14:01:14.305361Z"
    }
   },
   "id": "e2cac8947a234fc4",
   "execution_count": 93
  },
  {
   "cell_type": "code",
   "outputs": [],
   "source": [
    "import pandas as pd\n",
    "import numpy as np\n",
    "\n",
    "def create_metabolite_diet_tables(baseline_metabolites, baseline_diet, followup_metabolites, followup_diet, diet_cols):\n",
    "    \"\"\"\n",
    "    Create three tables linking metabolites and diet features:\n",
    "    1. Baseline metabolites with diet feature changes\n",
    "    2. Followup metabolites with diet feature changes\n",
    "    3. Changes in metabolites with changes in diet features\n",
    "    \n",
    "    Parameters:\n",
    "    -----------\n",
    "    baseline_metabolites: pandas DataFrame\n",
    "        DataFrame containing baseline metabolite measurements with registration code as index\n",
    "    baseline_diet: pandas DataFrame\n",
    "        DataFrame containing baseline diet features with registration code as index\n",
    "    followup_metabolites: pandas DataFrame\n",
    "        DataFrame containing followup metabolite measurements with registration code as index\n",
    "    followup_diet: pandas DataFrame\n",
    "        DataFrame containing followup diet features with registration code as index\n",
    "    diet_cols: list\n",
    "        List of diet column names to include\n",
    "        \n",
    "    Returns:\n",
    "    --------\n",
    "    tuple of three pandas DataFrames:\n",
    "        (baseline_ms_diet, followup_ms_diet, diff_ms_diet)\n",
    "    \"\"\"\n",
    "    # Create copies to avoid modifying original dataframes\n",
    "    baseline_metabolites = baseline_metabolites.copy()\n",
    "    baseline_diet = baseline_diet.copy()\n",
    "    followup_metabolites = followup_metabolites.copy()\n",
    "    followup_diet = followup_diet.copy()\n",
    "    \n",
    "    # drop age, gender, bmi columns from metabolites\n",
    "    baseline_metabolites.drop(columns=['age', 'gender', 'bmi'], inplace=True)\n",
    "    followup_metabolites.drop(columns=['age', 'gender', 'bmi'], inplace=True)\n",
    "    \n",
    "    # Find common subjects across all datasets\n",
    "    common_subjects = list(set(baseline_metabolites.index) & \n",
    "                          set(baseline_diet.index) & \n",
    "                          set(followup_metabolites.index) & \n",
    "                          set(followup_diet.index))\n",
    "    \n",
    "    # Filter DataFrames to include only common subjects\n",
    "    baseline_metabolites = baseline_metabolites.loc[common_subjects]\n",
    "    baseline_diet = baseline_diet.loc[common_subjects]\n",
    "    followup_metabolites = followup_metabolites.loc[common_subjects]\n",
    "    followup_diet = followup_diet.loc[common_subjects]\n",
    "    \n",
    "    # Calculate differences for metabolites\n",
    "    metabolite_columns = baseline_metabolites.columns\n",
    "    diff_metabolites = followup_metabolites[metabolite_columns] - baseline_metabolites[metabolite_columns]\n",
    "    \n",
    "    # Calculate differences for diet features\n",
    "    diff_diet = followup_diet[diet_cols] - baseline_diet[diet_cols]\n",
    "    \n",
    "    # Add prefix to distinguish baseline and followup metabolite columns\n",
    "    baseline_metabolites_prefixed = baseline_metabolites.add_prefix('baseline_')\n",
    "    followup_metabolites_prefixed = followup_metabolites.add_prefix('followup_')\n",
    "    diff_metabolites_prefixed = diff_metabolites.add_prefix('diff_')\n",
    "    \n",
    "    # Create first table: both baseline and followup metabolites with diet differences\n",
    "    combined_metabolites = pd.concat([baseline_metabolites_prefixed, followup_metabolites_prefixed], axis=1)\n",
    "    combined_ms_diet = pd.concat([combined_metabolites, diff_diet], axis=1)\n",
    "    combined_base_diff = pd.concat([baseline_metabolites_prefixed, diff_metabolites_prefixed, diff_diet], axis=1)\n",
    "    \n",
    "    combined_ms_diet_w_diff = pd.concat([combined_ms_diet, diff_metabolites_prefixed], axis=1)\n",
    "    \n",
    "    return combined_ms_diet,  combined_ms_diet_w_diff, combined_base_diff"
   ],
   "metadata": {
    "collapsed": false,
    "ExecuteTime": {
     "end_time": "2025-05-30T15:26:07.667546Z",
     "start_time": "2025-05-30T15:26:07.661872Z"
    }
   },
   "id": "d308bc9722527821",
   "execution_count": 107
  },
  {
   "cell_type": "code",
   "outputs": [],
   "source": [
    "combined_ms_diet, combined_ms_diet_w_diff, combined_base_diff = create_metabolite_diet_tables(\n",
    "    clusterd_09_base,\n",
    "    diet_features,\n",
    "    clusterd_09_v2,\n",
    "    diet_features_v2,\n",
    "    diet_scores\n",
    ")\n",
    "#### TODO: NOVA food score in v2 in equivalent to baseline"
   ],
   "metadata": {
    "collapsed": false,
    "ExecuteTime": {
     "end_time": "2025-05-30T15:26:09.957736Z",
     "start_time": "2025-05-30T15:26:09.824690Z"
    }
   },
   "id": "4cfc3bf5ed6a2bb0",
   "execution_count": 108
  },
  {
   "cell_type": "code",
   "outputs": [
    {
     "data": {
      "text/plain": "(0, 4704)"
     },
     "execution_count": 110,
     "metadata": {},
     "output_type": "execute_result"
    }
   ],
   "source": [
    "combined_ms_diet_w_diff.shape"
   ],
   "metadata": {
    "collapsed": false,
    "ExecuteTime": {
     "end_time": "2025-05-30T15:26:23.211544Z",
     "start_time": "2025-05-30T15:26:23.208089Z"
    }
   },
   "id": "33b7fe6b11f53d43",
   "execution_count": 110
  },
  {
   "cell_type": "code",
   "outputs": [
    {
     "ename": "OSError",
     "evalue": "Cannot save file into a non-existent directory: '/net/mraid20/export/genie/LabData/Analyses/Metabolomics_repeat/final_for_diet_paper/no_cluster/Longitudinal'",
     "output_type": "error",
     "traceback": [
      "\u001B[0;31m---------------------------------------------------------------------------\u001B[0m",
      "\u001B[0;31mOSError\u001B[0m                                   Traceback (most recent call last)",
      "Cell \u001B[0;32mIn[1120], line 3\u001B[0m\n\u001B[1;32m      1\u001B[0m \u001B[38;5;66;03m# save all columns with baseline or followup prefix\u001B[39;00m\n\u001B[1;32m      2\u001B[0m metabo_cols \u001B[38;5;241m=\u001B[39m [col \u001B[38;5;28;01mfor\u001B[39;00m col \u001B[38;5;129;01min\u001B[39;00m combined_ms_diet\u001B[38;5;241m.\u001B[39mcolumns \u001B[38;5;28;01mif\u001B[39;00m \u001B[38;5;124m'\u001B[39m\u001B[38;5;124mbaseline_\u001B[39m\u001B[38;5;124m'\u001B[39m \u001B[38;5;129;01min\u001B[39;00m col \u001B[38;5;129;01mor\u001B[39;00m \u001B[38;5;124m'\u001B[39m\u001B[38;5;124mfollowup_\u001B[39m\u001B[38;5;124m'\u001B[39m \u001B[38;5;129;01min\u001B[39;00m col]\n\u001B[0;32m----> 3\u001B[0m combined_ms_diet[metabo_cols]\u001B[38;5;241m.\u001B[39mto_csv(output_data_dir \u001B[38;5;241m+\u001B[39m \u001B[38;5;124m'\u001B[39m\u001B[38;5;124m/Longitudinal/combined_ms_diet.csv\u001B[39m\u001B[38;5;124m'\u001B[39m)\n\u001B[1;32m      4\u001B[0m metabo_cols_w_diff \u001B[38;5;241m=\u001B[39m [col \u001B[38;5;28;01mfor\u001B[39;00m col \u001B[38;5;129;01min\u001B[39;00m combined_ms_diet_w_diff\u001B[38;5;241m.\u001B[39mcolumns \u001B[38;5;28;01mif\u001B[39;00m \u001B[38;5;124m'\u001B[39m\u001B[38;5;124mbaseline_\u001B[39m\u001B[38;5;124m'\u001B[39m \u001B[38;5;129;01min\u001B[39;00m col \u001B[38;5;129;01mor\u001B[39;00m \u001B[38;5;124m'\u001B[39m\u001B[38;5;124mfollowup_\u001B[39m\u001B[38;5;124m'\u001B[39m \u001B[38;5;129;01min\u001B[39;00m col \u001B[38;5;129;01mor\u001B[39;00m \u001B[38;5;124m'\u001B[39m\u001B[38;5;124mdiff_\u001B[39m\u001B[38;5;124m'\u001B[39m \u001B[38;5;129;01min\u001B[39;00m col]\n\u001B[1;32m      5\u001B[0m combined_ms_diet_w_diff[metabo_cols_w_diff]\u001B[38;5;241m.\u001B[39mto_csv(output_data_dir \u001B[38;5;241m+\u001B[39m \u001B[38;5;124m'\u001B[39m\u001B[38;5;124m/Longitudinal/combined_ms_diet_w_diff.csv\u001B[39m\u001B[38;5;124m'\u001B[39m)\n",
      "File \u001B[0;32m/net/mraid20/export/jasmine/david/anaconda3/envs/freshEnv/lib/python3.11/site-packages/pandas/util/_decorators.py:333\u001B[0m, in \u001B[0;36mdeprecate_nonkeyword_arguments.<locals>.decorate.<locals>.wrapper\u001B[0;34m(*args, **kwargs)\u001B[0m\n\u001B[1;32m    327\u001B[0m \u001B[38;5;28;01mif\u001B[39;00m \u001B[38;5;28mlen\u001B[39m(args) \u001B[38;5;241m>\u001B[39m num_allow_args:\n\u001B[1;32m    328\u001B[0m     warnings\u001B[38;5;241m.\u001B[39mwarn(\n\u001B[1;32m    329\u001B[0m         msg\u001B[38;5;241m.\u001B[39mformat(arguments\u001B[38;5;241m=\u001B[39m_format_argument_list(allow_args)),\n\u001B[1;32m    330\u001B[0m         \u001B[38;5;167;01mFutureWarning\u001B[39;00m,\n\u001B[1;32m    331\u001B[0m         stacklevel\u001B[38;5;241m=\u001B[39mfind_stack_level(),\n\u001B[1;32m    332\u001B[0m     )\n\u001B[0;32m--> 333\u001B[0m \u001B[38;5;28;01mreturn\u001B[39;00m func(\u001B[38;5;241m*\u001B[39margs, \u001B[38;5;241m*\u001B[39m\u001B[38;5;241m*\u001B[39mkwargs)\n",
      "File \u001B[0;32m/net/mraid20/export/jasmine/david/anaconda3/envs/freshEnv/lib/python3.11/site-packages/pandas/core/generic.py:3967\u001B[0m, in \u001B[0;36mNDFrame.to_csv\u001B[0;34m(self, path_or_buf, sep, na_rep, float_format, columns, header, index, index_label, mode, encoding, compression, quoting, quotechar, lineterminator, chunksize, date_format, doublequote, escapechar, decimal, errors, storage_options)\u001B[0m\n\u001B[1;32m   3956\u001B[0m df \u001B[38;5;241m=\u001B[39m \u001B[38;5;28mself\u001B[39m \u001B[38;5;28;01mif\u001B[39;00m \u001B[38;5;28misinstance\u001B[39m(\u001B[38;5;28mself\u001B[39m, ABCDataFrame) \u001B[38;5;28;01melse\u001B[39;00m \u001B[38;5;28mself\u001B[39m\u001B[38;5;241m.\u001B[39mto_frame()\n\u001B[1;32m   3958\u001B[0m formatter \u001B[38;5;241m=\u001B[39m DataFrameFormatter(\n\u001B[1;32m   3959\u001B[0m     frame\u001B[38;5;241m=\u001B[39mdf,\n\u001B[1;32m   3960\u001B[0m     header\u001B[38;5;241m=\u001B[39mheader,\n\u001B[0;32m   (...)\u001B[0m\n\u001B[1;32m   3964\u001B[0m     decimal\u001B[38;5;241m=\u001B[39mdecimal,\n\u001B[1;32m   3965\u001B[0m )\n\u001B[0;32m-> 3967\u001B[0m \u001B[38;5;28;01mreturn\u001B[39;00m DataFrameRenderer(formatter)\u001B[38;5;241m.\u001B[39mto_csv(\n\u001B[1;32m   3968\u001B[0m     path_or_buf,\n\u001B[1;32m   3969\u001B[0m     lineterminator\u001B[38;5;241m=\u001B[39mlineterminator,\n\u001B[1;32m   3970\u001B[0m     sep\u001B[38;5;241m=\u001B[39msep,\n\u001B[1;32m   3971\u001B[0m     encoding\u001B[38;5;241m=\u001B[39mencoding,\n\u001B[1;32m   3972\u001B[0m     errors\u001B[38;5;241m=\u001B[39merrors,\n\u001B[1;32m   3973\u001B[0m     compression\u001B[38;5;241m=\u001B[39mcompression,\n\u001B[1;32m   3974\u001B[0m     quoting\u001B[38;5;241m=\u001B[39mquoting,\n\u001B[1;32m   3975\u001B[0m     columns\u001B[38;5;241m=\u001B[39mcolumns,\n\u001B[1;32m   3976\u001B[0m     index_label\u001B[38;5;241m=\u001B[39mindex_label,\n\u001B[1;32m   3977\u001B[0m     mode\u001B[38;5;241m=\u001B[39mmode,\n\u001B[1;32m   3978\u001B[0m     chunksize\u001B[38;5;241m=\u001B[39mchunksize,\n\u001B[1;32m   3979\u001B[0m     quotechar\u001B[38;5;241m=\u001B[39mquotechar,\n\u001B[1;32m   3980\u001B[0m     date_format\u001B[38;5;241m=\u001B[39mdate_format,\n\u001B[1;32m   3981\u001B[0m     doublequote\u001B[38;5;241m=\u001B[39mdoublequote,\n\u001B[1;32m   3982\u001B[0m     escapechar\u001B[38;5;241m=\u001B[39mescapechar,\n\u001B[1;32m   3983\u001B[0m     storage_options\u001B[38;5;241m=\u001B[39mstorage_options,\n\u001B[1;32m   3984\u001B[0m )\n",
      "File \u001B[0;32m/net/mraid20/export/jasmine/david/anaconda3/envs/freshEnv/lib/python3.11/site-packages/pandas/io/formats/format.py:1014\u001B[0m, in \u001B[0;36mDataFrameRenderer.to_csv\u001B[0;34m(self, path_or_buf, encoding, sep, columns, index_label, mode, compression, quoting, quotechar, lineterminator, chunksize, date_format, doublequote, escapechar, errors, storage_options)\u001B[0m\n\u001B[1;32m    993\u001B[0m     created_buffer \u001B[38;5;241m=\u001B[39m \u001B[38;5;28;01mFalse\u001B[39;00m\n\u001B[1;32m    995\u001B[0m csv_formatter \u001B[38;5;241m=\u001B[39m CSVFormatter(\n\u001B[1;32m    996\u001B[0m     path_or_buf\u001B[38;5;241m=\u001B[39mpath_or_buf,\n\u001B[1;32m    997\u001B[0m     lineterminator\u001B[38;5;241m=\u001B[39mlineterminator,\n\u001B[0;32m   (...)\u001B[0m\n\u001B[1;32m   1012\u001B[0m     formatter\u001B[38;5;241m=\u001B[39m\u001B[38;5;28mself\u001B[39m\u001B[38;5;241m.\u001B[39mfmt,\n\u001B[1;32m   1013\u001B[0m )\n\u001B[0;32m-> 1014\u001B[0m csv_formatter\u001B[38;5;241m.\u001B[39msave()\n\u001B[1;32m   1016\u001B[0m \u001B[38;5;28;01mif\u001B[39;00m created_buffer:\n\u001B[1;32m   1017\u001B[0m     \u001B[38;5;28;01massert\u001B[39;00m \u001B[38;5;28misinstance\u001B[39m(path_or_buf, StringIO)\n",
      "File \u001B[0;32m/net/mraid20/export/jasmine/david/anaconda3/envs/freshEnv/lib/python3.11/site-packages/pandas/io/formats/csvs.py:251\u001B[0m, in \u001B[0;36mCSVFormatter.save\u001B[0;34m(self)\u001B[0m\n\u001B[1;32m    247\u001B[0m \u001B[38;5;250m\u001B[39m\u001B[38;5;124;03m\"\"\"\u001B[39;00m\n\u001B[1;32m    248\u001B[0m \u001B[38;5;124;03mCreate the writer & save.\u001B[39;00m\n\u001B[1;32m    249\u001B[0m \u001B[38;5;124;03m\"\"\"\u001B[39;00m\n\u001B[1;32m    250\u001B[0m \u001B[38;5;66;03m# apply compression and byte/text conversion\u001B[39;00m\n\u001B[0;32m--> 251\u001B[0m \u001B[38;5;28;01mwith\u001B[39;00m get_handle(\n\u001B[1;32m    252\u001B[0m     \u001B[38;5;28mself\u001B[39m\u001B[38;5;241m.\u001B[39mfilepath_or_buffer,\n\u001B[1;32m    253\u001B[0m     \u001B[38;5;28mself\u001B[39m\u001B[38;5;241m.\u001B[39mmode,\n\u001B[1;32m    254\u001B[0m     encoding\u001B[38;5;241m=\u001B[39m\u001B[38;5;28mself\u001B[39m\u001B[38;5;241m.\u001B[39mencoding,\n\u001B[1;32m    255\u001B[0m     errors\u001B[38;5;241m=\u001B[39m\u001B[38;5;28mself\u001B[39m\u001B[38;5;241m.\u001B[39merrors,\n\u001B[1;32m    256\u001B[0m     compression\u001B[38;5;241m=\u001B[39m\u001B[38;5;28mself\u001B[39m\u001B[38;5;241m.\u001B[39mcompression,\n\u001B[1;32m    257\u001B[0m     storage_options\u001B[38;5;241m=\u001B[39m\u001B[38;5;28mself\u001B[39m\u001B[38;5;241m.\u001B[39mstorage_options,\n\u001B[1;32m    258\u001B[0m ) \u001B[38;5;28;01mas\u001B[39;00m handles:\n\u001B[1;32m    259\u001B[0m     \u001B[38;5;66;03m# Note: self.encoding is irrelevant here\u001B[39;00m\n\u001B[1;32m    260\u001B[0m     \u001B[38;5;28mself\u001B[39m\u001B[38;5;241m.\u001B[39mwriter \u001B[38;5;241m=\u001B[39m csvlib\u001B[38;5;241m.\u001B[39mwriter(\n\u001B[1;32m    261\u001B[0m         handles\u001B[38;5;241m.\u001B[39mhandle,\n\u001B[1;32m    262\u001B[0m         lineterminator\u001B[38;5;241m=\u001B[39m\u001B[38;5;28mself\u001B[39m\u001B[38;5;241m.\u001B[39mlineterminator,\n\u001B[0;32m   (...)\u001B[0m\n\u001B[1;32m    267\u001B[0m         quotechar\u001B[38;5;241m=\u001B[39m\u001B[38;5;28mself\u001B[39m\u001B[38;5;241m.\u001B[39mquotechar,\n\u001B[1;32m    268\u001B[0m     )\n\u001B[1;32m    270\u001B[0m     \u001B[38;5;28mself\u001B[39m\u001B[38;5;241m.\u001B[39m_save()\n",
      "File \u001B[0;32m/net/mraid20/export/jasmine/david/anaconda3/envs/freshEnv/lib/python3.11/site-packages/pandas/io/common.py:749\u001B[0m, in \u001B[0;36mget_handle\u001B[0;34m(path_or_buf, mode, encoding, compression, memory_map, is_text, errors, storage_options)\u001B[0m\n\u001B[1;32m    747\u001B[0m \u001B[38;5;66;03m# Only for write methods\u001B[39;00m\n\u001B[1;32m    748\u001B[0m \u001B[38;5;28;01mif\u001B[39;00m \u001B[38;5;124m\"\u001B[39m\u001B[38;5;124mr\u001B[39m\u001B[38;5;124m\"\u001B[39m \u001B[38;5;129;01mnot\u001B[39;00m \u001B[38;5;129;01min\u001B[39;00m mode \u001B[38;5;129;01mand\u001B[39;00m is_path:\n\u001B[0;32m--> 749\u001B[0m     check_parent_directory(\u001B[38;5;28mstr\u001B[39m(handle))\n\u001B[1;32m    751\u001B[0m \u001B[38;5;28;01mif\u001B[39;00m compression:\n\u001B[1;32m    752\u001B[0m     \u001B[38;5;28;01mif\u001B[39;00m compression \u001B[38;5;241m!=\u001B[39m \u001B[38;5;124m\"\u001B[39m\u001B[38;5;124mzstd\u001B[39m\u001B[38;5;124m\"\u001B[39m:\n\u001B[1;32m    753\u001B[0m         \u001B[38;5;66;03m# compression libraries do not like an explicit text-mode\u001B[39;00m\n",
      "File \u001B[0;32m/net/mraid20/export/jasmine/david/anaconda3/envs/freshEnv/lib/python3.11/site-packages/pandas/io/common.py:616\u001B[0m, in \u001B[0;36mcheck_parent_directory\u001B[0;34m(path)\u001B[0m\n\u001B[1;32m    614\u001B[0m parent \u001B[38;5;241m=\u001B[39m Path(path)\u001B[38;5;241m.\u001B[39mparent\n\u001B[1;32m    615\u001B[0m \u001B[38;5;28;01mif\u001B[39;00m \u001B[38;5;129;01mnot\u001B[39;00m parent\u001B[38;5;241m.\u001B[39mis_dir():\n\u001B[0;32m--> 616\u001B[0m     \u001B[38;5;28;01mraise\u001B[39;00m \u001B[38;5;167;01mOSError\u001B[39;00m(\u001B[38;5;124mrf\u001B[39m\u001B[38;5;124m\"\u001B[39m\u001B[38;5;124mCannot save file into a non-existent directory: \u001B[39m\u001B[38;5;124m'\u001B[39m\u001B[38;5;132;01m{\u001B[39;00mparent\u001B[38;5;132;01m}\u001B[39;00m\u001B[38;5;124m'\u001B[39m\u001B[38;5;124m\"\u001B[39m)\n",
      "\u001B[0;31mOSError\u001B[0m: Cannot save file into a non-existent directory: '/net/mraid20/export/genie/LabData/Analyses/Metabolomics_repeat/final_for_diet_paper/no_cluster/Longitudinal'"
     ]
    }
   ],
   "source": [
    "# save all columns with baseline or followup prefix\n",
    "metabo_cols = [col for col in combined_ms_diet.columns if 'baseline_' in col or 'followup_' in col]\n",
    "combined_ms_diet[metabo_cols].to_csv(output_data_dir + '/Longitudinal/combined_ms_diet.csv')\n",
    "metabo_cols_w_diff = [col for col in combined_ms_diet_w_diff.columns if 'baseline_' in col or 'followup_' in col or 'diff_' in col]\n",
    "combined_ms_diet_w_diff[metabo_cols_w_diff].to_csv(output_data_dir + '/Longitudinal/combined_ms_diet_w_diff.csv')\n",
    "metabo_cols_base_diff = [col for col in combined_base_diff.columns if 'baseline_' in col or 'diff_' in col]\n",
    "combined_base_diff[metabo_cols_base_diff].to_csv(output_data_dir + '/Longitudinal/combined_base_diff.csv')\n",
    "combined_ms_diet[diet_scores].to_csv(output_data_dir + '/Longitudinal/diff_diet_scores.csv')"
   ],
   "metadata": {
    "collapsed": false,
    "ExecuteTime": {
     "end_time": "2025-05-27T06:07:46.084423Z",
     "start_time": "2025-05-27T06:07:45.959479Z"
    }
   },
   "id": "c81b3f1b295feb14",
   "execution_count": 1120
  },
  {
   "cell_type": "code",
   "outputs": [],
   "source": [
    "diff_ms_diet_diff[metabolite_columns].join(agb_baseline, how='inner').to_csv(output_data_dir + '/Longitudinal/diff_ms_diet_agb.csv')"
   ],
   "metadata": {
    "collapsed": false,
    "ExecuteTime": {
     "end_time": "2025-03-10T10:12:35.177426Z",
     "start_time": "2025-03-10T10:12:29.481037Z"
    }
   },
   "id": "ce6f5ffd1ffc3a",
   "execution_count": 1335
  },
  {
   "cell_type": "code",
   "outputs": [],
   "source": [
    "import lightgbm as lgb\n",
    "def train_and_evaluate_model(baseline_df, visit2_df, feature_columns, target_columns, \n",
    "                           output_path, scale_features=True, run_suffix=''):\n",
    "    \"\"\"\n",
    "    Train LightGBM models on baseline data and evaluate on visit 2 data.\n",
    "    Also evaluates correlation between predicted dietary changes and actual target value changes.\n",
    "    \n",
    "    Parameters:\n",
    "    -----------\n",
    "    baseline_df : pandas DataFrame\n",
    "        DataFrame containing baseline measurements\n",
    "    visit2_df : pandas DataFrame\n",
    "        DataFrame containing visit 2 measurements\n",
    "    feature_columns : list\n",
    "        List of column names to use as features\n",
    "    target_columns : list\n",
    "        List of column names to predict\n",
    "    output_path : str\n",
    "        Path where results will be saved\n",
    "    scale_features : bool, default=True\n",
    "        Whether to scale features using StandardScaler\n",
    "    \"\"\"\n",
    "    results = {}\n",
    "    \n",
    "    # Verify all columns exist in both dataframes\n",
    "    all_columns = feature_columns + target_columns\n",
    "    if not all(col in baseline_df.columns for col in all_columns):\n",
    "        raise ValueError(\"Not all specified columns found in baseline DataFrame\")\n",
    "    if not all(col in visit2_df.columns for col in all_columns):\n",
    "        raise ValueError(\"Not all specified columns found in visit 2 DataFrame\")\n",
    "    \n",
    "    # Create output directory if it doesn't exist\n",
    "    timestamp = datetime.now().strftime('%Y%m%d_%H%M%S')\n",
    "    base_output_path = os.path.join(output_path, f'run_{timestamp}{run_suffix}')\n",
    "    os.makedirs(base_output_path, exist_ok=True)\n",
    "    \n",
    "    # Prepare feature data\n",
    "    X_train = baseline_df[feature_columns].copy()\n",
    "    X_test = visit2_df[feature_columns].copy()\n",
    "    \n",
    "    if scale_features:\n",
    "        scaler = StandardScaler()\n",
    "        X_train = pd.DataFrame(\n",
    "            scaler.fit_transform(X_train),\n",
    "            columns=feature_columns,\n",
    "            index=X_train.index\n",
    "        )\n",
    "        X_test = pd.DataFrame(\n",
    "            scaler.transform(X_test),\n",
    "            columns=feature_columns,\n",
    "            index=X_test.index\n",
    "        )\n",
    "    \n",
    "    # Model parameters\n",
    "    params = {\n",
    "        # 'objective': 'regression',\n",
    "        'metric': 'r2',\n",
    "        'num_leaves': 31,\n",
    "        'learning_rate': 0.01,\n",
    "        'feature_fraction': 0.75,\n",
    "        'n_estimators': 1000,\n",
    "        'verbose': -1,\n",
    "        'num_threads': 30\n",
    "    }\n",
    "    \n",
    "    # # Save parameters\n",
    "    # with open(os.path.join(base_output_path, 'model_params.json'), 'w') as f:\n",
    "    #     json.dump(params, f, indent=4)\n",
    "    \n",
    "    # Initialize run metrics dictionary\n",
    "    run_metrics = {\n",
    "        'timestamp': timestamp,\n",
    "        'n_features': len(feature_columns),\n",
    "        'scaled_features': scale_features\n",
    "    }\n",
    "    \n",
    "    # Create a DataFrame to store all difference R² scores\n",
    "    diff_performance_df = pd.DataFrame(columns=['target', 'diff_r', 'diff_r2', 'diff_pvalue', 'test_r2', 'train_r2'])\n",
    "    \n",
    "    # Train a model for each target\n",
    "    for target in tqdm(target_columns, desc=\"Training models\"):\n",
    "        target_dir = os.path.join(base_output_path, target)\n",
    "        os.makedirs(target_dir, exist_ok=True)\n",
    "        \n",
    "        # Prepare target data\n",
    "        y_train = baseline_df[target].values\n",
    "        y_test = visit2_df[target].values\n",
    "        \n",
    "        # Create dataset\n",
    "        train_data = lgb.Dataset(X_train, label=y_train)\n",
    "        \n",
    "        # Train model\n",
    "        model = lgb.train(\n",
    "            params,\n",
    "            train_data,\n",
    "            num_boost_round=params['n_estimators']\n",
    "        )\n",
    "        \n",
    "        # Make predictions for both training and test sets\n",
    "        y_train_pred = model.predict(X_train)\n",
    "        y_test_pred = model.predict(X_test)\n",
    "        \n",
    "        # Calculate metrics for both sets\n",
    "        train_mse = mean_squared_error(y_train, y_train_pred)\n",
    "        train_rmse = np.sqrt(train_mse)\n",
    "        train_r2 = r2_score(y_train, y_train_pred)\n",
    "        \n",
    "        test_mse = mean_squared_error(y_test, y_test_pred)\n",
    "        test_rmse = np.sqrt(test_mse)\n",
    "        test_r2 = r2_score(y_test, y_test_pred)\n",
    "        \n",
    "        # SHAP Analysis and Plot\n",
    "        explainer = shap.TreeExplainer(model)\n",
    "        shap_values = explainer.shap_values(X_test)\n",
    "        \n",
    "        # Save SHAP plot\n",
    "        plt.figure(figsize=(12, 8))\n",
    "        shap.summary_plot(shap_values, X_test, show=False)\n",
    "        plt.title(f'SHAP Summary Plot for {target}')\n",
    "        plt.tight_layout()\n",
    "        plt.savefig(os.path.join(target_dir, 'shap_summary.png'), dpi=300, bbox_inches='tight')\n",
    "        plt.close()\n",
    "        \n",
    "        # Calculate and evaluate dietary differences vs target differences\n",
    "        # Get baseline and visit2 true values for targets (ensure they're matched by participant ID)\n",
    "        common_indices = baseline_df.index.intersection(visit2_df.index)\n",
    "        baseline_targets = baseline_df.loc[common_indices, target]\n",
    "        visit2_targets = visit2_df.loc[common_indices, target]\n",
    "        \n",
    "        # Calculate actual target differences (visit2 - baseline)\n",
    "        actual_diff = visit2_targets - baseline_targets\n",
    "        \n",
    "        # Use true baseline values and visit2 predictions for these participants\n",
    "        visit2_pred = pd.Series(y_test_pred, index=X_test.index)\n",
    "        visit2_pred_common = visit2_pred.loc[common_indices]\n",
    "        \n",
    "        # Calculate predicted differences (visit2_pred - baseline_true)\n",
    "        # We're now using the true baseline values instead of predictions\n",
    "        predicted_diff = visit2_pred_common - baseline_targets\n",
    "        \n",
    "        # Calculate correlation between actual and predicted differences\n",
    "        diff_corr, diff_pvalue = pearsonr(actual_diff, predicted_diff)\n",
    "        # Use r2_score from sklearn instead of calculating from Pearson's r\n",
    "        diff_r2 = r2_score(actual_diff, predicted_diff)\n",
    "        \n",
    "        # Create and save the correlation plot\n",
    "        plt.figure(figsize=(10, 6))\n",
    "        plt.scatter(actual_diff, predicted_diff, alpha=0.6)\n",
    "        plt.xlabel('Actual Difference (Visit 2 - Baseline)')\n",
    "        plt.ylabel('Predicted Difference (Visit 2 - Baseline)')\n",
    "        plt.title(f'Correlation of Actual vs Predicted Differences for {target}\\nR={diff_corr:.4f}, R²={diff_r2:.4f}, p={diff_pvalue:.4f}')\n",
    "        \n",
    "        # Add a best fit line\n",
    "        m, b = np.polyfit(actual_diff, predicted_diff, 1)\n",
    "        plt.plot(actual_diff, m*actual_diff + b, 'r-')\n",
    "        \n",
    "        plt.grid(True, alpha=0.3)\n",
    "        plt.tight_layout()\n",
    "        plt.savefig(os.path.join(target_dir, 'difference_correlation.png'), dpi=300, bbox_inches='tight')\n",
    "        plt.close()\n",
    "        \n",
    "        # Save difference data\n",
    "        difference_df = pd.DataFrame({\n",
    "            'actual_diff': actual_diff,\n",
    "            'predicted_diff': predicted_diff\n",
    "        })\n",
    "        difference_df.to_csv(os.path.join(target_dir, 'differences.csv'))\n",
    "        \n",
    "        # Store results\n",
    "        results[target] = {\n",
    "            'model': model,\n",
    "            'train_rmse': train_rmse,\n",
    "            'train_r2': train_r2,\n",
    "            'test_rmse': test_rmse,\n",
    "            'test_r2': test_r2,\n",
    "            'diff_r': diff_corr,\n",
    "            'diff_r2': diff_r2,\n",
    "            'diff_pvalue': diff_pvalue\n",
    "        }\n",
    "        \n",
    "        # Update the difference performance DataFrame\n",
    "        diff_performance_df = pd.concat([diff_performance_df, pd.DataFrame({\n",
    "            'target': [target],\n",
    "            'diff_r': [diff_corr],\n",
    "            'diff_r2': [diff_r2],\n",
    "            'diff_pvalue': [diff_pvalue],\n",
    "            'test_r2': [test_r2],\n",
    "            'train_r2': [train_r2]\n",
    "        })], ignore_index=True)\n",
    "        \n",
    "        # Save individual target results\n",
    "        # 1. Save model\n",
    "        model.save_model(os.path.join(target_dir, 'model.txt'))\n",
    "        \n",
    "        # 2. Save predictions and true values\n",
    "        train_results_df = pd.DataFrame({\n",
    "            'true_values': y_train,\n",
    "            'predictions': y_train_pred\n",
    "        }, index=X_train.index)\n",
    "        train_results_df.to_csv(os.path.join(target_dir, 'train_predictions.csv'))\n",
    "        \n",
    "        test_results_df = pd.DataFrame({\n",
    "            'true_values': y_test,\n",
    "            'predictions': y_test_pred\n",
    "        }, index=X_test.index)\n",
    "        test_results_df.to_csv(os.path.join(target_dir, 'test_predictions.csv'))\n",
    "        \n",
    "        # 3. Save metrics as text\n",
    "        metrics = {\n",
    "            'train_rmse': train_rmse,\n",
    "            'train_r2': train_r2,\n",
    "            'train_size': len(y_train),\n",
    "            'test_rmse': test_rmse,\n",
    "            'test_r2': test_r2,\n",
    "            'test_size': len(y_test),\n",
    "            'diff_correlation_r': diff_corr,\n",
    "            'diff_correlation_r2': diff_r2,\n",
    "            'diff_correlation_pvalue': diff_pvalue\n",
    "        }\n",
    "        metrics_text = format_metrics(metrics)\n",
    "        with open(os.path.join(target_dir, 'metrics.txt'), 'w') as f:\n",
    "            f.write(metrics_text)\n",
    "        \n",
    "        print(f\"\\nResults for {target}:\")\n",
    "        print(f\"Training RMSE: {train_rmse:.4f}\")\n",
    "        print(f\"Training R2 Score: {train_r2:.4f}\")\n",
    "        print(f\"Test RMSE: {test_rmse:.4f}\")\n",
    "        print(f\"Test R2 Score: {test_r2:.4f}\")\n",
    "        print(f\"Difference Correlation R: {diff_corr:.4f}\")\n",
    "        print(f\"Difference Correlation R2: {diff_r2:.4f}\")\n",
    "        print(f\"Difference Correlation p-value: {diff_pvalue:.4f}\")\n",
    "    \n",
    "    # Update metrics files\n",
    "    update_metrics_log(base_output_path, output_path, run_metrics)\n",
    "    \n",
    "    # Save the aggregated difference performance metrics\n",
    "    diff_performance_df = diff_performance_df.sort_values(by='diff_r2', ascending=False)\n",
    "    \n",
    "    # Save to the run-specific directory\n",
    "    diff_performance_path = os.path.join(base_output_path, 'difference_performance_summary.csv')\n",
    "    diff_performance_df.to_csv(diff_performance_path, index=False)\n",
    "    \n",
    "    # Also save to the root output directory with timestamp included in filename\n",
    "    root_diff_performance_path = os.path.join(output_path, f'difference_performance_summary_{timestamp}{run_suffix}.csv')\n",
    "    diff_performance_df.to_csv(root_diff_performance_path, index=False)\n",
    "    \n",
    "    # Create a visualization of the difference R² scores\n",
    "    plt.figure(figsize=(12, 8))\n",
    "    bars = plt.barh(diff_performance_df['target'], diff_performance_df['diff_r2'], color='skyblue')\n",
    "    plt.xlabel('Difference R² Score')\n",
    "    plt.ylabel('Target')\n",
    "    plt.title('R² Score of Predicted vs Actual Differences Across Targets')\n",
    "    plt.grid(axis='x', alpha=0.3)\n",
    "    plt.xlim(0, max(1.0, diff_performance_df['diff_r2'].max() * 1.1))\n",
    "    \n",
    "    # Add value labels to the bars\n",
    "    for bar in bars:\n",
    "        width = bar.get_width()\n",
    "        plt.text(width + 0.01, bar.get_y() + bar.get_height()/2, f'{width:.4f}', \n",
    "                 va='center', fontsize=8)\n",
    "    \n",
    "    plt.tight_layout()\n",
    "    \n",
    "    # Save to run-specific directory\n",
    "    plt.savefig(os.path.join(base_output_path, 'difference_performance_summary.png'), dpi=300, bbox_inches='tight')\n",
    "    \n",
    "    # Also save to root output directory\n",
    "    plt.savefig(os.path.join(output_path, f'difference_performance_summary_{timestamp}{run_suffix}.png'), dpi=300, bbox_inches='tight')\n",
    "    plt.close()\n",
    "    \n",
    "    return results"
   ],
   "metadata": {
    "collapsed": false,
    "ExecuteTime": {
     "end_time": "2025-05-27T06:09:16.734755Z",
     "start_time": "2025-05-27T06:09:16.717020Z"
    }
   },
   "id": "e80baa02adf8cf94",
   "execution_count": 1125
  },
  {
   "cell_type": "code",
   "outputs": [
    {
     "name": "stderr",
     "output_type": "stream",
     "text": [
      "Training models:   0%|          | 0/10 [00:00<?, ?it/s]\n"
     ]
    },
    {
     "ename": "NameError",
     "evalue": "name 'lgb' is not defined",
     "output_type": "error",
     "traceback": [
      "\u001B[0;31m---------------------------------------------------------------------------\u001B[0m",
      "\u001B[0;31mNameError\u001B[0m                                 Traceback (most recent call last)",
      "Cell \u001B[0;32mIn[1130], line 4\u001B[0m\n\u001B[1;32m      1\u001B[0m metabolite_cols \u001B[38;5;241m=\u001B[39m \u001B[38;5;28mlist\u001B[39m(serrf_full_base\u001B[38;5;241m.\u001B[39mcolumns)\n\u001B[1;32m      3\u001B[0m \u001B[38;5;66;03m# Train and evaluate models\u001B[39;00m\n\u001B[0;32m----> 4\u001B[0m results \u001B[38;5;241m=\u001B[39m train_and_evaluate_model(\n\u001B[1;32m      5\u001B[0m     baseline_df\u001B[38;5;241m=\u001B[39mms_joined_diet_features,\n\u001B[1;32m      6\u001B[0m     visit2_df\u001B[38;5;241m=\u001B[39mserf_full_visit2_diet,\n\u001B[1;32m      7\u001B[0m     feature_columns\u001B[38;5;241m=\u001B[39mmetabolite_cols,\n\u001B[1;32m      8\u001B[0m     target_columns\u001B[38;5;241m=\u001B[39mdiet_scores,\n\u001B[1;32m      9\u001B[0m     output_path\u001B[38;5;241m=\u001B[39mDIET_PAPER_DIR \u001B[38;5;241m+\u001B[39m \u001B[38;5;124m'\u001B[39m\u001B[38;5;124m/Visit2_validation\u001B[39m\u001B[38;5;124m'\u001B[39m,\n\u001B[1;32m     10\u001B[0m     scale_features\u001B[38;5;241m=\u001B[39m\u001B[38;5;28;01mFalse\u001B[39;00m,\n\u001B[1;32m     11\u001B[0m     run_suffix\u001B[38;5;241m=\u001B[39m\u001B[38;5;124m\"\u001B[39m\u001B[38;5;124m_1000trees_realr2_score_NEW\u001B[39m\u001B[38;5;124m\"\u001B[39m\n\u001B[1;32m     12\u001B[0m )\n",
      "Cell \u001B[0;32mIn[1125], line 89\u001B[0m, in \u001B[0;36mtrain_and_evaluate_model\u001B[0;34m(baseline_df, visit2_df, feature_columns, target_columns, output_path, scale_features, run_suffix)\u001B[0m\n\u001B[1;32m     86\u001B[0m y_test \u001B[38;5;241m=\u001B[39m visit2_df[target]\u001B[38;5;241m.\u001B[39mvalues\n\u001B[1;32m     88\u001B[0m \u001B[38;5;66;03m# Create dataset\u001B[39;00m\n\u001B[0;32m---> 89\u001B[0m train_data \u001B[38;5;241m=\u001B[39m lgb\u001B[38;5;241m.\u001B[39mDataset(X_train, label\u001B[38;5;241m=\u001B[39my_train)\n\u001B[1;32m     91\u001B[0m \u001B[38;5;66;03m# Train model\u001B[39;00m\n\u001B[1;32m     92\u001B[0m model \u001B[38;5;241m=\u001B[39m lgb\u001B[38;5;241m.\u001B[39mtrain(\n\u001B[1;32m     93\u001B[0m     params,\n\u001B[1;32m     94\u001B[0m     train_data,\n\u001B[1;32m     95\u001B[0m     num_boost_round\u001B[38;5;241m=\u001B[39mparams[\u001B[38;5;124m'\u001B[39m\u001B[38;5;124mn_estimators\u001B[39m\u001B[38;5;124m'\u001B[39m]\n\u001B[1;32m     96\u001B[0m )\n",
      "\u001B[0;31mNameError\u001B[0m: name 'lgb' is not defined"
     ]
    }
   ],
   "source": [
    "metabolite_cols = list(serrf_full_base.columns)\n",
    "\n",
    "# Train and evaluate models\n",
    "results = train_and_evaluate_model(\n",
    "    baseline_df=ms_joined_diet_features,\n",
    "    visit2_df=serf_full_visit2_diet,\n",
    "    feature_columns=metabolite_cols,\n",
    "    target_columns=diet_scores,\n",
    "    output_path=DIET_PAPER_DIR + '/Visit2_validation',\n",
    "    scale_features=False,\n",
    "    run_suffix=\"_1000trees_realr2_score_NEW\"\n",
    ")"
   ],
   "metadata": {
    "collapsed": false,
    "ExecuteTime": {
     "end_time": "2025-05-27T06:10:28.013454Z",
     "start_time": "2025-05-27T06:10:27.807194Z"
    }
   },
   "id": "1dc84e69612c0b50",
   "execution_count": 1130
  },
  {
   "cell_type": "code",
   "outputs": [],
   "source": [
    "# Train and evaluate models\n",
    "results = train_and_evaluate_model(\n",
    "    baseline_df=ms_joined_diet_features,\n",
    "    visit2_df=serf_full_visit2_diet,\n",
    "    feature_columns=metabolite_cols,\n",
    "    target_columns=food_categories,\n",
    "    output_path=DIET_PAPER_DIR + '/Visit2_validation',\n",
    "    scale_features=False,\n",
    "    run_suffix=\"_1000trees_realr2_score_food_categories\"\n",
    ")"
   ],
   "metadata": {
    "collapsed": false
   },
   "id": "dc9ce0cc72e8b713",
   "execution_count": null
  },
  {
   "cell_type": "code",
   "outputs": [],
   "source": [
    "import pandas as pd\n",
    "import plotly.graph_objects as go\n",
    "import numpy as np\n",
    "\n",
    "def create_diet_alluvial(baseline_df, followup_df, diet_score_col):\n",
    "    \"\"\"\n",
    "    Create an alluvial plot showing transitions between diet adherence quartiles\n",
    "    Only includes participants with both baseline and follow-up measurements\n",
    "    \n",
    "    Parameters:\n",
    "    -----------\n",
    "    baseline_df : pandas DataFrame\n",
    "        DataFrame containing baseline diet scores\n",
    "    followup_df : pandas DataFrame\n",
    "        DataFrame containing follow-up diet scores\n",
    "    diet_score_col : str\n",
    "        Name of the column containing diet adherence scores\n",
    "    \"\"\"\n",
    "    \n",
    "    # Get common participants (those with both measurements)\n",
    "    common_indices = baseline_df.index.intersection(followup_df.index)\n",
    "    n_participants = len(common_indices)\n",
    "    \n",
    "    # Filter both dataframes to include only common participants\n",
    "    baseline_df = baseline_df.loc[common_indices]\n",
    "    followup_df = followup_df.loc[common_indices]\n",
    "    \n",
    "    # Print information about filtering\n",
    "    print(f\"Total participants at baseline: {len(baseline_df.index)}\")\n",
    "    print(f\"Total participants at follow-up: {len(followup_df.index)}\")\n",
    "    print(f\"Participants with both measurements: {len(common_indices)}\")\n",
    "    \n",
    "    # Calculate quartiles for both timepoints\n",
    "    baseline_quartiles = pd.qcut(baseline_df[diet_score_col], q=4, labels=['Q1', 'Q2', 'Q3', 'Q4'])\n",
    "    followup_quartiles = pd.qcut(followup_df[diet_score_col], q=4, labels=['Q1', 'Q2', 'Q3', 'Q4'])\n",
    "    \n",
    "    # Create DataFrame with quartile assignments\n",
    "    flow_df = pd.DataFrame({\n",
    "        'Baseline': baseline_quartiles,\n",
    "        'Follow-up': followup_quartiles\n",
    "    })\n",
    "    \n",
    "    # Calculate stability metrics for each quartile\n",
    "    quartile_metrics = {}\n",
    "    for q in ['Q1', 'Q2', 'Q3', 'Q4']:\n",
    "        # Get participants who started in this quartile\n",
    "        q_participants = flow_df[flow_df['Baseline'] == q]\n",
    "        total_in_q = len(q_participants)\n",
    "        \n",
    "        # Calculate how many stayed in same quartile\n",
    "        stayed = len(q_participants[q_participants['Follow-up'] == q])\n",
    "        stability_pct = round((stayed / total_in_q) * 100)\n",
    "        \n",
    "        # Calculate average quartile change\n",
    "        q_num = {'Q1': 1, 'Q2': 2, 'Q3': 3, 'Q4': 4}\n",
    "        quartile_changes = [q_num[end] - q_num[start] \n",
    "                          for start, end in zip(q_participants['Baseline'], \n",
    "                                              q_participants['Follow-up'])]\n",
    "        avg_change = round(np.mean(quartile_changes), 1)\n",
    "        \n",
    "        quartile_metrics[q] = {\n",
    "            'stability': stability_pct,\n",
    "            'avg_change': avg_change\n",
    "        }\n",
    "    \n",
    "    # Calculate flows between quartiles\n",
    "    flows = flow_df.groupby(['Baseline', 'Follow-up']).size().reset_index(name='Count')\n",
    "    \n",
    "    # Create source-target pairs for Sankey diagram\n",
    "    quartile_labels = ['Q1', 'Q2', 'Q3', 'Q4']\n",
    "    label_to_id = {label: idx for idx, label in enumerate(quartile_labels)}\n",
    "    \n",
    "    # Create source, target, and value lists for the Sankey diagram\n",
    "    source = []\n",
    "    target = []\n",
    "    value = []\n",
    "    \n",
    "    for _, row in flows.iterrows():\n",
    "        source.append(label_to_id[row['Baseline']])\n",
    "        target.append(label_to_id[row['Follow-up']] + 4)  # Offset for follow-up nodes\n",
    "        value.append(row['Count'])\n",
    "    \n",
    "    # Create node labels with stability metrics\n",
    "    node_labels = [\n",
    "        f'Baseline Q{i+1}<br>{quartile_metrics[f\"Q{i+1}\"][\"stability\"]}% stable<br>Avg change: {quartile_metrics[f\"Q{i+1}\"][\"avg_change\"]} quartiles'\n",
    "        for i in range(4)\n",
    "    ] + [f'Follow-up Q{i+1}' for i in range(4)]\n",
    "    \n",
    "    # # Create more distinct warm colors\n",
    "    # colors = [\n",
    "    #     'rgba(255, 99, 71, 0.7)',    # Tomato red\n",
    "    #     'rgba(255, 140, 0, 0.7)',    # Dark orange\n",
    "    #     'rgba(218, 165, 32, 0.7)',   # Goldenrod\n",
    "    #     'rgba(139, 69, 19, 0.7)',    # Saddle brown\n",
    "    # ]\n",
    "    \n",
    "            # Create pastel colors for quartiles\n",
    "    colors = [\n",
    "        'rgba(255, 182, 193, 0.7)',  # Light pink\n",
    "        'rgba(173, 216, 230, 0.7)',  # Light blue\n",
    "        'rgba(144, 238, 144, 0.7)',  # Light green\n",
    "        'rgba(221, 160, 221, 0.7)',  # Light purple\n",
    "    ]\n",
    "    \n",
    "    # Assign colors to nodes (same color for matching quartiles)\n",
    "    node_colors = colors + colors\n",
    "    \n",
    "    # Create the Sankey diagram\n",
    "    fig = go.Figure(data=[go.Sankey(\n",
    "        node = dict(\n",
    "            pad = 15,\n",
    "            thickness = 20,\n",
    "            line = dict(color = \"black\", width = 0.5),\n",
    "            label = node_labels,\n",
    "            color = node_colors\n",
    "        ),\n",
    "        link = dict(\n",
    "            source = source,\n",
    "            target = target,\n",
    "            value = value,\n",
    "            color = [colors[s % 4] for s in source]  # Color flows based on source quartile\n",
    "        )\n",
    "    )])\n",
    "    \n",
    "    # Update layout with column name and sample size in title\n",
    "    fig.update_layout(\n",
    "        title_text=f\"Diet Adherence Quartile Transitions for {diet_score_col}<br>N = {n_participants} participants\",\n",
    "        font_size=12,\n",
    "        height=600,\n",
    "        width=800\n",
    "    )\n",
    "    \n",
    "    return fig"
   ],
   "metadata": {
    "collapsed": false,
    "ExecuteTime": {
     "end_time": "2025-02-19T14:42:05.341374Z",
     "start_time": "2025-02-19T14:42:05.327026Z"
    }
   },
   "id": "14d83c7c8817938d",
   "execution_count": 1164
  },
  {
   "cell_type": "code",
   "outputs": [
    {
     "name": "stdout",
     "output_type": "stream",
     "text": [
      "Total participants at baseline: 2218\n",
      "Total participants at follow-up: 2218\n",
      "Participants with both measurements: 2218\n"
     ]
    },
    {
     "name": "stderr",
     "output_type": "stream",
     "text": [
      "/tmp/ipykernel_882/3933771303.py:67: FutureWarning:\n",
      "\n",
      "The default of observed=False is deprecated and will be changed to True in a future version of pandas. Pass observed=False to retain current behavior or observed=True to adopt the future default and silence this warning.\n",
      "\n"
     ]
    },
    {
     "data": {
      "application/vnd.plotly.v1+json": {
       "data": [
        {
         "link": {
          "color": [
           "rgba(255, 182, 193, 0.7)",
           "rgba(255, 182, 193, 0.7)",
           "rgba(255, 182, 193, 0.7)",
           "rgba(255, 182, 193, 0.7)",
           "rgba(173, 216, 230, 0.7)",
           "rgba(173, 216, 230, 0.7)",
           "rgba(173, 216, 230, 0.7)",
           "rgba(173, 216, 230, 0.7)",
           "rgba(144, 238, 144, 0.7)",
           "rgba(144, 238, 144, 0.7)",
           "rgba(144, 238, 144, 0.7)",
           "rgba(144, 238, 144, 0.7)",
           "rgba(221, 160, 221, 0.7)",
           "rgba(221, 160, 221, 0.7)",
           "rgba(221, 160, 221, 0.7)",
           "rgba(221, 160, 221, 0.7)"
          ],
          "source": [
           0,
           0,
           0,
           0,
           1,
           1,
           1,
           1,
           2,
           2,
           2,
           2,
           3,
           3,
           3,
           3
          ],
          "target": [
           4,
           5,
           6,
           7,
           4,
           5,
           6,
           7,
           4,
           5,
           6,
           7,
           4,
           5,
           6,
           7
          ],
          "value": [
           282,
           127,
           97,
           49,
           132,
           186,
           144,
           92,
           91,
           154,
           156,
           153,
           50,
           87,
           157,
           261
          ]
         },
         "node": {
          "color": [
           "rgba(255, 182, 193, 0.7)",
           "rgba(173, 216, 230, 0.7)",
           "rgba(144, 238, 144, 0.7)",
           "rgba(221, 160, 221, 0.7)",
           "rgba(255, 182, 193, 0.7)",
           "rgba(173, 216, 230, 0.7)",
           "rgba(144, 238, 144, 0.7)",
           "rgba(221, 160, 221, 0.7)"
          ],
          "label": [
           "Baseline Q1<br>51% stable<br>Avg change: 0.8 quartiles",
           "Baseline Q2<br>34% stable<br>Avg change: 0.4 quartiles",
           "Baseline Q3<br>28% stable<br>Avg change: -0.3 quartiles",
           "Baseline Q4<br>47% stable<br>Avg change: -0.9 quartiles",
           "Follow-up Q1",
           "Follow-up Q2",
           "Follow-up Q3",
           "Follow-up Q4"
          ],
          "line": {
           "color": "black",
           "width": 0.5
          },
          "pad": 15,
          "thickness": 20
         },
         "type": "sankey"
        }
       ],
       "layout": {
        "template": {
         "data": {
          "histogram2dcontour": [
           {
            "type": "histogram2dcontour",
            "colorbar": {
             "outlinewidth": 0,
             "ticks": ""
            },
            "colorscale": [
             [
              0.0,
              "#0d0887"
             ],
             [
              0.1111111111111111,
              "#46039f"
             ],
             [
              0.2222222222222222,
              "#7201a8"
             ],
             [
              0.3333333333333333,
              "#9c179e"
             ],
             [
              0.4444444444444444,
              "#bd3786"
             ],
             [
              0.5555555555555556,
              "#d8576b"
             ],
             [
              0.6666666666666666,
              "#ed7953"
             ],
             [
              0.7777777777777778,
              "#fb9f3a"
             ],
             [
              0.8888888888888888,
              "#fdca26"
             ],
             [
              1.0,
              "#f0f921"
             ]
            ]
           }
          ],
          "choropleth": [
           {
            "type": "choropleth",
            "colorbar": {
             "outlinewidth": 0,
             "ticks": ""
            }
           }
          ],
          "histogram2d": [
           {
            "type": "histogram2d",
            "colorbar": {
             "outlinewidth": 0,
             "ticks": ""
            },
            "colorscale": [
             [
              0.0,
              "#0d0887"
             ],
             [
              0.1111111111111111,
              "#46039f"
             ],
             [
              0.2222222222222222,
              "#7201a8"
             ],
             [
              0.3333333333333333,
              "#9c179e"
             ],
             [
              0.4444444444444444,
              "#bd3786"
             ],
             [
              0.5555555555555556,
              "#d8576b"
             ],
             [
              0.6666666666666666,
              "#ed7953"
             ],
             [
              0.7777777777777778,
              "#fb9f3a"
             ],
             [
              0.8888888888888888,
              "#fdca26"
             ],
             [
              1.0,
              "#f0f921"
             ]
            ]
           }
          ],
          "heatmap": [
           {
            "type": "heatmap",
            "colorbar": {
             "outlinewidth": 0,
             "ticks": ""
            },
            "colorscale": [
             [
              0.0,
              "#0d0887"
             ],
             [
              0.1111111111111111,
              "#46039f"
             ],
             [
              0.2222222222222222,
              "#7201a8"
             ],
             [
              0.3333333333333333,
              "#9c179e"
             ],
             [
              0.4444444444444444,
              "#bd3786"
             ],
             [
              0.5555555555555556,
              "#d8576b"
             ],
             [
              0.6666666666666666,
              "#ed7953"
             ],
             [
              0.7777777777777778,
              "#fb9f3a"
             ],
             [
              0.8888888888888888,
              "#fdca26"
             ],
             [
              1.0,
              "#f0f921"
             ]
            ]
           }
          ],
          "heatmapgl": [
           {
            "type": "heatmapgl",
            "colorbar": {
             "outlinewidth": 0,
             "ticks": ""
            },
            "colorscale": [
             [
              0.0,
              "#0d0887"
             ],
             [
              0.1111111111111111,
              "#46039f"
             ],
             [
              0.2222222222222222,
              "#7201a8"
             ],
             [
              0.3333333333333333,
              "#9c179e"
             ],
             [
              0.4444444444444444,
              "#bd3786"
             ],
             [
              0.5555555555555556,
              "#d8576b"
             ],
             [
              0.6666666666666666,
              "#ed7953"
             ],
             [
              0.7777777777777778,
              "#fb9f3a"
             ],
             [
              0.8888888888888888,
              "#fdca26"
             ],
             [
              1.0,
              "#f0f921"
             ]
            ]
           }
          ],
          "contourcarpet": [
           {
            "type": "contourcarpet",
            "colorbar": {
             "outlinewidth": 0,
             "ticks": ""
            }
           }
          ],
          "contour": [
           {
            "type": "contour",
            "colorbar": {
             "outlinewidth": 0,
             "ticks": ""
            },
            "colorscale": [
             [
              0.0,
              "#0d0887"
             ],
             [
              0.1111111111111111,
              "#46039f"
             ],
             [
              0.2222222222222222,
              "#7201a8"
             ],
             [
              0.3333333333333333,
              "#9c179e"
             ],
             [
              0.4444444444444444,
              "#bd3786"
             ],
             [
              0.5555555555555556,
              "#d8576b"
             ],
             [
              0.6666666666666666,
              "#ed7953"
             ],
             [
              0.7777777777777778,
              "#fb9f3a"
             ],
             [
              0.8888888888888888,
              "#fdca26"
             ],
             [
              1.0,
              "#f0f921"
             ]
            ]
           }
          ],
          "surface": [
           {
            "type": "surface",
            "colorbar": {
             "outlinewidth": 0,
             "ticks": ""
            },
            "colorscale": [
             [
              0.0,
              "#0d0887"
             ],
             [
              0.1111111111111111,
              "#46039f"
             ],
             [
              0.2222222222222222,
              "#7201a8"
             ],
             [
              0.3333333333333333,
              "#9c179e"
             ],
             [
              0.4444444444444444,
              "#bd3786"
             ],
             [
              0.5555555555555556,
              "#d8576b"
             ],
             [
              0.6666666666666666,
              "#ed7953"
             ],
             [
              0.7777777777777778,
              "#fb9f3a"
             ],
             [
              0.8888888888888888,
              "#fdca26"
             ],
             [
              1.0,
              "#f0f921"
             ]
            ]
           }
          ],
          "mesh3d": [
           {
            "type": "mesh3d",
            "colorbar": {
             "outlinewidth": 0,
             "ticks": ""
            }
           }
          ],
          "scatter": [
           {
            "fillpattern": {
             "fillmode": "overlay",
             "size": 10,
             "solidity": 0.2
            },
            "type": "scatter"
           }
          ],
          "parcoords": [
           {
            "type": "parcoords",
            "line": {
             "colorbar": {
              "outlinewidth": 0,
              "ticks": ""
             }
            }
           }
          ],
          "scatterpolargl": [
           {
            "type": "scatterpolargl",
            "marker": {
             "colorbar": {
              "outlinewidth": 0,
              "ticks": ""
             }
            }
           }
          ],
          "bar": [
           {
            "error_x": {
             "color": "#2a3f5f"
            },
            "error_y": {
             "color": "#2a3f5f"
            },
            "marker": {
             "line": {
              "color": "#E5ECF6",
              "width": 0.5
             },
             "pattern": {
              "fillmode": "overlay",
              "size": 10,
              "solidity": 0.2
             }
            },
            "type": "bar"
           }
          ],
          "scattergeo": [
           {
            "type": "scattergeo",
            "marker": {
             "colorbar": {
              "outlinewidth": 0,
              "ticks": ""
             }
            }
           }
          ],
          "scatterpolar": [
           {
            "type": "scatterpolar",
            "marker": {
             "colorbar": {
              "outlinewidth": 0,
              "ticks": ""
             }
            }
           }
          ],
          "histogram": [
           {
            "marker": {
             "pattern": {
              "fillmode": "overlay",
              "size": 10,
              "solidity": 0.2
             }
            },
            "type": "histogram"
           }
          ],
          "scattergl": [
           {
            "type": "scattergl",
            "marker": {
             "colorbar": {
              "outlinewidth": 0,
              "ticks": ""
             }
            }
           }
          ],
          "scatter3d": [
           {
            "type": "scatter3d",
            "line": {
             "colorbar": {
              "outlinewidth": 0,
              "ticks": ""
             }
            },
            "marker": {
             "colorbar": {
              "outlinewidth": 0,
              "ticks": ""
             }
            }
           }
          ],
          "scattermapbox": [
           {
            "type": "scattermapbox",
            "marker": {
             "colorbar": {
              "outlinewidth": 0,
              "ticks": ""
             }
            }
           }
          ],
          "scatterternary": [
           {
            "type": "scatterternary",
            "marker": {
             "colorbar": {
              "outlinewidth": 0,
              "ticks": ""
             }
            }
           }
          ],
          "scattercarpet": [
           {
            "type": "scattercarpet",
            "marker": {
             "colorbar": {
              "outlinewidth": 0,
              "ticks": ""
             }
            }
           }
          ],
          "carpet": [
           {
            "aaxis": {
             "endlinecolor": "#2a3f5f",
             "gridcolor": "white",
             "linecolor": "white",
             "minorgridcolor": "white",
             "startlinecolor": "#2a3f5f"
            },
            "baxis": {
             "endlinecolor": "#2a3f5f",
             "gridcolor": "white",
             "linecolor": "white",
             "minorgridcolor": "white",
             "startlinecolor": "#2a3f5f"
            },
            "type": "carpet"
           }
          ],
          "table": [
           {
            "cells": {
             "fill": {
              "color": "#EBF0F8"
             },
             "line": {
              "color": "white"
             }
            },
            "header": {
             "fill": {
              "color": "#C8D4E3"
             },
             "line": {
              "color": "white"
             }
            },
            "type": "table"
           }
          ],
          "barpolar": [
           {
            "marker": {
             "line": {
              "color": "#E5ECF6",
              "width": 0.5
             },
             "pattern": {
              "fillmode": "overlay",
              "size": 10,
              "solidity": 0.2
             }
            },
            "type": "barpolar"
           }
          ],
          "pie": [
           {
            "automargin": true,
            "type": "pie"
           }
          ]
         },
         "layout": {
          "autotypenumbers": "strict",
          "colorway": [
           "#636efa",
           "#EF553B",
           "#00cc96",
           "#ab63fa",
           "#FFA15A",
           "#19d3f3",
           "#FF6692",
           "#B6E880",
           "#FF97FF",
           "#FECB52"
          ],
          "font": {
           "color": "#2a3f5f"
          },
          "hovermode": "closest",
          "hoverlabel": {
           "align": "left"
          },
          "paper_bgcolor": "white",
          "plot_bgcolor": "#E5ECF6",
          "polar": {
           "bgcolor": "#E5ECF6",
           "angularaxis": {
            "gridcolor": "white",
            "linecolor": "white",
            "ticks": ""
           },
           "radialaxis": {
            "gridcolor": "white",
            "linecolor": "white",
            "ticks": ""
           }
          },
          "ternary": {
           "bgcolor": "#E5ECF6",
           "aaxis": {
            "gridcolor": "white",
            "linecolor": "white",
            "ticks": ""
           },
           "baxis": {
            "gridcolor": "white",
            "linecolor": "white",
            "ticks": ""
           },
           "caxis": {
            "gridcolor": "white",
            "linecolor": "white",
            "ticks": ""
           }
          },
          "coloraxis": {
           "colorbar": {
            "outlinewidth": 0,
            "ticks": ""
           }
          },
          "colorscale": {
           "sequential": [
            [
             0.0,
             "#0d0887"
            ],
            [
             0.1111111111111111,
             "#46039f"
            ],
            [
             0.2222222222222222,
             "#7201a8"
            ],
            [
             0.3333333333333333,
             "#9c179e"
            ],
            [
             0.4444444444444444,
             "#bd3786"
            ],
            [
             0.5555555555555556,
             "#d8576b"
            ],
            [
             0.6666666666666666,
             "#ed7953"
            ],
            [
             0.7777777777777778,
             "#fb9f3a"
            ],
            [
             0.8888888888888888,
             "#fdca26"
            ],
            [
             1.0,
             "#f0f921"
            ]
           ],
           "sequentialminus": [
            [
             0.0,
             "#0d0887"
            ],
            [
             0.1111111111111111,
             "#46039f"
            ],
            [
             0.2222222222222222,
             "#7201a8"
            ],
            [
             0.3333333333333333,
             "#9c179e"
            ],
            [
             0.4444444444444444,
             "#bd3786"
            ],
            [
             0.5555555555555556,
             "#d8576b"
            ],
            [
             0.6666666666666666,
             "#ed7953"
            ],
            [
             0.7777777777777778,
             "#fb9f3a"
            ],
            [
             0.8888888888888888,
             "#fdca26"
            ],
            [
             1.0,
             "#f0f921"
            ]
           ],
           "diverging": [
            [
             0,
             "#8e0152"
            ],
            [
             0.1,
             "#c51b7d"
            ],
            [
             0.2,
             "#de77ae"
            ],
            [
             0.3,
             "#f1b6da"
            ],
            [
             0.4,
             "#fde0ef"
            ],
            [
             0.5,
             "#f7f7f7"
            ],
            [
             0.6,
             "#e6f5d0"
            ],
            [
             0.7,
             "#b8e186"
            ],
            [
             0.8,
             "#7fbc41"
            ],
            [
             0.9,
             "#4d9221"
            ],
            [
             1,
             "#276419"
            ]
           ]
          },
          "xaxis": {
           "gridcolor": "white",
           "linecolor": "white",
           "ticks": "",
           "title": {
            "standoff": 15
           },
           "zerolinecolor": "white",
           "automargin": true,
           "zerolinewidth": 2
          },
          "yaxis": {
           "gridcolor": "white",
           "linecolor": "white",
           "ticks": "",
           "title": {
            "standoff": 15
           },
           "zerolinecolor": "white",
           "automargin": true,
           "zerolinewidth": 2
          },
          "scene": {
           "xaxis": {
            "backgroundcolor": "#E5ECF6",
            "gridcolor": "white",
            "linecolor": "white",
            "showbackground": true,
            "ticks": "",
            "zerolinecolor": "white",
            "gridwidth": 2
           },
           "yaxis": {
            "backgroundcolor": "#E5ECF6",
            "gridcolor": "white",
            "linecolor": "white",
            "showbackground": true,
            "ticks": "",
            "zerolinecolor": "white",
            "gridwidth": 2
           },
           "zaxis": {
            "backgroundcolor": "#E5ECF6",
            "gridcolor": "white",
            "linecolor": "white",
            "showbackground": true,
            "ticks": "",
            "zerolinecolor": "white",
            "gridwidth": 2
           }
          },
          "shapedefaults": {
           "line": {
            "color": "#2a3f5f"
           }
          },
          "annotationdefaults": {
           "arrowcolor": "#2a3f5f",
           "arrowhead": 0,
           "arrowwidth": 1
          },
          "geo": {
           "bgcolor": "white",
           "landcolor": "#E5ECF6",
           "subunitcolor": "white",
           "showland": true,
           "showlakes": true,
           "lakecolor": "white"
          },
          "title": {
           "x": 0.05
          },
          "mapbox": {
           "style": "light"
          }
         }
        },
        "title": {
         "text": "Diet Adherence Quartile Transitions for 3.17_481.2085m/z<br>N = 2218 participants"
        },
        "font": {
         "size": 12
        },
        "height": 600,
        "width": 800
       },
       "config": {
        "plotlyServerURL": "https://plot.ly"
       }
      },
      "text/html": "<div>                            <div id=\"c19d6529-e565-4358-924c-acfb104d9e50\" class=\"plotly-graph-div\" style=\"height:600px; width:800px;\"></div>            <script type=\"text/javascript\">                require([\"plotly\"], function(Plotly) {                    window.PLOTLYENV=window.PLOTLYENV || {};                                    if (document.getElementById(\"c19d6529-e565-4358-924c-acfb104d9e50\")) {                    Plotly.newPlot(                        \"c19d6529-e565-4358-924c-acfb104d9e50\",                        [{\"link\":{\"color\":[\"rgba(255, 182, 193, 0.7)\",\"rgba(255, 182, 193, 0.7)\",\"rgba(255, 182, 193, 0.7)\",\"rgba(255, 182, 193, 0.7)\",\"rgba(173, 216, 230, 0.7)\",\"rgba(173, 216, 230, 0.7)\",\"rgba(173, 216, 230, 0.7)\",\"rgba(173, 216, 230, 0.7)\",\"rgba(144, 238, 144, 0.7)\",\"rgba(144, 238, 144, 0.7)\",\"rgba(144, 238, 144, 0.7)\",\"rgba(144, 238, 144, 0.7)\",\"rgba(221, 160, 221, 0.7)\",\"rgba(221, 160, 221, 0.7)\",\"rgba(221, 160, 221, 0.7)\",\"rgba(221, 160, 221, 0.7)\"],\"source\":[0,0,0,0,1,1,1,1,2,2,2,2,3,3,3,3],\"target\":[4,5,6,7,4,5,6,7,4,5,6,7,4,5,6,7],\"value\":[282,127,97,49,132,186,144,92,91,154,156,153,50,87,157,261]},\"node\":{\"color\":[\"rgba(255, 182, 193, 0.7)\",\"rgba(173, 216, 230, 0.7)\",\"rgba(144, 238, 144, 0.7)\",\"rgba(221, 160, 221, 0.7)\",\"rgba(255, 182, 193, 0.7)\",\"rgba(173, 216, 230, 0.7)\",\"rgba(144, 238, 144, 0.7)\",\"rgba(221, 160, 221, 0.7)\"],\"label\":[\"Baseline Q1\\u003cbr\\u003e51% stable\\u003cbr\\u003eAvg change: 0.8 quartiles\",\"Baseline Q2\\u003cbr\\u003e34% stable\\u003cbr\\u003eAvg change: 0.4 quartiles\",\"Baseline Q3\\u003cbr\\u003e28% stable\\u003cbr\\u003eAvg change: -0.3 quartiles\",\"Baseline Q4\\u003cbr\\u003e47% stable\\u003cbr\\u003eAvg change: -0.9 quartiles\",\"Follow-up Q1\",\"Follow-up Q2\",\"Follow-up Q3\",\"Follow-up Q4\"],\"line\":{\"color\":\"black\",\"width\":0.5},\"pad\":15,\"thickness\":20},\"type\":\"sankey\"}],                        {\"template\":{\"data\":{\"histogram2dcontour\":[{\"type\":\"histogram2dcontour\",\"colorbar\":{\"outlinewidth\":0,\"ticks\":\"\"},\"colorscale\":[[0.0,\"#0d0887\"],[0.1111111111111111,\"#46039f\"],[0.2222222222222222,\"#7201a8\"],[0.3333333333333333,\"#9c179e\"],[0.4444444444444444,\"#bd3786\"],[0.5555555555555556,\"#d8576b\"],[0.6666666666666666,\"#ed7953\"],[0.7777777777777778,\"#fb9f3a\"],[0.8888888888888888,\"#fdca26\"],[1.0,\"#f0f921\"]]}],\"choropleth\":[{\"type\":\"choropleth\",\"colorbar\":{\"outlinewidth\":0,\"ticks\":\"\"}}],\"histogram2d\":[{\"type\":\"histogram2d\",\"colorbar\":{\"outlinewidth\":0,\"ticks\":\"\"},\"colorscale\":[[0.0,\"#0d0887\"],[0.1111111111111111,\"#46039f\"],[0.2222222222222222,\"#7201a8\"],[0.3333333333333333,\"#9c179e\"],[0.4444444444444444,\"#bd3786\"],[0.5555555555555556,\"#d8576b\"],[0.6666666666666666,\"#ed7953\"],[0.7777777777777778,\"#fb9f3a\"],[0.8888888888888888,\"#fdca26\"],[1.0,\"#f0f921\"]]}],\"heatmap\":[{\"type\":\"heatmap\",\"colorbar\":{\"outlinewidth\":0,\"ticks\":\"\"},\"colorscale\":[[0.0,\"#0d0887\"],[0.1111111111111111,\"#46039f\"],[0.2222222222222222,\"#7201a8\"],[0.3333333333333333,\"#9c179e\"],[0.4444444444444444,\"#bd3786\"],[0.5555555555555556,\"#d8576b\"],[0.6666666666666666,\"#ed7953\"],[0.7777777777777778,\"#fb9f3a\"],[0.8888888888888888,\"#fdca26\"],[1.0,\"#f0f921\"]]}],\"heatmapgl\":[{\"type\":\"heatmapgl\",\"colorbar\":{\"outlinewidth\":0,\"ticks\":\"\"},\"colorscale\":[[0.0,\"#0d0887\"],[0.1111111111111111,\"#46039f\"],[0.2222222222222222,\"#7201a8\"],[0.3333333333333333,\"#9c179e\"],[0.4444444444444444,\"#bd3786\"],[0.5555555555555556,\"#d8576b\"],[0.6666666666666666,\"#ed7953\"],[0.7777777777777778,\"#fb9f3a\"],[0.8888888888888888,\"#fdca26\"],[1.0,\"#f0f921\"]]}],\"contourcarpet\":[{\"type\":\"contourcarpet\",\"colorbar\":{\"outlinewidth\":0,\"ticks\":\"\"}}],\"contour\":[{\"type\":\"contour\",\"colorbar\":{\"outlinewidth\":0,\"ticks\":\"\"},\"colorscale\":[[0.0,\"#0d0887\"],[0.1111111111111111,\"#46039f\"],[0.2222222222222222,\"#7201a8\"],[0.3333333333333333,\"#9c179e\"],[0.4444444444444444,\"#bd3786\"],[0.5555555555555556,\"#d8576b\"],[0.6666666666666666,\"#ed7953\"],[0.7777777777777778,\"#fb9f3a\"],[0.8888888888888888,\"#fdca26\"],[1.0,\"#f0f921\"]]}],\"surface\":[{\"type\":\"surface\",\"colorbar\":{\"outlinewidth\":0,\"ticks\":\"\"},\"colorscale\":[[0.0,\"#0d0887\"],[0.1111111111111111,\"#46039f\"],[0.2222222222222222,\"#7201a8\"],[0.3333333333333333,\"#9c179e\"],[0.4444444444444444,\"#bd3786\"],[0.5555555555555556,\"#d8576b\"],[0.6666666666666666,\"#ed7953\"],[0.7777777777777778,\"#fb9f3a\"],[0.8888888888888888,\"#fdca26\"],[1.0,\"#f0f921\"]]}],\"mesh3d\":[{\"type\":\"mesh3d\",\"colorbar\":{\"outlinewidth\":0,\"ticks\":\"\"}}],\"scatter\":[{\"fillpattern\":{\"fillmode\":\"overlay\",\"size\":10,\"solidity\":0.2},\"type\":\"scatter\"}],\"parcoords\":[{\"type\":\"parcoords\",\"line\":{\"colorbar\":{\"outlinewidth\":0,\"ticks\":\"\"}}}],\"scatterpolargl\":[{\"type\":\"scatterpolargl\",\"marker\":{\"colorbar\":{\"outlinewidth\":0,\"ticks\":\"\"}}}],\"bar\":[{\"error_x\":{\"color\":\"#2a3f5f\"},\"error_y\":{\"color\":\"#2a3f5f\"},\"marker\":{\"line\":{\"color\":\"#E5ECF6\",\"width\":0.5},\"pattern\":{\"fillmode\":\"overlay\",\"size\":10,\"solidity\":0.2}},\"type\":\"bar\"}],\"scattergeo\":[{\"type\":\"scattergeo\",\"marker\":{\"colorbar\":{\"outlinewidth\":0,\"ticks\":\"\"}}}],\"scatterpolar\":[{\"type\":\"scatterpolar\",\"marker\":{\"colorbar\":{\"outlinewidth\":0,\"ticks\":\"\"}}}],\"histogram\":[{\"marker\":{\"pattern\":{\"fillmode\":\"overlay\",\"size\":10,\"solidity\":0.2}},\"type\":\"histogram\"}],\"scattergl\":[{\"type\":\"scattergl\",\"marker\":{\"colorbar\":{\"outlinewidth\":0,\"ticks\":\"\"}}}],\"scatter3d\":[{\"type\":\"scatter3d\",\"line\":{\"colorbar\":{\"outlinewidth\":0,\"ticks\":\"\"}},\"marker\":{\"colorbar\":{\"outlinewidth\":0,\"ticks\":\"\"}}}],\"scattermapbox\":[{\"type\":\"scattermapbox\",\"marker\":{\"colorbar\":{\"outlinewidth\":0,\"ticks\":\"\"}}}],\"scatterternary\":[{\"type\":\"scatterternary\",\"marker\":{\"colorbar\":{\"outlinewidth\":0,\"ticks\":\"\"}}}],\"scattercarpet\":[{\"type\":\"scattercarpet\",\"marker\":{\"colorbar\":{\"outlinewidth\":0,\"ticks\":\"\"}}}],\"carpet\":[{\"aaxis\":{\"endlinecolor\":\"#2a3f5f\",\"gridcolor\":\"white\",\"linecolor\":\"white\",\"minorgridcolor\":\"white\",\"startlinecolor\":\"#2a3f5f\"},\"baxis\":{\"endlinecolor\":\"#2a3f5f\",\"gridcolor\":\"white\",\"linecolor\":\"white\",\"minorgridcolor\":\"white\",\"startlinecolor\":\"#2a3f5f\"},\"type\":\"carpet\"}],\"table\":[{\"cells\":{\"fill\":{\"color\":\"#EBF0F8\"},\"line\":{\"color\":\"white\"}},\"header\":{\"fill\":{\"color\":\"#C8D4E3\"},\"line\":{\"color\":\"white\"}},\"type\":\"table\"}],\"barpolar\":[{\"marker\":{\"line\":{\"color\":\"#E5ECF6\",\"width\":0.5},\"pattern\":{\"fillmode\":\"overlay\",\"size\":10,\"solidity\":0.2}},\"type\":\"barpolar\"}],\"pie\":[{\"automargin\":true,\"type\":\"pie\"}]},\"layout\":{\"autotypenumbers\":\"strict\",\"colorway\":[\"#636efa\",\"#EF553B\",\"#00cc96\",\"#ab63fa\",\"#FFA15A\",\"#19d3f3\",\"#FF6692\",\"#B6E880\",\"#FF97FF\",\"#FECB52\"],\"font\":{\"color\":\"#2a3f5f\"},\"hovermode\":\"closest\",\"hoverlabel\":{\"align\":\"left\"},\"paper_bgcolor\":\"white\",\"plot_bgcolor\":\"#E5ECF6\",\"polar\":{\"bgcolor\":\"#E5ECF6\",\"angularaxis\":{\"gridcolor\":\"white\",\"linecolor\":\"white\",\"ticks\":\"\"},\"radialaxis\":{\"gridcolor\":\"white\",\"linecolor\":\"white\",\"ticks\":\"\"}},\"ternary\":{\"bgcolor\":\"#E5ECF6\",\"aaxis\":{\"gridcolor\":\"white\",\"linecolor\":\"white\",\"ticks\":\"\"},\"baxis\":{\"gridcolor\":\"white\",\"linecolor\":\"white\",\"ticks\":\"\"},\"caxis\":{\"gridcolor\":\"white\",\"linecolor\":\"white\",\"ticks\":\"\"}},\"coloraxis\":{\"colorbar\":{\"outlinewidth\":0,\"ticks\":\"\"}},\"colorscale\":{\"sequential\":[[0.0,\"#0d0887\"],[0.1111111111111111,\"#46039f\"],[0.2222222222222222,\"#7201a8\"],[0.3333333333333333,\"#9c179e\"],[0.4444444444444444,\"#bd3786\"],[0.5555555555555556,\"#d8576b\"],[0.6666666666666666,\"#ed7953\"],[0.7777777777777778,\"#fb9f3a\"],[0.8888888888888888,\"#fdca26\"],[1.0,\"#f0f921\"]],\"sequentialminus\":[[0.0,\"#0d0887\"],[0.1111111111111111,\"#46039f\"],[0.2222222222222222,\"#7201a8\"],[0.3333333333333333,\"#9c179e\"],[0.4444444444444444,\"#bd3786\"],[0.5555555555555556,\"#d8576b\"],[0.6666666666666666,\"#ed7953\"],[0.7777777777777778,\"#fb9f3a\"],[0.8888888888888888,\"#fdca26\"],[1.0,\"#f0f921\"]],\"diverging\":[[0,\"#8e0152\"],[0.1,\"#c51b7d\"],[0.2,\"#de77ae\"],[0.3,\"#f1b6da\"],[0.4,\"#fde0ef\"],[0.5,\"#f7f7f7\"],[0.6,\"#e6f5d0\"],[0.7,\"#b8e186\"],[0.8,\"#7fbc41\"],[0.9,\"#4d9221\"],[1,\"#276419\"]]},\"xaxis\":{\"gridcolor\":\"white\",\"linecolor\":\"white\",\"ticks\":\"\",\"title\":{\"standoff\":15},\"zerolinecolor\":\"white\",\"automargin\":true,\"zerolinewidth\":2},\"yaxis\":{\"gridcolor\":\"white\",\"linecolor\":\"white\",\"ticks\":\"\",\"title\":{\"standoff\":15},\"zerolinecolor\":\"white\",\"automargin\":true,\"zerolinewidth\":2},\"scene\":{\"xaxis\":{\"backgroundcolor\":\"#E5ECF6\",\"gridcolor\":\"white\",\"linecolor\":\"white\",\"showbackground\":true,\"ticks\":\"\",\"zerolinecolor\":\"white\",\"gridwidth\":2},\"yaxis\":{\"backgroundcolor\":\"#E5ECF6\",\"gridcolor\":\"white\",\"linecolor\":\"white\",\"showbackground\":true,\"ticks\":\"\",\"zerolinecolor\":\"white\",\"gridwidth\":2},\"zaxis\":{\"backgroundcolor\":\"#E5ECF6\",\"gridcolor\":\"white\",\"linecolor\":\"white\",\"showbackground\":true,\"ticks\":\"\",\"zerolinecolor\":\"white\",\"gridwidth\":2}},\"shapedefaults\":{\"line\":{\"color\":\"#2a3f5f\"}},\"annotationdefaults\":{\"arrowcolor\":\"#2a3f5f\",\"arrowhead\":0,\"arrowwidth\":1},\"geo\":{\"bgcolor\":\"white\",\"landcolor\":\"#E5ECF6\",\"subunitcolor\":\"white\",\"showland\":true,\"showlakes\":true,\"lakecolor\":\"white\"},\"title\":{\"x\":0.05},\"mapbox\":{\"style\":\"light\"}}},\"title\":{\"text\":\"Diet Adherence Quartile Transitions for 3.17_481.2085m\\u002fz\\u003cbr\\u003eN = 2218 participants\"},\"font\":{\"size\":12},\"height\":600,\"width\":800},                        {\"responsive\": true}                    ).then(function(){\n                            \nvar gd = document.getElementById('c19d6529-e565-4358-924c-acfb104d9e50');\nvar x = new MutationObserver(function (mutations, observer) {{\n        var display = window.getComputedStyle(gd).display;\n        if (!display || display === 'none') {{\n            console.log([gd, 'removed!']);\n            Plotly.purge(gd);\n            observer.disconnect();\n        }}\n}});\n\n// Listen for the removal of the full notebook cells\nvar notebookContainer = gd.closest('#notebook-container');\nif (notebookContainer) {{\n    x.observe(notebookContainer, {childList: true});\n}}\n\n// Listen for the clearing of the current output cell\nvar outputEl = gd.closest('.output');\nif (outputEl) {{\n    x.observe(outputEl, {childList: true});\n}}\n\n                        })                };                });            </script>        </div>"
     },
     "metadata": {},
     "output_type": "display_data"
    }
   ],
   "source": [
    "# Example usage:\n",
    "# Assuming your dataframes are named baseline_df and followup_df\n",
    "# and they have columns 'diet_score' and 'participant_id'\n",
    "\n",
    "# diet_type = 'med_score_per_day'\n",
    "diet_type = '3.17_481.2085m/z'\n",
    "fig = create_diet_alluvial(\n",
    "    baseline_df=ms_joined_diet_features,\n",
    "    followup_df=serf_full_visit2_diet,\n",
    "    diet_score_col=diet_type,\n",
    ")\n",
    "\n",
    "# Show the plot\n",
    "fig.show()\n",
    "\n",
    "# Optional: save to HTML file\n",
    "fig.write_html(FIGS_DIR + f\"/diet_adherence_alluvial_topSHAP_MED.html\")"
   ],
   "metadata": {
    "collapsed": false,
    "ExecuteTime": {
     "end_time": "2025-02-20T07:42:08.046146Z",
     "start_time": "2025-02-20T07:42:07.864813Z"
    }
   },
   "id": "3358ec4724966c68",
   "execution_count": 1174
  },
  {
   "cell_type": "code",
   "outputs": [],
   "source": [
    "serf_full_visit2_diet['3.17_481.2085m/z'].to_csv(DIET_PAPER_DIR + '/visit2_3.17_481.2085mz.csv')"
   ],
   "metadata": {
    "collapsed": false,
    "ExecuteTime": {
     "end_time": "2025-02-20T07:59:03.536755Z",
     "start_time": "2025-02-20T07:59:03.522970Z"
    }
   },
   "id": "82ce47dab73d48ba",
   "execution_count": 1175
  },
  {
   "cell_type": "code",
   "outputs": [
    {
     "data": {
      "text/plain": "Index(['3.99_357.1006m/z', '3.99_479.2644m/z', '3.99_491.2279m/z',\n       '3.99_495.2595m/z', '3.99_391.2860m/z', '3.99_257.2506m/z',\n       '3.99_505.3349m/z', '3.99_121.1022m/z', '3.99_165.0923m/z',\n       '3.99_179.1804m/z',\n       ...\n       'Vegetables', 'bakedgoods', 'fruitjuicesandsoftdrinks',\n       'milkcreamcheeseandyogurts', 'sweetmilkproducts', 'sweets', 'keto',\n       'is_vegetarian', 'NOVA_food_score',\n       'Energy Expenditure / Consumption Ratio'],\n      dtype='object', length=2914)"
     },
     "execution_count": 1172,
     "metadata": {},
     "output_type": "execute_result"
    }
   ],
   "source": [
    "ms_joined_diet_features.columns"
   ],
   "metadata": {
    "collapsed": false,
    "ExecuteTime": {
     "end_time": "2025-02-20T07:38:50.806102Z",
     "start_time": "2025-02-20T07:38:50.801531Z"
    }
   },
   "id": "6621fe8bc9a03a46",
   "execution_count": 1172
  },
  {
   "cell_type": "code",
   "outputs": [],
   "source": [
    "serf_full_visit2_diet[['age', 'gender', 'bmi']].to_csv(DIET_PAPER_DIR + '/visit2_agb.csv')"
   ],
   "metadata": {
    "collapsed": false,
    "ExecuteTime": {
     "end_time": "2025-02-19T15:02:54.931448Z",
     "start_time": "2025-02-19T15:02:54.908990Z"
    }
   },
   "id": "1147b45be23c422d",
   "execution_count": 1169
  },
  {
   "cell_type": "code",
   "outputs": [],
   "source": [
    "phipseq_celiac = pd.read_csv('/net/mraid20/ifs/wisdom/segal_lab/genie/LabData/QC/DYsp/For_tomer/phipseq_diet_metadata_merge.csv', index_col=0)"
   ],
   "metadata": {
    "collapsed": false,
    "ExecuteTime": {
     "end_time": "2025-03-10T12:24:46.566063Z",
     "start_time": "2025-03-10T12:24:46.487576Z"
    }
   },
   "id": "7d8a9f6727777ceb",
   "execution_count": 1339
  },
  {
   "cell_type": "code",
   "outputs": [
    {
     "data": {
      "text/plain": "Index(['agilent_129839', 'agilent_231419', 'agilent_5001', 'agilent_237411',\n       'agilent_102872', 'agilent_1167', 'agilent_235512', 'agilent_179435',\n       'agilent_6339', 'agilent_79560',\n       ...\n       'fruitjuicesandsoftdrinks', 'milkcreamcheeseandyogurts',\n       'sweetmilkproducts', 'sweets', 'Energy Expenditure / Consumption Ratio',\n       'gluten_free_score_foods', 'age', 'gender', 'bmi', 'Class'],\n      dtype='object', length=2380)"
     },
     "execution_count": 1340,
     "metadata": {},
     "output_type": "execute_result"
    }
   ],
   "source": [
    "phipseq_celiac.columns"
   ],
   "metadata": {
    "collapsed": false,
    "ExecuteTime": {
     "end_time": "2025-03-10T12:24:55.833628Z",
     "start_time": "2025-03-10T12:24:55.829617Z"
    }
   },
   "id": "445ddf680ca567f5",
   "execution_count": 1340
  },
  {
   "cell_type": "code",
   "outputs": [],
   "source": [
    "# take all columns containing agilent or twist\n",
    "agilent_cols = [col for col in phipseq_celiac.columns if 'agilent' in col or 'twist' in col]"
   ],
   "metadata": {
    "collapsed": false,
    "ExecuteTime": {
     "end_time": "2025-03-10T12:27:24.611722Z",
     "start_time": "2025-03-10T12:27:24.607917Z"
    }
   },
   "id": "2587777b8df9036f",
   "execution_count": 1341
  },
  {
   "cell_type": "code",
   "outputs": [],
   "source": [
    "phipseq_celiac['Class'] = phipseq_celiac['Class'].apply(lambda x: 1 if x == 'Celiac' else 0)"
   ],
   "metadata": {
    "collapsed": false,
    "ExecuteTime": {
     "end_time": "2025-03-10T12:30:14.550771Z",
     "start_time": "2025-03-10T12:30:14.547117Z"
    }
   },
   "id": "9e25412dea6286cc",
   "execution_count": 1346
  },
  {
   "cell_type": "code",
   "outputs": [],
   "source": [
    "phipseq_celiac_healthy_only = phipseq_celiac[phipseq_celiac['Class'] == 1].copy()"
   ],
   "metadata": {
    "collapsed": false,
    "ExecuteTime": {
     "end_time": "2025-03-10T12:42:08.456881Z",
     "start_time": "2025-03-10T12:42:08.453369Z"
    }
   },
   "id": "3d3eb6020eebaabe",
   "execution_count": 1375
  },
  {
   "cell_type": "code",
   "outputs": [],
   "source": [
    "par_corrs = calculate_partial_correlations(phipseq_celiac, agilent_cols, ['gluten_free_score_foods'], ['age', 'gender', 'bmi', 'Class'])"
   ],
   "metadata": {
    "collapsed": false,
    "ExecuteTime": {
     "end_time": "2025-03-10T12:46:56.929198Z",
     "start_time": "2025-03-10T12:46:48.442259Z"
    }
   },
   "id": "64ee8a6ffaa1fcc2",
   "execution_count": 1380
  },
  {
   "cell_type": "code",
   "outputs": [],
   "source": [
    "par_corrs.to_csv('/net/mraid20/ifs/wisdom/segal_lab/genie/LabData/QC/DYsp/celiac/par_corrs_agilent_twist.csv')"
   ],
   "metadata": {
    "collapsed": false,
    "ExecuteTime": {
     "end_time": "2025-03-10T12:49:37.432191Z",
     "start_time": "2025-03-10T12:49:37.379144Z"
    }
   },
   "id": "3a4d35ad5ea4eba5",
   "execution_count": 1385
  },
  {
   "cell_type": "code",
   "outputs": [
    {
     "data": {
      "text/plain": "<Figure size 640x480 with 1 Axes>",
      "image/png": "[encoded data removed]"
     },
     "metadata": {},
     "output_type": "display_data"
    }
   ],
   "source": [
    "fig = par_corrs['Partial_Correlation'].hist(bins=40)"
   ],
   "metadata": {
    "collapsed": false,
    "ExecuteTime": {
     "end_time": "2025-03-10T12:51:28.921617Z",
     "start_time": "2025-03-10T12:51:28.776904Z"
    }
   },
   "id": "f5aec9dd779178",
   "execution_count": 1386
  },
  {
   "cell_type": "code",
   "outputs": [],
   "source": [
    "# save the fig \n",
    "fig.get_figure().savefig('/net/mraid20/ifs/wisdom/segal_lab/genie/LabData/QC/DYsp/celiac/par_corrs_hist_agilent_twist.png', dpi=300)"
   ],
   "metadata": {
    "collapsed": false,
    "ExecuteTime": {
     "end_time": "2025-03-10T12:52:09.812586Z",
     "start_time": "2025-03-10T12:52:09.638468Z"
    }
   },
   "id": "25b42eb272f66122",
   "execution_count": 1387
  },
  {
   "cell_type": "code",
   "outputs": [
    {
     "ename": "KeyError",
     "evalue": "'Class_correlation'",
     "output_type": "error",
     "traceback": [
      "\u001B[0;31m---------------------------------------------------------------------------\u001B[0m",
      "\u001B[0;31mKeyError\u001B[0m                                  Traceback (most recent call last)",
      "File \u001B[0;32m/net/mraid20/export/jasmine/david/anaconda3/envs/freshEnv/lib/python3.11/site-packages/pandas/core/indexes/base.py:3805\u001B[0m, in \u001B[0;36mIndex.get_loc\u001B[0;34m(self, key)\u001B[0m\n\u001B[1;32m   3804\u001B[0m \u001B[38;5;28;01mtry\u001B[39;00m:\n\u001B[0;32m-> 3805\u001B[0m     \u001B[38;5;28;01mreturn\u001B[39;00m \u001B[38;5;28mself\u001B[39m\u001B[38;5;241m.\u001B[39m_engine\u001B[38;5;241m.\u001B[39mget_loc(casted_key)\n\u001B[1;32m   3806\u001B[0m \u001B[38;5;28;01mexcept\u001B[39;00m \u001B[38;5;167;01mKeyError\u001B[39;00m \u001B[38;5;28;01mas\u001B[39;00m err:\n",
      "File \u001B[0;32mindex.pyx:167\u001B[0m, in \u001B[0;36mpandas._libs.index.IndexEngine.get_loc\u001B[0;34m()\u001B[0m\n",
      "File \u001B[0;32mindex.pyx:196\u001B[0m, in \u001B[0;36mpandas._libs.index.IndexEngine.get_loc\u001B[0;34m()\u001B[0m\n",
      "File \u001B[0;32mpandas/_libs/hashtable_class_helper.pxi:7081\u001B[0m, in \u001B[0;36mpandas._libs.hashtable.PyObjectHashTable.get_item\u001B[0;34m()\u001B[0m\n",
      "File \u001B[0;32mpandas/_libs/hashtable_class_helper.pxi:7089\u001B[0m, in \u001B[0;36mpandas._libs.hashtable.PyObjectHashTable.get_item\u001B[0;34m()\u001B[0m\n",
      "\u001B[0;31mKeyError\u001B[0m: 'Class_correlation'",
      "\nThe above exception was the direct cause of the following exception:\n",
      "\u001B[0;31mKeyError\u001B[0m                                  Traceback (most recent call last)",
      "Cell \u001B[0;32mIn[1372], line 1\u001B[0m\n\u001B[0;32m----> 1\u001B[0m par_corrs[\u001B[38;5;124m'\u001B[39m\u001B[38;5;124mClass_correlation\u001B[39m\u001B[38;5;124m'\u001B[39m]\u001B[38;5;241m.\u001B[39mhist(bins\u001B[38;5;241m=\u001B[39m\u001B[38;5;241m40\u001B[39m)\n",
      "File \u001B[0;32m/net/mraid20/export/jasmine/david/anaconda3/envs/freshEnv/lib/python3.11/site-packages/pandas/core/frame.py:4102\u001B[0m, in \u001B[0;36mDataFrame.__getitem__\u001B[0;34m(self, key)\u001B[0m\n\u001B[1;32m   4100\u001B[0m \u001B[38;5;28;01mif\u001B[39;00m \u001B[38;5;28mself\u001B[39m\u001B[38;5;241m.\u001B[39mcolumns\u001B[38;5;241m.\u001B[39mnlevels \u001B[38;5;241m>\u001B[39m \u001B[38;5;241m1\u001B[39m:\n\u001B[1;32m   4101\u001B[0m     \u001B[38;5;28;01mreturn\u001B[39;00m \u001B[38;5;28mself\u001B[39m\u001B[38;5;241m.\u001B[39m_getitem_multilevel(key)\n\u001B[0;32m-> 4102\u001B[0m indexer \u001B[38;5;241m=\u001B[39m \u001B[38;5;28mself\u001B[39m\u001B[38;5;241m.\u001B[39mcolumns\u001B[38;5;241m.\u001B[39mget_loc(key)\n\u001B[1;32m   4103\u001B[0m \u001B[38;5;28;01mif\u001B[39;00m is_integer(indexer):\n\u001B[1;32m   4104\u001B[0m     indexer \u001B[38;5;241m=\u001B[39m [indexer]\n",
      "File \u001B[0;32m/net/mraid20/export/jasmine/david/anaconda3/envs/freshEnv/lib/python3.11/site-packages/pandas/core/indexes/base.py:3812\u001B[0m, in \u001B[0;36mIndex.get_loc\u001B[0;34m(self, key)\u001B[0m\n\u001B[1;32m   3807\u001B[0m     \u001B[38;5;28;01mif\u001B[39;00m \u001B[38;5;28misinstance\u001B[39m(casted_key, \u001B[38;5;28mslice\u001B[39m) \u001B[38;5;129;01mor\u001B[39;00m (\n\u001B[1;32m   3808\u001B[0m         \u001B[38;5;28misinstance\u001B[39m(casted_key, abc\u001B[38;5;241m.\u001B[39mIterable)\n\u001B[1;32m   3809\u001B[0m         \u001B[38;5;129;01mand\u001B[39;00m \u001B[38;5;28many\u001B[39m(\u001B[38;5;28misinstance\u001B[39m(x, \u001B[38;5;28mslice\u001B[39m) \u001B[38;5;28;01mfor\u001B[39;00m x \u001B[38;5;129;01min\u001B[39;00m casted_key)\n\u001B[1;32m   3810\u001B[0m     ):\n\u001B[1;32m   3811\u001B[0m         \u001B[38;5;28;01mraise\u001B[39;00m InvalidIndexError(key)\n\u001B[0;32m-> 3812\u001B[0m     \u001B[38;5;28;01mraise\u001B[39;00m \u001B[38;5;167;01mKeyError\u001B[39;00m(key) \u001B[38;5;28;01mfrom\u001B[39;00m \u001B[38;5;21;01merr\u001B[39;00m\n\u001B[1;32m   3813\u001B[0m \u001B[38;5;28;01mexcept\u001B[39;00m \u001B[38;5;167;01mTypeError\u001B[39;00m:\n\u001B[1;32m   3814\u001B[0m     \u001B[38;5;66;03m# If we have a listlike key, _check_indexing_error will raise\u001B[39;00m\n\u001B[1;32m   3815\u001B[0m     \u001B[38;5;66;03m#  InvalidIndexError. Otherwise we fall through and re-raise\u001B[39;00m\n\u001B[1;32m   3816\u001B[0m     \u001B[38;5;66;03m#  the TypeError.\u001B[39;00m\n\u001B[1;32m   3817\u001B[0m     \u001B[38;5;28mself\u001B[39m\u001B[38;5;241m.\u001B[39m_check_indexing_error(key)\n",
      "\u001B[0;31mKeyError\u001B[0m: 'Class_correlation'"
     ]
    }
   ],
   "source": [
    "par_corrs['Class_correlation'].hist(bins=40)"
   ],
   "metadata": {
    "collapsed": false,
    "ExecuteTime": {
     "end_time": "2025-03-10T12:41:33.842976Z",
     "start_time": "2025-03-10T12:41:33.732387Z"
    }
   },
   "id": "32233089cb2601f",
   "execution_count": 1372
  },
  {
   "cell_type": "code",
   "outputs": [],
   "source": [
    "diet_features_agb = diet_features.join(agb_baseline, how='inner')\n",
    "diet_features_agb[diet_features.columns].drop(columns=['Energy / BMR', 'Energy']).to_csv(output_data_dir + '/Diet_Tests/diet_features_baseline.csv')\n",
    "diet_features_agb[agb_baseline.columns].to_csv(output_data_dir + '/Diet_Tests/agb_baseline.csv')\n",
    "diet_features_agb[diet_scores].to_csv(output_data_dir + '/Diet_Tests/diet_scores_baseline.csv')"
   ],
   "metadata": {
    "collapsed": false,
    "ExecuteTime": {
     "end_time": "2025-03-19T09:18:26.780055Z",
     "start_time": "2025-03-19T09:18:20.160282Z"
    }
   },
   "id": "f279eb975d22242a",
   "execution_count": 1744
  },
  {
   "cell_type": "markdown",
   "source": [
    "### Indoleacrylic acid"
   ],
   "metadata": {
    "collapsed": false
   },
   "id": "a3146144f720bcfe"
  },
  {
   "cell_type": "code",
   "outputs": [],
   "source": [
    "metabo = '1.80_186.0563m/z_143.14'"
   ],
   "metadata": {
    "collapsed": false,
    "ExecuteTime": {
     "end_time": "2025-04-30T14:55:50.158670Z",
     "start_time": "2025-04-30T14:55:50.156292Z"
    }
   },
   "id": "7b3711a9579af27a",
   "execution_count": 1025
  },
  {
   "cell_type": "code",
   "outputs": [],
   "source": [
    "# correlate indoleacrylic acid the rest of teh features\n",
    "indoleacrylic_acid = serrf_full_base[metabo].values"
   ],
   "metadata": {
    "collapsed": false,
    "ExecuteTime": {
     "end_time": "2025-04-30T14:56:50.245487Z",
     "start_time": "2025-04-30T14:56:50.242926Z"
    }
   },
   "id": "803481104f9b9cbb",
   "execution_count": 1028
  },
  {
   "cell_type": "code",
   "outputs": [],
   "source": [
    "import pandas as pd\n",
    "import numpy as np\n",
    "import matplotlib.pyplot as plt\n",
    "import seaborn as sns\n",
    "\n",
    "def correlate_feature(df, target_feature, features_to_correlate=None, plot=True, \n",
    "                      sort=True, threshold=None, method='pearson'):\n",
    "    \"\"\"\n",
    "    Correlate a target feature with other features in a DataFrame.\n",
    "    \n",
    "    Parameters:\n",
    "    -----------\n",
    "    df : pandas.DataFrame\n",
    "        The DataFrame containing the data\n",
    "    target_feature : str\n",
    "        The name of the feature to correlate with others\n",
    "    features_to_correlate : list, optional\n",
    "        List of feature names to correlate with the target feature.\n",
    "        If None, correlates with all features except the target.\n",
    "    plot : bool, default=True\n",
    "        Whether to plot the correlation results\n",
    "    sort : bool, default=True\n",
    "        Whether to sort the correlations by absolute value\n",
    "    threshold : float, optional\n",
    "        If provided, only show correlations with absolute value above this threshold\n",
    "    method : str, default='pearson'\n",
    "        Correlation method to use ('pearson', 'spearman', or 'kendall')\n",
    "        \n",
    "    Returns:\n",
    "    --------\n",
    "    pandas.Series\n",
    "        Series containing correlation values between target feature and others\n",
    "    \"\"\"\n",
    "    # Validate target feature is in the DataFrame\n",
    "    if target_feature not in df.columns:\n",
    "        raise ValueError(f\"Target feature '{target_feature}' not found in DataFrame\")\n",
    "    \n",
    "    # Determine which features to correlate with\n",
    "    if features_to_correlate is None:\n",
    "        features_to_correlate = [col for col in df.columns if col != target_feature]\n",
    "    else:\n",
    "        # Validate all specified features exist in the DataFrame\n",
    "        missing_features = [f for f in features_to_correlate if f not in df.columns]\n",
    "        if missing_features:\n",
    "            raise ValueError(f\"Features not found in DataFrame: {missing_features}\")\n",
    "        \n",
    "        # Remove target feature from features_to_correlate if it's there\n",
    "        if target_feature in features_to_correlate:\n",
    "            features_to_correlate.remove(target_feature)\n",
    "    \n",
    "    # Calculate correlations\n",
    "    correlations = df[features_to_correlate].corrwith(df[target_feature], method=method)\n",
    "    \n",
    "    # Apply threshold if specified\n",
    "    if threshold is not None:\n",
    "        correlations = correlations[abs(correlations) >= threshold]\n",
    "    \n",
    "    # Sort by absolute correlation value if requested\n",
    "    if sort:\n",
    "        correlations = correlations.reindex(correlations.abs().sort_values(ascending=False).index)\n",
    "    \n",
    "    # Plot results if requested\n",
    "    if plot and not correlations.empty:\n",
    "        plt.figure(figsize=(10, len(correlations)/3 + 2))\n",
    "        \n",
    "        # Create bar plot\n",
    "        ax = sns.barplot(x=correlations.values, y=correlations.index, orient='h')\n",
    "        \n",
    "        # Add vertical line at x=0\n",
    "        plt.axvline(x=0, color='black', linestyle='-', alpha=0.3)\n",
    "        \n",
    "        # Add correlation values to the end of each bar\n",
    "        for i, v in enumerate(correlations.values):\n",
    "            ax.text(v + (0.01 if v >= 0 else -0.07), i, f'{v:.3f}', \n",
    "                    va='center', color='black')\n",
    "        \n",
    "        plt.title(f\"Correlation with {target_feature} ({method})\")\n",
    "        plt.xlabel(\"Correlation coefficient\")\n",
    "        plt.tight_layout()\n",
    "        plt.savefig(FIGS_DIR + f\"/indoleacrylic_correlation.png\", dpi=300)\n",
    "        plt.show()\n",
    "    \n",
    "    return correlations\n"
   ],
   "metadata": {
    "collapsed": false,
    "ExecuteTime": {
     "end_time": "2025-04-30T15:02:23.241205Z",
     "start_time": "2025-04-30T15:02:23.234596Z"
    }
   },
   "id": "c7b0985abba887b1",
   "execution_count": 1038
  },
  {
   "cell_type": "code",
   "outputs": [
    {
     "data": {
      "text/plain": "['s__Acidaminococcus_intestini',\n 's__Adlercreutzia_equolifaciens',\n 's__Agathobaculum_butyriciproducens',\n 's__Akkermansia_muciniphila',\n 's__Alistipes_communis',\n 's__Alistipes_dispar',\n 's__Alistipes_finegoldii',\n 's__Alistipes_ihumii',\n 's__Alistipes_indistinctus',\n 's__Alistipes_onderdonkii',\n 's__Alistipes_putredinis',\n 's__Alistipes_senegalensis',\n 's__Alistipes_shahii',\n 's__Alistipes_sp_AF17_16',\n 's__Alistipes_timonensis',\n 's__Anaerobutyricum_hallii',\n 's__Anaerobutyricum_soehngenii',\n 's__Anaerostipes_hadrus',\n 's__Anaerotignum_faecicola',\n 's__Anaerotignum_sp_MSJ_24',\n 's__Bacteroides_caccae',\n 's__Bacteroides_cellulosilyticus',\n 's__Bacteroides_clarus',\n 's__Bacteroides_eggerthii',\n 's__Bacteroides_faecis',\n 's__Bacteroides_finegoldii',\n 's__Bacteroides_fragilis',\n 's__Bacteroides_intestinalis',\n 's__Bacteroides_nordii',\n 's__Bacteroides_ovatus',\n 's__Bacteroides_salyersiae',\n 's__Bacteroides_stercoris',\n 's__Bacteroides_thetaiotaomicron',\n 's__Bacteroides_uniformis',\n 's__Bacteroides_xylanisolvens',\n 's__Barnesiella_intestinihominis',\n 's__Bifidobacterium_adolescentis',\n 's__Bifidobacterium_angulatum',\n 's__Bifidobacterium_bifidum',\n 's__Bifidobacterium_catenulatum',\n 's__Bifidobacterium_longum',\n 's__Bifidobacterium_pseudocatenulatum',\n 's__Bilophila_SGB15451',\n 's__Bilophila_wadsworthia',\n 's__Blautia_SGB101324',\n 's__Blautia_SGB4815',\n 's__Blautia_faecicola',\n 's__Blautia_faecis',\n 's__Blautia_glucerasea',\n 's__Blautia_luti',\n 's__Blautia_massiliensis',\n 's__Blautia_obeum',\n 's__Blautia_sp_MCC283',\n 's__Blautia_stercoris',\n 's__Blautia_wexlerae',\n 's__Brotolimicola_acetigignens',\n 's__Butyricicoccus_SGB14990',\n 's__Butyricicoccus_intestinisimiae',\n 's__Butyricimonas_faecalis',\n 's__Butyricimonas_faecihominis',\n 's__Butyricimonas_paravirosa',\n 's__Butyricimonas_virosa',\n 's__Candidatus_Borkfalkia_ceftriaxoniphila',\n 's__Candidatus_Cibionibacter_quicibialis',\n 's__Candidatus_Gastranaerophilales_bacterium',\n 's__Catenibacterium_tridentinum',\n 's__Clostridiaceae_bacterium',\n 's__Clostridiaceae_bacterium_AF18_31LB',\n 's__Clostridiaceae_bacterium_Marseille_Q4143',\n 's__Clostridiaceae_bacterium_Marseille_Q4145',\n 's__Clostridiaceae_bacterium_Marseille_Q4149',\n 's__Clostridiaceae_unclassified_SGB15090',\n 's__Clostridiaceae_unclassified_SGB4771',\n 's__Clostridiales_bacterium',\n 's__Clostridiales_bacterium_KLE1615',\n 's__Clostridium_SGB4750',\n 's__Clostridium_SGB48024',\n 's__Clostridium_SGB4909',\n 's__Clostridium_SGB6179',\n 's__Clostridium_fessum',\n 's__Clostridium_sp_AF12_28',\n 's__Clostridium_sp_AF20_17LB',\n 's__Clostridium_sp_AF27_2AA',\n 's__Clostridium_sp_AF36_4',\n 's__Clostridium_sp_AM22_11AC',\n 's__Clostridium_sp_AM33_3',\n 's__Clostridium_sp_AM49_4BH',\n 's__Colidextribacter_sp_210702_DFI_3_9',\n 's__Collinsella_aerofaciens',\n 's__Coprobacter_fastidiosus',\n 's__Coprobacter_secundus',\n 's__Coprococcus_catus',\n 's__Coprococcus_comes',\n 's__Coprococcus_eutactus',\n 's__Desulfovibrio_piger',\n 's__Dialister_hominis',\n 's__Dorea_formicigenerans',\n 's__Dorea_longicatena',\n 's__Dorea_sp_AF36_15AT',\n 's__Duodenibacillus_massiliensis',\n 's__Dysosmobacter_welbionis',\n 's__Ellagibacter_isourolithinifaciens',\n 's__Enterocloster_hominis',\n 's__Escherichia_coli',\n 's__Eubacteriaceae_bacterium',\n 's__Eubacterium_ramulus',\n 's__Eubacterium_rectale',\n 's__Eubacterium_siraeum',\n 's__Eubacterium_ventriosum',\n 's__Evtepia_gabavorous',\n 's__Faecalibacillus_faecis',\n 's__Faecalibacillus_intestinalis',\n 's__Faecalibacterium_SGB15346',\n 's__Faecalibacterium_prausnitzii',\n 's__Faecalibacterium_sp_CLA_AA_H233',\n 's__Faecalibacterium_sp_HTFF',\n 's__Faecalicatena_fissicatena',\n 's__Flavonifractor_plautii',\n 's__Fusicatenibacter_saccharivorans',\n 's__Fusicatenibacter_sp_CLA_AA_H277',\n 's__GGB1266_SGB1699',\n 's__GGB13404_SGB14252',\n 's__GGB13489_SGB15224',\n 's__GGB13493_SGB15238',\n 's__GGB1420_SGB1957',\n 's__GGB1495_SGB2071',\n 's__GGB1662_SGB2276',\n 's__GGB1689_SGB2321',\n 's__GGB2848_SGB3813',\n 's__GGB2958_SGB3940',\n 's__GGB2970_SGB3952',\n 's__GGB2983_SGB3965',\n 's__GGB2996_SGB3983',\n 's__GGB2998_SGB3988',\n 's__GGB2998_SGB3989',\n 's__GGB3109_SGB4121',\n 's__GGB3111_SGB4123',\n 's__GGB3118_SGB4130',\n 's__GGB3175_SGB4191',\n 's__GGB3189_SGB4212',\n 's__GGB3256_SGB4303',\n 's__GGB3277_SGB4327',\n 's__GGB3278_SGB4328',\n 's__GGB3281_SGB4335',\n 's__GGB3288_SGB4342',\n 's__GGB3304_SGB4367',\n 's__GGB3321_SGB4394',\n 's__GGB3321_SGB4395',\n 's__GGB3345_SGB4425',\n 's__GGB33469_SGB15236',\n 's__GGB33469_SGB15237',\n 's__GGB33586_SGB53517',\n 's__GGB3363_SGB4447',\n 's__GGB34228_SGB72916',\n 's__GGB3478_SGB4643',\n 's__GGB34797_SGB14322',\n 's__GGB3480_SGB4648',\n 's__GGB3486_SGB4658',\n 's__GGB3612_SGB4882',\n 's__GGB3619_SGB4894',\n 's__GGB36267_SGB14177',\n 's__GGB3627_SGB4906',\n 's__GGB36331_SGB15121',\n 's__GGB3637_SGB4930',\n 's__GGB3653_SGB4964',\n 's__GGB3730_SGB5060',\n 's__GGB3740_SGB5076',\n 's__GGB3740_SGB5077',\n 's__GGB39037_SGB4393',\n 's__GGB4266_SGB5809',\n 's__GGB4552_SGB6276',\n 's__GGB4554_SGB6285',\n 's__GGB4559_SGB6293',\n 's__GGB4566_SGB6305',\n 's__GGB4567_SGB6308',\n 's__GGB4569_SGB6310',\n 's__GGB4571_SGB6317',\n 's__GGB4578_SGB6328',\n 's__GGB4583_SGB6334',\n 's__GGB4585_SGB6340',\n 's__GGB4588_SGB6347',\n 's__GGB4596_SGB6358',\n 's__GGB4599_SGB6362',\n 's__GGB4603_SGB6367',\n 's__GGB4604_SGB6370',\n 's__GGB4604_SGB6371',\n 's__GGB4642_SGB6421',\n 's__GGB4642_SGB6422',\n 's__GGB4644_SGB6428',\n 's__GGB4651_SGB6438',\n 's__GGB4653_SGB6440',\n 's__GGB4676_SGB6465',\n 's__GGB4682_SGB6472',\n 's__GGB4683_SGB6473',\n 's__GGB4684_SGB6478',\n 's__GGB4699_SGB6502',\n 's__GGB4699_SGB6503',\n 's__GGB4745_SGB6571',\n 's__GGB4750_SGB6579',\n 's__GGB4754_SGB6584',\n 's__GGB47687_SGB2286',\n 's__GGB4768_SGB6601',\n 's__GGB4769_SGB6602',\n 's__GGB4774_SGB6609',\n 's__GGB51647_SGB4348',\n 's__GGB51884_SGB49168',\n 's__GGB52130_SGB14966',\n 's__GGB58485_SGB80143',\n 's__GGB6012_SGB8640',\n 's__GGB6123_SGB8767',\n 's__GGB6132_SGB8779',\n 's__GGB6470_SGB9153',\n 's__GGB6518_SGB9205',\n 's__GGB6601_SGB9333',\n 's__GGB6606_SGB9340',\n 's__GGB6608_SGB9342',\n 's__GGB6610_SGB9344',\n 's__GGB6612_SGB9346',\n 's__GGB6613_SGB9347',\n 's__GGB6649_SGB9391',\n 's__GGB87445_SGB15180',\n 's__GGB87445_SGB53522',\n 's__GGB9060_SGB13977',\n 's__GGB9061_SGB13979',\n 's__GGB9062_SGB13981',\n 's__GGB9063_SGB13982',\n 's__GGB9064_SGB13983',\n 's__GGB9091_SGB14020',\n 's__GGB9109_SGB14042',\n 's__GGB9176_SGB14114',\n 's__GGB9189_SGB14128',\n 's__GGB9253_SGB14198',\n 's__GGB9258_SGB14205',\n 's__GGB9261_SGB14209',\n 's__GGB9266_SGB14215',\n 's__GGB9290_SGB14247',\n 's__GGB9293_SGB14250',\n 's__GGB9296_SGB14253',\n 's__GGB9297_SGB14255',\n 's__GGB9301_SGB14262',\n 's__GGB9302_SGB14263',\n 's__GGB9342_SGB14306',\n 's__GGB9345_SGB14311',\n 's__GGB9347_SGB14313',\n 's__GGB9444_SGB14834',\n 's__GGB9501_SGB14898',\n 's__GGB9502_SGB14899',\n 's__GGB9509_SGB14906',\n 's__GGB9512_SGB14909',\n 's__GGB9522_SGB14921',\n 's__GGB9524_SGB14924',\n 's__GGB9531_SGB14932',\n 's__GGB9534_SGB14937',\n 's__GGB9590_SGB15012',\n 's__GGB9595_SGB15019',\n 's__GGB9597_SGB15022',\n 's__GGB9602_SGB15028',\n 's__GGB9602_SGB15031',\n 's__GGB9608_SGB15041',\n 's__GGB9608_SGB15042',\n 's__GGB9614_SGB15049',\n 's__GGB9616_SGB15051',\n 's__GGB9616_SGB15052',\n 's__GGB9618_SGB15064',\n 's__GGB9618_SGB15065',\n 's__GGB9619_SGB15067',\n 's__GGB9621_SGB15073',\n 's__GGB9627_SGB15081',\n 's__GGB9634_SGB15093',\n 's__GGB9634_SGB15097',\n 's__GGB9635_SGB15103',\n 's__GGB9635_SGB15106',\n 's__GGB9636_SGB15107',\n 's__GGB9637_SGB15111',\n 's__GGB9642_SGB15119',\n 's__GGB9667_SGB15164',\n 's__GGB9690_SGB15196',\n 's__GGB9691_SGB15198',\n 's__GGB9699_SGB15216',\n 's__GGB9707_SGB15229',\n 's__GGB9708_SGB15233',\n 's__GGB9708_SGB15234',\n 's__GGB9712_SGB15244',\n 's__GGB9715_SGB15260',\n 's__GGB9715_SGB15265',\n 's__GGB9715_SGB15266',\n 's__GGB9715_SGB15267',\n 's__GGB9730_SGB15291',\n 's__GGB9737_SGB15309',\n 's__GGB9747_SGB15356',\n 's__GGB9758_SGB15368',\n 's__GGB9759_SGB15370',\n 's__GGB9760_SGB15373',\n 's__GGB9760_SGB15374',\n 's__GGB9762_SGB15377',\n 's__GGB9766_SGB15383',\n 's__GGB9767_SGB15385',\n 's__GGB9774_SGB15394',\n 's__GGB9775_SGB15395',\n 's__GGB9819_SGB15460',\n 's__Gemmiger_SGB15295',\n 's__Gemmiger_formicilis',\n 's__Holdemanella_biformis',\n 's__Holdemanella_porci',\n 's__Hydrogenoanaerobacterium_saccharovorans',\n 's__Intestinimonas_butyriciproducens',\n 's__Intestinimonas_massiliensis',\n 's__Jutongia_hominis',\n 's__Jutongia_huaianensis',\n 's__Kineothrix_SGB4886',\n 's__Lachnospira_SGB5083',\n 's__Lachnospira_eligens',\n 's__Lachnospira_pectinoschiza',\n 's__Lachnospira_sp_NSJ_43',\n 's__Lachnospiraceae_bacterium',\n 's__Lachnospiraceae_bacterium_AM48_27BH',\n 's__Lachnospiraceae_bacterium_CLA_AA_H215',\n 's__Lachnospiraceae_bacterium_CLA_AA_H244',\n 's__Lachnospiraceae_bacterium_OM04_12BH',\n 's__Lacrimispora_amygdalina',\n 's__Lawsonibacter_SGB15145',\n 's__Lawsonibacter_asaccharolyticus',\n 's__Ligilactobacillus_ruminis',\n 's__Mediterraneibacter_faecis',\n 's__Megamonas_funiformis',\n 's__Mesosutterella_multiformis',\n 's__Methanobrevibacter_smithii',\n 's__Odoribacter_laneus',\n 's__Odoribacter_splanchnicus',\n 's__Oliverpabstia_intestinalis',\n 's__Oscillibacter_sp_ER4',\n 's__Oscillibacter_sp_MSJ_31',\n 's__Oscillibacter_valericigenes',\n 's__Oscillospiraceae_bacterium',\n 's__Oscillospiraceae_bacterium_CLA_AA_H250',\n 's__Oscillospiraceae_unclassified_SGB15256',\n 's__Parabacteroides_distasonis',\n 's__Parabacteroides_goldsteinii',\n 's__Parabacteroides_johnsonii',\n 's__Parabacteroides_merdae',\n 's__Paraprevotella_clara',\n 's__Parasutterella_excrementihominis',\n 's__Paratractidigestivibacter_faecalis',\n 's__Phascolarctobacterium_faecium',\n 's__Phascolarctobacterium_sp_ET69',\n 's__Phascolarctobacterium_succinatutens',\n 's__Phocaeicola_coprocola',\n 's__Phocaeicola_dorei',\n 's__Phocaeicola_massiliensis',\n 's__Phocaeicola_plebeius',\n 's__Phocaeicola_vulgatus',\n 's__Romboutsia_timonensis',\n 's__Roseburia_faecis',\n 's__Roseburia_hominis',\n 's__Roseburia_intestinalis',\n 's__Roseburia_inulinivorans',\n 's__Roseburia_lenta',\n 's__Roseburia_sp_AF02_12',\n 's__Roseburia_sp_AM59_24XD',\n 's__Ruminococcus_SGB4421',\n 's__Ruminococcus_bicirculans',\n 's__Ruminococcus_bromii',\n 's__Ruminococcus_callidus',\n 's__Ruminococcus_gnavus',\n 's__Ruminococcus_lactaris',\n 's__Ruminococcus_sp_AF41_9',\n 's__Ruminococcus_torques',\n 's__Ruthenibacterium_lactatiformans',\n 's__Segatella_brunsvicensis',\n 's__Segatella_copri',\n 's__Segatella_sinensis',\n 's__Senegalimassilia_anaerobia',\n 's__Simiaoa_sunii',\n 's__Slackia_isoflavoniconvertens',\n 's__Streptococcus_salivarius',\n 's__Streptococcus_thermophilus',\n 's__Sutterella_SGB9298',\n 's__Sutterella_wadsworthensis',\n 's__Vescimonas_SGB15087',\n 's__Vescimonas_coprocola',\n 's__Vescimonas_fastidiosa',\n 's__Victivallis_lenta',\n 's__Victivallis_vadensis',\n 's__Wujia_chipingensis',\n 's__bacterium_210917_DFI_7_65',\n 'age',\n 'gender',\n 'bmi']"
     },
     "execution_count": 1044,
     "metadata": {},
     "output_type": "execute_result"
    }
   ],
   "source": [
    "mpa_cols"
   ],
   "metadata": {
    "collapsed": false,
    "ExecuteTime": {
     "end_time": "2025-04-30T15:11:48.608065Z",
     "start_time": "2025-04-30T15:11:48.602845Z"
    }
   },
   "id": "eb547e2def37f512",
   "execution_count": 1044
  },
  {
   "cell_type": "code",
   "outputs": [
    {
     "data": {
      "text/plain": "<Figure size 1000x533.333 with 1 Axes>",
      "image/png": "[encoded data removed]"
     },
     "metadata": {},
     "output_type": "display_data"
    },
    {
     "data": {
      "text/plain": "s__Lawsonibacter_asaccharolyticus    -0.156910\ns__Coprococcus_comes                 -0.126593\ngender                               -0.122078\ns__Enterocloster_hominis             -0.113057\ns__GGB4768_SGB6601                    0.109012\ns__Blautia_massiliensis              -0.104357\ns__Mediterraneibacter_faecis         -0.103107\ns__Butyricicoccus_intestinisimiae     0.101878\ns__GGB9819_SGB15460                  -0.101223\ns__Agathobaculum_butyriciproducens    0.101176\ndtype: float64"
     },
     "execution_count": 1047,
     "metadata": {},
     "output_type": "execute_result"
    }
   ],
   "source": [
    "# Correlate indoleacrylic acid with all other features\n",
    "correlate_feature(ms_mpa_nmr_diet_oral_filtered, metabo, plot=True, sort=True, threshold=0.1, method='spearman', features_to_correlate=mpa_cols)"
   ],
   "metadata": {
    "collapsed": false,
    "ExecuteTime": {
     "end_time": "2025-04-30T15:12:51.155643Z",
     "start_time": "2025-04-30T15:12:50.054459Z"
    }
   },
   "id": "f458d75dc3b05d1b",
   "execution_count": 1047
  },
  {
   "cell_type": "code",
   "outputs": [],
   "source": [
    "# save for genetics\n",
    "diet_features[diet_scores].to_csv(output_data_dir + 'diet_scores_baseline_healthy.csv')"
   ],
   "metadata": {
    "collapsed": false,
    "ExecuteTime": {
     "end_time": "2025-07-20T07:36:16.968772Z",
     "start_time": "2025-07-20T07:36:16.852434Z"
    }
   },
   "id": "2dc630ae6477c492",
   "execution_count": 224
  },
  {
   "cell_type": "code",
   "outputs": [
    {
     "data": {
      "text/plain": "'/net/mraid20/export/genie/LabData/Analyses/Metabolomics_repeat/final_for_diet_paper/diet_scores_baseline_healthy.csv'"
     },
     "execution_count": 225,
     "metadata": {},
     "output_type": "execute_result"
    }
   ],
   "source": [
    "output_data_dir + 'diet_scores_baseline_healthy.csv'"
   ],
   "metadata": {
    "collapsed": false,
    "ExecuteTime": {
     "end_time": "2025-07-20T07:36:32.468974Z",
     "start_time": "2025-07-20T07:36:32.465681Z"
    }
   },
   "id": "b9aba87fc146ddc7",
   "execution_count": 225
  },
  {
   "cell_type": "code",
   "outputs": [],
   "source": [
    "diet_scores_updated = [\n",
    "    'IMEDAS_score_per_day',\n",
    "    'eatLANCET_score_per_day',\n",
    "    'aHEI_score_per_day',\n",
    "    'DASH_score',\n",
    "    'hPDI_score_per_day',\n",
    "    'vegetarian_score_per_day',\n",
    "    'vegan_score_per_day',\n",
    "    'carnivore_score_per_day',\n",
    "    'low_carb_diet',\n",
    "    'NOVA_pct',\n",
    "]"
   ],
   "metadata": {
    "collapsed": false,
    "ExecuteTime": {
     "end_time": "2025-07-20T07:29:31.864473Z",
     "start_time": "2025-07-20T07:29:31.861860Z"
    }
   },
   "id": "8783afd32f790352",
   "execution_count": 217
  },
  {
   "cell_type": "code",
   "outputs": [
    {
     "data": {
      "text/plain": "['Acorn squash',\n 'Alfalfa sprouts',\n 'Almond Beverage',\n 'Almond flour',\n 'Almond spread',\n 'Almonds',\n 'Amba',\n 'Apple',\n 'Apple Cake',\n 'Apple Vinegar',\n 'Apple juice',\n 'Apricot',\n 'Apropo',\n 'Artichoke',\n 'Arugula',\n 'Asparagus',\n 'Avocado',\n 'Avocado Sandwich',\n 'Bagel',\n 'Baguette',\n 'Baked apple',\n 'Baklava',\n 'Balsamic vinegar',\n 'Bamba',\n 'Banana',\n 'Banana Cake',\n 'Barbecue sauce',\n 'Barley soup',\n 'Basil',\n 'Bean Noodles',\n 'Bean soup',\n 'Beans',\n 'Beans black-eyed peas',\n 'Beef',\n 'Beef Cholent',\n 'Beef Lasagna',\n 'Beef Shawarma',\n 'Beer',\n 'Beet',\n 'Beet Salad',\n 'Berries',\n 'Biscuit',\n 'Bissli',\n 'Black beans',\n 'Blintzes',\n 'Blue Cheese',\n 'Blueberries',\n 'Boiled corn',\n 'Bolognese',\n 'Bounty',\n 'Brazil nuts',\n 'Bread',\n 'Bread Crumbs',\n 'Brioche',\n 'Broccoli',\n 'Broth',\n 'Brown Rice',\n 'Brown Sugar',\n 'Brownies',\n 'Buckwheat Bread',\n 'Buckwheat crackers',\n 'Bulgur',\n 'Burekas',\n 'Butter',\n 'Butter Cookies',\n 'Caesar Salad',\n 'Cake',\n 'Calamari',\n 'Camembert or Brie',\n 'Campari',\n 'Candies',\n 'Canned Sardine',\n 'Canned Tuna Fish',\n 'Canned corn',\n 'Cappuccino',\n 'Carpaccio',\n 'Carrot Cake',\n 'Carrot Juice',\n 'Carrot Salad',\n 'Carrots',\n 'Cashew',\n 'Cauliflower',\n 'Cauliflower Patties',\n 'Cauliflower Pie',\n 'Celery',\n 'Cereal Bar',\n 'Cereals',\n 'Ceviche',\n 'Challah',\n 'Chard',\n 'Cheddar',\n 'Cheese Pastry',\n 'Cheese Pie',\n 'Cheesecake',\n 'Cherries',\n 'Cherry tomatoes',\n 'Chestnuts',\n 'Chia seeds',\n 'Chicken',\n 'Chicken Liver',\n 'Chicken Meatballs',\n 'Chicken Pad Thai',\n 'Chicken Shawarma',\n 'Chicken Steak',\n 'Chicken breast',\n 'Chicken drumstick',\n 'Chicken legs',\n 'Chicken soup',\n 'Chicken wings',\n 'Chili pepper',\n 'Chili sauce',\n 'Chilli Con Carne',\n 'Chocolate',\n 'Chocolate Cookies',\n 'Chocolate Mousse',\n 'Chocolate balls',\n 'Chocolate cake',\n 'Chocolate spread',\n 'Chopped Liver',\n 'Ciabatta',\n 'Cinnamon',\n 'Cinnamon Danish',\n 'Coated Biscuits',\n 'Coated Wafers',\n 'Coated peanuts',\n 'Cocktail',\n 'Coconut',\n 'Coconut Oil',\n 'Coconut milk',\n 'Coconut water',\n 'Coffee',\n 'Coke',\n 'Cold cut',\n 'Coleslaw',\n 'Cooked Okra',\n 'Cooked Pumpkin',\n 'Cooked Sweet potato',\n 'Cooked broccoli',\n 'Cooked cabbage',\n 'Cooked green beans',\n 'Cooked tomatoes',\n 'Cooked vegetables',\n 'Cooked zucchini',\n 'Cookies',\n 'Cookies Oreo',\n 'Cooking cream',\n 'Coriander',\n 'Corn',\n 'Corn Soup',\n 'Corn casserole',\n 'Corn crackers',\n 'Corn schnitzel',\n 'Cottage cheese',\n 'Couscous',\n 'Cracker',\n 'Crackers',\n 'Cranberries',\n 'Cream Cake',\n 'Cream Cheese',\n 'Creme Brulee',\n 'Croissant',\n 'Croutons',\n 'Crushed tomatoes',\n 'Cuba',\n 'Cucumber',\n 'Curry Paste',\n 'Danish',\n 'Dark Chocolate',\n 'Date honey',\n 'Dates',\n 'Dessert Wine',\n 'Diet Cheesecake',\n 'Diet Coke',\n 'Dill',\n 'Doritos',\n 'Dried Fruit',\n 'Dried Herring',\n 'Dried Mango',\n 'Dried apple',\n 'Dried cranberries',\n 'Dried fig',\n 'Dried pineapple',\n 'Edamame',\n 'Eel',\n 'Egg',\n 'Egg Roll',\n 'Egg Salad',\n 'Egg Sandwich',\n 'Egg noodles',\n 'Egg yolk',\n 'Eggplant',\n 'Eggplant Salad',\n 'Emmental cheese',\n 'Empanadas',\n 'Energy bar',\n 'English cake',\n 'Entrecote',\n 'Eshel',\n 'Falafel',\n 'Fava beans',\n 'Fennel',\n 'Fennel Salad',\n 'Feta Cheese',\n 'Fig',\n 'Fish Roe Salad',\n 'Fish balls',\n 'Fish schnitzel',\n 'Flavored Waters',\n 'Flavored Yogurt',\n 'Flax seeds',\n 'French fries',\n 'Fried Bread',\n 'Fried Sweet potato',\n 'Fried cauliflower',\n 'Fried eggplant',\n 'Fried onions',\n 'Fruit Drink',\n 'Fruit flavored Yogurt',\n 'Fruit juice',\n 'Fruit salad',\n 'Garlic',\n 'Gefilte fish',\n 'Gilthead Bream',\n 'Gin and tonic',\n 'Gluten free bread',\n 'Gnocchi',\n 'Goat Cheese',\n 'Goat Milk Yogurt',\n 'Goji berry',\n 'Gouda Cheese',\n 'Granola',\n 'Granola Cookies',\n 'Granola bar',\n 'Grapefruit',\n 'Grapefruit juice',\n 'Grapes',\n 'Greek Yogurt',\n 'Greek salad',\n 'Green Salad',\n 'Green Tea',\n 'Green beans',\n 'Green cabbage',\n 'Green onions',\n 'Green pepper',\n 'Grilled vegetables',\n 'Grits',\n 'Guacamole',\n 'Guava',\n 'Gumdrops',\n 'Halloumi Cheese',\n 'Halva',\n 'Hamantaschen',\n 'Hamburger',\n 'Hazelnuts',\n 'Heavy cream',\n 'Herring',\n 'Honey',\n 'Honey Cake',\n 'Hummus',\n 'Hummus Salad',\n 'Ice cream',\n 'Ice cream bar',\n 'Israeli couscous',\n 'Jachnun',\n 'Jam',\n 'Jerusalem mixed grill',\n 'Jewish donut',\n 'Kashkaval',\n 'Kebab',\n 'Ketchup',\n 'Kif Kef',\n 'Kiwi',\n 'Knafeh',\n 'Knaidlach',\n 'Kohlrabi',\n 'Krembo',\n 'Kugel',\n 'Labneh Cheese',\n 'Lamb Kebabs',\n 'Lasagna',\n 'Leek',\n 'Lemon',\n 'Lemon Pie',\n 'Lemon juice',\n 'Lemonade',\n 'Lentil Patties',\n 'Lentil Soup',\n 'Lentils',\n 'Lettuce',\n 'Lettuce Salad',\n 'Light Beer',\n 'Light Bread',\n 'Light Cream Cheese',\n 'Light Soymilk',\n 'Light Yellow Cheese',\n 'Loquat',\n 'Low fat Milk',\n 'Lychee',\n 'Macadamia nuts',\n 'Majadra',\n 'Malabi',\n 'Malt beverage',\n 'Manchego Cheese',\n 'Mandarin',\n 'Mango',\n 'Maple Cake',\n 'Maple syrup',\n 'Mark Hariri',\n 'Mars',\n 'Marzipan',\n 'Matbucha',\n 'Matzo',\n 'Mayonnaise',\n 'Meagre Fish',\n 'Meat Ravioli',\n 'Meat Stuffed Burekas',\n 'Meatballs',\n 'Mekupelet',\n 'Melon',\n 'Milk',\n 'Milky',\n 'Mille-feuille',\n 'Minced meat',\n 'Mint',\n 'Miso soup',\n 'Mixed Vegetables',\n 'Mixed nuts',\n 'Moussaka',\n 'Mousse Cake',\n 'Mozzarella Cheese',\n 'Mulberry',\n 'Mushroom Pie',\n 'Mushroom soup',\n 'Mushrooms',\n 'Mustard',\n 'Mutton',\n 'Natural Yogurt',\n 'Natural Yogurt Drinks',\n 'Nectarine',\n 'Noodle Pie',\n 'Noodles',\n 'Nut cake',\n 'Nuts',\n 'Oat Drink',\n 'Oatmeal',\n 'Oatmeal Cereal',\n 'Oil',\n 'Olive Bread',\n 'Olive oil',\n 'Olive spread',\n 'Olives',\n 'Omelet sandwich',\n 'Omelette',\n 'Onion',\n 'Onion Pie',\n 'Onion Rings',\n 'Onion soup',\n 'Orange',\n 'Orange Cake',\n 'Orange Soup',\n 'Orange juice',\n 'Ouzo',\n 'Pancake',\n 'Papaya',\n 'Parmesan cheese',\n 'Parsley',\n 'Passionflower',\n 'Pasta',\n 'Pasta Bolognese',\n 'Pasta With Cheese',\n 'Pasta with tomato sauce',\n 'Pastrami',\n 'Pate',\n 'Pea soup',\n 'Peach',\n 'Peanut Butter',\n 'Peanuts',\n 'Pear',\n 'Peas',\n 'Peas and carrots',\n 'Pecan',\n 'Pecans',\n 'Pepper',\n 'Persimmon',\n 'Pesek Zman snack',\n 'Pesto',\n 'Pickled Chili pepper',\n 'Pickled Herring',\n 'Pickled cucumber',\n 'Pickled vegetables',\n 'Pine nuts',\n 'Pineapple',\n 'Pistachio',\n 'Pita',\n 'Pizza',\n 'Plum',\n 'Polenta',\n 'Pomegranate',\n 'Pomegranate juice',\n 'Pomelo',\n 'Popcorn',\n 'Popsicle',\n 'Pork',\n 'Portobello mushroom',\n 'Potato chips',\n 'Potato pancakes',\n 'Potato pie',\n 'Potato salad',\n 'Potatoes',\n 'Pretzels',\n 'Prickly pears',\n 'Protein Powder',\n 'Protein bar',\n 'Prune',\n 'Puffs',\n 'Pullet',\n 'Pumpkin',\n 'Pumpkin seeds',\n 'Pumpkin soup',\n 'Quinoa',\n 'Quinoa Salad',\n 'Radish',\n 'Raisins',\n 'Ravioli',\n 'Red Cabbage Salad',\n 'Red beans',\n 'Red pepper',\n 'Rice',\n 'Rice Noodles',\n 'Rice crackers',\n 'Rice drink',\n 'Rice paper',\n 'Ricotta Cheese',\n 'Risotto',\n 'Roast beef',\n 'Roasted eggplant',\n 'Roll',\n 'Roquefort',\n 'Rugelach',\n 'Rye Bread',\n 'Sabih Sandwich',\n 'Salmon',\n 'Salmon Sandwich',\n 'Salty Cheese',\n 'Salty Cookies',\n 'Sambusak',\n 'Sauerkraut',\n 'Sausages',\n 'Sauteed vegetables',\n 'Schnitzel',\n 'Schug',\n 'Seabass Fish',\n 'Seaweeds',\n 'Sesame oil',\n 'Sesame seeds',\n 'Shakshouka',\n 'Sheep Milk Yoghurt',\n 'Sheep milk Labaneh',\n 'Sherbet',\n 'Shrimp',\n 'Small radish',\n 'Smoked Mackerel Fish',\n 'Smoked Salmon',\n 'Smoothies',\n 'Snickers',\n 'Soup mandels',\n 'Soy Patties',\n 'Soy Pudding',\n 'Soy sauce',\n 'Soymilk',\n 'Spelled',\n 'Spinach',\n 'Spinach Quiche',\n 'Spongecake',\n 'Sprouted lentils',\n 'Sprouts',\n 'Squash casserole',\n 'Steak',\n 'Steamed vegetables',\n 'Strawberry',\n 'Stuffed Cabbage',\n 'Stuffed Chard',\n 'Stuffed Vine leaves',\n 'Sugar',\n 'Sugar substitute',\n 'Sunflower seeds',\n 'Sushi',\n 'Sweet Challah',\n 'Sweet Potato Fries',\n 'Sweet Potato Pie',\n 'Sweet Potato Soup',\n 'Sweet Roll',\n 'Sweet potato',\n 'Sweet wine',\n 'Sweetened Cocoa Powder',\n 'Sweetened White Cheese',\n 'Tabbouleh Salad',\n 'Tahini',\n 'Tahini Bread',\n 'Tea',\n 'Teami waffle snack',\n 'Teriyaki Sauce',\n 'Thousand Island dressing',\n 'Tilapia',\n 'Tiramisu',\n 'Toblerone',\n 'Tofu',\n 'Tofu Pad Thai',\n 'Tom Yum soup',\n 'Tomato paste',\n 'Tomato sauce',\n 'Tomato soup',\n 'Tomato soup and rice',\n 'Tomatoes',\n 'Tomatoes Salad',\n 'Tortilla',\n 'Tuna Salad',\n 'Tuna Sandwich',\n 'Turkey',\n 'Turkey Shawarma',\n 'Turkey and vegetables',\n 'Turkey breast',\n 'Turkish Salad',\n 'Turmeric powder',\n 'Twix',\n 'Tzatziki Cheese',\n 'Tzfatit Cheese',\n 'Veal Meatballs',\n 'Veal kebabs',\n 'Vegan Cheese',\n 'Vegetable Pie',\n 'Vegetable Salad',\n 'Vegetable Soup',\n 'Vegetable patties',\n 'Veggie burger',\n 'Vinaigrette',\n 'Vodka or Arak',\n 'Wafers',\n 'Walnuts',\n 'Watermelon',\n 'Watermelon Seeds',\n 'Wheat',\n 'Whipped Cream Pudding',\n 'Whipped cream',\n 'Whiskey',\n 'White Cheese',\n 'White Chocolate',\n 'White beans',\n 'White cabbage salad',\n 'Wholemeal Baguette',\n 'Wholemeal Bread',\n 'Wholemeal Crackers',\n 'Wholemeal Light Bread',\n 'Wholemeal Pita',\n 'Wholemeal Roll',\n 'Wild Rice',\n 'Wine',\n 'Yellow Cheese',\n 'Yellow Cheese Sandwich',\n 'Yellow beans',\n 'Yellow pepper',\n 'Yogurt',\n 'Zaatar',\n 'Zucchini',\n 'Zucchini Patties',\n 'black pepper',\n 'dried tomato spread',\n 'emmer wheat bread',\n 'ginger',\n 'kale',\n 'Energy',\n 'Water',\n 'Fiber, total dietary',\n 'Calcium, Ca',\n 'Iron, Fe',\n 'Magnesium, Mg',\n 'Phosphorus, P',\n 'Potassium, K',\n 'Sodium, Na',\n 'Zinc, Zn',\n 'Copper, Cu',\n 'Vitamin C, total ascorbic acid',\n 'Thiamin',\n 'Riboflavin',\n 'Niacin',\n 'Vitamin B-6',\n 'Folate, total',\n 'Vitamin B-12',\n 'Cholesterol',\n 'Fatty acids, total monounsaturated',\n 'Fatty acids, total polyunsaturated',\n 'Vitamin D (D2 + D3)',\n 'Sugars, Total',\n 'Fatty acids, total trans',\n 'Vitamin A, RAE',\n 'Pantothenic acid',\n 'Selenium, Se',\n 'Choline, total',\n 'Manganese, Mn',\n 'Fructose',\n 'Vitamin K',\n 'Iodine',\n 'Sugar alcohols',\n 'Biotin',\n 'Ash',\n 'Betaine',\n 'Caffeine',\n 'Campesterol',\n 'Fluoride, F',\n 'Glucose',\n 'Lutein + zeaxanthin',\n 'Lycopene',\n 'Phytosterols',\n 'Starch',\n 'omega_6',\n 'omega_3',\n 'vitamin_E',\n 'Foods_per_meal',\n 'Foods_per_day',\n 'Meals_per_day',\n 'Fasting_window',\n 'plant_foods_per_day',\n 'plant_foods_per_week',\n 'plant_energy_pct',\n 'plant_protein_pct',\n 'plant_fat_pct',\n 'vegetarian_score_per_day',\n 'wfpb_score_per_day',\n 'vegan_score_per_day',\n 'pescatarian_score_per_day',\n 'carnivore_score_per_day',\n 'NOVA_pct',\n 'IMEDAS_score_per_day',\n 'eatLANCET_score_per_day',\n 'aHEI_score_per_day',\n 'pct_protein_calories',\n 'pct_carb_calories',\n 'pct_fat_calories',\n 'pct_alcohol_calories',\n 'sat_to_total_lipids_ratio',\n 'trans_to_total_lipids_ratio',\n 'mono_to_total_lipids_ratio',\n 'poly_to_total_lipids_ratio',\n 'omega3_to_total_lipids_ratio',\n 'omega6_to_total_lipids_ratio',\n 'omega6_to_omega3_ratio',\n 'pct_saturated_fat_calories',\n 'keto',\n 'low_carb_diet',\n 'DASH_score',\n 'hPDI_score_per_day',\n 'Foods_per_day_cv',\n 'Foods_per_meal_cv',\n 'Meals_per_day_cv',\n 'plant_foods_per_day_cv',\n 'vegetarian_score_per_day_cv',\n 'wfpb_score_per_day_cv',\n 'vegan_score_per_day_cv',\n 'carnivore_score_per_day_cv',\n 'aHEI_score_per_day_cv',\n 'IMEDAS_score_per_day_cv',\n 'Energy_cv',\n 'pct_protein_calories_cv',\n 'pct_carb_calories_cv',\n 'pct_fat_calories_cv',\n 'AlcoholicDrinks',\n 'Beefveallambandothermeatproducts',\n 'Bread_cat',\n 'Bread_wholewheat',\n 'Cannedvegandfruits',\n 'Cereals_cat',\n 'Deepfriedfoods',\n 'Drinks',\n 'Eggsandtheirproducts',\n 'FastFoods',\n 'Fishandseafood',\n 'Fruits',\n 'Hardcheese',\n 'Industrializedvegetarianfoodreadytoeat',\n 'MedOilandfats',\n 'Nutsseedsandproducts',\n 'Oilsandfats',\n 'Others',\n 'PastaGrainsandSidedishes',\n 'PastaGrainsandSidedishes_wholewheat',\n 'Poultryanditsproducts',\n 'Proccessedmeatproducts',\n 'Pulsesandproducts',\n 'Snacks',\n 'Soupsandsauces',\n 'Spicesandherbs',\n 'Vegetables',\n 'bakedgoods',\n 'fruitjuicesandsoftdrinks',\n 'milkcreamcheeseandyogurts',\n 'sweetmilkproducts',\n 'sweets',\n 'sex',\n 'Energy / BMR']"
     },
     "execution_count": 216,
     "metadata": {},
     "output_type": "execute_result"
    }
   ],
   "source": [
    "diet_features_with_disease.columns.to_list()"
   ],
   "metadata": {
    "collapsed": false,
    "ExecuteTime": {
     "end_time": "2025-07-20T07:28:39.267043Z",
     "start_time": "2025-07-20T07:28:39.260691Z"
    }
   },
   "id": "edc42b713249a001",
   "execution_count": 216
  },
  {
   "cell_type": "code",
   "outputs": [],
   "source": [
    "diet_features_with_disease[diet_scores_updated].to_csv(output_data_dir + 'diet_scores_baseline_hc_disease.csv')"
   ],
   "metadata": {
    "collapsed": false,
    "ExecuteTime": {
     "end_time": "2025-07-20T07:35:13.309048Z",
     "start_time": "2025-07-20T07:35:13.185985Z"
    }
   },
   "id": "bece91a20c62bfb4",
   "execution_count": 221
  },
  {
   "cell_type": "code",
   "outputs": [
    {
     "data": {
      "text/plain": "'/net/mraid20/export/genie/LabData/Analyses/Metabolomics_repeat/final_for_diet_paper/diet_scores_baseline_hc_disease.csv'"
     },
     "execution_count": 223,
     "metadata": {},
     "output_type": "execute_result"
    }
   ],
   "source": [
    "output_data_dir + 'diet_scores_baseline_hc_disease.csv'"
   ],
   "metadata": {
    "collapsed": false,
    "ExecuteTime": {
     "end_time": "2025-07-20T07:35:24.690444Z",
     "start_time": "2025-07-20T07:35:24.687059Z"
    }
   },
   "id": "b58257cb6305a7ff",
   "execution_count": 223
  },
  {
   "cell_type": "code",
   "outputs": [],
   "source": [
    "diet_features_with_disease[['milkcreamcheeseandyogurts', 'AlcoholicDrinks', 'Bread_cat', 'MedOilandfats', 'Fishandseafood', 'Fruits', 'Vegetables']].to_csv(output_data_dir + 'food_categories_baseline_hc_disease.csv')"
   ],
   "metadata": {
    "collapsed": false,
    "ExecuteTime": {
     "end_time": "2025-07-20T08:02:19.014141Z",
     "start_time": "2025-07-20T08:02:18.903233Z"
    }
   },
   "id": "14638e0994dbc4d5",
   "execution_count": 230
  },
  {
   "cell_type": "markdown",
   "source": [
    "## RNA-Seq"
   ],
   "metadata": {
    "collapsed": false
   },
   "id": "59aa2a5a99db0b56"
  },
  {
   "cell_type": "code",
   "outputs": [],
   "source": [
    "rna_table  = pd.read_csv('/net/mraid20/export/genie/LabData/Analyses/10K_Trajectories/biological_age/nastu/rna.csv', index_col=0)"
   ],
   "metadata": {
    "collapsed": false,
    "ExecuteTime": {
     "end_time": "2025-07-20T08:30:33.745457Z",
     "start_time": "2025-07-20T08:30:09.193464Z"
    }
   },
   "id": "54c615573579649b",
   "execution_count": 235
  },
  {
   "cell_type": "code",
   "outputs": [
    {
     "data": {
      "text/plain": "(7363, 15344)"
     },
     "execution_count": 507,
     "metadata": {},
     "output_type": "execute_result"
    }
   ],
   "source": [
    "rna_table.shape"
   ],
   "metadata": {
    "collapsed": false,
    "ExecuteTime": {
     "end_time": "2025-07-23T13:41:53.560321Z",
     "start_time": "2025-07-23T13:41:53.557267Z"
    }
   },
   "id": "b2d5788b90da2eab",
   "execution_count": 507
  },
  {
   "cell_type": "code",
   "outputs": [
    {
     "ename": "NameError",
     "evalue": "name 'prs_data' is not defined",
     "output_type": "error",
     "traceback": [
      "\u001B[0;31m---------------------------------------------------------------------------\u001B[0m",
      "\u001B[0;31mNameError\u001B[0m                                 Traceback (most recent call last)",
      "Cell \u001B[0;32mIn[508], line 1\u001B[0m\n\u001B[0;32m----> 1\u001B[0m prs_data\u001B[38;5;241m.\u001B[39mshape\n",
      "\u001B[0;31mNameError\u001B[0m: name 'prs_data' is not defined"
     ]
    }
   ],
   "source": [
    "prs_data.shape"
   ],
   "metadata": {
    "collapsed": false,
    "ExecuteTime": {
     "end_time": "2025-07-23T13:52:20.976347Z",
     "start_time": "2025-07-23T13:52:20.956854Z"
    }
   },
   "id": "c70b34c1270e95e4",
   "execution_count": 508
  },
  {
   "cell_type": "code",
   "outputs": [],
   "source": [
    "from LabData.DataLoaders.BloodTestsLoader import BloodTestsLoader\n",
    "bt_df = BloodTestsLoader().get_data().df\n",
    "bt_df_meta = BloodTestsLoader().get_data().df_metadata\n",
    "cbc_lab_ind = bt_df_meta[bt_df_meta['kupat_holim'] == 'tenk-cbc'].index\n",
    "bt_df_cbc = bt_df.loc[cbc_lab_ind].dropna(how='all', axis=1)\n",
    "bt_df_cbc_age = bt_df_meta.loc[cbc_lab_ind]['age'].reset_index().set_index(\"RegistrationCode\")\n",
    "bt_df_cbc = bt_df_cbc.reset_index().set_index(\"RegistrationCode\")\n",
    "bt_df_cbc = bt_df_cbc.loc[~bt_df_cbc.index.duplicated(keep=\"first\"), :]"
   ],
   "metadata": {
    "collapsed": false,
    "ExecuteTime": {
     "end_time": "2025-07-21T11:18:30.458277Z",
     "start_time": "2025-07-21T11:18:07.536754Z"
    }
   },
   "id": "44149933663623a3",
   "execution_count": 269
  },
  {
   "cell_type": "code",
   "outputs": [],
   "source": [
    "bt_df_cbc_diet = bt_df_cbc.join(diet_features_with_disease, how='inner')"
   ],
   "metadata": {
    "collapsed": false,
    "ExecuteTime": {
     "end_time": "2025-07-21T11:25:02.913302Z",
     "start_time": "2025-07-21T11:25:02.877037Z"
    }
   },
   "id": "8017e14c31fdde4e",
   "execution_count": 274
  },
  {
   "cell_type": "code",
   "outputs": [],
   "source": [
    "columns_cbc_diet = bt_df_cbc_diet.columns.to_list() + diet_scores_updated"
   ],
   "metadata": {
    "collapsed": false,
    "ExecuteTime": {
     "end_time": "2025-07-21T11:26:02.707096Z",
     "start_time": "2025-07-21T11:26:02.704578Z"
    }
   },
   "id": "53ef45925be575d3",
   "execution_count": 275
  },
  {
   "cell_type": "code",
   "outputs": [],
   "source": [
    "corr_cbc = bt_df_cbc_diet[columns_cbc_diet].drop(columns=['Date'], axis=1)"
   ],
   "metadata": {
    "collapsed": false,
    "ExecuteTime": {
     "end_time": "2025-07-21T11:31:46.899251Z",
     "start_time": "2025-07-21T11:31:46.869387Z"
    }
   },
   "id": "b6970d403ab098a6",
   "execution_count": 285
  },
  {
   "cell_type": "code",
   "outputs": [],
   "source": [
    "corr_cbc_corr = corr_cbc.corr()"
   ],
   "metadata": {
    "collapsed": false,
    "ExecuteTime": {
     "end_time": "2025-07-21T11:31:56.647774Z",
     "start_time": "2025-07-21T11:31:48.535076Z"
    }
   },
   "id": "95a9735a85785232",
   "execution_count": 286
  },
  {
   "cell_type": "code",
   "outputs": [
    {
     "data": {
      "text/plain": "                          IMEDAS_score_per_day  IMEDAS_score_per_day  \\\nbt__platelets                        -0.094401             -0.094401   \nbt__hct                               0.062265              0.062265   \nbt__neutrophils_abs                  -0.068720             -0.068720   \nbt__rdw                              -0.038445             -0.038445   \nbt__eosinophils_%                    -0.012380             -0.012380   \nbt__mchc                             -0.002284             -0.002284   \nbt__lymphocytes_abs                  -0.063714             -0.063714   \nbt__mean_platelet_volume              0.061278              0.061278   \nbt__eosinophils_abs                  -0.032201             -0.032201   \nbt__hemoglobin                        0.059263              0.059263   \nbt__monocytes_%                       0.063599              0.063599   \nbt__mcv                               0.044772              0.044772   \nbt__lymphocytes_%                     0.005888              0.005888   \nbt__basophils_%                      -0.047863             -0.047863   \nbt__rdw_sd                            0.007211              0.007211   \nbt__basophils_abs                    -0.078653             -0.078653   \nbt__rbc                               0.032205              0.032205   \nbt__wbc                              -0.079639             -0.079639   \nbt__mch                               0.038871              0.038871   \nbt__monocytes_abs                    -0.017341             -0.017341   \nbt__neutrophils_%                    -0.015808             -0.015808   \n\n                          eatLANCET_score_per_day  eatLANCET_score_per_day  \\\nbt__platelets                           -0.037725                -0.037725   \nbt__hct                                 -0.092947                -0.092947   \nbt__neutrophils_abs                     -0.091664                -0.091664   \nbt__rdw                                 -0.031449                -0.031449   \nbt__eosinophils_%                       -0.020786                -0.020786   \nbt__mchc                                -0.003532                -0.003532   \nbt__lymphocytes_abs                     -0.093476                -0.093476   \nbt__mean_platelet_volume                 0.059924                 0.059924   \nbt__eosinophils_abs                     -0.061012                -0.061012   \nbt__hemoglobin                          -0.093866                -0.093866   \nbt__monocytes_%                          0.022480                 0.022480   \nbt__mcv                                  0.074826                 0.074826   \nbt__lymphocytes_%                        0.002973                 0.002973   \nbt__basophils_%                         -0.052075                -0.052075   \nbt__rdw_sd                               0.057208                 0.057208   \nbt__basophils_abs                       -0.100187                -0.100187   \nbt__rbc                                 -0.122192                -0.122192   \nbt__wbc                                 -0.116703                -0.116703   \nbt__mch                                  0.068272                 0.068272   \nbt__monocytes_abs                       -0.082890                -0.082890   \nbt__neutrophils_%                       -0.001105                -0.001105   \n\n                          aHEI_score_per_day  aHEI_score_per_day  DASH_score  \\\nbt__platelets                      -0.076183           -0.076183   -0.018168   \nbt__hct                            -0.063668           -0.063668   -0.118927   \nbt__neutrophils_abs                -0.103885           -0.103885   -0.068847   \nbt__rdw                            -0.021404           -0.021404   -0.046973   \nbt__eosinophils_%                  -0.015217           -0.015217   -0.020885   \nbt__mchc                           -0.017023           -0.017023   -0.020141   \nbt__lymphocytes_abs                -0.101835           -0.101835   -0.083700   \nbt__mean_platelet_volume            0.054368            0.054368    0.065028   \nbt__eosinophils_abs                -0.060446           -0.060446   -0.059086   \nbt__hemoglobin                     -0.068316           -0.068316   -0.122926   \nbt__monocytes_%                     0.023381            0.023381   -0.003968   \nbt__mcv                             0.084679            0.084679    0.088693   \nbt__lymphocytes_%                   0.007734            0.007734   -0.002642   \nbt__basophils_%                    -0.050053           -0.050053   -0.059358   \nbt__rdw_sd                          0.070497            0.070497    0.062189   \nbt__basophils_abs                  -0.109012           -0.109012   -0.090553   \nbt__rbc                            -0.099197           -0.099197   -0.150746   \nbt__wbc                            -0.129988           -0.129988   -0.095427   \nbt__mch                             0.068389            0.068389    0.072859   \nbt__monocytes_abs                  -0.090554           -0.090554   -0.082409   \nbt__neutrophils_%                  -0.006894           -0.006894    0.010466   \n\n                          DASH_score  hPDI_score_per_day  hPDI_score_per_day  \\\nbt__platelets              -0.018168           -0.029511           -0.029511   \nbt__hct                    -0.118927           -0.127295           -0.127295   \nbt__neutrophils_abs        -0.068847           -0.102049           -0.102049   \nbt__rdw                    -0.046973           -0.029606           -0.029606   \nbt__eosinophils_%          -0.020885           -0.020900           -0.020900   \nbt__mchc                   -0.020141           -0.024736           -0.024736   \nbt__lymphocytes_abs        -0.083700           -0.098066           -0.098066   \nbt__mean_platelet_volume    0.065028            0.060302            0.060302   \nbt__eosinophils_abs        -0.059086           -0.062810           -0.062810   \nbt__hemoglobin             -0.122926           -0.132887           -0.132887   \nbt__monocytes_%            -0.003968            0.003011            0.003011   \nbt__mcv                     0.088693            0.097373            0.097373   \nbt__lymphocytes_%          -0.002642            0.011125            0.011125   \nbt__basophils_%            -0.059358           -0.055869           -0.055869   \nbt__rdw_sd                  0.062189            0.087305            0.087305   \nbt__basophils_abs          -0.090553           -0.104096           -0.104096   \nbt__rbc                    -0.150746           -0.160772           -0.160772   \nbt__wbc                    -0.095427           -0.128662           -0.128662   \nbt__mch                     0.072859            0.075877            0.075877   \nbt__monocytes_abs          -0.082409           -0.105985           -0.105985   \nbt__neutrophils_%           0.010466           -0.003586           -0.003586   \n\n                          vegetarian_score_per_day  vegetarian_score_per_day  \\\nbt__platelets                             0.041383                  0.041383   \nbt__hct                                  -0.184722                 -0.184722   \nbt__neutrophils_abs                      -0.026704                 -0.026704   \nbt__rdw                                   0.021115                  0.021115   \nbt__eosinophils_%                        -0.013083                 -0.013083   \nbt__mchc                                 -0.046128                 -0.046128   \nbt__lymphocytes_abs                      -0.075816                 -0.075816   \nbt__mean_platelet_volume                  0.021116                  0.021116   \nbt__eosinophils_abs                      -0.042398                 -0.042398   \nbt__hemoglobin                           -0.194644                 -0.194644   \nbt__monocytes_%                          -0.023818                 -0.023818   \nbt__mcv                                   0.002381                  0.002381   \nbt__lymphocytes_%                        -0.037756                 -0.037756   \nbt__basophils_%                          -0.036057                 -0.036057   \nbt__rdw_sd                                0.020553                  0.020553   \nbt__basophils_abs                        -0.058925                 -0.058925   \nbt__rbc                                  -0.165351                 -0.165351   \nbt__wbc                                  -0.057745                 -0.057745   \nbt__mch                                  -0.013311                 -0.013311   \nbt__monocytes_abs                        -0.068501                 -0.068501   \nbt__neutrophils_%                         0.044514                  0.044514   \n\n                          vegan_score_per_day  vegan_score_per_day  \\\nbt__platelets                       -0.042457            -0.042457   \nbt__hct                             -0.070277            -0.070277   \nbt__neutrophils_abs                 -0.059679            -0.059679   \nbt__rdw                             -0.041253            -0.041253   \nbt__eosinophils_%                   -0.008581            -0.008581   \nbt__mchc                            -0.029018            -0.029018   \nbt__lymphocytes_abs                 -0.117426            -0.117426   \nbt__mean_platelet_volume             0.079346             0.079346   \nbt__eosinophils_abs                 -0.043584            -0.043584   \nbt__hemoglobin                      -0.077586            -0.077586   \nbt__monocytes_%                      0.014687             0.014687   \nbt__mcv                              0.060267             0.060267   \nbt__lymphocytes_%                   -0.047446            -0.047446   \nbt__basophils_%                     -0.072313            -0.072313   \nbt__rdw_sd                           0.027669             0.027669   \nbt__basophils_abs                   -0.105531            -0.105531   \nbt__rbc                             -0.092336            -0.092336   \nbt__wbc                             -0.098457            -0.098457   \nbt__mch                              0.043290             0.043290   \nbt__monocytes_abs                   -0.071588            -0.071588   \nbt__neutrophils_%                    0.043961             0.043961   \n\n                          carnivore_score_per_day  carnivore_score_per_day  \\\nbt__platelets                           -0.014048                -0.014048   \nbt__hct                                  0.056967                 0.056967   \nbt__neutrophils_abs                      0.004954                 0.004954   \nbt__rdw                                  0.027863                 0.027863   \nbt__eosinophils_%                       -0.001273                -0.001273   \nbt__mchc                                 0.012369                 0.012369   \nbt__lymphocytes_abs                      0.071268                 0.071268   \nbt__mean_platelet_volume                -0.042563                -0.042563   \nbt__eosinophils_abs                      0.016160                 0.016160   \nbt__hemoglobin                           0.059217                 0.059217   \nbt__monocytes_%                         -0.016765                -0.016765   \nbt__mcv                                 -0.002662                -0.002662   \nbt__lymphocytes_%                        0.057532                 0.057532   \nbt__basophils_%                          0.028407                 0.028407   \nbt__rdw_sd                               0.017896                 0.017896   \nbt__basophils_abs                        0.037885                 0.037885   \nbt__rbc                                  0.054315                 0.054315   \nbt__wbc                                  0.032457                 0.032457   \nbt__mch                                 -0.001501                -0.001501   \nbt__monocytes_abs                        0.016482                 0.016482   \nbt__neutrophils_%                       -0.049275                -0.049275   \n\n                          low_carb_diet  low_carb_diet  NOVA_pct  NOVA_pct  \nbt__platelets                 -0.031815      -0.031815  0.065869  0.065869  \nbt__hct                        0.029135       0.029135 -0.011034 -0.011034  \nbt__neutrophils_abs           -0.028632      -0.028632  0.077467  0.077467  \nbt__rdw                        0.008920       0.008920  0.035643  0.035643  \nbt__eosinophils_%             -0.012388      -0.012388  0.007779  0.007779  \nbt__mchc                       0.030912       0.030912 -0.004923 -0.004923  \nbt__lymphocytes_abs            0.021392       0.021392  0.027670  0.027670  \nbt__mean_platelet_volume      -0.028353      -0.028353 -0.024853 -0.024853  \nbt__eosinophils_abs           -0.010645      -0.010645  0.036022  0.036022  \nbt__hemoglobin                 0.036487       0.036487 -0.011024 -0.011024  \nbt__monocytes_%               -0.015221      -0.015221 -0.003674 -0.003674  \nbt__mcv                        0.016268       0.016268 -0.074807 -0.074807  \nbt__lymphocytes_%              0.048588       0.048588 -0.046677 -0.046677  \nbt__basophils_%                0.011605       0.011605  0.013918  0.013918  \nbt__rdw_sd                     0.023229       0.023229 -0.045174 -0.045174  \nbt__basophils_abs              0.004842       0.004842  0.045420  0.045420  \nbt__rbc                        0.019789       0.019789  0.027628  0.027628  \nbt__wbc                       -0.017225      -0.017225  0.078774  0.078774  \nbt__mch                        0.024467       0.024467 -0.067020 -0.067020  \nbt__monocytes_abs             -0.024555      -0.024555  0.063711  0.063711  \nbt__neutrophils_%             -0.038082      -0.038082  0.040650  0.040650  ",
      "text/html": "<div>\n<style scoped>\n    .dataframe tbody tr th:only-of-type {\n        vertical-align: middle;\n    }\n\n    .dataframe tbody tr th {\n        vertical-align: top;\n    }\n\n    .dataframe thead th {\n        text-align: right;\n    }\n</style>\n<table border=\"1\" class=\"dataframe\">\n  <thead>\n    <tr style=\"text-align: right;\">\n      <th></th>\n      <th>IMEDAS_score_per_day</th>\n      <th>IMEDAS_score_per_day</th>\n      <th>eatLANCET_score_per_day</th>\n      <th>eatLANCET_score_per_day</th>\n      <th>aHEI_score_per_day</th>\n      <th>aHEI_score_per_day</th>\n      <th>DASH_score</th>\n      <th>DASH_score</th>\n      <th>hPDI_score_per_day</th>\n      <th>hPDI_score_per_day</th>\n      <th>vegetarian_score_per_day</th>\n      <th>vegetarian_score_per_day</th>\n      <th>vegan_score_per_day</th>\n      <th>vegan_score_per_day</th>\n      <th>carnivore_score_per_day</th>\n      <th>carnivore_score_per_day</th>\n      <th>low_carb_diet</th>\n      <th>low_carb_diet</th>\n      <th>NOVA_pct</th>\n      <th>NOVA_pct</th>\n    </tr>\n  </thead>\n  <tbody>\n    <tr>\n      <th>bt__platelets</th>\n      <td>-0.094401</td>\n      <td>-0.094401</td>\n      <td>-0.037725</td>\n      <td>-0.037725</td>\n      <td>-0.076183</td>\n      <td>-0.076183</td>\n      <td>-0.018168</td>\n      <td>-0.018168</td>\n      <td>-0.029511</td>\n      <td>-0.029511</td>\n      <td>0.041383</td>\n      <td>0.041383</td>\n      <td>-0.042457</td>\n      <td>-0.042457</td>\n      <td>-0.014048</td>\n      <td>-0.014048</td>\n      <td>-0.031815</td>\n      <td>-0.031815</td>\n      <td>0.065869</td>\n      <td>0.065869</td>\n    </tr>\n    <tr>\n      <th>bt__hct</th>\n      <td>0.062265</td>\n      <td>0.062265</td>\n      <td>-0.092947</td>\n      <td>-0.092947</td>\n      <td>-0.063668</td>\n      <td>-0.063668</td>\n      <td>-0.118927</td>\n      <td>-0.118927</td>\n      <td>-0.127295</td>\n      <td>-0.127295</td>\n      <td>-0.184722</td>\n      <td>-0.184722</td>\n      <td>-0.070277</td>\n      <td>-0.070277</td>\n      <td>0.056967</td>\n      <td>0.056967</td>\n      <td>0.029135</td>\n      <td>0.029135</td>\n      <td>-0.011034</td>\n      <td>-0.011034</td>\n    </tr>\n    <tr>\n      <th>bt__neutrophils_abs</th>\n      <td>-0.068720</td>\n      <td>-0.068720</td>\n      <td>-0.091664</td>\n      <td>-0.091664</td>\n      <td>-0.103885</td>\n      <td>-0.103885</td>\n      <td>-0.068847</td>\n      <td>-0.068847</td>\n      <td>-0.102049</td>\n      <td>-0.102049</td>\n      <td>-0.026704</td>\n      <td>-0.026704</td>\n      <td>-0.059679</td>\n      <td>-0.059679</td>\n      <td>0.004954</td>\n      <td>0.004954</td>\n      <td>-0.028632</td>\n      <td>-0.028632</td>\n      <td>0.077467</td>\n      <td>0.077467</td>\n    </tr>\n    <tr>\n      <th>bt__rdw</th>\n      <td>-0.038445</td>\n      <td>-0.038445</td>\n      <td>-0.031449</td>\n      <td>-0.031449</td>\n      <td>-0.021404</td>\n      <td>-0.021404</td>\n      <td>-0.046973</td>\n      <td>-0.046973</td>\n      <td>-0.029606</td>\n      <td>-0.029606</td>\n      <td>0.021115</td>\n      <td>0.021115</td>\n      <td>-0.041253</td>\n      <td>-0.041253</td>\n      <td>0.027863</td>\n      <td>0.027863</td>\n      <td>0.008920</td>\n      <td>0.008920</td>\n      <td>0.035643</td>\n      <td>0.035643</td>\n    </tr>\n    <tr>\n      <th>bt__eosinophils_%</th>\n      <td>-0.012380</td>\n      <td>-0.012380</td>\n      <td>-0.020786</td>\n      <td>-0.020786</td>\n      <td>-0.015217</td>\n      <td>-0.015217</td>\n      <td>-0.020885</td>\n      <td>-0.020885</td>\n      <td>-0.020900</td>\n      <td>-0.020900</td>\n      <td>-0.013083</td>\n      <td>-0.013083</td>\n      <td>-0.008581</td>\n      <td>-0.008581</td>\n      <td>-0.001273</td>\n      <td>-0.001273</td>\n      <td>-0.012388</td>\n      <td>-0.012388</td>\n      <td>0.007779</td>\n      <td>0.007779</td>\n    </tr>\n    <tr>\n      <th>bt__mchc</th>\n      <td>-0.002284</td>\n      <td>-0.002284</td>\n      <td>-0.003532</td>\n      <td>-0.003532</td>\n      <td>-0.017023</td>\n      <td>-0.017023</td>\n      <td>-0.020141</td>\n      <td>-0.020141</td>\n      <td>-0.024736</td>\n      <td>-0.024736</td>\n      <td>-0.046128</td>\n      <td>-0.046128</td>\n      <td>-0.029018</td>\n      <td>-0.029018</td>\n      <td>0.012369</td>\n      <td>0.012369</td>\n      <td>0.030912</td>\n      <td>0.030912</td>\n      <td>-0.004923</td>\n      <td>-0.004923</td>\n    </tr>\n    <tr>\n      <th>bt__lymphocytes_abs</th>\n      <td>-0.063714</td>\n      <td>-0.063714</td>\n      <td>-0.093476</td>\n      <td>-0.093476</td>\n      <td>-0.101835</td>\n      <td>-0.101835</td>\n      <td>-0.083700</td>\n      <td>-0.083700</td>\n      <td>-0.098066</td>\n      <td>-0.098066</td>\n      <td>-0.075816</td>\n      <td>-0.075816</td>\n      <td>-0.117426</td>\n      <td>-0.117426</td>\n      <td>0.071268</td>\n      <td>0.071268</td>\n      <td>0.021392</td>\n      <td>0.021392</td>\n      <td>0.027670</td>\n      <td>0.027670</td>\n    </tr>\n    <tr>\n      <th>bt__mean_platelet_volume</th>\n      <td>0.061278</td>\n      <td>0.061278</td>\n      <td>0.059924</td>\n      <td>0.059924</td>\n      <td>0.054368</td>\n      <td>0.054368</td>\n      <td>0.065028</td>\n      <td>0.065028</td>\n      <td>0.060302</td>\n      <td>0.060302</td>\n      <td>0.021116</td>\n      <td>0.021116</td>\n      <td>0.079346</td>\n      <td>0.079346</td>\n      <td>-0.042563</td>\n      <td>-0.042563</td>\n      <td>-0.028353</td>\n      <td>-0.028353</td>\n      <td>-0.024853</td>\n      <td>-0.024853</td>\n    </tr>\n    <tr>\n      <th>bt__eosinophils_abs</th>\n      <td>-0.032201</td>\n      <td>-0.032201</td>\n      <td>-0.061012</td>\n      <td>-0.061012</td>\n      <td>-0.060446</td>\n      <td>-0.060446</td>\n      <td>-0.059086</td>\n      <td>-0.059086</td>\n      <td>-0.062810</td>\n      <td>-0.062810</td>\n      <td>-0.042398</td>\n      <td>-0.042398</td>\n      <td>-0.043584</td>\n      <td>-0.043584</td>\n      <td>0.016160</td>\n      <td>0.016160</td>\n      <td>-0.010645</td>\n      <td>-0.010645</td>\n      <td>0.036022</td>\n      <td>0.036022</td>\n    </tr>\n    <tr>\n      <th>bt__hemoglobin</th>\n      <td>0.059263</td>\n      <td>0.059263</td>\n      <td>-0.093866</td>\n      <td>-0.093866</td>\n      <td>-0.068316</td>\n      <td>-0.068316</td>\n      <td>-0.122926</td>\n      <td>-0.122926</td>\n      <td>-0.132887</td>\n      <td>-0.132887</td>\n      <td>-0.194644</td>\n      <td>-0.194644</td>\n      <td>-0.077586</td>\n      <td>-0.077586</td>\n      <td>0.059217</td>\n      <td>0.059217</td>\n      <td>0.036487</td>\n      <td>0.036487</td>\n      <td>-0.011024</td>\n      <td>-0.011024</td>\n    </tr>\n    <tr>\n      <th>bt__monocytes_%</th>\n      <td>0.063599</td>\n      <td>0.063599</td>\n      <td>0.022480</td>\n      <td>0.022480</td>\n      <td>0.023381</td>\n      <td>0.023381</td>\n      <td>-0.003968</td>\n      <td>-0.003968</td>\n      <td>0.003011</td>\n      <td>0.003011</td>\n      <td>-0.023818</td>\n      <td>-0.023818</td>\n      <td>0.014687</td>\n      <td>0.014687</td>\n      <td>-0.016765</td>\n      <td>-0.016765</td>\n      <td>-0.015221</td>\n      <td>-0.015221</td>\n      <td>-0.003674</td>\n      <td>-0.003674</td>\n    </tr>\n    <tr>\n      <th>bt__mcv</th>\n      <td>0.044772</td>\n      <td>0.044772</td>\n      <td>0.074826</td>\n      <td>0.074826</td>\n      <td>0.084679</td>\n      <td>0.084679</td>\n      <td>0.088693</td>\n      <td>0.088693</td>\n      <td>0.097373</td>\n      <td>0.097373</td>\n      <td>0.002381</td>\n      <td>0.002381</td>\n      <td>0.060267</td>\n      <td>0.060267</td>\n      <td>-0.002662</td>\n      <td>-0.002662</td>\n      <td>0.016268</td>\n      <td>0.016268</td>\n      <td>-0.074807</td>\n      <td>-0.074807</td>\n    </tr>\n    <tr>\n      <th>bt__lymphocytes_%</th>\n      <td>0.005888</td>\n      <td>0.005888</td>\n      <td>0.002973</td>\n      <td>0.002973</td>\n      <td>0.007734</td>\n      <td>0.007734</td>\n      <td>-0.002642</td>\n      <td>-0.002642</td>\n      <td>0.011125</td>\n      <td>0.011125</td>\n      <td>-0.037756</td>\n      <td>-0.037756</td>\n      <td>-0.047446</td>\n      <td>-0.047446</td>\n      <td>0.057532</td>\n      <td>0.057532</td>\n      <td>0.048588</td>\n      <td>0.048588</td>\n      <td>-0.046677</td>\n      <td>-0.046677</td>\n    </tr>\n    <tr>\n      <th>bt__basophils_%</th>\n      <td>-0.047863</td>\n      <td>-0.047863</td>\n      <td>-0.052075</td>\n      <td>-0.052075</td>\n      <td>-0.050053</td>\n      <td>-0.050053</td>\n      <td>-0.059358</td>\n      <td>-0.059358</td>\n      <td>-0.055869</td>\n      <td>-0.055869</td>\n      <td>-0.036057</td>\n      <td>-0.036057</td>\n      <td>-0.072313</td>\n      <td>-0.072313</td>\n      <td>0.028407</td>\n      <td>0.028407</td>\n      <td>0.011605</td>\n      <td>0.011605</td>\n      <td>0.013918</td>\n      <td>0.013918</td>\n    </tr>\n    <tr>\n      <th>bt__rdw_sd</th>\n      <td>0.007211</td>\n      <td>0.007211</td>\n      <td>0.057208</td>\n      <td>0.057208</td>\n      <td>0.070497</td>\n      <td>0.070497</td>\n      <td>0.062189</td>\n      <td>0.062189</td>\n      <td>0.087305</td>\n      <td>0.087305</td>\n      <td>0.020553</td>\n      <td>0.020553</td>\n      <td>0.027669</td>\n      <td>0.027669</td>\n      <td>0.017896</td>\n      <td>0.017896</td>\n      <td>0.023229</td>\n      <td>0.023229</td>\n      <td>-0.045174</td>\n      <td>-0.045174</td>\n    </tr>\n    <tr>\n      <th>bt__basophils_abs</th>\n      <td>-0.078653</td>\n      <td>-0.078653</td>\n      <td>-0.100187</td>\n      <td>-0.100187</td>\n      <td>-0.109012</td>\n      <td>-0.109012</td>\n      <td>-0.090553</td>\n      <td>-0.090553</td>\n      <td>-0.104096</td>\n      <td>-0.104096</td>\n      <td>-0.058925</td>\n      <td>-0.058925</td>\n      <td>-0.105531</td>\n      <td>-0.105531</td>\n      <td>0.037885</td>\n      <td>0.037885</td>\n      <td>0.004842</td>\n      <td>0.004842</td>\n      <td>0.045420</td>\n      <td>0.045420</td>\n    </tr>\n    <tr>\n      <th>bt__rbc</th>\n      <td>0.032205</td>\n      <td>0.032205</td>\n      <td>-0.122192</td>\n      <td>-0.122192</td>\n      <td>-0.099197</td>\n      <td>-0.099197</td>\n      <td>-0.150746</td>\n      <td>-0.150746</td>\n      <td>-0.160772</td>\n      <td>-0.160772</td>\n      <td>-0.165351</td>\n      <td>-0.165351</td>\n      <td>-0.092336</td>\n      <td>-0.092336</td>\n      <td>0.054315</td>\n      <td>0.054315</td>\n      <td>0.019789</td>\n      <td>0.019789</td>\n      <td>0.027628</td>\n      <td>0.027628</td>\n    </tr>\n    <tr>\n      <th>bt__wbc</th>\n      <td>-0.079639</td>\n      <td>-0.079639</td>\n      <td>-0.116703</td>\n      <td>-0.116703</td>\n      <td>-0.129988</td>\n      <td>-0.129988</td>\n      <td>-0.095427</td>\n      <td>-0.095427</td>\n      <td>-0.128662</td>\n      <td>-0.128662</td>\n      <td>-0.057745</td>\n      <td>-0.057745</td>\n      <td>-0.098457</td>\n      <td>-0.098457</td>\n      <td>0.032457</td>\n      <td>0.032457</td>\n      <td>-0.017225</td>\n      <td>-0.017225</td>\n      <td>0.078774</td>\n      <td>0.078774</td>\n    </tr>\n    <tr>\n      <th>bt__mch</th>\n      <td>0.038871</td>\n      <td>0.038871</td>\n      <td>0.068272</td>\n      <td>0.068272</td>\n      <td>0.068389</td>\n      <td>0.068389</td>\n      <td>0.072859</td>\n      <td>0.072859</td>\n      <td>0.075877</td>\n      <td>0.075877</td>\n      <td>-0.013311</td>\n      <td>-0.013311</td>\n      <td>0.043290</td>\n      <td>0.043290</td>\n      <td>-0.001501</td>\n      <td>-0.001501</td>\n      <td>0.024467</td>\n      <td>0.024467</td>\n      <td>-0.067020</td>\n      <td>-0.067020</td>\n    </tr>\n    <tr>\n      <th>bt__monocytes_abs</th>\n      <td>-0.017341</td>\n      <td>-0.017341</td>\n      <td>-0.082890</td>\n      <td>-0.082890</td>\n      <td>-0.090554</td>\n      <td>-0.090554</td>\n      <td>-0.082409</td>\n      <td>-0.082409</td>\n      <td>-0.105985</td>\n      <td>-0.105985</td>\n      <td>-0.068501</td>\n      <td>-0.068501</td>\n      <td>-0.071588</td>\n      <td>-0.071588</td>\n      <td>0.016482</td>\n      <td>0.016482</td>\n      <td>-0.024555</td>\n      <td>-0.024555</td>\n      <td>0.063711</td>\n      <td>0.063711</td>\n    </tr>\n    <tr>\n      <th>bt__neutrophils_%</th>\n      <td>-0.015808</td>\n      <td>-0.015808</td>\n      <td>-0.001105</td>\n      <td>-0.001105</td>\n      <td>-0.006894</td>\n      <td>-0.006894</td>\n      <td>0.010466</td>\n      <td>0.010466</td>\n      <td>-0.003586</td>\n      <td>-0.003586</td>\n      <td>0.044514</td>\n      <td>0.044514</td>\n      <td>0.043961</td>\n      <td>0.043961</td>\n      <td>-0.049275</td>\n      <td>-0.049275</td>\n      <td>-0.038082</td>\n      <td>-0.038082</td>\n      <td>0.040650</td>\n      <td>0.040650</td>\n    </tr>\n  </tbody>\n</table>\n</div>"
     },
     "execution_count": 294,
     "metadata": {},
     "output_type": "execute_result"
    }
   ],
   "source": [
    "corr_cbc_corr.loc[bt_df_cbc.drop(columns=['Date']).columns, diet_scores_updated]"
   ],
   "metadata": {
    "collapsed": false,
    "ExecuteTime": {
     "end_time": "2025-07-21T11:33:48.207670Z",
     "start_time": "2025-07-21T11:33:48.191072Z"
    }
   },
   "id": "939a8365ce6cbddf",
   "execution_count": 294
  },
  {
   "cell_type": "code",
   "outputs": [],
   "source": [
    "rna_table_diet = rna_table.join(diet_features_with_disease, how='inner')"
   ],
   "metadata": {
    "collapsed": false,
    "ExecuteTime": {
     "end_time": "2025-07-20T08:32:50.890262Z",
     "start_time": "2025-07-20T08:32:50.015016Z"
    }
   },
   "id": "8632cbe08a5e4d65",
   "execution_count": 242
  },
  {
   "cell_type": "code",
   "outputs": [
    {
     "data": {
      "text/plain": "(7363, 15344)"
     },
     "execution_count": 241,
     "metadata": {},
     "output_type": "execute_result"
    }
   ],
   "source": [
    "rna_table.shape"
   ],
   "metadata": {
    "collapsed": false,
    "ExecuteTime": {
     "end_time": "2025-07-20T08:32:29.057987Z",
     "start_time": "2025-07-20T08:32:29.054411Z"
    }
   },
   "id": "f085eaccf5ff1b7f",
   "execution_count": 241
  },
  {
   "cell_type": "code",
   "outputs": [],
   "source": [
    "rna_table_diet = rna_table_diet.join(agb_baseline, how='inner')"
   ],
   "metadata": {
    "collapsed": false,
    "ExecuteTime": {
     "end_time": "2025-07-20T08:33:56.995652Z",
     "start_time": "2025-07-20T08:33:55.552829Z"
    }
   },
   "id": "6b31b85072b9fe6a",
   "execution_count": 245
  },
  {
   "cell_type": "code",
   "outputs": [],
   "source": [
    "rna_table_diet.to_csv(output_data_dir + 'Genetics/rna_baseline_diet.csv')"
   ],
   "metadata": {
    "collapsed": false,
    "ExecuteTime": {
     "end_time": "2025-07-21T11:48:16.548387Z",
     "start_time": "2025-07-21T11:45:55.149863Z"
    }
   },
   "id": "3cf1c61a9c26eca6",
   "execution_count": 295
  },
  {
   "cell_type": "code",
   "outputs": [
    {
     "data": {
      "text/plain": "'/net/mraid20/export/genie/LabData/Analyses/Metabolomics_repeat/final_for_diet_paper/Genetics/rna_baseline_diet.csv'"
     },
     "execution_count": 296,
     "metadata": {},
     "output_type": "execute_result"
    }
   ],
   "source": [
    "output_data_dir + 'Genetics/rna_baseline_diet.csv'"
   ],
   "metadata": {
    "collapsed": false,
    "ExecuteTime": {
     "end_time": "2025-07-21T11:48:16.555065Z",
     "start_time": "2025-07-21T11:48:16.550659Z"
    }
   },
   "id": "88418b70877ba6a",
   "execution_count": 296
  },
  {
   "cell_type": "code",
   "outputs": [
    {
     "data": {
      "text/plain": "['IMEDAS_score_per_day',\n 'eatLANCET_score_per_day',\n 'aHEI_score_per_day',\n 'DASH_score',\n 'hPDI_score_per_day',\n 'vegetarian_score_per_day',\n 'vegan_score_per_day',\n 'carnivore_score_per_day',\n 'low_carb_diet',\n 'NOVA_pct']"
     },
     "execution_count": 297,
     "metadata": {},
     "output_type": "execute_result"
    }
   ],
   "source": [
    "diet_scores_updated"
   ],
   "metadata": {
    "collapsed": false,
    "ExecuteTime": {
     "end_time": "2025-07-21T11:48:36.532133Z",
     "start_time": "2025-07-21T11:48:36.527748Z"
    }
   },
   "id": "da825698d73811c0",
   "execution_count": 297
  },
  {
   "cell_type": "code",
   "outputs": [],
   "source": [
    "rna_table_diet[diet_scores_updated].to_csv(output_data_dir + 'Genetics/rna_diet_scores_baseline_hc_disease.csv')\n",
    "rna_table_diet[food_categories].to_csv(output_data_dir + 'Genetics/rna_food_categories_baseline_hc_disease.csv')\n",
    "valid_nutrients = [col for col in nutrients if col in rna_table_diet.columns]\n",
    "rna_table_diet[valid_nutrients].to_csv(output_data_dir + 'Genetics/rna_nutrients_baseline_hc_disease.csv')"
   ],
   "metadata": {
    "collapsed": false,
    "ExecuteTime": {
     "end_time": "2025-07-20T08:39:36.810539Z",
     "start_time": "2025-07-20T08:39:36.069459Z"
    }
   },
   "id": "2062919858e4f044",
   "execution_count": 254
  },
  {
   "cell_type": "code",
   "outputs": [],
   "source": [
    "diet_features_with_disease[valid_nutrients].to_csv(output_data_dir + 'diet_nutrients_baseline_hc_disease.csv')"
   ],
   "metadata": {
    "collapsed": false,
    "ExecuteTime": {
     "end_time": "2025-07-21T10:26:37.695165Z",
     "start_time": "2025-07-21T10:26:36.949793Z"
    }
   },
   "id": "b2507b77bafea26c",
   "execution_count": 261
  },
  {
   "cell_type": "code",
   "outputs": [
    {
     "data": {
      "text/plain": "'/net/mraid20/export/genie/LabData/Analyses/Metabolomics_repeat/final_for_diet_paper/diet_nutrients_baseline_hc_disease.csv'"
     },
     "execution_count": 264,
     "metadata": {},
     "output_type": "execute_result"
    }
   ],
   "source": [
    "output_data_dir + 'diet_nutrients_baseline_hc_disease.csv'"
   ],
   "metadata": {
    "collapsed": false,
    "ExecuteTime": {
     "end_time": "2025-07-21T10:27:52.499023Z",
     "start_time": "2025-07-21T10:27:52.495676Z"
    }
   },
   "id": "8ad2d77498b5d7f5",
   "execution_count": 264
  },
  {
   "cell_type": "code",
   "outputs": [],
   "source": [
    "rna_cols = rna_table.columns.to_list() + ['age', 'gender', 'bmi']"
   ],
   "metadata": {
    "collapsed": false,
    "ExecuteTime": {
     "end_time": "2025-07-20T08:40:20.888552Z",
     "start_time": "2025-07-20T08:40:20.884548Z"
    }
   },
   "id": "d3312114ad720fb8",
   "execution_count": 255
  },
  {
   "cell_type": "code",
   "outputs": [],
   "source": [
    "rna_table_diet[rna_cols].to_csv(output_data_dir + 'Genetics/rna_baseline.csv')"
   ],
   "metadata": {
    "collapsed": false,
    "ExecuteTime": {
     "end_time": "2025-07-20T08:43:09.274042Z",
     "start_time": "2025-07-20T08:40:49.130695Z"
    }
   },
   "id": "2ef6ab799da4e766",
   "execution_count": 256
  },
  {
   "cell_type": "code",
   "outputs": [],
   "source": [
    "rna_table_diet[['age', 'gender', 'bmi']].to_csv(output_data_dir + 'Genetics/rna_agb_baseline.csv')"
   ],
   "metadata": {
    "collapsed": false,
    "ExecuteTime": {
     "end_time": "2025-07-20T13:08:58.795144Z",
     "start_time": "2025-07-20T13:08:58.757017Z"
    }
   },
   "id": "c9bdabc57a5f5d12",
   "execution_count": 260
  },
  {
   "cell_type": "code",
   "outputs": [
    {
     "data": {
      "text/plain": "Index(['ZAP70', 'TEAD3', 'ELP2', 'PRKG1', 'DLEC1', 'PHF23', 'PROSER1', 'CSPG5',\n       'HIVEP2', 'DCTN4',\n       ...\n       'SMIM33', 'FBXO48', 'TAS2R60', 'TENT5C', 'MIA-RAB4B', 'RPS4Y2', 'OR2B6',\n       'RGPD4', 'PGAM2', 'AVP'],\n      dtype='object', length=15344)"
     },
     "execution_count": 496,
     "metadata": {},
     "output_type": "execute_result"
    }
   ],
   "source": [
    "rna_table.columns"
   ],
   "metadata": {
    "collapsed": false,
    "ExecuteTime": {
     "end_time": "2025-07-23T12:41:44.327246Z",
     "start_time": "2025-07-23T12:41:44.323880Z"
    }
   },
   "id": "ce9dd931c8aafe5c",
   "execution_count": 496
  },
  {
   "cell_type": "code",
   "outputs": [],
   "source": [
    "# add a small constant to avoid log(0) issues\n",
    "def add_small_constant(df, columns, constant=1e-10):\n",
    "    \"\"\"\n",
    "    Add a small constant to specified columns in a DataFrame to avoid log(0) issues.\n",
    "    \n",
    "    Parameters:\n",
    "    -----------\n",
    "    df : pandas DataFrame\n",
    "        The DataFrame to modify\n",
    "    columns : list\n",
    "        List of column names to which the constant will be added\n",
    "    constant : float, default 1e-10\n",
    "        The small constant to add\n",
    "    \n",
    "    Returns:\n",
    "    --------\n",
    "    pandas DataFrame\n",
    "        Modified DataFrame with the constant added to specified columns\n",
    "    \"\"\"\n",
    "    df[columns] = df[columns] + constant\n",
    "    return df\n",
    "rna_table_diet = add_small_constant(rna_table_diet, rna_table.columns.to_list(), constant=1e-6)"
   ],
   "metadata": {
    "collapsed": false,
    "ExecuteTime": {
     "end_time": "2025-07-23T12:46:46.045785Z",
     "start_time": "2025-07-23T12:46:41.704416Z"
    }
   },
   "id": "29f2549d7683d8c8",
   "execution_count": 502
  },
  {
   "cell_type": "code",
   "outputs": [
    {
     "data": {
      "text/plain": "ZAP70           -9.585172\nTEAD3           -0.297833\nELP2            -9.822242\nPRKG1           -1.130578\nDLEC1           -1.408252\n                  ...    \nsex              0.000000\nEnergy / BMR     0.339632\nbmi             16.121168\nage             21.000000\ngender           0.000000\nLength: 16046, dtype: float64"
     },
     "execution_count": 504,
     "metadata": {},
     "output_type": "execute_result"
    }
   ],
   "source": [
    "rna_table_diet.min()"
   ],
   "metadata": {
    "collapsed": false,
    "ExecuteTime": {
     "end_time": "2025-07-23T12:47:08.334954Z",
     "start_time": "2025-07-23T12:47:07.990229Z"
    }
   },
   "id": "90281c208446afff",
   "execution_count": 504
  },
  {
   "cell_type": "code",
   "outputs": [
    {
     "name": "stdout",
     "output_type": "stream",
     "text": [
      "Diet Score Variance Explained Results:\n",
      "Dataset: Unknown\n",
      "Principal components 1-5 explain 0.0023 (R²) of variance in hPDI_score_per_day\n",
      "Individual component contributions:\n",
      "  PC1: R² = 0.0001 (0.01%)\n",
      "  PC2: R² = 0.0000 (0.00%)\n",
      "  PC3: R² = 0.0000 (0.00%)\n",
      "  PC4: R² = 0.0001 (0.01%)\n",
      "  PC5: R² = 0.0021 (0.21%)\n",
      "---\n"
     ]
    },
    {
     "name": "stderr",
     "output_type": "stream",
     "text": [
      "/tmp/ipykernel_47486/2354921697.py:503: MatplotlibDeprecationWarning: The get_cmap function was deprecated in Matplotlib 3.7 and will be removed in 3.11. Use ``matplotlib.colormaps[name]`` or ``matplotlib.colormaps.get_cmap()`` or ``pyplot.get_cmap()`` instead.\n",
      "  cmap_func = plt.cm.get_cmap(cmap)\n"
     ]
    },
    {
     "data": {
      "text/plain": "<Figure size 280x280 with 3 Axes>",
      "image/png": "[encoded data removed]"
     },
     "metadata": {},
     "output_type": "display_data"
    }
   ],
   "source": [
    "pca, X_pca, fig_pca, permanova_results, corr_results = perform_pca_visualization(\n",
    "    df=rna_table_diet.dropna(how='any', axis=0),\n",
    "    columns_for_pca=rna_table.columns,\n",
    "    color_column=feature_to_color,\n",
    "    log_transform=False,\n",
    "    standardize=True,\n",
    "    log_transform_color=False,\n",
    "    color_scale='zscore',\n",
    "    cmap='seismic',\n",
    "    center_colors=True,\n",
    "    # title=f\"{config['title']} PCA\\nColored by {feature_to_color}\",\n",
    "    title=\"\",\n",
    "    covariates=['age', 'gender', 'bmi'],\n",
    "    run_permanova=False,\n",
    "    use_quartiles=False,\n",
    "    show_histograms=True,\n",
    "    histogram_bins=30,\n",
    "    remove_borders=True,\n",
    "    figsize=(2.8, 2.8),\n",
    "    fontsize=6,\n",
    "    show_colorbar=False,\n",
    "    show_grid=False,\n",
    "    diet_variance_explained=True,\n",
    "    n_components_for_variance=5,\n",
    "    show_correlations=False,\n",
    "    second_pc=2,\n",
    ")\n",
    "\n",
    "# Save figure\n",
    "output_filename = f'pca_{feature_to_color}_RNA_r2_withVariance.pdf'\n",
    "fig_pca.savefig(FIGS_DIR + '/' + output_filename, dpi=300)\n",
    "# save as png\n",
    "fig_pca.savefig(FIGS_DIR + '/' + output_filename.replace('.pdf', '.png'), dpi=300)"
   ],
   "metadata": {
    "collapsed": false,
    "ExecuteTime": {
     "end_time": "2025-07-23T12:48:34.541902Z",
     "start_time": "2025-07-23T12:48:27.828532Z"
    }
   },
   "id": "2e5dd97d45b7e378",
   "execution_count": 506
  },
  {
   "cell_type": "markdown",
   "source": [
    "## Ackchol GWAS"
   ],
   "metadata": {
    "collapsed": false
   },
   "id": "4cd82114a213d082"
  },
  {
   "cell_type": "code",
   "outputs": [],
   "source": [
    "snps_raw = pd.read_csv('/net/mraid20/ifs/wisdom/segal_lab/genie/LabData/Analyses/Metabolomics_repeat/final_for_diet_paper/gwas/per_person_snps.raw', sep='\\t', index_col=0)"
   ],
   "metadata": {
    "collapsed": false,
    "ExecuteTime": {
     "end_time": "2025-07-22T07:37:00.226079Z",
     "start_time": "2025-07-22T07:37:00.214718Z"
    }
   },
   "id": "68c257ac649e81d6",
   "execution_count": 320
  },
  {
   "cell_type": "code",
   "outputs": [],
   "source": [
    "snps_raw_diet = snps_raw.join(diet_features_with_disease, how='inner')"
   ],
   "metadata": {
    "collapsed": false,
    "ExecuteTime": {
     "end_time": "2025-07-22T07:37:27.153958Z",
     "start_time": "2025-07-22T07:37:27.118549Z"
    }
   },
   "id": "71d752a80022adcd",
   "execution_count": 322
  },
  {
   "cell_type": "code",
   "outputs": [
    {
     "data": {
      "text/plain": "Index(['IID', 'PAT', 'MAT', 'SEX', 'PHENOTYPE', 'rs145452708_G',\n       'rs138495951_G', 'rs141973904_C', 'Acorn squash', 'Alfalfa sprouts',\n       ...\n       'Soupsandsauces', 'Spicesandherbs', 'Vegetables', 'bakedgoods',\n       'fruitjuicesandsoftdrinks', 'milkcreamcheeseandyogurts',\n       'sweetmilkproducts', 'sweets', 'sex', 'Energy / BMR'],\n      dtype='object', length=707)"
     },
     "execution_count": 326,
     "metadata": {},
     "output_type": "execute_result"
    }
   ],
   "source": [
    "snps_raw_diet.columns"
   ],
   "metadata": {
    "collapsed": false,
    "ExecuteTime": {
     "end_time": "2025-07-22T07:39:20.211154Z",
     "start_time": "2025-07-22T07:39:20.207507Z"
    }
   },
   "id": "2fc03742c01653d4",
   "execution_count": 326
  },
  {
   "cell_type": "code",
   "outputs": [],
   "source": [
    "import pandas as pd\n",
    "import numpy as np\n",
    "import matplotlib.pyplot as plt\n",
    "import seaborn as sns\n",
    "from scipy.stats import mannwhitneyu\n",
    "from typing import Optional, Tuple, Dict, Any\n",
    "from itertools import combinations\n",
    "\n",
    "def boxplot_logscale_with_mannwhitney(\n",
    "    df: pd.DataFrame,\n",
    "    diet_feature: str,\n",
    "    group_col: Optional[str] = None,\n",
    "    figsize: Tuple[int, int] = (10, 6),\n",
    "    log_base: int = 10,\n",
    "    annotate: bool = True,\n",
    "    annotation_fontsize: int = 12,\n",
    "    axis_fontsize: int = 14,\n",
    "    title_fontsize: int = 16,\n",
    "    tick_fontsize: int = 12,\n",
    "    use_log_for_tests: bool = True,\n",
    "    group_label_map: Optional[Dict[Any, str]] = None\n",
    ") -> Tuple[Dict[Tuple[str, str], float], pd.DataFrame]:\n",
    "    \"\"\"\n",
    "    Plot a log-scaled boxplot of a diet feature across user-defined groups\n",
    "    and annotate pairwise Mann-Whitney U test p-values.\n",
    "    \n",
    "    Parameters:\n",
    "    -----------\n",
    "    df : pd.DataFrame\n",
    "        Input dataframe containing the data\n",
    "    diet_feature : str\n",
    "        Column name of the diet feature to plot\n",
    "    group_col : str, optional\n",
    "        Column name for grouping. If None, creates a single boxplot\n",
    "    figsize : Tuple[int, int], default (10, 6)\n",
    "        Figure size as (width, height)\n",
    "    log_base : int, default 10\n",
    "        Base for logarithmic transformation\n",
    "    annotate : bool, default True\n",
    "        Whether to annotate p-values on the plot\n",
    "    annotation_fontsize : int, default 12\n",
    "        Font size for p-value annotations\n",
    "    axis_fontsize : int, default 14\n",
    "        Font size for axis labels\n",
    "    title_fontsize : int, default 16\n",
    "        Font size for plot title\n",
    "    tick_fontsize : int, default 12\n",
    "        Font size for tick labels\n",
    "    use_log_for_tests : bool, default True\n",
    "        Whether to perform statistical tests on log-transformed data\n",
    "        \n",
    "    Returns:\n",
    "    --------\n",
    "    Tuple[Dict[Tuple[str, str], float], pd.DataFrame]\n",
    "        - Dictionary mapping group pairs to their Mann-Whitney U test p-values\n",
    "        - DataFrame with log-transformed data used for analysis\n",
    "    \"\"\"\n",
    "    \n",
    "    # Create a copy to avoid modifying original data\n",
    "    plot_df = df.copy()\n",
    "    \n",
    "    # Remove NaN values and zeros (which can't be log-transformed)\n",
    "    plot_df = plot_df.dropna(subset=[diet_feature])\n",
    "    \n",
    "    # add the minimal non zero to the plot_df to avoid zeros\n",
    "    min_non_zero = plot_df[diet_feature][plot_df[diet_feature] > 0].min()\n",
    "    plot_df[diet_feature] = plot_df[diet_feature] + min_non_zero # Add a small value to all entries\n",
    "    \n",
    "    if len(plot_df) == 0:\n",
    "        raise ValueError(f\"No valid data remaining after removing NaN and non-positive values from {diet_feature}\")\n",
    "    \n",
    "    # Apply log transformation\n",
    "    log_feature = f'log{log_base}_{diet_feature}'\n",
    "    plot_df[log_feature] = np.log(plot_df[diet_feature]) / np.log(log_base)\n",
    "    \n",
    "    # Create the plot\n",
    "    fig, ax = plt.subplots(figsize=figsize)\n",
    "    \n",
    "    # make white background\n",
    "    fig.patch.set_facecolor('white')\n",
    "    ax.set_facecolor('white')\n",
    "    \n",
    "    \n",
    "    # Dictionary to store p-values\n",
    "    pvalue_results = {}\n",
    "    \n",
    "    if group_col is None:\n",
    "        # Single boxplot case\n",
    "        diet_feature_label = 'Alcholic drinks' if diet_feature == 'AlcoholicDrinks' else diet_feature\n",
    "        sns.boxplot(data=plot_df, y=log_feature, ax=ax)  # Use log-transformed data for plotting\n",
    "        ax.set_ylabel(f'$\\\\log_{{10}}(\\\\text{{{diet_feature_label}}})$', fontsize=axis_fontsize)\n",
    "\n",
    "\n",
    "        # ax.set_title(f'Distribution of {diet_feature} (Log Scale)', fontsize=title_fontsize)\n",
    "        \n",
    "    else:\n",
    "        # Multiple groups case\n",
    "        if group_col not in plot_df.columns:\n",
    "            raise ValueError(f\"Group column '{group_col}' not found in dataframe\")\n",
    "        \n",
    "        # Remove rows with NaN in group column\n",
    "        plot_df = plot_df.dropna(subset=[group_col])\n",
    "        \n",
    "        # Create boxplot using log-transformed data\n",
    "        sns.boxplot(\n",
    "            data=plot_df,\n",
    "            x=group_col,\n",
    "            y=log_feature,\n",
    "            ax=ax,\n",
    "            width=0.5,\n",
    "            medianprops=dict(color='black', linewidth=2.5)\n",
    "        )\n",
    "\n",
    "        diet_feature_label = 'Alcholic drinks' if diet_feature == 'AlcoholicDrinks' else diet_feature\n",
    "        ax.set_ylabel(f'$\\\\log_{{10}}(\\\\text{{{diet_feature_label}}})$', fontsize=axis_fontsize)\n",
    "\n",
    "        ax.set_xlabel(group_col, fontsize=axis_fontsize)\n",
    "        # ax.set_title(f'Distribution of {diet_feature} by {group_col} (Log Scale)', fontsize=title_fontsize)\n",
    "        \n",
    "        # Get unique groups\n",
    "        groups = plot_df[group_col].unique()\n",
    "        \n",
    "        if len(groups) < 2:\n",
    "            print(f\"Warning: Only {len(groups)} group(s) found. Mann-Whitney U test requires at least 2 groups.\")\n",
    "            return pvalue_results\n",
    "        \n",
    "        # Calculate sample sizes for each group\n",
    "        group_counts = plot_df[group_col].value_counts().to_dict()\n",
    "        \n",
    "        # Add sample size labels under each boxplot\n",
    "        # Get the actual order of groups as they appear on the x-axis\n",
    "        x_tick_labels = [label.get_text() for label in ax.get_xticklabels()]\n",
    "        if group_label_map:\n",
    "            new_labels = [group_label_map.get(float(lbl), lbl) for lbl in x_tick_labels]\n",
    "            ax.set_xticklabels(new_labels, fontsize=tick_fontsize)\n",
    "\n",
    "        \n",
    "        for i, group_label in enumerate(x_tick_labels):\n",
    "            # Find the corresponding group in our data (handle type conversion)\n",
    "            group_key = None\n",
    "            for group in groups:\n",
    "                if str(group) == group_label:\n",
    "                    group_key = group\n",
    "                    break\n",
    "            \n",
    "            if group_key is not None and group_key in group_counts:\n",
    "                n_count = group_counts[group_key]\n",
    "                # Position the text below the x-axis using linear spacing on log-transformed scale\n",
    "                y_min, y_max = ax.get_ylim()\n",
    "                y_range = y_max - y_min\n",
    "                ax.text(i, y_min - 0.08 * y_range, f'n={n_count}', \n",
    "                       ha='center', va='top', \n",
    "                       fontsize=tick_fontsize,\n",
    "                       weight='bold')\n",
    "        \n",
    "        # Perform pairwise Mann-Whitney U tests\n",
    "        group_data = {}\n",
    "        for group in groups:\n",
    "            if use_log_for_tests:\n",
    "                # Use log-transformed data for statistical tests\n",
    "                group_data[group] = plot_df[plot_df[group_col] == group][log_feature].values\n",
    "            else:\n",
    "                # Use original data for statistical tests\n",
    "                group_data[group] = plot_df[plot_df[group_col] == group][diet_feature].values\n",
    "        \n",
    "        # Calculate p-values for all pairs\n",
    "        for group1, group2 in combinations(groups, 2):\n",
    "            try:\n",
    "                statistic, p_value = mannwhitneyu(\n",
    "                    group_data[group1], \n",
    "                    group_data[group2], \n",
    "                    alternative='two-sided'\n",
    "                )\n",
    "                pvalue_results[(group1, group2)] = p_value\n",
    "            except ValueError as e:\n",
    "                print(f\"Warning: Could not perform Mann-Whitney U test between {group1} and {group2}: {e}\")\n",
    "                pvalue_results[(group1, group2)] = np.nan\n",
    "        \n",
    "        # Add p-value annotations if requested\n",
    "        if annotate and len(groups) >= 2:\n",
    "            # Calculate positions for annotations using linear spacing on log-transformed scale\n",
    "            y_max = plot_df[log_feature].max()\n",
    "            y_min = plot_df[log_feature].min()\n",
    "            y_range = y_max - y_min\n",
    "            \n",
    "            # Position annotations above the plot\n",
    "            annotation_height = y_max + 0.02 * y_range\n",
    "            line_height = 0.05 * y_range\n",
    "            \n",
    "            # Get the actual order of groups as they appear on the x-axis\n",
    "            # seaborn orders them, so we need to match that order\n",
    "            x_tick_labels = [label.get_text() for label in ax.get_xticklabels()]\n",
    "            \n",
    "            # Create mapping handling potential type conversions\n",
    "            group_positions = {}\n",
    "            for i, label in enumerate(x_tick_labels):\n",
    "                # Try to convert label back to original type if needed\n",
    "                original_group = label\n",
    "                # Check if any group matches when converted to string\n",
    "                for group in groups:\n",
    "                    if str(group) == label:\n",
    "                        group_positions[group] = i\n",
    "                        break\n",
    "                else:\n",
    "                    # If no exact match, try numeric conversion\n",
    "                    try:\n",
    "                        numeric_label = float(label)\n",
    "                        if numeric_label in groups:\n",
    "                            group_positions[numeric_label] = i\n",
    "                        elif int(numeric_label) in groups:\n",
    "                            group_positions[int(numeric_label)] = i\n",
    "                    except (ValueError, TypeError):\n",
    "                        # Fallback: use string version\n",
    "                        group_positions[label] = i\n",
    "            \n",
    "            pair_idx = 0\n",
    "            for (group1, group2), p_val in pvalue_results.items():\n",
    "                if not np.isnan(p_val):\n",
    "                    # Get x positions for the groups based on actual plot positions\n",
    "                    try:\n",
    "                        x1, x2 = group_positions[group1], group_positions[group2]\n",
    "                    except KeyError as e:\n",
    "                        print(f\"Warning: Could not find position for group {e}. Available positions: {list(group_positions.keys())}\")\n",
    "                        print(f\"Original groups: {list(groups)}\")\n",
    "                        print(f\"X-tick labels: {x_tick_labels}\")\n",
    "                        continue\n",
    "                    \n",
    "                    # Ensure x1 < x2 for proper line drawing\n",
    "                    if x1 > x2:\n",
    "                        x1, x2 = x2, x1\n",
    "                    \n",
    "                    # Calculate y position using linear spacing on log scale\n",
    "                    y_line = annotation_height + pair_idx * line_height * 1.5\n",
    "                    \n",
    "                    # Draw connecting line\n",
    "                    ax.plot([x1, x2], [y_line, y_line], 'k-', linewidth=0.8)\n",
    "                    ax.plot([x1, x1], [y_line - line_height * 0.1, y_line], 'k-', linewidth=0.8)\n",
    "                    ax.plot([x2, x2], [y_line - line_height * 0.1, y_line], 'k-', linewidth=0.8)\n",
    "                    \n",
    "                    # Format p-value\n",
    "                    if p_val < 0.001:\n",
    "                        p_text = \"\"\n",
    "                    elif p_val < 0.01:\n",
    "                        p_text = f\"\"\n",
    "                    else:\n",
    "                        p_text = f\"\"\n",
    "                    \n",
    "                    # Add asterisks for significance levels\n",
    "                    if p_val < 0.001:\n",
    "                        p_text += \" ***\"\n",
    "                    elif p_val < 0.01:\n",
    "                        p_text += \" **\"\n",
    "                    elif p_val < 0.05:\n",
    "                        p_text += \" *\"\n",
    "                    else:\n",
    "                        p_text = \"ns\"\n",
    "                        \n",
    "                    # Add text annotation\n",
    "                    ax.text((x1 + x2) / 2, y_line + line_height * 0.2, p_text, \n",
    "                           ha='center', va='bottom', fontsize=annotation_fontsize)\n",
    "                    \n",
    "                    pair_idx += 1\n",
    "            \n",
    "            # Extend y-axis to accommodate annotations\n",
    "            if pair_idx > 0:\n",
    "                ax.set_ylim(ax.get_ylim()[0], annotation_height + pair_idx * line_height * 2)\n",
    "    \n",
    "    # Set tick label font sizes\n",
    "    ax.tick_params(axis='both', which='major', labelsize=tick_fontsize)\n",
    "    \n",
    "    # Add grid for better readability\n",
    "    ax.grid(True, alpha=0.3)\n",
    "    \n",
    "    # Rotate x-axis labels if there are many groups\n",
    "    if group_col is not None and len(groups) > 3:\n",
    "        plt.setp(ax.get_xticklabels(), rotation=45, ha='right', fontsize=tick_fontsize)\n",
    "    \n",
    "    # Adjust plot margins to ensure sample size labels are visible\n",
    "    if group_col is not None:\n",
    "        # Extend the bottom margin to accommodate n= labels\n",
    "        current_ylim = ax.get_ylim()\n",
    "        y_range = current_ylim[1] - current_ylim[0]\n",
    "        ax.set_ylim(current_ylim[0] - 0.12 * y_range, current_ylim[1])\n",
    "    \n",
    "    plt.tight_layout()\n",
    "    # save the figure\n",
    "    plt.savefig(FIGS_DIR + f\"/{diet_feature}_{group_col}_boxplot_logscale.png\", dpi=600, bbox_inches='tight')\n",
    "    # save as pdf\n",
    "    plt.savefig(FIGS_DIR + f\"/{diet_feature}_{group_col}_boxplot_logscale.pdf\", dpi=300, bbox_inches='tight')\n",
    "    plt.show()\n",
    "    \n",
    "    return pvalue_results, plot_df"
   ],
   "metadata": {
    "collapsed": false,
    "ExecuteTime": {
     "end_time": "2025-07-23T12:22:46.166534Z",
     "start_time": "2025-07-23T12:22:46.147717Z"
    }
   },
   "id": "994c09e8c7e90996",
   "execution_count": 492
  },
  {
   "cell_type": "code",
   "outputs": [],
   "source": [
    "# Example usage and helper function\n",
    "def print_mannwhitney_results(results: Dict[Tuple[str, str], float]):\n",
    "    \"\"\"\n",
    "    Print Mann-Whitney U test results in a formatted way.\n",
    "    \n",
    "    Parameters:\n",
    "    -----------\n",
    "    results : Dict[Tuple[str, str], float]\n",
    "        Dictionary of p-values from boxplot_logscale_with_mannwhitney\n",
    "    \"\"\"\n",
    "    if not results:\n",
    "        print(\"No statistical tests were performed.\")\n",
    "        return\n",
    "    \n",
    "    print(\"Mann-Whitney U Test Results:\")\n",
    "    print(\"=\" * 40)\n",
    "    \n",
    "    for (group1, group2), p_val in results.items():\n",
    "        if np.isnan(p_val):\n",
    "            print(f\"{group1} vs {group2}: Test failed\")\n",
    "        else:\n",
    "            significance = \"\"\n",
    "            if p_val < 0.001:\n",
    "                significance = \" (***)\"\n",
    "            elif p_val < 0.01:\n",
    "                significance = \" (**)\"\n",
    "            elif p_val < 0.05:\n",
    "                significance = \" (*)\"\n",
    "            \n",
    "            print(f\"{group1} vs {group2}: p = {p_val:.6f}{significance}\")"
   ],
   "metadata": {
    "collapsed": false,
    "ExecuteTime": {
     "end_time": "2025-07-23T12:21:49.140998Z",
     "start_time": "2025-07-23T12:21:49.136949Z"
    }
   },
   "id": "e8fe2ea268a99b57",
   "execution_count": 488
  },
  {
   "cell_type": "code",
   "outputs": [
    {
     "data": {
      "text/plain": "Index(['IID', 'PAT', 'MAT', 'SEX', 'PHENOTYPE', 'rs145452708_G',\n       'rs138495951_G', 'rs141973904_C'],\n      dtype='object')"
     },
     "execution_count": 489,
     "metadata": {},
     "output_type": "execute_result"
    }
   ],
   "source": [
    "snps_raw.columns"
   ],
   "metadata": {
    "collapsed": false,
    "ExecuteTime": {
     "end_time": "2025-07-23T12:21:49.889027Z",
     "start_time": "2025-07-23T12:21:49.886043Z"
    }
   },
   "id": "b374ba0cf0ede30c",
   "execution_count": 489
  },
  {
   "cell_type": "code",
   "outputs": [
    {
     "data": {
      "text/plain": "<Figure size 350x600 with 1 Axes>",
      "image/png": "[encoded data removed]"
     },
     "metadata": {},
     "output_type": "display_data"
    },
    {
     "data": {
      "text/plain": "({(2.0, 1.0): 1.5883780933912023e-09,\n  (2.0, 0.0): 0.002431429175440327,\n  (1.0, 0.0): 0.5599812166603118},\n                            IID  PAT  MAT  SEX  PHENOTYPE  rs145452708_G  \\\n 10K_1000942861  10K_1000942861    0    0    0         -9            2.0   \n 10K_1001201093  10K_1001201093    0    0    0         -9            2.0   \n 10K_1003113258  10K_1003113258    0    0    0         -9            2.0   \n 10K_1007330152  10K_1007330152    0    0    0         -9            2.0   \n 10K_1007400622  10K_1007400622    0    0    0         -9            2.0   \n ...                        ...  ...  ...  ...        ...            ...   \n 10K_9995623290  10K_9995623290    0    0    0         -9            2.0   \n 10K_9995746691  10K_9995746691    0    0    0         -9            2.0   \n 10K_9995823183  10K_9995823183    0    0    0         -9            1.0   \n 10K_9999226141  10K_9999226141    0    0    0         -9            1.0   \n 10K_9999409119  10K_9999409119    0    0    0         -9            2.0   \n \n                 rs138495951_G  rs141973904_C  Acorn squash  Alfalfa sprouts  \\\n 10K_1000942861            2.0            2.0           0.0         0.000000   \n 10K_1001201093            2.0            2.0           0.0         0.000000   \n 10K_1003113258            2.0            2.0           0.0         0.000000   \n 10K_1007330152            2.0            2.0           0.0         0.000000   \n 10K_1007400622            2.0            2.0           0.0         0.000000   \n ...                       ...            ...           ...              ...   \n 10K_9995623290            2.0            2.0           0.0         0.000000   \n 10K_9995746691            2.0            2.0           0.0         0.000000   \n 10K_9995823183            1.0            1.0           0.0         0.000054   \n 10K_9999226141            1.0            1.0           0.0         0.000000   \n 10K_9999409119            2.0            2.0           0.0         0.000000   \n \n                 ...  Spicesandherbs  Vegetables  bakedgoods  \\\n 10K_1000942861  ...        0.000000    0.045932    0.000000   \n 10K_1001201093  ...        0.000000    0.089702    0.000000   \n 10K_1003113258  ...        0.000000    0.045934    0.004363   \n 10K_1007330152  ...        0.000000    0.041334    0.089115   \n 10K_1007400622  ...        0.000000    0.105780    0.005180   \n ...             ...             ...         ...         ...   \n 10K_9995623290  ...        0.000138    0.028027    0.000000   \n 10K_9995746691  ...        0.000586    0.094442    0.000000   \n 10K_9995823183  ...        0.000882    0.044613    0.000000   \n 10K_9999226141  ...        0.000000    0.014000    0.026904   \n 10K_9999409119  ...        0.000000    0.086648    0.000000   \n \n                 fruitjuicesandsoftdrinks  milkcreamcheeseandyogurts  \\\n 10K_1000942861                  0.000000                   0.006411   \n 10K_1001201093                  0.022094                   0.036706   \n 10K_1003113258                  0.010416                   0.046349   \n 10K_1007330152                  0.032551                   0.048597   \n 10K_1007400622                  0.000000                   0.046136   \n ...                                  ...                        ...   \n 10K_9995623290                  0.000000                   0.047103   \n 10K_9995746691                  0.000000                   0.039469   \n 10K_9995823183                  0.000246                   0.063197   \n 10K_9999226141                  0.008415                   0.004299   \n 10K_9999409119                  0.000000                   0.033457   \n \n                 sweetmilkproducts    sweets  sex  Energy / BMR  \\\n 10K_1000942861           0.000000  0.178383  1.0      0.882186   \n 10K_1001201093           0.029071  0.296512  0.0      1.044537   \n 10K_1003113258           0.000000  0.101867  1.0      0.791438   \n 10K_1007330152           0.000000  0.214221  1.0      0.875754   \n 10K_1007400622           0.008826  0.056175  0.0      1.329774   \n ...                           ...       ...  ...           ...   \n 10K_9995623290           0.000000  0.083916  1.0      0.901189   \n 10K_9995746691           0.000000  0.094026  0.0      1.307765   \n 10K_9995823183           0.000000  0.059139  1.0      1.627110   \n 10K_9999226141           0.000000  0.152223  1.0      1.531901   \n 10K_9999409119           0.000000  0.185707  0.0      0.802947   \n \n                 log10_AlcoholicDrinks  \n 10K_1000942861              -2.236002  \n 10K_1001201093              -4.791686  \n 10K_1003113258              -2.219618  \n 10K_1007330152              -4.791686  \n 10K_1007400622              -4.791686  \n ...                               ...  \n 10K_9995623290              -3.129640  \n 10K_9995746691              -4.791686  \n 10K_9995823183              -4.791686  \n 10K_9999226141              -1.935743  \n 10K_9999409119              -2.062313  \n \n [7221 rows x 708 columns])"
     },
     "execution_count": 493,
     "metadata": {},
     "output_type": "execute_result"
    }
   ],
   "source": [
    "group_label_map = {\n",
    "    0.0: 'A\\\\A',\n",
    "    1.0: 'A\\\\G',\n",
    "    2.0: 'G\\\\G'\n",
    "}\n",
    "boxplot_logscale_with_mannwhitney(snps_raw_diet, 'AlcoholicDrinks', 'rs138495951_G', figsize=(3.5,6),\n",
    "                                  )  # Replace 'rs123456' with an actual SNP column name"
   ],
   "metadata": {
    "collapsed": false,
    "ExecuteTime": {
     "end_time": "2025-07-23T12:22:51.323295Z",
     "start_time": "2025-07-23T12:22:50.567700Z"
    }
   },
   "id": "99fcf4a22d2c7971",
   "execution_count": 493
  },
  {
   "cell_type": "code",
   "outputs": [
    {
     "data": {
      "text/plain": "                           IID  PAT  MAT  SEX  PHENOTYPE  rs145452708_G  \\\nFID                                                                       \n10K_1000942861  10K_1000942861    0    0    0         -9            2.0   \n10K_1001201093  10K_1001201093    0    0    0         -9            2.0   \n10K_1002033709  10K_1002033709    0    0    0         -9            2.0   \n10K_1002087123  10K_1002087123    0    0    0         -9            2.0   \n10K_1003113258  10K_1003113258    0    0    0         -9            2.0   \n...                        ...  ...  ...  ...        ...            ...   \n10K_9995623290  10K_9995623290    0    0    0         -9            2.0   \n10K_9995746691  10K_9995746691    0    0    0         -9            2.0   \n10K_9995823183  10K_9995823183    0    0    0         -9            1.0   \n10K_9999226141  10K_9999226141    0    0    0         -9            1.0   \n10K_9999409119  10K_9999409119    0    0    0         -9            2.0   \n\n                rs138495951_G  rs141973904_C  \nFID                                           \n10K_1000942861            2.0            2.0  \n10K_1001201093            2.0            2.0  \n10K_1002033709            2.0            2.0  \n10K_1002087123            2.0            2.0  \n10K_1003113258            2.0            2.0  \n...                       ...            ...  \n10K_9995623290            2.0            2.0  \n10K_9995746691            2.0            2.0  \n10K_9995823183            1.0            1.0  \n10K_9999226141            1.0            1.0  \n10K_9999409119            2.0            2.0  \n\n[8048 rows x 8 columns]",
      "text/html": "<div>\n<style scoped>\n    .dataframe tbody tr th:only-of-type {\n        vertical-align: middle;\n    }\n\n    .dataframe tbody tr th {\n        vertical-align: top;\n    }\n\n    .dataframe thead th {\n        text-align: right;\n    }\n</style>\n<table border=\"1\" class=\"dataframe\">\n  <thead>\n    <tr style=\"text-align: right;\">\n      <th></th>\n      <th>IID</th>\n      <th>PAT</th>\n      <th>MAT</th>\n      <th>SEX</th>\n      <th>PHENOTYPE</th>\n      <th>rs145452708_G</th>\n      <th>rs138495951_G</th>\n      <th>rs141973904_C</th>\n    </tr>\n    <tr>\n      <th>FID</th>\n      <th></th>\n      <th></th>\n      <th></th>\n      <th></th>\n      <th></th>\n      <th></th>\n      <th></th>\n      <th></th>\n    </tr>\n  </thead>\n  <tbody>\n    <tr>\n      <th>10K_1000942861</th>\n      <td>10K_1000942861</td>\n      <td>0</td>\n      <td>0</td>\n      <td>0</td>\n      <td>-9</td>\n      <td>2.0</td>\n      <td>2.0</td>\n      <td>2.0</td>\n    </tr>\n    <tr>\n      <th>10K_1001201093</th>\n      <td>10K_1001201093</td>\n      <td>0</td>\n      <td>0</td>\n      <td>0</td>\n      <td>-9</td>\n      <td>2.0</td>\n      <td>2.0</td>\n      <td>2.0</td>\n    </tr>\n    <tr>\n      <th>10K_1002033709</th>\n      <td>10K_1002033709</td>\n      <td>0</td>\n      <td>0</td>\n      <td>0</td>\n      <td>-9</td>\n      <td>2.0</td>\n      <td>2.0</td>\n      <td>2.0</td>\n    </tr>\n    <tr>\n      <th>10K_1002087123</th>\n      <td>10K_1002087123</td>\n      <td>0</td>\n      <td>0</td>\n      <td>0</td>\n      <td>-9</td>\n      <td>2.0</td>\n      <td>2.0</td>\n      <td>2.0</td>\n    </tr>\n    <tr>\n      <th>10K_1003113258</th>\n      <td>10K_1003113258</td>\n      <td>0</td>\n      <td>0</td>\n      <td>0</td>\n      <td>-9</td>\n      <td>2.0</td>\n      <td>2.0</td>\n      <td>2.0</td>\n    </tr>\n    <tr>\n      <th>...</th>\n      <td>...</td>\n      <td>...</td>\n      <td>...</td>\n      <td>...</td>\n      <td>...</td>\n      <td>...</td>\n      <td>...</td>\n      <td>...</td>\n    </tr>\n    <tr>\n      <th>10K_9995623290</th>\n      <td>10K_9995623290</td>\n      <td>0</td>\n      <td>0</td>\n      <td>0</td>\n      <td>-9</td>\n      <td>2.0</td>\n      <td>2.0</td>\n      <td>2.0</td>\n    </tr>\n    <tr>\n      <th>10K_9995746691</th>\n      <td>10K_9995746691</td>\n      <td>0</td>\n      <td>0</td>\n      <td>0</td>\n      <td>-9</td>\n      <td>2.0</td>\n      <td>2.0</td>\n      <td>2.0</td>\n    </tr>\n    <tr>\n      <th>10K_9995823183</th>\n      <td>10K_9995823183</td>\n      <td>0</td>\n      <td>0</td>\n      <td>0</td>\n      <td>-9</td>\n      <td>1.0</td>\n      <td>1.0</td>\n      <td>1.0</td>\n    </tr>\n    <tr>\n      <th>10K_9999226141</th>\n      <td>10K_9999226141</td>\n      <td>0</td>\n      <td>0</td>\n      <td>0</td>\n      <td>-9</td>\n      <td>1.0</td>\n      <td>1.0</td>\n      <td>1.0</td>\n    </tr>\n    <tr>\n      <th>10K_9999409119</th>\n      <td>10K_9999409119</td>\n      <td>0</td>\n      <td>0</td>\n      <td>0</td>\n      <td>-9</td>\n      <td>2.0</td>\n      <td>2.0</td>\n      <td>2.0</td>\n    </tr>\n  </tbody>\n</table>\n<p>8048 rows × 8 columns</p>\n</div>"
     },
     "execution_count": 415,
     "metadata": {},
     "output_type": "execute_result"
    }
   ],
   "source": [
    "snps_raw"
   ],
   "metadata": {
    "collapsed": false,
    "ExecuteTime": {
     "end_time": "2025-07-22T08:50:51.611631Z",
     "start_time": "2025-07-22T08:50:51.603597Z"
    }
   },
   "id": "3ec76d94864da702",
   "execution_count": 415
  },
  {
   "cell_type": "code",
   "outputs": [
    {
     "name": "stdout",
     "output_type": "stream",
     "text": [
      "Mann-Whitney U Test Results:\n",
      "========================================\n",
      "2.0 vs 0.0: p = 0.012885 (*)\n",
      "2.0 vs 1.0: p = 0.000001 (***)\n",
      "0.0 vs 1.0: p = 0.589355\n"
     ]
    }
   ],
   "source": [
    "print_mannwhitney_results(res)"
   ],
   "metadata": {
    "collapsed": false,
    "ExecuteTime": {
     "end_time": "2025-07-22T08:06:38.228878Z",
     "start_time": "2025-07-22T08:06:38.225780Z"
    }
   },
   "id": "9f14b440f77f2d4f",
   "execution_count": 361
  }
 ],
 "metadata": {
  "kernelspec": {
   "display_name": "Python 3",
   "language": "python",
   "name": "python3"
  },
  "language_info": {
   "codemirror_mode": {
    "name": "ipython",
    "version": 2
   },
   "file_extension": ".py",
   "mimetype": "text/x-python",
   "name": "python",
   "nbconvert_exporter": "python",
   "pygments_lexer": "ipython2",
   "version": "2.7.6"
  }
 },
 "nbformat": 4,
 "nbformat_minor": 5
}
